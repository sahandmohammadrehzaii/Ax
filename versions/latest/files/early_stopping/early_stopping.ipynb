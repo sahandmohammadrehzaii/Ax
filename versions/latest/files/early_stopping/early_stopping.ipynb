{
 "cells": [
  {
   "attachments": {},
   "cell_type": "markdown",
   "id": "12fe3797",
   "metadata": {
    "papermill": {
     "duration": 0.004662,
     "end_time": "2024-12-22T06:43:25.386705",
     "exception": false,
     "start_time": "2024-12-22T06:43:25.382043",
     "status": "completed"
    },
    "tags": []
   },
   "source": [
    "## Trial-level early stopping in Ax\n",
    "\n",
    "This tutorial illustrates how to add a trial-level early stopping strategy to an Ax hyper-parameter optimization (HPO) loop. The goal of trial-level early stopping is to monitor the results of expensive evaluations and terminate those that are unlikely to produce promising results, freeing up resources to explore more configurations.\n",
    "\n",
    "Most of this tutorial is adapted from the [PyTorch Ax Multiobjective NAS Tutorial](https://pytorch.org/tutorials/intermediate/ax_multiobjective_nas_tutorial.html). The training job is different from the original in that we do not optimize `batch_size` or `epochs`. This was done for illustrative purposes, as each validation curve now has the same number of points. The companion training file `mnist_train_nas.py` has also been altered to log to Tensorboard during training.\n",
    "\n",
    "NOTE: Although the original NAS tutorial is for a multi-objective problem, this tutorial focuses on a single objective (validation accuracy) problem. Early stopping currently does not support \\\"true\\\" multi-objective stopping, although one can use [logical compositions of early stopping strategies](https://github.com/facebook/Ax/blob/main/ax/early_stopping/strategies/logical.py) to target multiple objectives separately. Early stopping for the multi-objective case is currently a work in progress."
   ]
  },
  {
   "cell_type": "code",
   "execution_count": 1,
   "id": "cb953f30",
   "metadata": {
    "execution": {
     "iopub.execute_input": "2024-12-22T06:43:25.396278Z",
     "iopub.status.busy": "2024-12-22T06:43:25.396013Z",
     "iopub.status.idle": "2024-12-22T06:43:28.802266Z",
     "shell.execute_reply": "2024-12-22T06:43:28.801609Z"
    },
    "papermill": {
     "duration": 3.413095,
     "end_time": "2024-12-22T06:43:28.803912",
     "exception": false,
     "start_time": "2024-12-22T06:43:25.390817",
     "status": "completed"
    },
    "tags": []
   },
   "outputs": [],
   "source": [
    "import os\n",
    "import tempfile\n",
    "\n",
    "from pathlib import Path\n",
    "\n",
    "import torchx\n",
    "\n",
    "from ax.core import Experiment, Objective, ParameterType, RangeParameter, SearchSpace\n",
    "from ax.core.optimization_config import OptimizationConfig\n",
    "\n",
    "from ax.early_stopping.strategies import PercentileEarlyStoppingStrategy\n",
    "from ax.metrics.tensorboard import TensorboardMetric\n",
    "\n",
    "from ax.modelbridge.dispatch_utils import choose_generation_strategy\n",
    "\n",
    "from ax.runners.torchx import TorchXRunner\n",
    "\n",
    "from ax.service.scheduler import Scheduler, SchedulerOptions\n",
    "from ax.service.utils.report_utils import exp_to_df\n",
    "\n",
    "from tensorboard.backend.event_processing import plugin_event_multiplexer as event_multiplexer\n",
    "\n",
    "from torchx import specs\n",
    "from torchx.components import utils\n",
    "\n",
    "from matplotlib import pyplot as plt\n",
    "\n",
    "\n",
    "%matplotlib inline"
   ]
  },
  {
   "cell_type": "code",
   "execution_count": 2,
   "id": "8a7bd328",
   "metadata": {
    "execution": {
     "iopub.execute_input": "2024-12-22T06:43:28.813814Z",
     "iopub.status.busy": "2024-12-22T06:43:28.813325Z",
     "iopub.status.idle": "2024-12-22T06:43:28.816582Z",
     "shell.execute_reply": "2024-12-22T06:43:28.816024Z"
    },
    "papermill": {
     "duration": 0.00941,
     "end_time": "2024-12-22T06:43:28.817846",
     "exception": false,
     "start_time": "2024-12-22T06:43:28.808436",
     "status": "completed"
    },
    "tags": []
   },
   "outputs": [],
   "source": [
    "SMOKE_TEST = os.environ.get(\"SMOKE_TEST\")"
   ]
  },
  {
   "attachments": {},
   "cell_type": "markdown",
   "id": "fe2cf6fe",
   "metadata": {
    "papermill": {
     "duration": 0.004023,
     "end_time": "2024-12-22T06:43:28.826001",
     "exception": false,
     "start_time": "2024-12-22T06:43:28.821978",
     "status": "completed"
    },
    "tags": []
   },
   "source": [
    "## Defining the TorchX App\n",
    "\n",
    "Our goal is to optimize the PyTorch Lightning training job defined in\n",
    "[mnist_train_nas.py](https://github.com/pytorch/tutorials/tree/master/intermediate_source/mnist_train_nas.py)_.\n",
    "To do this using TorchX, we write a helper function that takes in\n",
    "the values of the architcture and hyperparameters of the training\n",
    "job and creates a [TorchX AppDef](https://pytorch.org/torchx/latest/basics.html)_\n",
    "with the appropriate settings.\n",
    "\n"
   ]
  },
  {
   "cell_type": "code",
   "execution_count": 3,
   "id": "2e21d309",
   "metadata": {
    "execution": {
     "iopub.execute_input": "2024-12-22T06:43:28.835205Z",
     "iopub.status.busy": "2024-12-22T06:43:28.834757Z",
     "iopub.status.idle": "2024-12-22T06:43:28.837894Z",
     "shell.execute_reply": "2024-12-22T06:43:28.837288Z"
    },
    "papermill": {
     "duration": 0.009155,
     "end_time": "2024-12-22T06:43:28.839182",
     "exception": false,
     "start_time": "2024-12-22T06:43:28.830027",
     "status": "completed"
    },
    "tags": []
   },
   "outputs": [],
   "source": [
    "if SMOKE_TEST:\n",
    "    epochs = 3\n",
    "else:\n",
    "    epochs = 10"
   ]
  },
  {
   "cell_type": "code",
   "execution_count": 4,
   "id": "b423923c",
   "metadata": {
    "execution": {
     "iopub.execute_input": "2024-12-22T06:43:28.848777Z",
     "iopub.status.busy": "2024-12-22T06:43:28.848294Z",
     "iopub.status.idle": "2024-12-22T06:43:28.853367Z",
     "shell.execute_reply": "2024-12-22T06:43:28.852783Z"
    },
    "papermill": {
     "duration": 0.011325,
     "end_time": "2024-12-22T06:43:28.854702",
     "exception": false,
     "start_time": "2024-12-22T06:43:28.843377",
     "status": "completed"
    },
    "tags": []
   },
   "outputs": [],
   "source": [
    "def trainer(\n",
    "    log_path: str,\n",
    "    hidden_size_1: int,\n",
    "    hidden_size_2: int,\n",
    "    learning_rate: float,\n",
    "    dropout: float,\n",
    "    trial_idx: int = -1,\n",
    ") -> specs.AppDef:\n",
    "\n",
    "    # define the log path so we can pass it to the TorchX AppDef\n",
    "    if trial_idx >= 0:\n",
    "        log_path = Path(log_path).joinpath(str(trial_idx)).absolute().as_posix()\n",
    "\n",
    "    batch_size = 32\n",
    "\n",
    "    return utils.python(\n",
    "        # command line args to the training script\n",
    "        \"--log_path\",\n",
    "        log_path,\n",
    "        \"--hidden_size_1\",\n",
    "        str(hidden_size_1),\n",
    "        \"--hidden_size_2\",\n",
    "        str(hidden_size_2),\n",
    "        \"--learning_rate\",\n",
    "        str(learning_rate),\n",
    "        \"--epochs\",\n",
    "        str(epochs),\n",
    "        \"--dropout\",\n",
    "        str(dropout),\n",
    "        \"--batch_size\",\n",
    "        str(batch_size),\n",
    "        # other config options\n",
    "        name=\"trainer\",\n",
    "        script=\"tutorials/early_stopping/mnist_train_nas.py\",\n",
    "        image=torchx.version.TORCHX_IMAGE,\n",
    "    )"
   ]
  },
  {
   "attachments": {},
   "cell_type": "markdown",
   "id": "65f7011d",
   "metadata": {
    "papermill": {
     "duration": 0.00408,
     "end_time": "2024-12-22T06:43:28.862939",
     "exception": false,
     "start_time": "2024-12-22T06:43:28.858859",
     "status": "completed"
    },
    "tags": []
   },
   "source": [
    "## Setting up the Runner\n",
    "\n",
    "Ax’s [Runner](https://ax.dev/api/core.html#ax.core.runner.Runner)\n",
    "abstraction allows writing interfaces to various backends.\n",
    "Ax already comes with Runner for TorchX, so we just need to\n",
    "configure it. For the purpose of this tutorial, we run jobs locally\n",
    "in a fully asynchronous fashion. In order to launch them on a cluster, you can instead specify a\n",
    "different TorchX scheduler and adjust the configuration appropriately.\n",
    "For example, if you have a Kubernetes cluster, you just need to change the\n",
    "scheduler from ``local_cwd`` to ``kubernetes``.\n",
    "\n",
    "The training job launched by this runner will log partial results to Tensorboard, which will then be monitored by the early stopping strategy. We will show how this is done using an Ax \n",
    "[TensorboardMetric](https://ax.dev/api/metrics.html#module-ax.metrics.tensorboard) below."
   ]
  },
  {
   "cell_type": "code",
   "execution_count": 5,
   "id": "998e5835",
   "metadata": {
    "execution": {
     "iopub.execute_input": "2024-12-22T06:43:28.872539Z",
     "iopub.status.busy": "2024-12-22T06:43:28.872047Z",
     "iopub.status.idle": "2024-12-22T06:43:28.887485Z",
     "shell.execute_reply": "2024-12-22T06:43:28.886940Z"
    },
    "papermill": {
     "duration": 0.021969,
     "end_time": "2024-12-22T06:43:28.888941",
     "exception": false,
     "start_time": "2024-12-22T06:43:28.866972",
     "status": "completed"
    },
    "tags": []
   },
   "outputs": [],
   "source": [
    "# Make a temporary dir to log our results into\n",
    "log_dir = tempfile.mkdtemp()\n",
    "\n",
    "ax_runner = TorchXRunner(\n",
    "    tracker_base=\"/tmp/\",\n",
    "    component=trainer,\n",
    "    # NOTE: To launch this job on a cluster instead of locally you can\n",
    "    # specify a different scheduler and adjust args appropriately.\n",
    "    scheduler=\"local_cwd\",\n",
    "    component_const_params={\"log_path\": log_dir},\n",
    "    cfg={},\n",
    ")"
   ]
  },
  {
   "attachments": {},
   "cell_type": "markdown",
   "id": "2fec7495",
   "metadata": {
    "papermill": {
     "duration": 0.004053,
     "end_time": "2024-12-22T06:43:28.897400",
     "exception": false,
     "start_time": "2024-12-22T06:43:28.893347",
     "status": "completed"
    },
    "tags": []
   },
   "source": [
    "## Setting up the SearchSpace\n",
    "\n",
    "First, we define our search space. Ax supports both range parameters\n",
    "of type integer and float as well as choice parameters which can have\n",
    "non-numerical types such as strings.\n",
    "We will tune the hidden sizes, learning rate, and dropout parameters."
   ]
  },
  {
   "cell_type": "code",
   "execution_count": 6,
   "id": "cf6f869f",
   "metadata": {
    "execution": {
     "iopub.execute_input": "2024-12-22T06:43:28.906949Z",
     "iopub.status.busy": "2024-12-22T06:43:28.906490Z",
     "iopub.status.idle": "2024-12-22T06:43:28.911298Z",
     "shell.execute_reply": "2024-12-22T06:43:28.910754Z"
    },
    "papermill": {
     "duration": 0.01107,
     "end_time": "2024-12-22T06:43:28.912514",
     "exception": false,
     "start_time": "2024-12-22T06:43:28.901444",
     "status": "completed"
    },
    "tags": []
   },
   "outputs": [],
   "source": [
    "parameters = [\n",
    "    # NOTE: In a real-world setting, hidden_size_1 and hidden_size_2\n",
    "    # should probably be powers of 2, but in our simple example this\n",
    "    # would mean that num_params can't take on that many values, which\n",
    "    # in turn makes the Pareto frontier look pretty weird.\n",
    "    RangeParameter(\n",
    "        name=\"hidden_size_1\",\n",
    "        lower=16,\n",
    "        upper=128,\n",
    "        parameter_type=ParameterType.INT,\n",
    "        log_scale=True,\n",
    "    ),\n",
    "    RangeParameter(\n",
    "        name=\"hidden_size_2\",\n",
    "        lower=16,\n",
    "        upper=128,\n",
    "        parameter_type=ParameterType.INT,\n",
    "        log_scale=True,\n",
    "    ),\n",
    "    RangeParameter(\n",
    "        name=\"learning_rate\",\n",
    "        lower=1e-4,\n",
    "        upper=1e-2,\n",
    "        parameter_type=ParameterType.FLOAT,\n",
    "        log_scale=True,\n",
    "    ),\n",
    "    RangeParameter(\n",
    "        name=\"dropout\",\n",
    "        lower=0.0,\n",
    "        upper=0.5,\n",
    "        parameter_type=ParameterType.FLOAT,\n",
    "    ),\n",
    "]\n",
    "\n",
    "search_space = SearchSpace(\n",
    "    parameters=parameters,\n",
    "    # NOTE: In practice, it may make sense to add a constraint\n",
    "    # hidden_size_2 <= hidden_size_1\n",
    "    parameter_constraints=[],\n",
    ")"
   ]
  },
  {
   "attachments": {},
   "cell_type": "markdown",
   "id": "a8005e80",
   "metadata": {
    "papermill": {
     "duration": 0.00404,
     "end_time": "2024-12-22T06:43:28.920909",
     "exception": false,
     "start_time": "2024-12-22T06:43:28.916869",
     "status": "completed"
    },
    "tags": []
   },
   "source": [
    "## Setting up Metrics\n",
    "\n",
    "Ax has the concept of a Metric that defines properties of outcomes and how observations are obtained for these outcomes. This allows e.g. encodig how data is fetched from some distributed execution backend and post-processed before being passed as input to Ax.\n",
    "\n",
    "We will optimize the validation accuracy, which is a `TensorboardMetric` that points to the logging directory assigned above. Note that we have set `is_available_while_running`, allowing for the metric to be queried as the trial progresses. This is critical for the early stopping strategy to monitor partial results."
   ]
  },
  {
   "cell_type": "code",
   "execution_count": 7,
   "id": "0775a96e",
   "metadata": {
    "execution": {
     "iopub.execute_input": "2024-12-22T06:43:28.930393Z",
     "iopub.status.busy": "2024-12-22T06:43:28.929972Z",
     "iopub.status.idle": "2024-12-22T06:43:28.934317Z",
     "shell.execute_reply": "2024-12-22T06:43:28.933637Z"
    },
    "papermill": {
     "duration": 0.010559,
     "end_time": "2024-12-22T06:43:28.935615",
     "exception": false,
     "start_time": "2024-12-22T06:43:28.925056",
     "status": "completed"
    },
    "tags": []
   },
   "outputs": [],
   "source": [
    "class MyTensorboardMetric(TensorboardMetric):\n",
    "\n",
    "    # NOTE: We need to tell the new Tensorboard metric how to get the id /\n",
    "    # file handle for the tensorboard logs from a trial. In this case\n",
    "    # our convention is to just save a separate file per trial in\n",
    "    # the pre-specified log dir.\n",
    "    def _get_event_multiplexer_for_trial(self, trial):\n",
    "        mul = event_multiplexer.EventMultiplexer(max_reload_threads=20)\n",
    "        mul.AddRunsFromDirectory(Path(log_dir).joinpath(str(trial.index)).as_posix(), None)\n",
    "        mul.Reload()\n",
    "\n",
    "        return mul\n",
    "\n",
    "    # This indicates whether the metric is queryable while the trial is\n",
    "    # still running. This is required for early stopping to monitor the\n",
    "    # progress of the running trial.ArithmeticError\n",
    "    @classmethod\n",
    "    def is_available_while_running(cls):\n",
    "        return True"
   ]
  },
  {
   "cell_type": "code",
   "execution_count": 8,
   "id": "a5c5a7d0",
   "metadata": {
    "execution": {
     "iopub.execute_input": "2024-12-22T06:43:28.945642Z",
     "iopub.status.busy": "2024-12-22T06:43:28.945176Z",
     "iopub.status.idle": "2024-12-22T06:43:28.948363Z",
     "shell.execute_reply": "2024-12-22T06:43:28.947791Z"
    },
    "papermill": {
     "duration": 0.0098,
     "end_time": "2024-12-22T06:43:28.949665",
     "exception": false,
     "start_time": "2024-12-22T06:43:28.939865",
     "status": "completed"
    },
    "tags": []
   },
   "outputs": [],
   "source": [
    "val_acc = MyTensorboardMetric(\n",
    "    name=\"val_acc\",\n",
    "    tag=\"val_acc\",\n",
    "    lower_is_better=False,\n",
    ")"
   ]
  },
  {
   "attachments": {},
   "cell_type": "markdown",
   "id": "d4f3ba5d",
   "metadata": {
    "papermill": {
     "duration": 0.004089,
     "end_time": "2024-12-22T06:43:28.958020",
     "exception": false,
     "start_time": "2024-12-22T06:43:28.953931",
     "status": "completed"
    },
    "tags": []
   },
   "source": [
    "## Setting up the OptimizationConfig\n",
    "\n",
    "The `OptimizationConfig` specifies the objective for Ax to optimize."
   ]
  },
  {
   "cell_type": "code",
   "execution_count": 9,
   "id": "ada66cf3",
   "metadata": {
    "execution": {
     "iopub.execute_input": "2024-12-22T06:43:28.967477Z",
     "iopub.status.busy": "2024-12-22T06:43:28.967120Z",
     "iopub.status.idle": "2024-12-22T06:43:28.970481Z",
     "shell.execute_reply": "2024-12-22T06:43:28.969927Z"
    },
    "papermill": {
     "duration": 0.009483,
     "end_time": "2024-12-22T06:43:28.971715",
     "exception": false,
     "start_time": "2024-12-22T06:43:28.962232",
     "status": "completed"
    },
    "tags": []
   },
   "outputs": [],
   "source": [
    "opt_config = OptimizationConfig(\n",
    "    objective=Objective(\n",
    "        metric=val_acc,\n",
    "        minimize=False,\n",
    "    )\n",
    ")"
   ]
  },
  {
   "attachments": {},
   "cell_type": "markdown",
   "id": "57aa9cf7",
   "metadata": {
    "papermill": {
     "duration": 0.00417,
     "end_time": "2024-12-22T06:43:28.980103",
     "exception": false,
     "start_time": "2024-12-22T06:43:28.975933",
     "status": "completed"
    },
    "tags": []
   },
   "source": [
    "## Defining an Early Stopping Strategy\n",
    "\n",
    "A `PercentileEarlyStoppingStrategy` is a simple method that stops a trial if its performance falls below a certain percentile of other trials at the same step (e.g., when `percentile_threshold` is 50, at a given point in time, if a trial ranks in the bottom 50% of trials, it is stopped). \n",
    "- We make use of `normalize_progressions` which normalizes the progression column (e.g. timestamp, epochs, training data used) to be in [0, 1]. This is useful because one doesn't need to know the maximum progression values of the curve (which might be, e.g., the total number of data points in the training dataset).\n",
    "- The `min_progression` parameter specifies that trials should only be considered for stopping if the latest progression value is greater than this threshold.\n",
    "- The `min_curves` parameter specifies the minimum number of completed curves (i.e., fully completed training jobs) before early stopping will be considered. This should be larger than zero if `normalize_progression` is used. In general, we want a few completed curves to have a baseline for comparison.\n",
    "\n",
    "Note that `PercentileEarlyStoppingStrategy` does not make use of learning curve modeling or prediction. More sophisticated model-based methods will be available in future versions of Ax."
   ]
  },
  {
   "cell_type": "code",
   "execution_count": 10,
   "id": "949e8ab5",
   "metadata": {
    "execution": {
     "iopub.execute_input": "2024-12-22T06:43:28.989604Z",
     "iopub.status.busy": "2024-12-22T06:43:28.989198Z",
     "iopub.status.idle": "2024-12-22T06:43:28.992829Z",
     "shell.execute_reply": "2024-12-22T06:43:28.992183Z"
    },
    "papermill": {
     "duration": 0.009845,
     "end_time": "2024-12-22T06:43:28.994072",
     "exception": false,
     "start_time": "2024-12-22T06:43:28.984227",
     "status": "completed"
    },
    "tags": []
   },
   "outputs": [],
   "source": [
    "percentile_early_stopping_strategy = PercentileEarlyStoppingStrategy(\n",
    "    # stop if in bottom 70% of runs at the same progression\n",
    "    percentile_threshold=70,\n",
    "    # the trial must have passed `min_progression` steps before early stopping is initiated\n",
    "    # note that we are using `normalize_progressions`, so this is on a scale of [0, 1]\n",
    "    min_progression=0.3,\n",
    "    # there must be `min_curves` completed trials and `min_curves` trials reporting data in\n",
    "    # order for early stopping to be applicable\n",
    "    min_curves=5,\n",
    "    # specify, e.g., [0, 1] if the first two trials should never be stopped\n",
    "    trial_indices_to_ignore=None,\n",
    "    # check for new data every 10 seconds\n",
    "    seconds_between_polls=10,\n",
    "    normalize_progressions=True,\n",
    ")"
   ]
  },
  {
   "attachments": {},
   "cell_type": "markdown",
   "id": "2665ca93",
   "metadata": {
    "papermill": {
     "duration": 0.004121,
     "end_time": "2024-12-22T06:43:29.002493",
     "exception": false,
     "start_time": "2024-12-22T06:43:28.998372",
     "status": "completed"
    },
    "tags": []
   },
   "source": [
    "## Creating the Ax Experiment\n",
    "\n",
    "In Ax, the Experiment object is the object that stores all the information about the problem setup."
   ]
  },
  {
   "cell_type": "code",
   "execution_count": 11,
   "id": "12849b31",
   "metadata": {
    "execution": {
     "iopub.execute_input": "2024-12-22T06:43:29.012216Z",
     "iopub.status.busy": "2024-12-22T06:43:29.011659Z",
     "iopub.status.idle": "2024-12-22T06:43:29.015098Z",
     "shell.execute_reply": "2024-12-22T06:43:29.014480Z"
    },
    "papermill": {
     "duration": 0.009774,
     "end_time": "2024-12-22T06:43:29.016432",
     "exception": false,
     "start_time": "2024-12-22T06:43:29.006658",
     "status": "completed"
    },
    "tags": []
   },
   "outputs": [],
   "source": [
    "experiment = Experiment(\n",
    "    name=\"torchx_mnist\",\n",
    "    search_space=search_space,\n",
    "    optimization_config=opt_config,\n",
    "    runner=ax_runner,\n",
    ")"
   ]
  },
  {
   "attachments": {},
   "cell_type": "markdown",
   "id": "49a4ed0e",
   "metadata": {
    "papermill": {
     "duration": 0.004149,
     "end_time": "2024-12-22T06:43:29.024977",
     "exception": false,
     "start_time": "2024-12-22T06:43:29.020828",
     "status": "completed"
    },
    "tags": []
   },
   "source": [
    "## Choosing the GenerationStrategy\n",
    "\n",
    "A [GenerationStrategy](https://ax.dev/api/modelbridge.html#ax.modelbridge.generation_strategy.GenerationStrategy)\n",
    "is the abstract representation of how we would like to perform the\n",
    "optimization. While this can be customized (if you’d like to do so, see\n",
    "[this tutorial](https://ax.dev/tutorials/generation_strategy.html)),\n",
    "in most cases Ax can automatically determine an appropriate strategy\n",
    "based on the search space, optimization config, and the total number\n",
    "of trials we want to run.\n",
    "\n",
    "Typically, Ax chooses to evaluate a number of random configurations\n",
    "before starting a model-based Bayesian Optimization strategy.\n",
    "\n",
    "We remark that in Ax, generation strategies and early stopping strategies are separate, a design decision motivated by ease-of-use. However, we should acknowledge that jointly considering generation and stopping using a single strategy would likely be the \"proper\" formulation."
   ]
  },
  {
   "cell_type": "code",
   "execution_count": 12,
   "id": "e38d0237",
   "metadata": {
    "execution": {
     "iopub.execute_input": "2024-12-22T06:43:29.034508Z",
     "iopub.status.busy": "2024-12-22T06:43:29.034131Z",
     "iopub.status.idle": "2024-12-22T06:43:29.042321Z",
     "shell.execute_reply": "2024-12-22T06:43:29.041704Z"
    },
    "papermill": {
     "duration": 0.014445,
     "end_time": "2024-12-22T06:43:29.043628",
     "exception": false,
     "start_time": "2024-12-22T06:43:29.029183",
     "status": "completed"
    },
    "tags": []
   },
   "outputs": [
    {
     "name": "stderr",
     "output_type": "stream",
     "text": [
      "[INFO 12-22 06:43:29] ax.modelbridge.dispatch_utils: Using Models.BOTORCH_MODULAR since there is at least one ordered parameter and there are no unordered categorical parameters.\n"
     ]
    },
    {
     "name": "stderr",
     "output_type": "stream",
     "text": [
      "[INFO 12-22 06:43:29] ax.modelbridge.dispatch_utils: Calculating the number of remaining initialization trials based on num_initialization_trials=None max_initialization_trials=None num_tunable_parameters=4 num_trials=15 use_batch_trials=False\n"
     ]
    },
    {
     "name": "stderr",
     "output_type": "stream",
     "text": [
      "[INFO 12-22 06:43:29] ax.modelbridge.dispatch_utils: calculated num_initialization_trials=5\n"
     ]
    },
    {
     "name": "stderr",
     "output_type": "stream",
     "text": [
      "[INFO 12-22 06:43:29] ax.modelbridge.dispatch_utils: num_completed_initialization_trials=0 num_remaining_initialization_trials=5\n"
     ]
    },
    {
     "name": "stderr",
     "output_type": "stream",
     "text": [
      "[INFO 12-22 06:43:29] ax.modelbridge.dispatch_utils: `verbose`, `disable_progbar`, and `jit_compile` are not yet supported when using `choose_generation_strategy` with ModularBoTorchModel, dropping these arguments.\n"
     ]
    },
    {
     "name": "stderr",
     "output_type": "stream",
     "text": [
      "[INFO 12-22 06:43:29] ax.modelbridge.dispatch_utils: Using Bayesian Optimization generation strategy: GenerationStrategy(name='Sobol+BoTorch', steps=[Sobol for 5 trials, BoTorch for subsequent trials]). Iterations after 5 will take longer to generate due to model-fitting.\n"
     ]
    }
   ],
   "source": [
    "if SMOKE_TEST:\n",
    "    total_trials = 6\n",
    "else:\n",
    "    total_trials = 15  # total evaluation budget\n",
    "\n",
    "gs = choose_generation_strategy(\n",
    "    search_space=experiment.search_space,\n",
    "    optimization_config=experiment.optimization_config,\n",
    "    num_trials=total_trials,\n",
    ")"
   ]
  },
  {
   "attachments": {},
   "cell_type": "markdown",
   "id": "78d86fea",
   "metadata": {
    "papermill": {
     "duration": 0.004601,
     "end_time": "2024-12-22T06:43:29.052879",
     "exception": false,
     "start_time": "2024-12-22T06:43:29.048278",
     "status": "completed"
    },
    "tags": []
   },
   "source": [
    "## Configuring the Scheduler\n",
    "\n",
    "The `Scheduler` acts as the loop control for the optimization.\n",
    "It communicates with the backend to launch trials, check their status, retrieve (partial) results, and importantly for this tutorial, calls the early stopping strategy. If the early stopping strategy suggests a trial to be the stopped, the `Scheduler` communicates with the backend to terminate the trial.\n",
    "\n",
    "The ``Scheduler`` requires the ``Experiment`` and the ``GenerationStrategy``.\n",
    "A set of options can be passed in via ``SchedulerOptions``. Here, we\n",
    "configure the number of total evaluations as well as ``max_pending_trials``,\n",
    "the maximum number of trials that should run concurrently. In our\n",
    "local setting, this is the number of training jobs running as individual\n",
    "processes, while in a remote execution setting, this would be the number\n",
    "of machines you want to use in parallel.\n"
   ]
  },
  {
   "cell_type": "code",
   "execution_count": 13,
   "id": "499fb9b5",
   "metadata": {
    "execution": {
     "iopub.execute_input": "2024-12-22T06:43:29.063244Z",
     "iopub.status.busy": "2024-12-22T06:43:29.062823Z",
     "iopub.status.idle": "2024-12-22T06:43:29.069818Z",
     "shell.execute_reply": "2024-12-22T06:43:29.069173Z"
    },
    "papermill": {
     "duration": 0.013699,
     "end_time": "2024-12-22T06:43:29.071127",
     "exception": false,
     "start_time": "2024-12-22T06:43:29.057428",
     "status": "completed"
    },
    "tags": []
   },
   "outputs": [
    {
     "name": "stderr",
     "output_type": "stream",
     "text": [
      "[INFO 12-22 06:43:29] Scheduler: `Scheduler` requires experiment to have immutable search space and optimization config. Setting property immutable_search_space_and_opt_config to `True` on experiment.\n"
     ]
    }
   ],
   "source": [
    "scheduler = Scheduler(\n",
    "    experiment=experiment,\n",
    "    generation_strategy=gs,\n",
    "    options=SchedulerOptions(\n",
    "        total_trials=total_trials,\n",
    "        max_pending_trials=5,\n",
    "        early_stopping_strategy=percentile_early_stopping_strategy,\n",
    "    ),\n",
    ")"
   ]
  },
  {
   "cell_type": "code",
   "execution_count": 14,
   "id": "78257ebb",
   "metadata": {
    "execution": {
     "iopub.execute_input": "2024-12-22T06:43:29.081800Z",
     "iopub.status.busy": "2024-12-22T06:43:29.081381Z",
     "iopub.status.idle": "2024-12-22T07:14:20.443854Z",
     "shell.execute_reply": "2024-12-22T07:14:20.443214Z"
    },
    "papermill": {
     "duration": 1851.369178,
     "end_time": "2024-12-22T07:14:20.445165",
     "exception": false,
     "start_time": "2024-12-22T06:43:29.075987",
     "status": "completed"
    },
    "tags": []
   },
   "outputs": [
    {
     "name": "stderr",
     "output_type": "stream",
     "text": [
      "[INFO 12-22 06:43:29] ax.early_stopping.strategies.base: PercentileEarlyStoppingStrategy received empty data. Not stopping any trials.\n"
     ]
    },
    {
     "name": "stderr",
     "output_type": "stream",
     "text": [
      "/tmp/tmp.rbKmWnPBQH/Ax-main/ax/modelbridge/cross_validation.py:439: UserWarning: Encountered exception in computing model fit quality: RandomModelBridge does not support prediction.\n",
      "  warn(\"Encountered exception in computing model fit quality: \" + str(e))\n",
      "[INFO 12-22 06:43:29] Scheduler: Running trials [0]...\n"
     ]
    },
    {
     "name": "stderr",
     "output_type": "stream",
     "text": [
      "/tmp/tmp.rbKmWnPBQH/Ax-main/ax/modelbridge/cross_validation.py:439: UserWarning: Encountered exception in computing model fit quality: RandomModelBridge does not support prediction.\n",
      "  warn(\"Encountered exception in computing model fit quality: \" + str(e))\n",
      "[INFO 12-22 06:43:30] Scheduler: Running trials [1]...\n"
     ]
    },
    {
     "name": "stderr",
     "output_type": "stream",
     "text": [
      "/tmp/tmp.rbKmWnPBQH/Ax-main/ax/modelbridge/cross_validation.py:439: UserWarning: Encountered exception in computing model fit quality: RandomModelBridge does not support prediction.\n",
      "  warn(\"Encountered exception in computing model fit quality: \" + str(e))\n",
      "[INFO 12-22 06:43:31] Scheduler: Running trials [2]...\n"
     ]
    },
    {
     "name": "stderr",
     "output_type": "stream",
     "text": [
      "/tmp/tmp.rbKmWnPBQH/Ax-main/ax/modelbridge/cross_validation.py:439: UserWarning: Encountered exception in computing model fit quality: RandomModelBridge does not support prediction.\n",
      "  warn(\"Encountered exception in computing model fit quality: \" + str(e))\n",
      "[INFO 12-22 06:43:32] Scheduler: Running trials [3]...\n"
     ]
    },
    {
     "name": "stderr",
     "output_type": "stream",
     "text": [
      "/tmp/tmp.rbKmWnPBQH/Ax-main/ax/modelbridge/cross_validation.py:439: UserWarning: Encountered exception in computing model fit quality: RandomModelBridge does not support prediction.\n",
      "  warn(\"Encountered exception in computing model fit quality: \" + str(e))\n",
      "[INFO 12-22 06:43:33] Scheduler: Running trials [4]...\n"
     ]
    },
    {
     "name": "stderr",
     "output_type": "stream",
     "text": [
      "[WARNING 12-22 06:43:34] Scheduler: Both `init_seconds_between_polls` and `early_stopping_strategy supplied. `init_seconds_between_polls=1` will be overrridden by `early_stopping_strategy.seconds_between_polls=10` and polling will take place at a constant rate.\n"
     ]
    },
    {
     "name": "stderr",
     "output_type": "stream",
     "text": [
      "[INFO 12-22 06:43:34] ax.core.metric: MetricFetchE INFO: Initialized MetricFetchE(message=\"No 'scalar' data found for trial in multiplexer mul=<tensorboard.backend.event_processing.plugin_event_multiplexer.EventMultiplexer object at 0x7f5a460ea410>\")\n"
     ]
    },
    {
     "name": "stderr",
     "output_type": "stream",
     "text": [
      "[INFO 12-22 06:43:34] ax.core.metric: MetricFetchE INFO: Initialized MetricFetchE(message=\"No 'scalar' data found for trial in multiplexer mul=<tensorboard.backend.event_processing.plugin_event_multiplexer.EventMultiplexer object at 0x7f5a460e91b0>\")\n"
     ]
    },
    {
     "name": "stderr",
     "output_type": "stream",
     "text": [
      "[INFO 12-22 06:43:34] ax.core.metric: MetricFetchE INFO: Initialized MetricFetchE(message=\"No 'scalar' data found for trial in multiplexer mul=<tensorboard.backend.event_processing.plugin_event_multiplexer.EventMultiplexer object at 0x7f5a460e8400>\")\n"
     ]
    },
    {
     "name": "stderr",
     "output_type": "stream",
     "text": [
      "[INFO 12-22 06:43:34] ax.core.metric: MetricFetchE INFO: Initialized MetricFetchE(message=\"No 'scalar' data found for trial in multiplexer mul=<tensorboard.backend.event_processing.plugin_event_multiplexer.EventMultiplexer object at 0x7f5a460e8f70>\")\n"
     ]
    },
    {
     "name": "stderr",
     "output_type": "stream",
     "text": [
      "[INFO 12-22 06:43:34] ax.core.metric: MetricFetchE INFO: Initialized MetricFetchE(message=\"No 'scalar' data found for trial in multiplexer mul=<tensorboard.backend.event_processing.plugin_event_multiplexer.EventMultiplexer object at 0x7f5a460e86d0>\")\n"
     ]
    },
    {
     "name": "stderr",
     "output_type": "stream",
     "text": [
      "[ERROR 12-22 06:43:34] ax.core.experiment: Discovered Metric fetching Err while attaching data MetricFetchE(message=\"No 'scalar' data found for trial in multiplexer mul=<tensorboard.backend.event_processing.plugin_event_multiplexer.EventMultiplexer object at 0x7f5a460ea410>\"). Ignoring for now -- will retry query on next call to fetch.\n"
     ]
    },
    {
     "name": "stderr",
     "output_type": "stream",
     "text": [
      "[ERROR 12-22 06:43:34] ax.core.experiment: Discovered Metric fetching Err while attaching data MetricFetchE(message=\"No 'scalar' data found for trial in multiplexer mul=<tensorboard.backend.event_processing.plugin_event_multiplexer.EventMultiplexer object at 0x7f5a460e91b0>\"). Ignoring for now -- will retry query on next call to fetch.\n"
     ]
    },
    {
     "name": "stderr",
     "output_type": "stream",
     "text": [
      "[ERROR 12-22 06:43:34] ax.core.experiment: Discovered Metric fetching Err while attaching data MetricFetchE(message=\"No 'scalar' data found for trial in multiplexer mul=<tensorboard.backend.event_processing.plugin_event_multiplexer.EventMultiplexer object at 0x7f5a460e8400>\"). Ignoring for now -- will retry query on next call to fetch.\n"
     ]
    },
    {
     "name": "stderr",
     "output_type": "stream",
     "text": [
      "[ERROR 12-22 06:43:34] ax.core.experiment: Discovered Metric fetching Err while attaching data MetricFetchE(message=\"No 'scalar' data found for trial in multiplexer mul=<tensorboard.backend.event_processing.plugin_event_multiplexer.EventMultiplexer object at 0x7f5a460e8f70>\"). Ignoring for now -- will retry query on next call to fetch.\n"
     ]
    },
    {
     "name": "stderr",
     "output_type": "stream",
     "text": [
      "[ERROR 12-22 06:43:34] ax.core.experiment: Discovered Metric fetching Err while attaching data MetricFetchE(message=\"No 'scalar' data found for trial in multiplexer mul=<tensorboard.backend.event_processing.plugin_event_multiplexer.EventMultiplexer object at 0x7f5a460e86d0>\"). Ignoring for now -- will retry query on next call to fetch.\n"
     ]
    },
    {
     "name": "stderr",
     "output_type": "stream",
     "text": [
      "[WARNING 12-22 06:43:34] Scheduler: Failed to fetch val_acc for trial 0, found MetricFetchE(message=\"No 'scalar' data found for trial in multiplexer mul=<tensorboard.backend.event_processing.plugin_event_multiplexer.EventMultiplexer object at 0x7f5a460ea410>\").\n"
     ]
    },
    {
     "name": "stderr",
     "output_type": "stream",
     "text": [
      "[INFO 12-22 06:43:34] Scheduler: MetricFetchE INFO: Because val_acc is available_while_running and trial 0 is still RUNNING continuing the experiment and retrying on next poll...\n"
     ]
    },
    {
     "name": "stderr",
     "output_type": "stream",
     "text": [
      "[WARNING 12-22 06:43:34] Scheduler: Failed to fetch val_acc for trial 1, found MetricFetchE(message=\"No 'scalar' data found for trial in multiplexer mul=<tensorboard.backend.event_processing.plugin_event_multiplexer.EventMultiplexer object at 0x7f5a460e91b0>\").\n"
     ]
    },
    {
     "name": "stderr",
     "output_type": "stream",
     "text": [
      "[INFO 12-22 06:43:34] Scheduler: MetricFetchE INFO: Because val_acc is available_while_running and trial 1 is still RUNNING continuing the experiment and retrying on next poll...\n"
     ]
    },
    {
     "name": "stderr",
     "output_type": "stream",
     "text": [
      "[WARNING 12-22 06:43:34] Scheduler: Failed to fetch val_acc for trial 2, found MetricFetchE(message=\"No 'scalar' data found for trial in multiplexer mul=<tensorboard.backend.event_processing.plugin_event_multiplexer.EventMultiplexer object at 0x7f5a460e8400>\").\n"
     ]
    },
    {
     "name": "stderr",
     "output_type": "stream",
     "text": [
      "[INFO 12-22 06:43:34] Scheduler: MetricFetchE INFO: Because val_acc is available_while_running and trial 2 is still RUNNING continuing the experiment and retrying on next poll...\n"
     ]
    },
    {
     "name": "stderr",
     "output_type": "stream",
     "text": [
      "[WARNING 12-22 06:43:34] Scheduler: Failed to fetch val_acc for trial 3, found MetricFetchE(message=\"No 'scalar' data found for trial in multiplexer mul=<tensorboard.backend.event_processing.plugin_event_multiplexer.EventMultiplexer object at 0x7f5a460e8f70>\").\n"
     ]
    },
    {
     "name": "stderr",
     "output_type": "stream",
     "text": [
      "[INFO 12-22 06:43:34] Scheduler: MetricFetchE INFO: Because val_acc is available_while_running and trial 3 is still RUNNING continuing the experiment and retrying on next poll...\n"
     ]
    },
    {
     "name": "stderr",
     "output_type": "stream",
     "text": [
      "[WARNING 12-22 06:43:34] Scheduler: Failed to fetch val_acc for trial 4, found MetricFetchE(message=\"No 'scalar' data found for trial in multiplexer mul=<tensorboard.backend.event_processing.plugin_event_multiplexer.EventMultiplexer object at 0x7f5a460e86d0>\").\n"
     ]
    },
    {
     "name": "stderr",
     "output_type": "stream",
     "text": [
      "[INFO 12-22 06:43:34] Scheduler: MetricFetchE INFO: Because val_acc is available_while_running and trial 4 is still RUNNING continuing the experiment and retrying on next poll...\n"
     ]
    },
    {
     "name": "stderr",
     "output_type": "stream",
     "text": [
      "[INFO 12-22 06:43:34] ax.early_stopping.strategies.base: PercentileEarlyStoppingStrategy received empty data. Not stopping any trials.\n"
     ]
    },
    {
     "name": "stderr",
     "output_type": "stream",
     "text": [
      "[INFO 12-22 06:43:34] Scheduler: Waiting for completed trials (for 10 sec, currently running trials: 5).\n"
     ]
    },
    {
     "name": "stderr",
     "output_type": "stream",
     "text": [
      "[INFO 12-22 06:43:44] Scheduler: Retrieved FAILED trials: 0 - 1.\n"
     ]
    },
    {
     "name": "stderr",
     "output_type": "stream",
     "text": [
      "[INFO 12-22 06:43:44] ax.core.metric: MetricFetchE INFO: Initialized MetricFetchE(message=\"No 'scalar' data found for trial in multiplexer mul=<tensorboard.backend.event_processing.plugin_event_multiplexer.EventMultiplexer object at 0x7f5a460e9390>\")\n"
     ]
    },
    {
     "name": "stderr",
     "output_type": "stream",
     "text": [
      "[INFO 12-22 06:43:44] ax.core.metric: MetricFetchE INFO: Initialized MetricFetchE(message=\"No 'scalar' data found for trial in multiplexer mul=<tensorboard.backend.event_processing.plugin_event_multiplexer.EventMultiplexer object at 0x7f5a460e9f30>\")\n"
     ]
    },
    {
     "name": "stderr",
     "output_type": "stream",
     "text": [
      "[INFO 12-22 06:43:44] ax.core.metric: MetricFetchE INFO: Initialized MetricFetchE(message=\"No 'scalar' data found for trial in multiplexer mul=<tensorboard.backend.event_processing.plugin_event_multiplexer.EventMultiplexer object at 0x7f5a460eac80>\")\n"
     ]
    },
    {
     "name": "stderr",
     "output_type": "stream",
     "text": [
      "[ERROR 12-22 06:43:44] ax.core.experiment: Discovered Metric fetching Err while attaching data MetricFetchE(message=\"No 'scalar' data found for trial in multiplexer mul=<tensorboard.backend.event_processing.plugin_event_multiplexer.EventMultiplexer object at 0x7f5a460e9390>\"). Ignoring for now -- will retry query on next call to fetch.\n"
     ]
    },
    {
     "name": "stderr",
     "output_type": "stream",
     "text": [
      "[ERROR 12-22 06:43:44] ax.core.experiment: Discovered Metric fetching Err while attaching data MetricFetchE(message=\"No 'scalar' data found for trial in multiplexer mul=<tensorboard.backend.event_processing.plugin_event_multiplexer.EventMultiplexer object at 0x7f5a460e9f30>\"). Ignoring for now -- will retry query on next call to fetch.\n"
     ]
    },
    {
     "name": "stderr",
     "output_type": "stream",
     "text": [
      "[ERROR 12-22 06:43:44] ax.core.experiment: Discovered Metric fetching Err while attaching data MetricFetchE(message=\"No 'scalar' data found for trial in multiplexer mul=<tensorboard.backend.event_processing.plugin_event_multiplexer.EventMultiplexer object at 0x7f5a460eac80>\"). Ignoring for now -- will retry query on next call to fetch.\n"
     ]
    },
    {
     "name": "stderr",
     "output_type": "stream",
     "text": [
      "[WARNING 12-22 06:43:44] Scheduler: Failed to fetch val_acc for trial 2, found MetricFetchE(message=\"No 'scalar' data found for trial in multiplexer mul=<tensorboard.backend.event_processing.plugin_event_multiplexer.EventMultiplexer object at 0x7f5a460e9390>\").\n"
     ]
    },
    {
     "name": "stderr",
     "output_type": "stream",
     "text": [
      "[INFO 12-22 06:43:44] Scheduler: MetricFetchE INFO: Because val_acc is available_while_running and trial 2 is still RUNNING continuing the experiment and retrying on next poll...\n"
     ]
    },
    {
     "name": "stderr",
     "output_type": "stream",
     "text": [
      "[WARNING 12-22 06:43:44] Scheduler: Failed to fetch val_acc for trial 3, found MetricFetchE(message=\"No 'scalar' data found for trial in multiplexer mul=<tensorboard.backend.event_processing.plugin_event_multiplexer.EventMultiplexer object at 0x7f5a460e9f30>\").\n"
     ]
    },
    {
     "name": "stderr",
     "output_type": "stream",
     "text": [
      "[INFO 12-22 06:43:44] Scheduler: MetricFetchE INFO: Because val_acc is available_while_running and trial 3 is still RUNNING continuing the experiment and retrying on next poll...\n"
     ]
    },
    {
     "name": "stderr",
     "output_type": "stream",
     "text": [
      "[WARNING 12-22 06:43:44] Scheduler: Failed to fetch val_acc for trial 4, found MetricFetchE(message=\"No 'scalar' data found for trial in multiplexer mul=<tensorboard.backend.event_processing.plugin_event_multiplexer.EventMultiplexer object at 0x7f5a460eac80>\").\n"
     ]
    },
    {
     "name": "stderr",
     "output_type": "stream",
     "text": [
      "[INFO 12-22 06:43:44] Scheduler: MetricFetchE INFO: Because val_acc is available_while_running and trial 4 is still RUNNING continuing the experiment and retrying on next poll...\n"
     ]
    },
    {
     "name": "stderr",
     "output_type": "stream",
     "text": [
      "[INFO 12-22 06:43:44] ax.early_stopping.strategies.base: PercentileEarlyStoppingStrategy received empty data. Not stopping any trials.\n"
     ]
    },
    {
     "name": "stderr",
     "output_type": "stream",
     "text": [
      "/tmp/tmp.rbKmWnPBQH/Ax-main/ax/modelbridge/cross_validation.py:439: UserWarning: Encountered exception in computing model fit quality: RandomModelBridge does not support prediction.\n",
      "  warn(\"Encountered exception in computing model fit quality: \" + str(e))\n",
      "[INFO 12-22 06:43:44] Scheduler: Running trials [5]...\n"
     ]
    },
    {
     "name": "stderr",
     "output_type": "stream",
     "text": [
      "/tmp/tmp.rbKmWnPBQH/Ax-main/ax/modelbridge/cross_validation.py:439: UserWarning: Encountered exception in computing model fit quality: RandomModelBridge does not support prediction.\n",
      "  warn(\"Encountered exception in computing model fit quality: \" + str(e))\n",
      "[INFO 12-22 06:43:45] Scheduler: Running trials [6]...\n"
     ]
    },
    {
     "name": "stderr",
     "output_type": "stream",
     "text": [
      "[WARNING 12-22 06:43:46] Scheduler: Both `init_seconds_between_polls` and `early_stopping_strategy supplied. `init_seconds_between_polls=1` will be overrridden by `early_stopping_strategy.seconds_between_polls=10` and polling will take place at a constant rate.\n"
     ]
    },
    {
     "name": "stderr",
     "output_type": "stream",
     "text": [
      "[INFO 12-22 06:43:46] ax.core.metric: MetricFetchE INFO: Initialized MetricFetchE(message=\"No 'scalar' data found for trial in multiplexer mul=<tensorboard.backend.event_processing.plugin_event_multiplexer.EventMultiplexer object at 0x7f5a460eb130>\")\n"
     ]
    },
    {
     "name": "stderr",
     "output_type": "stream",
     "text": [
      "[INFO 12-22 06:43:46] ax.core.metric: MetricFetchE INFO: Initialized MetricFetchE(message=\"No 'scalar' data found for trial in multiplexer mul=<tensorboard.backend.event_processing.plugin_event_multiplexer.EventMultiplexer object at 0x7f5a460e8370>\")\n"
     ]
    },
    {
     "name": "stderr",
     "output_type": "stream",
     "text": [
      "[INFO 12-22 06:43:46] ax.core.metric: MetricFetchE INFO: Initialized MetricFetchE(message=\"No 'scalar' data found for trial in multiplexer mul=<tensorboard.backend.event_processing.plugin_event_multiplexer.EventMultiplexer object at 0x7f5a460e8670>\")\n"
     ]
    },
    {
     "name": "stderr",
     "output_type": "stream",
     "text": [
      "[INFO 12-22 06:43:46] ax.core.metric: MetricFetchE INFO: Initialized MetricFetchE(message=\"No 'scalar' data found for trial in multiplexer mul=<tensorboard.backend.event_processing.plugin_event_multiplexer.EventMultiplexer object at 0x7f5a460eb940>\")\n"
     ]
    },
    {
     "name": "stderr",
     "output_type": "stream",
     "text": [
      "[INFO 12-22 06:43:46] ax.core.metric: MetricFetchE INFO: Initialized MetricFetchE(message=\"No 'scalar' data found for trial in multiplexer mul=<tensorboard.backend.event_processing.plugin_event_multiplexer.EventMultiplexer object at 0x7f5a460eb730>\")\n"
     ]
    },
    {
     "name": "stderr",
     "output_type": "stream",
     "text": [
      "[ERROR 12-22 06:43:46] ax.core.experiment: Discovered Metric fetching Err while attaching data MetricFetchE(message=\"No 'scalar' data found for trial in multiplexer mul=<tensorboard.backend.event_processing.plugin_event_multiplexer.EventMultiplexer object at 0x7f5a460eb130>\"). Ignoring for now -- will retry query on next call to fetch.\n"
     ]
    },
    {
     "name": "stderr",
     "output_type": "stream",
     "text": [
      "[ERROR 12-22 06:43:46] ax.core.experiment: Discovered Metric fetching Err while attaching data MetricFetchE(message=\"No 'scalar' data found for trial in multiplexer mul=<tensorboard.backend.event_processing.plugin_event_multiplexer.EventMultiplexer object at 0x7f5a460e8370>\"). Ignoring for now -- will retry query on next call to fetch.\n"
     ]
    },
    {
     "name": "stderr",
     "output_type": "stream",
     "text": [
      "[ERROR 12-22 06:43:46] ax.core.experiment: Discovered Metric fetching Err while attaching data MetricFetchE(message=\"No 'scalar' data found for trial in multiplexer mul=<tensorboard.backend.event_processing.plugin_event_multiplexer.EventMultiplexer object at 0x7f5a460e8670>\"). Ignoring for now -- will retry query on next call to fetch.\n"
     ]
    },
    {
     "name": "stderr",
     "output_type": "stream",
     "text": [
      "[ERROR 12-22 06:43:46] ax.core.experiment: Discovered Metric fetching Err while attaching data MetricFetchE(message=\"No 'scalar' data found for trial in multiplexer mul=<tensorboard.backend.event_processing.plugin_event_multiplexer.EventMultiplexer object at 0x7f5a460eb940>\"). Ignoring for now -- will retry query on next call to fetch.\n"
     ]
    },
    {
     "name": "stderr",
     "output_type": "stream",
     "text": [
      "[ERROR 12-22 06:43:46] ax.core.experiment: Discovered Metric fetching Err while attaching data MetricFetchE(message=\"No 'scalar' data found for trial in multiplexer mul=<tensorboard.backend.event_processing.plugin_event_multiplexer.EventMultiplexer object at 0x7f5a460eb730>\"). Ignoring for now -- will retry query on next call to fetch.\n"
     ]
    },
    {
     "name": "stderr",
     "output_type": "stream",
     "text": [
      "[WARNING 12-22 06:43:46] Scheduler: Failed to fetch val_acc for trial 2, found MetricFetchE(message=\"No 'scalar' data found for trial in multiplexer mul=<tensorboard.backend.event_processing.plugin_event_multiplexer.EventMultiplexer object at 0x7f5a460eb130>\").\n"
     ]
    },
    {
     "name": "stderr",
     "output_type": "stream",
     "text": [
      "[INFO 12-22 06:43:46] Scheduler: MetricFetchE INFO: Because val_acc is available_while_running and trial 2 is still RUNNING continuing the experiment and retrying on next poll...\n"
     ]
    },
    {
     "name": "stderr",
     "output_type": "stream",
     "text": [
      "[WARNING 12-22 06:43:46] Scheduler: Failed to fetch val_acc for trial 3, found MetricFetchE(message=\"No 'scalar' data found for trial in multiplexer mul=<tensorboard.backend.event_processing.plugin_event_multiplexer.EventMultiplexer object at 0x7f5a460e8370>\").\n"
     ]
    },
    {
     "name": "stderr",
     "output_type": "stream",
     "text": [
      "[INFO 12-22 06:43:46] Scheduler: MetricFetchE INFO: Because val_acc is available_while_running and trial 3 is still RUNNING continuing the experiment and retrying on next poll...\n"
     ]
    },
    {
     "name": "stderr",
     "output_type": "stream",
     "text": [
      "[WARNING 12-22 06:43:46] Scheduler: Failed to fetch val_acc for trial 4, found MetricFetchE(message=\"No 'scalar' data found for trial in multiplexer mul=<tensorboard.backend.event_processing.plugin_event_multiplexer.EventMultiplexer object at 0x7f5a460e8670>\").\n"
     ]
    },
    {
     "name": "stderr",
     "output_type": "stream",
     "text": [
      "[INFO 12-22 06:43:46] Scheduler: MetricFetchE INFO: Because val_acc is available_while_running and trial 4 is still RUNNING continuing the experiment and retrying on next poll...\n"
     ]
    },
    {
     "name": "stderr",
     "output_type": "stream",
     "text": [
      "[WARNING 12-22 06:43:46] Scheduler: Failed to fetch val_acc for trial 5, found MetricFetchE(message=\"No 'scalar' data found for trial in multiplexer mul=<tensorboard.backend.event_processing.plugin_event_multiplexer.EventMultiplexer object at 0x7f5a460eb940>\").\n"
     ]
    },
    {
     "name": "stderr",
     "output_type": "stream",
     "text": [
      "[INFO 12-22 06:43:46] Scheduler: MetricFetchE INFO: Because val_acc is available_while_running and trial 5 is still RUNNING continuing the experiment and retrying on next poll...\n"
     ]
    },
    {
     "name": "stderr",
     "output_type": "stream",
     "text": [
      "[WARNING 12-22 06:43:46] Scheduler: Failed to fetch val_acc for trial 6, found MetricFetchE(message=\"No 'scalar' data found for trial in multiplexer mul=<tensorboard.backend.event_processing.plugin_event_multiplexer.EventMultiplexer object at 0x7f5a460eb730>\").\n"
     ]
    },
    {
     "name": "stderr",
     "output_type": "stream",
     "text": [
      "[INFO 12-22 06:43:46] Scheduler: MetricFetchE INFO: Because val_acc is available_while_running and trial 6 is still RUNNING continuing the experiment and retrying on next poll...\n"
     ]
    },
    {
     "name": "stderr",
     "output_type": "stream",
     "text": [
      "[INFO 12-22 06:43:46] ax.early_stopping.strategies.base: PercentileEarlyStoppingStrategy received empty data. Not stopping any trials.\n"
     ]
    },
    {
     "name": "stderr",
     "output_type": "stream",
     "text": [
      "[INFO 12-22 06:43:46] Scheduler: Waiting for completed trials (for 10 sec, currently running trials: 5).\n"
     ]
    },
    {
     "name": "stderr",
     "output_type": "stream",
     "text": [
      "[INFO 12-22 06:43:56] ax.core.metric: MetricFetchE INFO: Initialized MetricFetchE(message=\"No 'scalar' data found for trial in multiplexer mul=<tensorboard.backend.event_processing.plugin_event_multiplexer.EventMultiplexer object at 0x7f5a460e9c90>\")\n"
     ]
    },
    {
     "name": "stderr",
     "output_type": "stream",
     "text": [
      "[INFO 12-22 06:43:56] ax.core.metric: MetricFetchE INFO: Initialized MetricFetchE(message=\"No 'scalar' data found for trial in multiplexer mul=<tensorboard.backend.event_processing.plugin_event_multiplexer.EventMultiplexer object at 0x7f5a460eb8e0>\")\n"
     ]
    },
    {
     "name": "stderr",
     "output_type": "stream",
     "text": [
      "[INFO 12-22 06:43:56] ax.core.metric: MetricFetchE INFO: Initialized MetricFetchE(message=\"No 'scalar' data found for trial in multiplexer mul=<tensorboard.backend.event_processing.plugin_event_multiplexer.EventMultiplexer object at 0x7f5a460e8dc0>\")\n"
     ]
    },
    {
     "name": "stderr",
     "output_type": "stream",
     "text": [
      "[INFO 12-22 06:43:56] ax.core.metric: MetricFetchE INFO: Initialized MetricFetchE(message=\"No 'scalar' data found for trial in multiplexer mul=<tensorboard.backend.event_processing.plugin_event_multiplexer.EventMultiplexer object at 0x7f5a460e9cf0>\")\n"
     ]
    },
    {
     "name": "stderr",
     "output_type": "stream",
     "text": [
      "[INFO 12-22 06:43:56] ax.core.metric: MetricFetchE INFO: Initialized MetricFetchE(message=\"No 'scalar' data found for trial in multiplexer mul=<tensorboard.backend.event_processing.plugin_event_multiplexer.EventMultiplexer object at 0x7f5a460ea2c0>\")\n"
     ]
    },
    {
     "name": "stderr",
     "output_type": "stream",
     "text": [
      "[ERROR 12-22 06:43:56] ax.core.experiment: Discovered Metric fetching Err while attaching data MetricFetchE(message=\"No 'scalar' data found for trial in multiplexer mul=<tensorboard.backend.event_processing.plugin_event_multiplexer.EventMultiplexer object at 0x7f5a460e9c90>\"). Ignoring for now -- will retry query on next call to fetch.\n"
     ]
    },
    {
     "name": "stderr",
     "output_type": "stream",
     "text": [
      "[ERROR 12-22 06:43:56] ax.core.experiment: Discovered Metric fetching Err while attaching data MetricFetchE(message=\"No 'scalar' data found for trial in multiplexer mul=<tensorboard.backend.event_processing.plugin_event_multiplexer.EventMultiplexer object at 0x7f5a460eb8e0>\"). Ignoring for now -- will retry query on next call to fetch.\n"
     ]
    },
    {
     "name": "stderr",
     "output_type": "stream",
     "text": [
      "[ERROR 12-22 06:43:56] ax.core.experiment: Discovered Metric fetching Err while attaching data MetricFetchE(message=\"No 'scalar' data found for trial in multiplexer mul=<tensorboard.backend.event_processing.plugin_event_multiplexer.EventMultiplexer object at 0x7f5a460e8dc0>\"). Ignoring for now -- will retry query on next call to fetch.\n"
     ]
    },
    {
     "name": "stderr",
     "output_type": "stream",
     "text": [
      "[ERROR 12-22 06:43:56] ax.core.experiment: Discovered Metric fetching Err while attaching data MetricFetchE(message=\"No 'scalar' data found for trial in multiplexer mul=<tensorboard.backend.event_processing.plugin_event_multiplexer.EventMultiplexer object at 0x7f5a460e9cf0>\"). Ignoring for now -- will retry query on next call to fetch.\n"
     ]
    },
    {
     "name": "stderr",
     "output_type": "stream",
     "text": [
      "[ERROR 12-22 06:43:56] ax.core.experiment: Discovered Metric fetching Err while attaching data MetricFetchE(message=\"No 'scalar' data found for trial in multiplexer mul=<tensorboard.backend.event_processing.plugin_event_multiplexer.EventMultiplexer object at 0x7f5a460ea2c0>\"). Ignoring for now -- will retry query on next call to fetch.\n"
     ]
    },
    {
     "name": "stderr",
     "output_type": "stream",
     "text": [
      "[WARNING 12-22 06:43:56] Scheduler: Failed to fetch val_acc for trial 2, found MetricFetchE(message=\"No 'scalar' data found for trial in multiplexer mul=<tensorboard.backend.event_processing.plugin_event_multiplexer.EventMultiplexer object at 0x7f5a460e9c90>\").\n"
     ]
    },
    {
     "name": "stderr",
     "output_type": "stream",
     "text": [
      "[INFO 12-22 06:43:56] Scheduler: MetricFetchE INFO: Because val_acc is available_while_running and trial 2 is still RUNNING continuing the experiment and retrying on next poll...\n"
     ]
    },
    {
     "name": "stderr",
     "output_type": "stream",
     "text": [
      "[WARNING 12-22 06:43:56] Scheduler: Failed to fetch val_acc for trial 3, found MetricFetchE(message=\"No 'scalar' data found for trial in multiplexer mul=<tensorboard.backend.event_processing.plugin_event_multiplexer.EventMultiplexer object at 0x7f5a460eb8e0>\").\n"
     ]
    },
    {
     "name": "stderr",
     "output_type": "stream",
     "text": [
      "[INFO 12-22 06:43:56] Scheduler: MetricFetchE INFO: Because val_acc is available_while_running and trial 3 is still RUNNING continuing the experiment and retrying on next poll...\n"
     ]
    },
    {
     "name": "stderr",
     "output_type": "stream",
     "text": [
      "[WARNING 12-22 06:43:56] Scheduler: Failed to fetch val_acc for trial 4, found MetricFetchE(message=\"No 'scalar' data found for trial in multiplexer mul=<tensorboard.backend.event_processing.plugin_event_multiplexer.EventMultiplexer object at 0x7f5a460e8dc0>\").\n"
     ]
    },
    {
     "name": "stderr",
     "output_type": "stream",
     "text": [
      "[INFO 12-22 06:43:56] Scheduler: MetricFetchE INFO: Because val_acc is available_while_running and trial 4 is still RUNNING continuing the experiment and retrying on next poll...\n"
     ]
    },
    {
     "name": "stderr",
     "output_type": "stream",
     "text": [
      "[WARNING 12-22 06:43:56] Scheduler: Failed to fetch val_acc for trial 5, found MetricFetchE(message=\"No 'scalar' data found for trial in multiplexer mul=<tensorboard.backend.event_processing.plugin_event_multiplexer.EventMultiplexer object at 0x7f5a460e9cf0>\").\n"
     ]
    },
    {
     "name": "stderr",
     "output_type": "stream",
     "text": [
      "[INFO 12-22 06:43:56] Scheduler: MetricFetchE INFO: Because val_acc is available_while_running and trial 5 is still RUNNING continuing the experiment and retrying on next poll...\n"
     ]
    },
    {
     "name": "stderr",
     "output_type": "stream",
     "text": [
      "[WARNING 12-22 06:43:56] Scheduler: Failed to fetch val_acc for trial 6, found MetricFetchE(message=\"No 'scalar' data found for trial in multiplexer mul=<tensorboard.backend.event_processing.plugin_event_multiplexer.EventMultiplexer object at 0x7f5a460ea2c0>\").\n"
     ]
    },
    {
     "name": "stderr",
     "output_type": "stream",
     "text": [
      "[INFO 12-22 06:43:56] Scheduler: MetricFetchE INFO: Because val_acc is available_while_running and trial 6 is still RUNNING continuing the experiment and retrying on next poll...\n"
     ]
    },
    {
     "name": "stderr",
     "output_type": "stream",
     "text": [
      "[INFO 12-22 06:43:56] ax.early_stopping.strategies.base: PercentileEarlyStoppingStrategy received empty data. Not stopping any trials.\n"
     ]
    },
    {
     "name": "stderr",
     "output_type": "stream",
     "text": [
      "[INFO 12-22 06:43:56] Scheduler: Waiting for completed trials (for 10 sec, currently running trials: 5).\n"
     ]
    },
    {
     "name": "stderr",
     "output_type": "stream",
     "text": [
      "[INFO 12-22 06:44:06] ax.core.metric: MetricFetchE INFO: Initialized MetricFetchE(message=\"No 'scalar' data found for trial in multiplexer mul=<tensorboard.backend.event_processing.plugin_event_multiplexer.EventMultiplexer object at 0x7f5a460eb460>\")\n"
     ]
    },
    {
     "name": "stderr",
     "output_type": "stream",
     "text": [
      "[INFO 12-22 06:44:06] ax.core.metric: MetricFetchE INFO: Initialized MetricFetchE(message=\"No 'scalar' data found for trial in multiplexer mul=<tensorboard.backend.event_processing.plugin_event_multiplexer.EventMultiplexer object at 0x7f5a460eae90>\")\n"
     ]
    },
    {
     "name": "stderr",
     "output_type": "stream",
     "text": [
      "[INFO 12-22 06:44:06] ax.core.metric: MetricFetchE INFO: Initialized MetricFetchE(message=\"No 'scalar' data found for trial in multiplexer mul=<tensorboard.backend.event_processing.plugin_event_multiplexer.EventMultiplexer object at 0x7f5a460e9d50>\")\n"
     ]
    },
    {
     "name": "stderr",
     "output_type": "stream",
     "text": [
      "[INFO 12-22 06:44:06] ax.core.metric: MetricFetchE INFO: Initialized MetricFetchE(message=\"No 'scalar' data found for trial in multiplexer mul=<tensorboard.backend.event_processing.plugin_event_multiplexer.EventMultiplexer object at 0x7f5a460eb8e0>\")\n"
     ]
    },
    {
     "name": "stderr",
     "output_type": "stream",
     "text": [
      "[INFO 12-22 06:44:06] ax.core.metric: MetricFetchE INFO: Initialized MetricFetchE(message=\"No 'scalar' data found for trial in multiplexer mul=<tensorboard.backend.event_processing.plugin_event_multiplexer.EventMultiplexer object at 0x7f5a460e8100>\")\n"
     ]
    },
    {
     "name": "stderr",
     "output_type": "stream",
     "text": [
      "[ERROR 12-22 06:44:06] ax.core.experiment: Discovered Metric fetching Err while attaching data MetricFetchE(message=\"No 'scalar' data found for trial in multiplexer mul=<tensorboard.backend.event_processing.plugin_event_multiplexer.EventMultiplexer object at 0x7f5a460eb460>\"). Ignoring for now -- will retry query on next call to fetch.\n"
     ]
    },
    {
     "name": "stderr",
     "output_type": "stream",
     "text": [
      "[ERROR 12-22 06:44:06] ax.core.experiment: Discovered Metric fetching Err while attaching data MetricFetchE(message=\"No 'scalar' data found for trial in multiplexer mul=<tensorboard.backend.event_processing.plugin_event_multiplexer.EventMultiplexer object at 0x7f5a460eae90>\"). Ignoring for now -- will retry query on next call to fetch.\n"
     ]
    },
    {
     "name": "stderr",
     "output_type": "stream",
     "text": [
      "[ERROR 12-22 06:44:06] ax.core.experiment: Discovered Metric fetching Err while attaching data MetricFetchE(message=\"No 'scalar' data found for trial in multiplexer mul=<tensorboard.backend.event_processing.plugin_event_multiplexer.EventMultiplexer object at 0x7f5a460e9d50>\"). Ignoring for now -- will retry query on next call to fetch.\n"
     ]
    },
    {
     "name": "stderr",
     "output_type": "stream",
     "text": [
      "[ERROR 12-22 06:44:06] ax.core.experiment: Discovered Metric fetching Err while attaching data MetricFetchE(message=\"No 'scalar' data found for trial in multiplexer mul=<tensorboard.backend.event_processing.plugin_event_multiplexer.EventMultiplexer object at 0x7f5a460eb8e0>\"). Ignoring for now -- will retry query on next call to fetch.\n"
     ]
    },
    {
     "name": "stderr",
     "output_type": "stream",
     "text": [
      "[ERROR 12-22 06:44:06] ax.core.experiment: Discovered Metric fetching Err while attaching data MetricFetchE(message=\"No 'scalar' data found for trial in multiplexer mul=<tensorboard.backend.event_processing.plugin_event_multiplexer.EventMultiplexer object at 0x7f5a460e8100>\"). Ignoring for now -- will retry query on next call to fetch.\n"
     ]
    },
    {
     "name": "stderr",
     "output_type": "stream",
     "text": [
      "[WARNING 12-22 06:44:06] Scheduler: Failed to fetch val_acc for trial 2, found MetricFetchE(message=\"No 'scalar' data found for trial in multiplexer mul=<tensorboard.backend.event_processing.plugin_event_multiplexer.EventMultiplexer object at 0x7f5a460eb460>\").\n"
     ]
    },
    {
     "name": "stderr",
     "output_type": "stream",
     "text": [
      "[INFO 12-22 06:44:06] Scheduler: MetricFetchE INFO: Because val_acc is available_while_running and trial 2 is still RUNNING continuing the experiment and retrying on next poll...\n"
     ]
    },
    {
     "name": "stderr",
     "output_type": "stream",
     "text": [
      "[WARNING 12-22 06:44:06] Scheduler: Failed to fetch val_acc for trial 3, found MetricFetchE(message=\"No 'scalar' data found for trial in multiplexer mul=<tensorboard.backend.event_processing.plugin_event_multiplexer.EventMultiplexer object at 0x7f5a460eae90>\").\n"
     ]
    },
    {
     "name": "stderr",
     "output_type": "stream",
     "text": [
      "[INFO 12-22 06:44:06] Scheduler: MetricFetchE INFO: Because val_acc is available_while_running and trial 3 is still RUNNING continuing the experiment and retrying on next poll...\n"
     ]
    },
    {
     "name": "stderr",
     "output_type": "stream",
     "text": [
      "[WARNING 12-22 06:44:06] Scheduler: Failed to fetch val_acc for trial 4, found MetricFetchE(message=\"No 'scalar' data found for trial in multiplexer mul=<tensorboard.backend.event_processing.plugin_event_multiplexer.EventMultiplexer object at 0x7f5a460e9d50>\").\n"
     ]
    },
    {
     "name": "stderr",
     "output_type": "stream",
     "text": [
      "[INFO 12-22 06:44:06] Scheduler: MetricFetchE INFO: Because val_acc is available_while_running and trial 4 is still RUNNING continuing the experiment and retrying on next poll...\n"
     ]
    },
    {
     "name": "stderr",
     "output_type": "stream",
     "text": [
      "[WARNING 12-22 06:44:06] Scheduler: Failed to fetch val_acc for trial 5, found MetricFetchE(message=\"No 'scalar' data found for trial in multiplexer mul=<tensorboard.backend.event_processing.plugin_event_multiplexer.EventMultiplexer object at 0x7f5a460eb8e0>\").\n"
     ]
    },
    {
     "name": "stderr",
     "output_type": "stream",
     "text": [
      "[INFO 12-22 06:44:06] Scheduler: MetricFetchE INFO: Because val_acc is available_while_running and trial 5 is still RUNNING continuing the experiment and retrying on next poll...\n"
     ]
    },
    {
     "name": "stderr",
     "output_type": "stream",
     "text": [
      "[WARNING 12-22 06:44:06] Scheduler: Failed to fetch val_acc for trial 6, found MetricFetchE(message=\"No 'scalar' data found for trial in multiplexer mul=<tensorboard.backend.event_processing.plugin_event_multiplexer.EventMultiplexer object at 0x7f5a460e8100>\").\n"
     ]
    },
    {
     "name": "stderr",
     "output_type": "stream",
     "text": [
      "[INFO 12-22 06:44:06] Scheduler: MetricFetchE INFO: Because val_acc is available_while_running and trial 6 is still RUNNING continuing the experiment and retrying on next poll...\n"
     ]
    },
    {
     "name": "stderr",
     "output_type": "stream",
     "text": [
      "[INFO 12-22 06:44:06] ax.early_stopping.strategies.base: PercentileEarlyStoppingStrategy received empty data. Not stopping any trials.\n"
     ]
    },
    {
     "name": "stderr",
     "output_type": "stream",
     "text": [
      "[INFO 12-22 06:44:06] Scheduler: Waiting for completed trials (for 10 sec, currently running trials: 5).\n"
     ]
    },
    {
     "name": "stderr",
     "output_type": "stream",
     "text": [
      "[INFO 12-22 06:44:16] ax.core.metric: MetricFetchE INFO: Initialized MetricFetchE(message=\"No 'scalar' data found for trial in multiplexer mul=<tensorboard.backend.event_processing.plugin_event_multiplexer.EventMultiplexer object at 0x7f5a460ebc10>\")\n"
     ]
    },
    {
     "name": "stderr",
     "output_type": "stream",
     "text": [
      "[INFO 12-22 06:44:16] ax.core.metric: MetricFetchE INFO: Initialized MetricFetchE(message=\"No 'scalar' data found for trial in multiplexer mul=<tensorboard.backend.event_processing.plugin_event_multiplexer.EventMultiplexer object at 0x7f5a460ebdf0>\")\n"
     ]
    },
    {
     "name": "stderr",
     "output_type": "stream",
     "text": [
      "[INFO 12-22 06:44:16] ax.core.metric: MetricFetchE INFO: Initialized MetricFetchE(message=\"No 'scalar' data found for trial in multiplexer mul=<tensorboard.backend.event_processing.plugin_event_multiplexer.EventMultiplexer object at 0x7f5a460eb8e0>\")\n"
     ]
    },
    {
     "name": "stderr",
     "output_type": "stream",
     "text": [
      "[INFO 12-22 06:44:16] ax.core.metric: MetricFetchE INFO: Initialized MetricFetchE(message=\"No 'scalar' data found for trial in multiplexer mul=<tensorboard.backend.event_processing.plugin_event_multiplexer.EventMultiplexer object at 0x7f5a460eb040>\")\n"
     ]
    },
    {
     "name": "stderr",
     "output_type": "stream",
     "text": [
      "[INFO 12-22 06:44:16] ax.core.metric: MetricFetchE INFO: Initialized MetricFetchE(message=\"No 'scalar' data found for trial in multiplexer mul=<tensorboard.backend.event_processing.plugin_event_multiplexer.EventMultiplexer object at 0x7f5a460e99f0>\")\n"
     ]
    },
    {
     "name": "stderr",
     "output_type": "stream",
     "text": [
      "[ERROR 12-22 06:44:16] ax.core.experiment: Discovered Metric fetching Err while attaching data MetricFetchE(message=\"No 'scalar' data found for trial in multiplexer mul=<tensorboard.backend.event_processing.plugin_event_multiplexer.EventMultiplexer object at 0x7f5a460ebc10>\"). Ignoring for now -- will retry query on next call to fetch.\n"
     ]
    },
    {
     "name": "stderr",
     "output_type": "stream",
     "text": [
      "[ERROR 12-22 06:44:16] ax.core.experiment: Discovered Metric fetching Err while attaching data MetricFetchE(message=\"No 'scalar' data found for trial in multiplexer mul=<tensorboard.backend.event_processing.plugin_event_multiplexer.EventMultiplexer object at 0x7f5a460ebdf0>\"). Ignoring for now -- will retry query on next call to fetch.\n"
     ]
    },
    {
     "name": "stderr",
     "output_type": "stream",
     "text": [
      "[ERROR 12-22 06:44:16] ax.core.experiment: Discovered Metric fetching Err while attaching data MetricFetchE(message=\"No 'scalar' data found for trial in multiplexer mul=<tensorboard.backend.event_processing.plugin_event_multiplexer.EventMultiplexer object at 0x7f5a460eb8e0>\"). Ignoring for now -- will retry query on next call to fetch.\n"
     ]
    },
    {
     "name": "stderr",
     "output_type": "stream",
     "text": [
      "[ERROR 12-22 06:44:16] ax.core.experiment: Discovered Metric fetching Err while attaching data MetricFetchE(message=\"No 'scalar' data found for trial in multiplexer mul=<tensorboard.backend.event_processing.plugin_event_multiplexer.EventMultiplexer object at 0x7f5a460eb040>\"). Ignoring for now -- will retry query on next call to fetch.\n"
     ]
    },
    {
     "name": "stderr",
     "output_type": "stream",
     "text": [
      "[ERROR 12-22 06:44:16] ax.core.experiment: Discovered Metric fetching Err while attaching data MetricFetchE(message=\"No 'scalar' data found for trial in multiplexer mul=<tensorboard.backend.event_processing.plugin_event_multiplexer.EventMultiplexer object at 0x7f5a460e99f0>\"). Ignoring for now -- will retry query on next call to fetch.\n"
     ]
    },
    {
     "name": "stderr",
     "output_type": "stream",
     "text": [
      "[WARNING 12-22 06:44:16] Scheduler: Failed to fetch val_acc for trial 2, found MetricFetchE(message=\"No 'scalar' data found for trial in multiplexer mul=<tensorboard.backend.event_processing.plugin_event_multiplexer.EventMultiplexer object at 0x7f5a460ebc10>\").\n"
     ]
    },
    {
     "name": "stderr",
     "output_type": "stream",
     "text": [
      "[INFO 12-22 06:44:16] Scheduler: MetricFetchE INFO: Because val_acc is available_while_running and trial 2 is still RUNNING continuing the experiment and retrying on next poll...\n"
     ]
    },
    {
     "name": "stderr",
     "output_type": "stream",
     "text": [
      "[WARNING 12-22 06:44:16] Scheduler: Failed to fetch val_acc for trial 3, found MetricFetchE(message=\"No 'scalar' data found for trial in multiplexer mul=<tensorboard.backend.event_processing.plugin_event_multiplexer.EventMultiplexer object at 0x7f5a460ebdf0>\").\n"
     ]
    },
    {
     "name": "stderr",
     "output_type": "stream",
     "text": [
      "[INFO 12-22 06:44:16] Scheduler: MetricFetchE INFO: Because val_acc is available_while_running and trial 3 is still RUNNING continuing the experiment and retrying on next poll...\n"
     ]
    },
    {
     "name": "stderr",
     "output_type": "stream",
     "text": [
      "[WARNING 12-22 06:44:16] Scheduler: Failed to fetch val_acc for trial 4, found MetricFetchE(message=\"No 'scalar' data found for trial in multiplexer mul=<tensorboard.backend.event_processing.plugin_event_multiplexer.EventMultiplexer object at 0x7f5a460eb8e0>\").\n"
     ]
    },
    {
     "name": "stderr",
     "output_type": "stream",
     "text": [
      "[INFO 12-22 06:44:16] Scheduler: MetricFetchE INFO: Because val_acc is available_while_running and trial 4 is still RUNNING continuing the experiment and retrying on next poll...\n"
     ]
    },
    {
     "name": "stderr",
     "output_type": "stream",
     "text": [
      "[WARNING 12-22 06:44:16] Scheduler: Failed to fetch val_acc for trial 5, found MetricFetchE(message=\"No 'scalar' data found for trial in multiplexer mul=<tensorboard.backend.event_processing.plugin_event_multiplexer.EventMultiplexer object at 0x7f5a460eb040>\").\n"
     ]
    },
    {
     "name": "stderr",
     "output_type": "stream",
     "text": [
      "[INFO 12-22 06:44:16] Scheduler: MetricFetchE INFO: Because val_acc is available_while_running and trial 5 is still RUNNING continuing the experiment and retrying on next poll...\n"
     ]
    },
    {
     "name": "stderr",
     "output_type": "stream",
     "text": [
      "[WARNING 12-22 06:44:16] Scheduler: Failed to fetch val_acc for trial 6, found MetricFetchE(message=\"No 'scalar' data found for trial in multiplexer mul=<tensorboard.backend.event_processing.plugin_event_multiplexer.EventMultiplexer object at 0x7f5a460e99f0>\").\n"
     ]
    },
    {
     "name": "stderr",
     "output_type": "stream",
     "text": [
      "[INFO 12-22 06:44:16] Scheduler: MetricFetchE INFO: Because val_acc is available_while_running and trial 6 is still RUNNING continuing the experiment and retrying on next poll...\n"
     ]
    },
    {
     "name": "stderr",
     "output_type": "stream",
     "text": [
      "[INFO 12-22 06:44:17] ax.early_stopping.strategies.base: PercentileEarlyStoppingStrategy received empty data. Not stopping any trials.\n"
     ]
    },
    {
     "name": "stderr",
     "output_type": "stream",
     "text": [
      "[INFO 12-22 06:44:17] Scheduler: Waiting for completed trials (for 10 sec, currently running trials: 5).\n"
     ]
    },
    {
     "name": "stderr",
     "output_type": "stream",
     "text": [
      "[INFO 12-22 06:44:27] ax.core.metric: MetricFetchE INFO: Initialized MetricFetchE(message=\"No 'scalar' data found for trial in multiplexer mul=<tensorboard.backend.event_processing.plugin_event_multiplexer.EventMultiplexer object at 0x7f5a460e9ba0>\")\n"
     ]
    },
    {
     "name": "stderr",
     "output_type": "stream",
     "text": [
      "[INFO 12-22 06:44:27] ax.core.metric: MetricFetchE INFO: Initialized MetricFetchE(message=\"No 'scalar' data found for trial in multiplexer mul=<tensorboard.backend.event_processing.plugin_event_multiplexer.EventMultiplexer object at 0x7f5a460e8dc0>\")\n"
     ]
    },
    {
     "name": "stderr",
     "output_type": "stream",
     "text": [
      "[INFO 12-22 06:44:27] ax.core.metric: MetricFetchE INFO: Initialized MetricFetchE(message=\"No 'scalar' data found for trial in multiplexer mul=<tensorboard.backend.event_processing.plugin_event_multiplexer.EventMultiplexer object at 0x7f5a460e99f0>\")\n"
     ]
    },
    {
     "name": "stderr",
     "output_type": "stream",
     "text": [
      "[INFO 12-22 06:44:27] ax.core.metric: MetricFetchE INFO: Initialized MetricFetchE(message=\"No 'scalar' data found for trial in multiplexer mul=<tensorboard.backend.event_processing.plugin_event_multiplexer.EventMultiplexer object at 0x7f5a460eb970>\")\n"
     ]
    },
    {
     "name": "stderr",
     "output_type": "stream",
     "text": [
      "[INFO 12-22 06:44:27] ax.core.metric: MetricFetchE INFO: Initialized MetricFetchE(message=\"No 'scalar' data found for trial in multiplexer mul=<tensorboard.backend.event_processing.plugin_event_multiplexer.EventMultiplexer object at 0x7f5a460eb8e0>\")\n"
     ]
    },
    {
     "name": "stderr",
     "output_type": "stream",
     "text": [
      "[ERROR 12-22 06:44:27] ax.core.experiment: Discovered Metric fetching Err while attaching data MetricFetchE(message=\"No 'scalar' data found for trial in multiplexer mul=<tensorboard.backend.event_processing.plugin_event_multiplexer.EventMultiplexer object at 0x7f5a460e9ba0>\"). Ignoring for now -- will retry query on next call to fetch.\n"
     ]
    },
    {
     "name": "stderr",
     "output_type": "stream",
     "text": [
      "[ERROR 12-22 06:44:27] ax.core.experiment: Discovered Metric fetching Err while attaching data MetricFetchE(message=\"No 'scalar' data found for trial in multiplexer mul=<tensorboard.backend.event_processing.plugin_event_multiplexer.EventMultiplexer object at 0x7f5a460e8dc0>\"). Ignoring for now -- will retry query on next call to fetch.\n"
     ]
    },
    {
     "name": "stderr",
     "output_type": "stream",
     "text": [
      "[ERROR 12-22 06:44:27] ax.core.experiment: Discovered Metric fetching Err while attaching data MetricFetchE(message=\"No 'scalar' data found for trial in multiplexer mul=<tensorboard.backend.event_processing.plugin_event_multiplexer.EventMultiplexer object at 0x7f5a460e99f0>\"). Ignoring for now -- will retry query on next call to fetch.\n"
     ]
    },
    {
     "name": "stderr",
     "output_type": "stream",
     "text": [
      "[ERROR 12-22 06:44:27] ax.core.experiment: Discovered Metric fetching Err while attaching data MetricFetchE(message=\"No 'scalar' data found for trial in multiplexer mul=<tensorboard.backend.event_processing.plugin_event_multiplexer.EventMultiplexer object at 0x7f5a460eb970>\"). Ignoring for now -- will retry query on next call to fetch.\n"
     ]
    },
    {
     "name": "stderr",
     "output_type": "stream",
     "text": [
      "[ERROR 12-22 06:44:27] ax.core.experiment: Discovered Metric fetching Err while attaching data MetricFetchE(message=\"No 'scalar' data found for trial in multiplexer mul=<tensorboard.backend.event_processing.plugin_event_multiplexer.EventMultiplexer object at 0x7f5a460eb8e0>\"). Ignoring for now -- will retry query on next call to fetch.\n"
     ]
    },
    {
     "name": "stderr",
     "output_type": "stream",
     "text": [
      "[WARNING 12-22 06:44:27] Scheduler: Failed to fetch val_acc for trial 2, found MetricFetchE(message=\"No 'scalar' data found for trial in multiplexer mul=<tensorboard.backend.event_processing.plugin_event_multiplexer.EventMultiplexer object at 0x7f5a460e9ba0>\").\n"
     ]
    },
    {
     "name": "stderr",
     "output_type": "stream",
     "text": [
      "[INFO 12-22 06:44:27] Scheduler: MetricFetchE INFO: Because val_acc is available_while_running and trial 2 is still RUNNING continuing the experiment and retrying on next poll...\n"
     ]
    },
    {
     "name": "stderr",
     "output_type": "stream",
     "text": [
      "[WARNING 12-22 06:44:27] Scheduler: Failed to fetch val_acc for trial 3, found MetricFetchE(message=\"No 'scalar' data found for trial in multiplexer mul=<tensorboard.backend.event_processing.plugin_event_multiplexer.EventMultiplexer object at 0x7f5a460e8dc0>\").\n"
     ]
    },
    {
     "name": "stderr",
     "output_type": "stream",
     "text": [
      "[INFO 12-22 06:44:27] Scheduler: MetricFetchE INFO: Because val_acc is available_while_running and trial 3 is still RUNNING continuing the experiment and retrying on next poll...\n"
     ]
    },
    {
     "name": "stderr",
     "output_type": "stream",
     "text": [
      "[WARNING 12-22 06:44:27] Scheduler: Failed to fetch val_acc for trial 4, found MetricFetchE(message=\"No 'scalar' data found for trial in multiplexer mul=<tensorboard.backend.event_processing.plugin_event_multiplexer.EventMultiplexer object at 0x7f5a460e99f0>\").\n"
     ]
    },
    {
     "name": "stderr",
     "output_type": "stream",
     "text": [
      "[INFO 12-22 06:44:27] Scheduler: MetricFetchE INFO: Because val_acc is available_while_running and trial 4 is still RUNNING continuing the experiment and retrying on next poll...\n"
     ]
    },
    {
     "name": "stderr",
     "output_type": "stream",
     "text": [
      "[WARNING 12-22 06:44:27] Scheduler: Failed to fetch val_acc for trial 5, found MetricFetchE(message=\"No 'scalar' data found for trial in multiplexer mul=<tensorboard.backend.event_processing.plugin_event_multiplexer.EventMultiplexer object at 0x7f5a460eb970>\").\n"
     ]
    },
    {
     "name": "stderr",
     "output_type": "stream",
     "text": [
      "[INFO 12-22 06:44:27] Scheduler: MetricFetchE INFO: Because val_acc is available_while_running and trial 5 is still RUNNING continuing the experiment and retrying on next poll...\n"
     ]
    },
    {
     "name": "stderr",
     "output_type": "stream",
     "text": [
      "[WARNING 12-22 06:44:27] Scheduler: Failed to fetch val_acc for trial 6, found MetricFetchE(message=\"No 'scalar' data found for trial in multiplexer mul=<tensorboard.backend.event_processing.plugin_event_multiplexer.EventMultiplexer object at 0x7f5a460eb8e0>\").\n"
     ]
    },
    {
     "name": "stderr",
     "output_type": "stream",
     "text": [
      "[INFO 12-22 06:44:27] Scheduler: MetricFetchE INFO: Because val_acc is available_while_running and trial 6 is still RUNNING continuing the experiment and retrying on next poll...\n"
     ]
    },
    {
     "name": "stderr",
     "output_type": "stream",
     "text": [
      "[INFO 12-22 06:44:27] ax.early_stopping.strategies.base: PercentileEarlyStoppingStrategy received empty data. Not stopping any trials.\n"
     ]
    },
    {
     "name": "stderr",
     "output_type": "stream",
     "text": [
      "[INFO 12-22 06:44:27] Scheduler: Waiting for completed trials (for 10 sec, currently running trials: 5).\n"
     ]
    },
    {
     "name": "stderr",
     "output_type": "stream",
     "text": [
      "[INFO 12-22 06:44:37] ax.core.metric: MetricFetchE INFO: Initialized MetricFetchE(message=\"No 'scalar' data found for trial in multiplexer mul=<tensorboard.backend.event_processing.plugin_event_multiplexer.EventMultiplexer object at 0x7f5a460e8c40>\")\n"
     ]
    },
    {
     "name": "stderr",
     "output_type": "stream",
     "text": [
      "[INFO 12-22 06:44:37] ax.core.metric: MetricFetchE INFO: Initialized MetricFetchE(message=\"No 'scalar' data found for trial in multiplexer mul=<tensorboard.backend.event_processing.plugin_event_multiplexer.EventMultiplexer object at 0x7f5a460eb8e0>\")\n"
     ]
    },
    {
     "name": "stderr",
     "output_type": "stream",
     "text": [
      "[INFO 12-22 06:44:37] ax.core.metric: MetricFetchE INFO: Initialized MetricFetchE(message=\"No 'scalar' data found for trial in multiplexer mul=<tensorboard.backend.event_processing.plugin_event_multiplexer.EventMultiplexer object at 0x7f5a460e88e0>\")\n"
     ]
    },
    {
     "name": "stderr",
     "output_type": "stream",
     "text": [
      "[INFO 12-22 06:44:37] ax.core.metric: MetricFetchE INFO: Initialized MetricFetchE(message=\"No 'scalar' data found for trial in multiplexer mul=<tensorboard.backend.event_processing.plugin_event_multiplexer.EventMultiplexer object at 0x7f5a460eb940>\")\n"
     ]
    },
    {
     "name": "stderr",
     "output_type": "stream",
     "text": [
      "[INFO 12-22 06:44:37] ax.core.metric: MetricFetchE INFO: Initialized MetricFetchE(message=\"No 'scalar' data found for trial in multiplexer mul=<tensorboard.backend.event_processing.plugin_event_multiplexer.EventMultiplexer object at 0x7f5a460e9870>\")\n"
     ]
    },
    {
     "name": "stderr",
     "output_type": "stream",
     "text": [
      "[ERROR 12-22 06:44:37] ax.core.experiment: Discovered Metric fetching Err while attaching data MetricFetchE(message=\"No 'scalar' data found for trial in multiplexer mul=<tensorboard.backend.event_processing.plugin_event_multiplexer.EventMultiplexer object at 0x7f5a460e8c40>\"). Ignoring for now -- will retry query on next call to fetch.\n"
     ]
    },
    {
     "name": "stderr",
     "output_type": "stream",
     "text": [
      "[ERROR 12-22 06:44:37] ax.core.experiment: Discovered Metric fetching Err while attaching data MetricFetchE(message=\"No 'scalar' data found for trial in multiplexer mul=<tensorboard.backend.event_processing.plugin_event_multiplexer.EventMultiplexer object at 0x7f5a460eb8e0>\"). Ignoring for now -- will retry query on next call to fetch.\n"
     ]
    },
    {
     "name": "stderr",
     "output_type": "stream",
     "text": [
      "[ERROR 12-22 06:44:37] ax.core.experiment: Discovered Metric fetching Err while attaching data MetricFetchE(message=\"No 'scalar' data found for trial in multiplexer mul=<tensorboard.backend.event_processing.plugin_event_multiplexer.EventMultiplexer object at 0x7f5a460e88e0>\"). Ignoring for now -- will retry query on next call to fetch.\n"
     ]
    },
    {
     "name": "stderr",
     "output_type": "stream",
     "text": [
      "[ERROR 12-22 06:44:37] ax.core.experiment: Discovered Metric fetching Err while attaching data MetricFetchE(message=\"No 'scalar' data found for trial in multiplexer mul=<tensorboard.backend.event_processing.plugin_event_multiplexer.EventMultiplexer object at 0x7f5a460eb940>\"). Ignoring for now -- will retry query on next call to fetch.\n"
     ]
    },
    {
     "name": "stderr",
     "output_type": "stream",
     "text": [
      "[ERROR 12-22 06:44:37] ax.core.experiment: Discovered Metric fetching Err while attaching data MetricFetchE(message=\"No 'scalar' data found for trial in multiplexer mul=<tensorboard.backend.event_processing.plugin_event_multiplexer.EventMultiplexer object at 0x7f5a460e9870>\"). Ignoring for now -- will retry query on next call to fetch.\n"
     ]
    },
    {
     "name": "stderr",
     "output_type": "stream",
     "text": [
      "[WARNING 12-22 06:44:37] Scheduler: Failed to fetch val_acc for trial 2, found MetricFetchE(message=\"No 'scalar' data found for trial in multiplexer mul=<tensorboard.backend.event_processing.plugin_event_multiplexer.EventMultiplexer object at 0x7f5a460e8c40>\").\n"
     ]
    },
    {
     "name": "stderr",
     "output_type": "stream",
     "text": [
      "[INFO 12-22 06:44:37] Scheduler: MetricFetchE INFO: Because val_acc is available_while_running and trial 2 is still RUNNING continuing the experiment and retrying on next poll...\n"
     ]
    },
    {
     "name": "stderr",
     "output_type": "stream",
     "text": [
      "[WARNING 12-22 06:44:37] Scheduler: Failed to fetch val_acc for trial 3, found MetricFetchE(message=\"No 'scalar' data found for trial in multiplexer mul=<tensorboard.backend.event_processing.plugin_event_multiplexer.EventMultiplexer object at 0x7f5a460eb8e0>\").\n"
     ]
    },
    {
     "name": "stderr",
     "output_type": "stream",
     "text": [
      "[INFO 12-22 06:44:37] Scheduler: MetricFetchE INFO: Because val_acc is available_while_running and trial 3 is still RUNNING continuing the experiment and retrying on next poll...\n"
     ]
    },
    {
     "name": "stderr",
     "output_type": "stream",
     "text": [
      "[WARNING 12-22 06:44:37] Scheduler: Failed to fetch val_acc for trial 4, found MetricFetchE(message=\"No 'scalar' data found for trial in multiplexer mul=<tensorboard.backend.event_processing.plugin_event_multiplexer.EventMultiplexer object at 0x7f5a460e88e0>\").\n"
     ]
    },
    {
     "name": "stderr",
     "output_type": "stream",
     "text": [
      "[INFO 12-22 06:44:37] Scheduler: MetricFetchE INFO: Because val_acc is available_while_running and trial 4 is still RUNNING continuing the experiment and retrying on next poll...\n"
     ]
    },
    {
     "name": "stderr",
     "output_type": "stream",
     "text": [
      "[WARNING 12-22 06:44:37] Scheduler: Failed to fetch val_acc for trial 5, found MetricFetchE(message=\"No 'scalar' data found for trial in multiplexer mul=<tensorboard.backend.event_processing.plugin_event_multiplexer.EventMultiplexer object at 0x7f5a460eb940>\").\n"
     ]
    },
    {
     "name": "stderr",
     "output_type": "stream",
     "text": [
      "[INFO 12-22 06:44:37] Scheduler: MetricFetchE INFO: Because val_acc is available_while_running and trial 5 is still RUNNING continuing the experiment and retrying on next poll...\n"
     ]
    },
    {
     "name": "stderr",
     "output_type": "stream",
     "text": [
      "[WARNING 12-22 06:44:37] Scheduler: Failed to fetch val_acc for trial 6, found MetricFetchE(message=\"No 'scalar' data found for trial in multiplexer mul=<tensorboard.backend.event_processing.plugin_event_multiplexer.EventMultiplexer object at 0x7f5a460e9870>\").\n"
     ]
    },
    {
     "name": "stderr",
     "output_type": "stream",
     "text": [
      "[INFO 12-22 06:44:37] Scheduler: MetricFetchE INFO: Because val_acc is available_while_running and trial 6 is still RUNNING continuing the experiment and retrying on next poll...\n"
     ]
    },
    {
     "name": "stderr",
     "output_type": "stream",
     "text": [
      "[INFO 12-22 06:44:37] ax.early_stopping.strategies.base: PercentileEarlyStoppingStrategy received empty data. Not stopping any trials.\n"
     ]
    },
    {
     "name": "stderr",
     "output_type": "stream",
     "text": [
      "[INFO 12-22 06:44:37] Scheduler: Waiting for completed trials (for 10 sec, currently running trials: 5).\n"
     ]
    },
    {
     "name": "stderr",
     "output_type": "stream",
     "text": [
      "[INFO 12-22 06:44:47] ax.core.metric: MetricFetchE INFO: Initialized MetricFetchE(message=\"No 'scalar' data found for trial in multiplexer mul=<tensorboard.backend.event_processing.plugin_event_multiplexer.EventMultiplexer object at 0x7f5a460e9ba0>\")\n"
     ]
    },
    {
     "name": "stderr",
     "output_type": "stream",
     "text": [
      "[INFO 12-22 06:44:47] ax.core.metric: MetricFetchE INFO: Initialized MetricFetchE(message=\"No 'scalar' data found for trial in multiplexer mul=<tensorboard.backend.event_processing.plugin_event_multiplexer.EventMultiplexer object at 0x7f5a460ea0e0>\")\n"
     ]
    },
    {
     "name": "stderr",
     "output_type": "stream",
     "text": [
      "[INFO 12-22 06:44:47] ax.core.metric: MetricFetchE INFO: Initialized MetricFetchE(message=\"No 'scalar' data found for trial in multiplexer mul=<tensorboard.backend.event_processing.plugin_event_multiplexer.EventMultiplexer object at 0x7f5a460eb970>\")\n"
     ]
    },
    {
     "name": "stderr",
     "output_type": "stream",
     "text": [
      "[INFO 12-22 06:44:47] ax.core.metric: MetricFetchE INFO: Initialized MetricFetchE(message=\"No 'scalar' data found for trial in multiplexer mul=<tensorboard.backend.event_processing.plugin_event_multiplexer.EventMultiplexer object at 0x7f5a460eb760>\")\n"
     ]
    },
    {
     "name": "stderr",
     "output_type": "stream",
     "text": [
      "[INFO 12-22 06:44:47] ax.core.metric: MetricFetchE INFO: Initialized MetricFetchE(message=\"No 'scalar' data found for trial in multiplexer mul=<tensorboard.backend.event_processing.plugin_event_multiplexer.EventMultiplexer object at 0x7f5a460ea9b0>\")\n"
     ]
    },
    {
     "name": "stderr",
     "output_type": "stream",
     "text": [
      "[ERROR 12-22 06:44:47] ax.core.experiment: Discovered Metric fetching Err while attaching data MetricFetchE(message=\"No 'scalar' data found for trial in multiplexer mul=<tensorboard.backend.event_processing.plugin_event_multiplexer.EventMultiplexer object at 0x7f5a460e9ba0>\"). Ignoring for now -- will retry query on next call to fetch.\n"
     ]
    },
    {
     "name": "stderr",
     "output_type": "stream",
     "text": [
      "[ERROR 12-22 06:44:47] ax.core.experiment: Discovered Metric fetching Err while attaching data MetricFetchE(message=\"No 'scalar' data found for trial in multiplexer mul=<tensorboard.backend.event_processing.plugin_event_multiplexer.EventMultiplexer object at 0x7f5a460ea0e0>\"). Ignoring for now -- will retry query on next call to fetch.\n"
     ]
    },
    {
     "name": "stderr",
     "output_type": "stream",
     "text": [
      "[ERROR 12-22 06:44:47] ax.core.experiment: Discovered Metric fetching Err while attaching data MetricFetchE(message=\"No 'scalar' data found for trial in multiplexer mul=<tensorboard.backend.event_processing.plugin_event_multiplexer.EventMultiplexer object at 0x7f5a460eb970>\"). Ignoring for now -- will retry query on next call to fetch.\n"
     ]
    },
    {
     "name": "stderr",
     "output_type": "stream",
     "text": [
      "[ERROR 12-22 06:44:47] ax.core.experiment: Discovered Metric fetching Err while attaching data MetricFetchE(message=\"No 'scalar' data found for trial in multiplexer mul=<tensorboard.backend.event_processing.plugin_event_multiplexer.EventMultiplexer object at 0x7f5a460eb760>\"). Ignoring for now -- will retry query on next call to fetch.\n"
     ]
    },
    {
     "name": "stderr",
     "output_type": "stream",
     "text": [
      "[ERROR 12-22 06:44:47] ax.core.experiment: Discovered Metric fetching Err while attaching data MetricFetchE(message=\"No 'scalar' data found for trial in multiplexer mul=<tensorboard.backend.event_processing.plugin_event_multiplexer.EventMultiplexer object at 0x7f5a460ea9b0>\"). Ignoring for now -- will retry query on next call to fetch.\n"
     ]
    },
    {
     "name": "stderr",
     "output_type": "stream",
     "text": [
      "[WARNING 12-22 06:44:47] Scheduler: Failed to fetch val_acc for trial 2, found MetricFetchE(message=\"No 'scalar' data found for trial in multiplexer mul=<tensorboard.backend.event_processing.plugin_event_multiplexer.EventMultiplexer object at 0x7f5a460e9ba0>\").\n"
     ]
    },
    {
     "name": "stderr",
     "output_type": "stream",
     "text": [
      "[INFO 12-22 06:44:47] Scheduler: MetricFetchE INFO: Because val_acc is available_while_running and trial 2 is still RUNNING continuing the experiment and retrying on next poll...\n"
     ]
    },
    {
     "name": "stderr",
     "output_type": "stream",
     "text": [
      "[WARNING 12-22 06:44:47] Scheduler: Failed to fetch val_acc for trial 3, found MetricFetchE(message=\"No 'scalar' data found for trial in multiplexer mul=<tensorboard.backend.event_processing.plugin_event_multiplexer.EventMultiplexer object at 0x7f5a460ea0e0>\").\n"
     ]
    },
    {
     "name": "stderr",
     "output_type": "stream",
     "text": [
      "[INFO 12-22 06:44:47] Scheduler: MetricFetchE INFO: Because val_acc is available_while_running and trial 3 is still RUNNING continuing the experiment and retrying on next poll...\n"
     ]
    },
    {
     "name": "stderr",
     "output_type": "stream",
     "text": [
      "[WARNING 12-22 06:44:47] Scheduler: Failed to fetch val_acc for trial 4, found MetricFetchE(message=\"No 'scalar' data found for trial in multiplexer mul=<tensorboard.backend.event_processing.plugin_event_multiplexer.EventMultiplexer object at 0x7f5a460eb970>\").\n"
     ]
    },
    {
     "name": "stderr",
     "output_type": "stream",
     "text": [
      "[INFO 12-22 06:44:47] Scheduler: MetricFetchE INFO: Because val_acc is available_while_running and trial 4 is still RUNNING continuing the experiment and retrying on next poll...\n"
     ]
    },
    {
     "name": "stderr",
     "output_type": "stream",
     "text": [
      "[WARNING 12-22 06:44:47] Scheduler: Failed to fetch val_acc for trial 5, found MetricFetchE(message=\"No 'scalar' data found for trial in multiplexer mul=<tensorboard.backend.event_processing.plugin_event_multiplexer.EventMultiplexer object at 0x7f5a460eb760>\").\n"
     ]
    },
    {
     "name": "stderr",
     "output_type": "stream",
     "text": [
      "[INFO 12-22 06:44:47] Scheduler: MetricFetchE INFO: Because val_acc is available_while_running and trial 5 is still RUNNING continuing the experiment and retrying on next poll...\n"
     ]
    },
    {
     "name": "stderr",
     "output_type": "stream",
     "text": [
      "[WARNING 12-22 06:44:47] Scheduler: Failed to fetch val_acc for trial 6, found MetricFetchE(message=\"No 'scalar' data found for trial in multiplexer mul=<tensorboard.backend.event_processing.plugin_event_multiplexer.EventMultiplexer object at 0x7f5a460ea9b0>\").\n"
     ]
    },
    {
     "name": "stderr",
     "output_type": "stream",
     "text": [
      "[INFO 12-22 06:44:47] Scheduler: MetricFetchE INFO: Because val_acc is available_while_running and trial 6 is still RUNNING continuing the experiment and retrying on next poll...\n"
     ]
    },
    {
     "name": "stderr",
     "output_type": "stream",
     "text": [
      "[INFO 12-22 06:44:47] ax.early_stopping.strategies.base: PercentileEarlyStoppingStrategy received empty data. Not stopping any trials.\n"
     ]
    },
    {
     "name": "stderr",
     "output_type": "stream",
     "text": [
      "[INFO 12-22 06:44:47] Scheduler: Waiting for completed trials (for 10 sec, currently running trials: 5).\n"
     ]
    },
    {
     "name": "stderr",
     "output_type": "stream",
     "text": [
      "[INFO 12-22 06:44:57] ax.core.metric: MetricFetchE INFO: Initialized MetricFetchE(message=\"No 'scalar' data found for trial in multiplexer mul=<tensorboard.backend.event_processing.plugin_event_multiplexer.EventMultiplexer object at 0x7f5a460eabf0>\")\n"
     ]
    },
    {
     "name": "stderr",
     "output_type": "stream",
     "text": [
      "[INFO 12-22 06:44:57] ax.core.metric: MetricFetchE INFO: Initialized MetricFetchE(message=\"No 'scalar' data found for trial in multiplexer mul=<tensorboard.backend.event_processing.plugin_event_multiplexer.EventMultiplexer object at 0x7f5a460ea530>\")\n"
     ]
    },
    {
     "name": "stderr",
     "output_type": "stream",
     "text": [
      "[INFO 12-22 06:44:57] ax.core.metric: MetricFetchE INFO: Initialized MetricFetchE(message=\"No 'scalar' data found for trial in multiplexer mul=<tensorboard.backend.event_processing.plugin_event_multiplexer.EventMultiplexer object at 0x7f5a460eb5e0>\")\n"
     ]
    },
    {
     "name": "stderr",
     "output_type": "stream",
     "text": [
      "[INFO 12-22 06:44:57] ax.core.metric: MetricFetchE INFO: Initialized MetricFetchE(message=\"No 'scalar' data found for trial in multiplexer mul=<tensorboard.backend.event_processing.plugin_event_multiplexer.EventMultiplexer object at 0x7f5a460eb970>\")\n"
     ]
    },
    {
     "name": "stderr",
     "output_type": "stream",
     "text": [
      "[INFO 12-22 06:44:57] ax.core.metric: MetricFetchE INFO: Initialized MetricFetchE(message=\"No 'scalar' data found for trial in multiplexer mul=<tensorboard.backend.event_processing.plugin_event_multiplexer.EventMultiplexer object at 0x7f5a460ea7a0>\")\n"
     ]
    },
    {
     "name": "stderr",
     "output_type": "stream",
     "text": [
      "[ERROR 12-22 06:44:57] ax.core.experiment: Discovered Metric fetching Err while attaching data MetricFetchE(message=\"No 'scalar' data found for trial in multiplexer mul=<tensorboard.backend.event_processing.plugin_event_multiplexer.EventMultiplexer object at 0x7f5a460eabf0>\"). Ignoring for now -- will retry query on next call to fetch.\n"
     ]
    },
    {
     "name": "stderr",
     "output_type": "stream",
     "text": [
      "[ERROR 12-22 06:44:57] ax.core.experiment: Discovered Metric fetching Err while attaching data MetricFetchE(message=\"No 'scalar' data found for trial in multiplexer mul=<tensorboard.backend.event_processing.plugin_event_multiplexer.EventMultiplexer object at 0x7f5a460ea530>\"). Ignoring for now -- will retry query on next call to fetch.\n"
     ]
    },
    {
     "name": "stderr",
     "output_type": "stream",
     "text": [
      "[ERROR 12-22 06:44:57] ax.core.experiment: Discovered Metric fetching Err while attaching data MetricFetchE(message=\"No 'scalar' data found for trial in multiplexer mul=<tensorboard.backend.event_processing.plugin_event_multiplexer.EventMultiplexer object at 0x7f5a460eb5e0>\"). Ignoring for now -- will retry query on next call to fetch.\n"
     ]
    },
    {
     "name": "stderr",
     "output_type": "stream",
     "text": [
      "[ERROR 12-22 06:44:57] ax.core.experiment: Discovered Metric fetching Err while attaching data MetricFetchE(message=\"No 'scalar' data found for trial in multiplexer mul=<tensorboard.backend.event_processing.plugin_event_multiplexer.EventMultiplexer object at 0x7f5a460eb970>\"). Ignoring for now -- will retry query on next call to fetch.\n"
     ]
    },
    {
     "name": "stderr",
     "output_type": "stream",
     "text": [
      "[ERROR 12-22 06:44:57] ax.core.experiment: Discovered Metric fetching Err while attaching data MetricFetchE(message=\"No 'scalar' data found for trial in multiplexer mul=<tensorboard.backend.event_processing.plugin_event_multiplexer.EventMultiplexer object at 0x7f5a460ea7a0>\"). Ignoring for now -- will retry query on next call to fetch.\n"
     ]
    },
    {
     "name": "stderr",
     "output_type": "stream",
     "text": [
      "[WARNING 12-22 06:44:57] Scheduler: Failed to fetch val_acc for trial 2, found MetricFetchE(message=\"No 'scalar' data found for trial in multiplexer mul=<tensorboard.backend.event_processing.plugin_event_multiplexer.EventMultiplexer object at 0x7f5a460eabf0>\").\n"
     ]
    },
    {
     "name": "stderr",
     "output_type": "stream",
     "text": [
      "[INFO 12-22 06:44:57] Scheduler: MetricFetchE INFO: Because val_acc is available_while_running and trial 2 is still RUNNING continuing the experiment and retrying on next poll...\n"
     ]
    },
    {
     "name": "stderr",
     "output_type": "stream",
     "text": [
      "[WARNING 12-22 06:44:57] Scheduler: Failed to fetch val_acc for trial 3, found MetricFetchE(message=\"No 'scalar' data found for trial in multiplexer mul=<tensorboard.backend.event_processing.plugin_event_multiplexer.EventMultiplexer object at 0x7f5a460ea530>\").\n"
     ]
    },
    {
     "name": "stderr",
     "output_type": "stream",
     "text": [
      "[INFO 12-22 06:44:57] Scheduler: MetricFetchE INFO: Because val_acc is available_while_running and trial 3 is still RUNNING continuing the experiment and retrying on next poll...\n"
     ]
    },
    {
     "name": "stderr",
     "output_type": "stream",
     "text": [
      "[WARNING 12-22 06:44:57] Scheduler: Failed to fetch val_acc for trial 4, found MetricFetchE(message=\"No 'scalar' data found for trial in multiplexer mul=<tensorboard.backend.event_processing.plugin_event_multiplexer.EventMultiplexer object at 0x7f5a460eb5e0>\").\n"
     ]
    },
    {
     "name": "stderr",
     "output_type": "stream",
     "text": [
      "[INFO 12-22 06:44:57] Scheduler: MetricFetchE INFO: Because val_acc is available_while_running and trial 4 is still RUNNING continuing the experiment and retrying on next poll...\n"
     ]
    },
    {
     "name": "stderr",
     "output_type": "stream",
     "text": [
      "[WARNING 12-22 06:44:57] Scheduler: Failed to fetch val_acc for trial 5, found MetricFetchE(message=\"No 'scalar' data found for trial in multiplexer mul=<tensorboard.backend.event_processing.plugin_event_multiplexer.EventMultiplexer object at 0x7f5a460eb970>\").\n"
     ]
    },
    {
     "name": "stderr",
     "output_type": "stream",
     "text": [
      "[INFO 12-22 06:44:57] Scheduler: MetricFetchE INFO: Because val_acc is available_while_running and trial 5 is still RUNNING continuing the experiment and retrying on next poll...\n"
     ]
    },
    {
     "name": "stderr",
     "output_type": "stream",
     "text": [
      "[WARNING 12-22 06:44:57] Scheduler: Failed to fetch val_acc for trial 6, found MetricFetchE(message=\"No 'scalar' data found for trial in multiplexer mul=<tensorboard.backend.event_processing.plugin_event_multiplexer.EventMultiplexer object at 0x7f5a460ea7a0>\").\n"
     ]
    },
    {
     "name": "stderr",
     "output_type": "stream",
     "text": [
      "[INFO 12-22 06:44:57] Scheduler: MetricFetchE INFO: Because val_acc is available_while_running and trial 6 is still RUNNING continuing the experiment and retrying on next poll...\n"
     ]
    },
    {
     "name": "stderr",
     "output_type": "stream",
     "text": [
      "[INFO 12-22 06:44:57] ax.early_stopping.strategies.base: PercentileEarlyStoppingStrategy received empty data. Not stopping any trials.\n"
     ]
    },
    {
     "name": "stderr",
     "output_type": "stream",
     "text": [
      "[INFO 12-22 06:44:57] Scheduler: Waiting for completed trials (for 10 sec, currently running trials: 5).\n"
     ]
    },
    {
     "name": "stderr",
     "output_type": "stream",
     "text": [
      "[INFO 12-22 06:45:07] ax.core.metric: MetricFetchE INFO: Initialized MetricFetchE(message=\"No 'scalar' data found for trial in multiplexer mul=<tensorboard.backend.event_processing.plugin_event_multiplexer.EventMultiplexer object at 0x7f5a460e8670>\")\n"
     ]
    },
    {
     "name": "stderr",
     "output_type": "stream",
     "text": [
      "[INFO 12-22 06:45:07] ax.core.metric: MetricFetchE INFO: Initialized MetricFetchE(message=\"No 'scalar' data found for trial in multiplexer mul=<tensorboard.backend.event_processing.plugin_event_multiplexer.EventMultiplexer object at 0x7f5a460e8d60>\")\n"
     ]
    },
    {
     "name": "stderr",
     "output_type": "stream",
     "text": [
      "[INFO 12-22 06:45:07] ax.core.metric: MetricFetchE INFO: Initialized MetricFetchE(message=\"No 'scalar' data found for trial in multiplexer mul=<tensorboard.backend.event_processing.plugin_event_multiplexer.EventMultiplexer object at 0x7f5a460e8c40>\")\n"
     ]
    },
    {
     "name": "stderr",
     "output_type": "stream",
     "text": [
      "[INFO 12-22 06:45:07] ax.core.metric: MetricFetchE INFO: Initialized MetricFetchE(message=\"No 'scalar' data found for trial in multiplexer mul=<tensorboard.backend.event_processing.plugin_event_multiplexer.EventMultiplexer object at 0x7f5a460eb760>\")\n"
     ]
    },
    {
     "name": "stderr",
     "output_type": "stream",
     "text": [
      "[INFO 12-22 06:45:07] ax.core.metric: MetricFetchE INFO: Initialized MetricFetchE(message=\"No 'scalar' data found for trial in multiplexer mul=<tensorboard.backend.event_processing.plugin_event_multiplexer.EventMultiplexer object at 0x7f5a460ea7a0>\")\n"
     ]
    },
    {
     "name": "stderr",
     "output_type": "stream",
     "text": [
      "[ERROR 12-22 06:45:07] ax.core.experiment: Discovered Metric fetching Err while attaching data MetricFetchE(message=\"No 'scalar' data found for trial in multiplexer mul=<tensorboard.backend.event_processing.plugin_event_multiplexer.EventMultiplexer object at 0x7f5a460e8670>\"). Ignoring for now -- will retry query on next call to fetch.\n"
     ]
    },
    {
     "name": "stderr",
     "output_type": "stream",
     "text": [
      "[ERROR 12-22 06:45:07] ax.core.experiment: Discovered Metric fetching Err while attaching data MetricFetchE(message=\"No 'scalar' data found for trial in multiplexer mul=<tensorboard.backend.event_processing.plugin_event_multiplexer.EventMultiplexer object at 0x7f5a460e8d60>\"). Ignoring for now -- will retry query on next call to fetch.\n"
     ]
    },
    {
     "name": "stderr",
     "output_type": "stream",
     "text": [
      "[ERROR 12-22 06:45:07] ax.core.experiment: Discovered Metric fetching Err while attaching data MetricFetchE(message=\"No 'scalar' data found for trial in multiplexer mul=<tensorboard.backend.event_processing.plugin_event_multiplexer.EventMultiplexer object at 0x7f5a460e8c40>\"). Ignoring for now -- will retry query on next call to fetch.\n"
     ]
    },
    {
     "name": "stderr",
     "output_type": "stream",
     "text": [
      "[ERROR 12-22 06:45:07] ax.core.experiment: Discovered Metric fetching Err while attaching data MetricFetchE(message=\"No 'scalar' data found for trial in multiplexer mul=<tensorboard.backend.event_processing.plugin_event_multiplexer.EventMultiplexer object at 0x7f5a460eb760>\"). Ignoring for now -- will retry query on next call to fetch.\n"
     ]
    },
    {
     "name": "stderr",
     "output_type": "stream",
     "text": [
      "[ERROR 12-22 06:45:07] ax.core.experiment: Discovered Metric fetching Err while attaching data MetricFetchE(message=\"No 'scalar' data found for trial in multiplexer mul=<tensorboard.backend.event_processing.plugin_event_multiplexer.EventMultiplexer object at 0x7f5a460ea7a0>\"). Ignoring for now -- will retry query on next call to fetch.\n"
     ]
    },
    {
     "name": "stderr",
     "output_type": "stream",
     "text": [
      "[WARNING 12-22 06:45:07] Scheduler: Failed to fetch val_acc for trial 2, found MetricFetchE(message=\"No 'scalar' data found for trial in multiplexer mul=<tensorboard.backend.event_processing.plugin_event_multiplexer.EventMultiplexer object at 0x7f5a460e8670>\").\n"
     ]
    },
    {
     "name": "stderr",
     "output_type": "stream",
     "text": [
      "[INFO 12-22 06:45:07] Scheduler: MetricFetchE INFO: Because val_acc is available_while_running and trial 2 is still RUNNING continuing the experiment and retrying on next poll...\n"
     ]
    },
    {
     "name": "stderr",
     "output_type": "stream",
     "text": [
      "[WARNING 12-22 06:45:07] Scheduler: Failed to fetch val_acc for trial 3, found MetricFetchE(message=\"No 'scalar' data found for trial in multiplexer mul=<tensorboard.backend.event_processing.plugin_event_multiplexer.EventMultiplexer object at 0x7f5a460e8d60>\").\n"
     ]
    },
    {
     "name": "stderr",
     "output_type": "stream",
     "text": [
      "[INFO 12-22 06:45:07] Scheduler: MetricFetchE INFO: Because val_acc is available_while_running and trial 3 is still RUNNING continuing the experiment and retrying on next poll...\n"
     ]
    },
    {
     "name": "stderr",
     "output_type": "stream",
     "text": [
      "[WARNING 12-22 06:45:07] Scheduler: Failed to fetch val_acc for trial 4, found MetricFetchE(message=\"No 'scalar' data found for trial in multiplexer mul=<tensorboard.backend.event_processing.plugin_event_multiplexer.EventMultiplexer object at 0x7f5a460e8c40>\").\n"
     ]
    },
    {
     "name": "stderr",
     "output_type": "stream",
     "text": [
      "[INFO 12-22 06:45:07] Scheduler: MetricFetchE INFO: Because val_acc is available_while_running and trial 4 is still RUNNING continuing the experiment and retrying on next poll...\n"
     ]
    },
    {
     "name": "stderr",
     "output_type": "stream",
     "text": [
      "[WARNING 12-22 06:45:07] Scheduler: Failed to fetch val_acc for trial 5, found MetricFetchE(message=\"No 'scalar' data found for trial in multiplexer mul=<tensorboard.backend.event_processing.plugin_event_multiplexer.EventMultiplexer object at 0x7f5a460eb760>\").\n"
     ]
    },
    {
     "name": "stderr",
     "output_type": "stream",
     "text": [
      "[INFO 12-22 06:45:07] Scheduler: MetricFetchE INFO: Because val_acc is available_while_running and trial 5 is still RUNNING continuing the experiment and retrying on next poll...\n"
     ]
    },
    {
     "name": "stderr",
     "output_type": "stream",
     "text": [
      "[WARNING 12-22 06:45:07] Scheduler: Failed to fetch val_acc for trial 6, found MetricFetchE(message=\"No 'scalar' data found for trial in multiplexer mul=<tensorboard.backend.event_processing.plugin_event_multiplexer.EventMultiplexer object at 0x7f5a460ea7a0>\").\n"
     ]
    },
    {
     "name": "stderr",
     "output_type": "stream",
     "text": [
      "[INFO 12-22 06:45:07] Scheduler: MetricFetchE INFO: Because val_acc is available_while_running and trial 6 is still RUNNING continuing the experiment and retrying on next poll...\n"
     ]
    },
    {
     "name": "stderr",
     "output_type": "stream",
     "text": [
      "[INFO 12-22 06:45:07] ax.early_stopping.strategies.base: PercentileEarlyStoppingStrategy received empty data. Not stopping any trials.\n"
     ]
    },
    {
     "name": "stderr",
     "output_type": "stream",
     "text": [
      "[INFO 12-22 06:45:07] Scheduler: Waiting for completed trials (for 10 sec, currently running trials: 5).\n"
     ]
    },
    {
     "name": "stderr",
     "output_type": "stream",
     "text": [
      "[INFO 12-22 06:45:17] ax.core.metric: MetricFetchE INFO: Initialized MetricFetchE(message=\"No 'scalar' data found for trial in multiplexer mul=<tensorboard.backend.event_processing.plugin_event_multiplexer.EventMultiplexer object at 0x7f5a460ea6b0>\")\n"
     ]
    },
    {
     "name": "stderr",
     "output_type": "stream",
     "text": [
      "[INFO 12-22 06:45:17] ax.core.metric: MetricFetchE INFO: Initialized MetricFetchE(message=\"No 'scalar' data found for trial in multiplexer mul=<tensorboard.backend.event_processing.plugin_event_multiplexer.EventMultiplexer object at 0x7f5a460eb8e0>\")\n"
     ]
    },
    {
     "name": "stderr",
     "output_type": "stream",
     "text": [
      "[INFO 12-22 06:45:17] ax.core.metric: MetricFetchE INFO: Initialized MetricFetchE(message=\"No 'scalar' data found for trial in multiplexer mul=<tensorboard.backend.event_processing.plugin_event_multiplexer.EventMultiplexer object at 0x7f5a460ea7a0>\")\n"
     ]
    },
    {
     "name": "stderr",
     "output_type": "stream",
     "text": [
      "[INFO 12-22 06:45:17] ax.core.metric: MetricFetchE INFO: Initialized MetricFetchE(message=\"No 'scalar' data found for trial in multiplexer mul=<tensorboard.backend.event_processing.plugin_event_multiplexer.EventMultiplexer object at 0x7f5a460ea9b0>\")\n"
     ]
    },
    {
     "name": "stderr",
     "output_type": "stream",
     "text": [
      "[INFO 12-22 06:45:17] ax.core.metric: MetricFetchE INFO: Initialized MetricFetchE(message=\"No 'scalar' data found for trial in multiplexer mul=<tensorboard.backend.event_processing.plugin_event_multiplexer.EventMultiplexer object at 0x7f5a460ea6b0>\")\n"
     ]
    },
    {
     "name": "stderr",
     "output_type": "stream",
     "text": [
      "[ERROR 12-22 06:45:17] ax.core.experiment: Discovered Metric fetching Err while attaching data MetricFetchE(message=\"No 'scalar' data found for trial in multiplexer mul=<tensorboard.backend.event_processing.plugin_event_multiplexer.EventMultiplexer object at 0x7f5a460ea6b0>\"). Ignoring for now -- will retry query on next call to fetch.\n"
     ]
    },
    {
     "name": "stderr",
     "output_type": "stream",
     "text": [
      "[ERROR 12-22 06:45:17] ax.core.experiment: Discovered Metric fetching Err while attaching data MetricFetchE(message=\"No 'scalar' data found for trial in multiplexer mul=<tensorboard.backend.event_processing.plugin_event_multiplexer.EventMultiplexer object at 0x7f5a460eb8e0>\"). Ignoring for now -- will retry query on next call to fetch.\n"
     ]
    },
    {
     "name": "stderr",
     "output_type": "stream",
     "text": [
      "[ERROR 12-22 06:45:17] ax.core.experiment: Discovered Metric fetching Err while attaching data MetricFetchE(message=\"No 'scalar' data found for trial in multiplexer mul=<tensorboard.backend.event_processing.plugin_event_multiplexer.EventMultiplexer object at 0x7f5a460ea7a0>\"). Ignoring for now -- will retry query on next call to fetch.\n"
     ]
    },
    {
     "name": "stderr",
     "output_type": "stream",
     "text": [
      "[ERROR 12-22 06:45:17] ax.core.experiment: Discovered Metric fetching Err while attaching data MetricFetchE(message=\"No 'scalar' data found for trial in multiplexer mul=<tensorboard.backend.event_processing.plugin_event_multiplexer.EventMultiplexer object at 0x7f5a460ea9b0>\"). Ignoring for now -- will retry query on next call to fetch.\n"
     ]
    },
    {
     "name": "stderr",
     "output_type": "stream",
     "text": [
      "[ERROR 12-22 06:45:17] ax.core.experiment: Discovered Metric fetching Err while attaching data MetricFetchE(message=\"No 'scalar' data found for trial in multiplexer mul=<tensorboard.backend.event_processing.plugin_event_multiplexer.EventMultiplexer object at 0x7f5a460ea6b0>\"). Ignoring for now -- will retry query on next call to fetch.\n"
     ]
    },
    {
     "name": "stderr",
     "output_type": "stream",
     "text": [
      "[WARNING 12-22 06:45:17] Scheduler: Failed to fetch val_acc for trial 2, found MetricFetchE(message=\"No 'scalar' data found for trial in multiplexer mul=<tensorboard.backend.event_processing.plugin_event_multiplexer.EventMultiplexer object at 0x7f5a460ea6b0>\").\n"
     ]
    },
    {
     "name": "stderr",
     "output_type": "stream",
     "text": [
      "[INFO 12-22 06:45:17] Scheduler: MetricFetchE INFO: Because val_acc is available_while_running and trial 2 is still RUNNING continuing the experiment and retrying on next poll...\n"
     ]
    },
    {
     "name": "stderr",
     "output_type": "stream",
     "text": [
      "[WARNING 12-22 06:45:17] Scheduler: Failed to fetch val_acc for trial 3, found MetricFetchE(message=\"No 'scalar' data found for trial in multiplexer mul=<tensorboard.backend.event_processing.plugin_event_multiplexer.EventMultiplexer object at 0x7f5a460eb8e0>\").\n"
     ]
    },
    {
     "name": "stderr",
     "output_type": "stream",
     "text": [
      "[INFO 12-22 06:45:17] Scheduler: MetricFetchE INFO: Because val_acc is available_while_running and trial 3 is still RUNNING continuing the experiment and retrying on next poll...\n"
     ]
    },
    {
     "name": "stderr",
     "output_type": "stream",
     "text": [
      "[WARNING 12-22 06:45:17] Scheduler: Failed to fetch val_acc for trial 4, found MetricFetchE(message=\"No 'scalar' data found for trial in multiplexer mul=<tensorboard.backend.event_processing.plugin_event_multiplexer.EventMultiplexer object at 0x7f5a460ea7a0>\").\n"
     ]
    },
    {
     "name": "stderr",
     "output_type": "stream",
     "text": [
      "[INFO 12-22 06:45:17] Scheduler: MetricFetchE INFO: Because val_acc is available_while_running and trial 4 is still RUNNING continuing the experiment and retrying on next poll...\n"
     ]
    },
    {
     "name": "stderr",
     "output_type": "stream",
     "text": [
      "[WARNING 12-22 06:45:17] Scheduler: Failed to fetch val_acc for trial 5, found MetricFetchE(message=\"No 'scalar' data found for trial in multiplexer mul=<tensorboard.backend.event_processing.plugin_event_multiplexer.EventMultiplexer object at 0x7f5a460ea9b0>\").\n"
     ]
    },
    {
     "name": "stderr",
     "output_type": "stream",
     "text": [
      "[INFO 12-22 06:45:17] Scheduler: MetricFetchE INFO: Because val_acc is available_while_running and trial 5 is still RUNNING continuing the experiment and retrying on next poll...\n"
     ]
    },
    {
     "name": "stderr",
     "output_type": "stream",
     "text": [
      "[WARNING 12-22 06:45:17] Scheduler: Failed to fetch val_acc for trial 6, found MetricFetchE(message=\"No 'scalar' data found for trial in multiplexer mul=<tensorboard.backend.event_processing.plugin_event_multiplexer.EventMultiplexer object at 0x7f5a460ea6b0>\").\n"
     ]
    },
    {
     "name": "stderr",
     "output_type": "stream",
     "text": [
      "[INFO 12-22 06:45:17] Scheduler: MetricFetchE INFO: Because val_acc is available_while_running and trial 6 is still RUNNING continuing the experiment and retrying on next poll...\n"
     ]
    },
    {
     "name": "stderr",
     "output_type": "stream",
     "text": [
      "[INFO 12-22 06:45:17] ax.early_stopping.strategies.base: PercentileEarlyStoppingStrategy received empty data. Not stopping any trials.\n"
     ]
    },
    {
     "name": "stderr",
     "output_type": "stream",
     "text": [
      "[INFO 12-22 06:45:17] Scheduler: Waiting for completed trials (for 10 sec, currently running trials: 5).\n"
     ]
    },
    {
     "name": "stderr",
     "output_type": "stream",
     "text": [
      "[INFO 12-22 06:45:27] ax.core.metric: MetricFetchE INFO: Initialized MetricFetchE(message=\"No 'scalar' data found for trial in multiplexer mul=<tensorboard.backend.event_processing.plugin_event_multiplexer.EventMultiplexer object at 0x7f5a460ea2c0>\")\n"
     ]
    },
    {
     "name": "stderr",
     "output_type": "stream",
     "text": [
      "[INFO 12-22 06:45:27] ax.core.metric: MetricFetchE INFO: Initialized MetricFetchE(message=\"No 'scalar' data found for trial in multiplexer mul=<tensorboard.backend.event_processing.plugin_event_multiplexer.EventMultiplexer object at 0x7f5a460ea6b0>\")\n"
     ]
    },
    {
     "name": "stderr",
     "output_type": "stream",
     "text": [
      "[INFO 12-22 06:45:27] ax.core.metric: MetricFetchE INFO: Initialized MetricFetchE(message=\"No 'scalar' data found for trial in multiplexer mul=<tensorboard.backend.event_processing.plugin_event_multiplexer.EventMultiplexer object at 0x7f5a460ea2c0>\")\n"
     ]
    },
    {
     "name": "stderr",
     "output_type": "stream",
     "text": [
      "[ERROR 12-22 06:45:27] ax.core.experiment: Discovered Metric fetching Err while attaching data MetricFetchE(message=\"No 'scalar' data found for trial in multiplexer mul=<tensorboard.backend.event_processing.plugin_event_multiplexer.EventMultiplexer object at 0x7f5a460ea2c0>\"). Ignoring for now -- will retry query on next call to fetch.\n"
     ]
    },
    {
     "name": "stderr",
     "output_type": "stream",
     "text": [
      "[ERROR 12-22 06:45:27] ax.core.experiment: Discovered Metric fetching Err while attaching data MetricFetchE(message=\"No 'scalar' data found for trial in multiplexer mul=<tensorboard.backend.event_processing.plugin_event_multiplexer.EventMultiplexer object at 0x7f5a460ea6b0>\"). Ignoring for now -- will retry query on next call to fetch.\n"
     ]
    },
    {
     "name": "stderr",
     "output_type": "stream",
     "text": [
      "[ERROR 12-22 06:45:27] ax.core.experiment: Discovered Metric fetching Err while attaching data MetricFetchE(message=\"No 'scalar' data found for trial in multiplexer mul=<tensorboard.backend.event_processing.plugin_event_multiplexer.EventMultiplexer object at 0x7f5a460ea2c0>\"). Ignoring for now -- will retry query on next call to fetch.\n"
     ]
    },
    {
     "name": "stderr",
     "output_type": "stream",
     "text": [
      "/tmp/tmp.rbKmWnPBQH/Ax-main/ax/core/map_data.py:200: FutureWarning: The behavior of DataFrame concatenation with empty or all-NA entries is deprecated. In a future version, this will no longer exclude empty or all-NA columns when determining the result dtypes. To retain the old behavior, exclude the relevant entries before the concat operation.\n",
      "  df = pd.concat(\n",
      "[WARNING 12-22 06:45:27] Scheduler: Failed to fetch val_acc for trial 3, found MetricFetchE(message=\"No 'scalar' data found for trial in multiplexer mul=<tensorboard.backend.event_processing.plugin_event_multiplexer.EventMultiplexer object at 0x7f5a460ea2c0>\").\n"
     ]
    },
    {
     "name": "stderr",
     "output_type": "stream",
     "text": [
      "[INFO 12-22 06:45:27] Scheduler: MetricFetchE INFO: Because val_acc is available_while_running and trial 3 is still RUNNING continuing the experiment and retrying on next poll...\n"
     ]
    },
    {
     "name": "stderr",
     "output_type": "stream",
     "text": [
      "[WARNING 12-22 06:45:27] Scheduler: Failed to fetch val_acc for trial 5, found MetricFetchE(message=\"No 'scalar' data found for trial in multiplexer mul=<tensorboard.backend.event_processing.plugin_event_multiplexer.EventMultiplexer object at 0x7f5a460ea6b0>\").\n"
     ]
    },
    {
     "name": "stderr",
     "output_type": "stream",
     "text": [
      "[INFO 12-22 06:45:27] Scheduler: MetricFetchE INFO: Because val_acc is available_while_running and trial 5 is still RUNNING continuing the experiment and retrying on next poll...\n"
     ]
    },
    {
     "name": "stderr",
     "output_type": "stream",
     "text": [
      "[WARNING 12-22 06:45:27] Scheduler: Failed to fetch val_acc for trial 6, found MetricFetchE(message=\"No 'scalar' data found for trial in multiplexer mul=<tensorboard.backend.event_processing.plugin_event_multiplexer.EventMultiplexer object at 0x7f5a460ea2c0>\").\n"
     ]
    },
    {
     "name": "stderr",
     "output_type": "stream",
     "text": [
      "[INFO 12-22 06:45:27] Scheduler: MetricFetchE INFO: Because val_acc is available_while_running and trial 6 is still RUNNING continuing the experiment and retrying on next poll...\n"
     ]
    },
    {
     "name": "stderr",
     "output_type": "stream",
     "text": [
      "/tmp/tmp.rbKmWnPBQH/Ax-main/ax/core/map_data.py:200: FutureWarning: The behavior of DataFrame concatenation with empty or all-NA entries is deprecated. In a future version, this will no longer exclude empty or all-NA columns when determining the result dtypes. To retain the old behavior, exclude the relevant entries before the concat operation.\n",
      "  df = pd.concat(\n",
      "[INFO 12-22 06:45:28] ax.early_stopping.strategies.base: The number of completed trials (0) is less than the minimum number of curves needed for early stopping (5). Not early stopping.\n"
     ]
    },
    {
     "name": "stderr",
     "output_type": "stream",
     "text": [
      "[INFO 12-22 06:45:28] Scheduler: Waiting for completed trials (for 10 sec, currently running trials: 5).\n"
     ]
    },
    {
     "name": "stderr",
     "output_type": "stream",
     "text": [
      "[INFO 12-22 06:45:38] ax.core.metric: MetricFetchE INFO: Initialized MetricFetchE(message=\"No 'scalar' data found for trial in multiplexer mul=<tensorboard.backend.event_processing.plugin_event_multiplexer.EventMultiplexer object at 0x7f5a460ea6b0>\")\n"
     ]
    },
    {
     "name": "stderr",
     "output_type": "stream",
     "text": [
      "[INFO 12-22 06:45:38] ax.core.metric: MetricFetchE INFO: Initialized MetricFetchE(message=\"No 'scalar' data found for trial in multiplexer mul=<tensorboard.backend.event_processing.plugin_event_multiplexer.EventMultiplexer object at 0x7f5a460e8670>\")\n"
     ]
    },
    {
     "name": "stderr",
     "output_type": "stream",
     "text": [
      "[INFO 12-22 06:45:38] ax.core.metric: MetricFetchE INFO: Initialized MetricFetchE(message=\"No 'scalar' data found for trial in multiplexer mul=<tensorboard.backend.event_processing.plugin_event_multiplexer.EventMultiplexer object at 0x7f5a460ea6b0>\")\n"
     ]
    },
    {
     "name": "stderr",
     "output_type": "stream",
     "text": [
      "[ERROR 12-22 06:45:38] ax.core.experiment: Discovered Metric fetching Err while attaching data MetricFetchE(message=\"No 'scalar' data found for trial in multiplexer mul=<tensorboard.backend.event_processing.plugin_event_multiplexer.EventMultiplexer object at 0x7f5a460ea6b0>\"). Ignoring for now -- will retry query on next call to fetch.\n"
     ]
    },
    {
     "name": "stderr",
     "output_type": "stream",
     "text": [
      "[ERROR 12-22 06:45:38] ax.core.experiment: Discovered Metric fetching Err while attaching data MetricFetchE(message=\"No 'scalar' data found for trial in multiplexer mul=<tensorboard.backend.event_processing.plugin_event_multiplexer.EventMultiplexer object at 0x7f5a460e8670>\"). Ignoring for now -- will retry query on next call to fetch.\n"
     ]
    },
    {
     "name": "stderr",
     "output_type": "stream",
     "text": [
      "[ERROR 12-22 06:45:38] ax.core.experiment: Discovered Metric fetching Err while attaching data MetricFetchE(message=\"No 'scalar' data found for trial in multiplexer mul=<tensorboard.backend.event_processing.plugin_event_multiplexer.EventMultiplexer object at 0x7f5a460ea6b0>\"). Ignoring for now -- will retry query on next call to fetch.\n"
     ]
    },
    {
     "name": "stderr",
     "output_type": "stream",
     "text": [
      "/tmp/tmp.rbKmWnPBQH/Ax-main/ax/core/map_data.py:200: FutureWarning: The behavior of DataFrame concatenation with empty or all-NA entries is deprecated. In a future version, this will no longer exclude empty or all-NA columns when determining the result dtypes. To retain the old behavior, exclude the relevant entries before the concat operation.\n",
      "  df = pd.concat(\n",
      "[WARNING 12-22 06:45:38] Scheduler: Failed to fetch val_acc for trial 3, found MetricFetchE(message=\"No 'scalar' data found for trial in multiplexer mul=<tensorboard.backend.event_processing.plugin_event_multiplexer.EventMultiplexer object at 0x7f5a460ea6b0>\").\n"
     ]
    },
    {
     "name": "stderr",
     "output_type": "stream",
     "text": [
      "[INFO 12-22 06:45:38] Scheduler: MetricFetchE INFO: Because val_acc is available_while_running and trial 3 is still RUNNING continuing the experiment and retrying on next poll...\n"
     ]
    },
    {
     "name": "stderr",
     "output_type": "stream",
     "text": [
      "[WARNING 12-22 06:45:38] Scheduler: Failed to fetch val_acc for trial 5, found MetricFetchE(message=\"No 'scalar' data found for trial in multiplexer mul=<tensorboard.backend.event_processing.plugin_event_multiplexer.EventMultiplexer object at 0x7f5a460e8670>\").\n"
     ]
    },
    {
     "name": "stderr",
     "output_type": "stream",
     "text": [
      "[INFO 12-22 06:45:38] Scheduler: MetricFetchE INFO: Because val_acc is available_while_running and trial 5 is still RUNNING continuing the experiment and retrying on next poll...\n"
     ]
    },
    {
     "name": "stderr",
     "output_type": "stream",
     "text": [
      "[WARNING 12-22 06:45:38] Scheduler: Failed to fetch val_acc for trial 6, found MetricFetchE(message=\"No 'scalar' data found for trial in multiplexer mul=<tensorboard.backend.event_processing.plugin_event_multiplexer.EventMultiplexer object at 0x7f5a460ea6b0>\").\n"
     ]
    },
    {
     "name": "stderr",
     "output_type": "stream",
     "text": [
      "[INFO 12-22 06:45:38] Scheduler: MetricFetchE INFO: Because val_acc is available_while_running and trial 6 is still RUNNING continuing the experiment and retrying on next poll...\n"
     ]
    },
    {
     "name": "stderr",
     "output_type": "stream",
     "text": [
      "/tmp/tmp.rbKmWnPBQH/Ax-main/ax/core/map_data.py:200: FutureWarning: The behavior of DataFrame concatenation with empty or all-NA entries is deprecated. In a future version, this will no longer exclude empty or all-NA columns when determining the result dtypes. To retain the old behavior, exclude the relevant entries before the concat operation.\n",
      "  df = pd.concat(\n",
      "[INFO 12-22 06:45:38] ax.early_stopping.strategies.base: The number of completed trials (0) is less than the minimum number of curves needed for early stopping (5). Not early stopping.\n"
     ]
    },
    {
     "name": "stderr",
     "output_type": "stream",
     "text": [
      "[INFO 12-22 06:45:38] Scheduler: Waiting for completed trials (for 10 sec, currently running trials: 5).\n"
     ]
    },
    {
     "name": "stderr",
     "output_type": "stream",
     "text": [
      "[INFO 12-22 06:45:48] ax.core.metric: MetricFetchE INFO: Initialized MetricFetchE(message=\"No 'scalar' data found for trial in multiplexer mul=<tensorboard.backend.event_processing.plugin_event_multiplexer.EventMultiplexer object at 0x7f5a460e8d60>\")\n"
     ]
    },
    {
     "name": "stderr",
     "output_type": "stream",
     "text": [
      "[INFO 12-22 06:45:48] ax.core.metric: MetricFetchE INFO: Initialized MetricFetchE(message=\"No 'scalar' data found for trial in multiplexer mul=<tensorboard.backend.event_processing.plugin_event_multiplexer.EventMultiplexer object at 0x7f5a460e8370>\")\n"
     ]
    },
    {
     "name": "stderr",
     "output_type": "stream",
     "text": [
      "[ERROR 12-22 06:45:48] ax.core.experiment: Discovered Metric fetching Err while attaching data MetricFetchE(message=\"No 'scalar' data found for trial in multiplexer mul=<tensorboard.backend.event_processing.plugin_event_multiplexer.EventMultiplexer object at 0x7f5a460e8d60>\"). Ignoring for now -- will retry query on next call to fetch.\n"
     ]
    },
    {
     "name": "stderr",
     "output_type": "stream",
     "text": [
      "[ERROR 12-22 06:45:48] ax.core.experiment: Discovered Metric fetching Err while attaching data MetricFetchE(message=\"No 'scalar' data found for trial in multiplexer mul=<tensorboard.backend.event_processing.plugin_event_multiplexer.EventMultiplexer object at 0x7f5a460e8370>\"). Ignoring for now -- will retry query on next call to fetch.\n"
     ]
    },
    {
     "name": "stderr",
     "output_type": "stream",
     "text": [
      "/tmp/tmp.rbKmWnPBQH/Ax-main/ax/core/map_data.py:200: FutureWarning: The behavior of DataFrame concatenation with empty or all-NA entries is deprecated. In a future version, this will no longer exclude empty or all-NA columns when determining the result dtypes. To retain the old behavior, exclude the relevant entries before the concat operation.\n",
      "  df = pd.concat(\n",
      "[WARNING 12-22 06:45:48] Scheduler: Failed to fetch val_acc for trial 5, found MetricFetchE(message=\"No 'scalar' data found for trial in multiplexer mul=<tensorboard.backend.event_processing.plugin_event_multiplexer.EventMultiplexer object at 0x7f5a460e8d60>\").\n"
     ]
    },
    {
     "name": "stderr",
     "output_type": "stream",
     "text": [
      "[INFO 12-22 06:45:48] Scheduler: MetricFetchE INFO: Because val_acc is available_while_running and trial 5 is still RUNNING continuing the experiment and retrying on next poll...\n"
     ]
    },
    {
     "name": "stderr",
     "output_type": "stream",
     "text": [
      "[WARNING 12-22 06:45:48] Scheduler: Failed to fetch val_acc for trial 6, found MetricFetchE(message=\"No 'scalar' data found for trial in multiplexer mul=<tensorboard.backend.event_processing.plugin_event_multiplexer.EventMultiplexer object at 0x7f5a460e8370>\").\n"
     ]
    },
    {
     "name": "stderr",
     "output_type": "stream",
     "text": [
      "[INFO 12-22 06:45:48] Scheduler: MetricFetchE INFO: Because val_acc is available_while_running and trial 6 is still RUNNING continuing the experiment and retrying on next poll...\n"
     ]
    },
    {
     "name": "stderr",
     "output_type": "stream",
     "text": [
      "/tmp/tmp.rbKmWnPBQH/Ax-main/ax/core/map_data.py:200: FutureWarning: The behavior of DataFrame concatenation with empty or all-NA entries is deprecated. In a future version, this will no longer exclude empty or all-NA columns when determining the result dtypes. To retain the old behavior, exclude the relevant entries before the concat operation.\n",
      "  df = pd.concat(\n",
      "[INFO 12-22 06:45:48] ax.early_stopping.strategies.base: The number of completed trials (0) is less than the minimum number of curves needed for early stopping (5). Not early stopping.\n"
     ]
    },
    {
     "name": "stderr",
     "output_type": "stream",
     "text": [
      "[INFO 12-22 06:45:48] Scheduler: Waiting for completed trials (for 10 sec, currently running trials: 5).\n"
     ]
    },
    {
     "name": "stderr",
     "output_type": "stream",
     "text": [
      "[INFO 12-22 06:45:58] ax.core.metric: MetricFetchE INFO: Initialized MetricFetchE(message=\"No 'scalar' data found for trial in multiplexer mul=<tensorboard.backend.event_processing.plugin_event_multiplexer.EventMultiplexer object at 0x7f5a460eb8e0>\")\n"
     ]
    },
    {
     "name": "stderr",
     "output_type": "stream",
     "text": [
      "[INFO 12-22 06:45:58] ax.core.metric: MetricFetchE INFO: Initialized MetricFetchE(message=\"No 'scalar' data found for trial in multiplexer mul=<tensorboard.backend.event_processing.plugin_event_multiplexer.EventMultiplexer object at 0x7f5a460eb400>\")\n"
     ]
    },
    {
     "name": "stderr",
     "output_type": "stream",
     "text": [
      "[ERROR 12-22 06:45:58] ax.core.experiment: Discovered Metric fetching Err while attaching data MetricFetchE(message=\"No 'scalar' data found for trial in multiplexer mul=<tensorboard.backend.event_processing.plugin_event_multiplexer.EventMultiplexer object at 0x7f5a460eb8e0>\"). Ignoring for now -- will retry query on next call to fetch.\n"
     ]
    },
    {
     "name": "stderr",
     "output_type": "stream",
     "text": [
      "[ERROR 12-22 06:45:58] ax.core.experiment: Discovered Metric fetching Err while attaching data MetricFetchE(message=\"No 'scalar' data found for trial in multiplexer mul=<tensorboard.backend.event_processing.plugin_event_multiplexer.EventMultiplexer object at 0x7f5a460eb400>\"). Ignoring for now -- will retry query on next call to fetch.\n"
     ]
    },
    {
     "name": "stderr",
     "output_type": "stream",
     "text": [
      "/tmp/tmp.rbKmWnPBQH/Ax-main/ax/core/map_data.py:200: FutureWarning: The behavior of DataFrame concatenation with empty or all-NA entries is deprecated. In a future version, this will no longer exclude empty or all-NA columns when determining the result dtypes. To retain the old behavior, exclude the relevant entries before the concat operation.\n",
      "  df = pd.concat(\n",
      "[WARNING 12-22 06:45:58] Scheduler: Failed to fetch val_acc for trial 5, found MetricFetchE(message=\"No 'scalar' data found for trial in multiplexer mul=<tensorboard.backend.event_processing.plugin_event_multiplexer.EventMultiplexer object at 0x7f5a460eb8e0>\").\n"
     ]
    },
    {
     "name": "stderr",
     "output_type": "stream",
     "text": [
      "[INFO 12-22 06:45:58] Scheduler: MetricFetchE INFO: Because val_acc is available_while_running and trial 5 is still RUNNING continuing the experiment and retrying on next poll...\n"
     ]
    },
    {
     "name": "stderr",
     "output_type": "stream",
     "text": [
      "[WARNING 12-22 06:45:58] Scheduler: Failed to fetch val_acc for trial 6, found MetricFetchE(message=\"No 'scalar' data found for trial in multiplexer mul=<tensorboard.backend.event_processing.plugin_event_multiplexer.EventMultiplexer object at 0x7f5a460eb400>\").\n"
     ]
    },
    {
     "name": "stderr",
     "output_type": "stream",
     "text": [
      "[INFO 12-22 06:45:58] Scheduler: MetricFetchE INFO: Because val_acc is available_while_running and trial 6 is still RUNNING continuing the experiment and retrying on next poll...\n"
     ]
    },
    {
     "name": "stderr",
     "output_type": "stream",
     "text": [
      "/tmp/tmp.rbKmWnPBQH/Ax-main/ax/core/map_data.py:200: FutureWarning: The behavior of DataFrame concatenation with empty or all-NA entries is deprecated. In a future version, this will no longer exclude empty or all-NA columns when determining the result dtypes. To retain the old behavior, exclude the relevant entries before the concat operation.\n",
      "  df = pd.concat(\n",
      "[INFO 12-22 06:45:58] ax.early_stopping.strategies.base: The number of completed trials (0) is less than the minimum number of curves needed for early stopping (5). Not early stopping.\n"
     ]
    },
    {
     "name": "stderr",
     "output_type": "stream",
     "text": [
      "[INFO 12-22 06:45:58] Scheduler: Waiting for completed trials (for 10 sec, currently running trials: 5).\n"
     ]
    },
    {
     "name": "stderr",
     "output_type": "stream",
     "text": [
      "/tmp/tmp.rbKmWnPBQH/Ax-main/ax/core/map_data.py:200: FutureWarning: The behavior of DataFrame concatenation with empty or all-NA entries is deprecated. In a future version, this will no longer exclude empty or all-NA columns when determining the result dtypes. To retain the old behavior, exclude the relevant entries before the concat operation.\n",
      "  df = pd.concat(\n",
      "/tmp/tmp.rbKmWnPBQH/Ax-main/ax/core/map_data.py:200: FutureWarning: The behavior of DataFrame concatenation with empty or all-NA entries is deprecated. In a future version, this will no longer exclude empty or all-NA columns when determining the result dtypes. To retain the old behavior, exclude the relevant entries before the concat operation.\n",
      "  df = pd.concat(\n",
      "[INFO 12-22 06:46:08] ax.early_stopping.strategies.base: The number of completed trials (0) is less than the minimum number of curves needed for early stopping (5). Not early stopping.\n"
     ]
    },
    {
     "name": "stderr",
     "output_type": "stream",
     "text": [
      "[INFO 12-22 06:46:08] Scheduler: Waiting for completed trials (for 10 sec, currently running trials: 5).\n"
     ]
    },
    {
     "name": "stderr",
     "output_type": "stream",
     "text": [
      "/tmp/tmp.rbKmWnPBQH/Ax-main/ax/core/map_data.py:200: FutureWarning: The behavior of DataFrame concatenation with empty or all-NA entries is deprecated. In a future version, this will no longer exclude empty or all-NA columns when determining the result dtypes. To retain the old behavior, exclude the relevant entries before the concat operation.\n",
      "  df = pd.concat(\n",
      "/tmp/tmp.rbKmWnPBQH/Ax-main/ax/core/map_data.py:200: FutureWarning: The behavior of DataFrame concatenation with empty or all-NA entries is deprecated. In a future version, this will no longer exclude empty or all-NA columns when determining the result dtypes. To retain the old behavior, exclude the relevant entries before the concat operation.\n",
      "  df = pd.concat(\n",
      "[INFO 12-22 06:46:19] ax.early_stopping.strategies.base: The number of completed trials (0) is less than the minimum number of curves needed for early stopping (5). Not early stopping.\n"
     ]
    },
    {
     "name": "stderr",
     "output_type": "stream",
     "text": [
      "[INFO 12-22 06:46:19] Scheduler: Waiting for completed trials (for 10 sec, currently running trials: 5).\n"
     ]
    },
    {
     "name": "stderr",
     "output_type": "stream",
     "text": [
      "/tmp/tmp.rbKmWnPBQH/Ax-main/ax/core/map_data.py:200: FutureWarning: The behavior of DataFrame concatenation with empty or all-NA entries is deprecated. In a future version, this will no longer exclude empty or all-NA columns when determining the result dtypes. To retain the old behavior, exclude the relevant entries before the concat operation.\n",
      "  df = pd.concat(\n",
      "/tmp/tmp.rbKmWnPBQH/Ax-main/ax/core/map_data.py:200: FutureWarning: The behavior of DataFrame concatenation with empty or all-NA entries is deprecated. In a future version, this will no longer exclude empty or all-NA columns when determining the result dtypes. To retain the old behavior, exclude the relevant entries before the concat operation.\n",
      "  df = pd.concat(\n",
      "[INFO 12-22 06:46:29] ax.early_stopping.strategies.base: The number of completed trials (0) is less than the minimum number of curves needed for early stopping (5). Not early stopping.\n"
     ]
    },
    {
     "name": "stderr",
     "output_type": "stream",
     "text": [
      "[INFO 12-22 06:46:29] Scheduler: Waiting for completed trials (for 10 sec, currently running trials: 5).\n"
     ]
    },
    {
     "name": "stderr",
     "output_type": "stream",
     "text": [
      "/tmp/tmp.rbKmWnPBQH/Ax-main/ax/core/map_data.py:200: FutureWarning: The behavior of DataFrame concatenation with empty or all-NA entries is deprecated. In a future version, this will no longer exclude empty or all-NA columns when determining the result dtypes. To retain the old behavior, exclude the relevant entries before the concat operation.\n",
      "  df = pd.concat(\n",
      "/tmp/tmp.rbKmWnPBQH/Ax-main/ax/core/map_data.py:200: FutureWarning: The behavior of DataFrame concatenation with empty or all-NA entries is deprecated. In a future version, this will no longer exclude empty or all-NA columns when determining the result dtypes. To retain the old behavior, exclude the relevant entries before the concat operation.\n",
      "  df = pd.concat(\n",
      "[INFO 12-22 06:46:39] ax.early_stopping.strategies.base: The number of completed trials (0) is less than the minimum number of curves needed for early stopping (5). Not early stopping.\n"
     ]
    },
    {
     "name": "stderr",
     "output_type": "stream",
     "text": [
      "[INFO 12-22 06:46:39] Scheduler: Waiting for completed trials (for 10 sec, currently running trials: 5).\n"
     ]
    },
    {
     "name": "stderr",
     "output_type": "stream",
     "text": [
      "/tmp/tmp.rbKmWnPBQH/Ax-main/ax/core/map_data.py:200: FutureWarning: The behavior of DataFrame concatenation with empty or all-NA entries is deprecated. In a future version, this will no longer exclude empty or all-NA columns when determining the result dtypes. To retain the old behavior, exclude the relevant entries before the concat operation.\n",
      "  df = pd.concat(\n",
      "/tmp/tmp.rbKmWnPBQH/Ax-main/ax/core/map_data.py:200: FutureWarning: The behavior of DataFrame concatenation with empty or all-NA entries is deprecated. In a future version, this will no longer exclude empty or all-NA columns when determining the result dtypes. To retain the old behavior, exclude the relevant entries before the concat operation.\n",
      "  df = pd.concat(\n",
      "[INFO 12-22 06:46:49] ax.early_stopping.strategies.base: The number of completed trials (0) is less than the minimum number of curves needed for early stopping (5). Not early stopping.\n"
     ]
    },
    {
     "name": "stderr",
     "output_type": "stream",
     "text": [
      "[INFO 12-22 06:46:49] Scheduler: Waiting for completed trials (for 10 sec, currently running trials: 5).\n"
     ]
    },
    {
     "name": "stderr",
     "output_type": "stream",
     "text": [
      "/tmp/tmp.rbKmWnPBQH/Ax-main/ax/core/map_data.py:200: FutureWarning: The behavior of DataFrame concatenation with empty or all-NA entries is deprecated. In a future version, this will no longer exclude empty or all-NA columns when determining the result dtypes. To retain the old behavior, exclude the relevant entries before the concat operation.\n",
      "  df = pd.concat(\n",
      "/tmp/tmp.rbKmWnPBQH/Ax-main/ax/core/map_data.py:200: FutureWarning: The behavior of DataFrame concatenation with empty or all-NA entries is deprecated. In a future version, this will no longer exclude empty or all-NA columns when determining the result dtypes. To retain the old behavior, exclude the relevant entries before the concat operation.\n",
      "  df = pd.concat(\n",
      "[INFO 12-22 06:47:00] ax.early_stopping.strategies.base: The number of completed trials (0) is less than the minimum number of curves needed for early stopping (5). Not early stopping.\n"
     ]
    },
    {
     "name": "stderr",
     "output_type": "stream",
     "text": [
      "[INFO 12-22 06:47:00] Scheduler: Waiting for completed trials (for 10 sec, currently running trials: 5).\n"
     ]
    },
    {
     "name": "stderr",
     "output_type": "stream",
     "text": [
      "/tmp/tmp.rbKmWnPBQH/Ax-main/ax/core/map_data.py:200: FutureWarning: The behavior of DataFrame concatenation with empty or all-NA entries is deprecated. In a future version, this will no longer exclude empty or all-NA columns when determining the result dtypes. To retain the old behavior, exclude the relevant entries before the concat operation.\n",
      "  df = pd.concat(\n",
      "/tmp/tmp.rbKmWnPBQH/Ax-main/ax/core/map_data.py:200: FutureWarning: The behavior of DataFrame concatenation with empty or all-NA entries is deprecated. In a future version, this will no longer exclude empty or all-NA columns when determining the result dtypes. To retain the old behavior, exclude the relevant entries before the concat operation.\n",
      "  df = pd.concat(\n",
      "[INFO 12-22 06:47:10] ax.early_stopping.strategies.base: The number of completed trials (0) is less than the minimum number of curves needed for early stopping (5). Not early stopping.\n"
     ]
    },
    {
     "name": "stderr",
     "output_type": "stream",
     "text": [
      "[INFO 12-22 06:47:10] Scheduler: Waiting for completed trials (for 10 sec, currently running trials: 5).\n"
     ]
    },
    {
     "name": "stderr",
     "output_type": "stream",
     "text": [
      "/tmp/tmp.rbKmWnPBQH/Ax-main/ax/core/map_data.py:200: FutureWarning: The behavior of DataFrame concatenation with empty or all-NA entries is deprecated. In a future version, this will no longer exclude empty or all-NA columns when determining the result dtypes. To retain the old behavior, exclude the relevant entries before the concat operation.\n",
      "  df = pd.concat(\n",
      "/tmp/tmp.rbKmWnPBQH/Ax-main/ax/core/map_data.py:200: FutureWarning: The behavior of DataFrame concatenation with empty or all-NA entries is deprecated. In a future version, this will no longer exclude empty or all-NA columns when determining the result dtypes. To retain the old behavior, exclude the relevant entries before the concat operation.\n",
      "  df = pd.concat(\n",
      "[INFO 12-22 06:47:20] ax.early_stopping.strategies.base: The number of completed trials (0) is less than the minimum number of curves needed for early stopping (5). Not early stopping.\n"
     ]
    },
    {
     "name": "stderr",
     "output_type": "stream",
     "text": [
      "[INFO 12-22 06:47:20] Scheduler: Waiting for completed trials (for 10 sec, currently running trials: 5).\n"
     ]
    },
    {
     "name": "stderr",
     "output_type": "stream",
     "text": [
      "/tmp/tmp.rbKmWnPBQH/Ax-main/ax/core/map_data.py:200: FutureWarning: The behavior of DataFrame concatenation with empty or all-NA entries is deprecated. In a future version, this will no longer exclude empty or all-NA columns when determining the result dtypes. To retain the old behavior, exclude the relevant entries before the concat operation.\n",
      "  df = pd.concat(\n",
      "/tmp/tmp.rbKmWnPBQH/Ax-main/ax/core/map_data.py:200: FutureWarning: The behavior of DataFrame concatenation with empty or all-NA entries is deprecated. In a future version, this will no longer exclude empty or all-NA columns when determining the result dtypes. To retain the old behavior, exclude the relevant entries before the concat operation.\n",
      "  df = pd.concat(\n",
      "[INFO 12-22 06:47:30] ax.early_stopping.strategies.base: The number of completed trials (0) is less than the minimum number of curves needed for early stopping (5). Not early stopping.\n"
     ]
    },
    {
     "name": "stderr",
     "output_type": "stream",
     "text": [
      "[INFO 12-22 06:47:30] Scheduler: Waiting for completed trials (for 10 sec, currently running trials: 5).\n"
     ]
    },
    {
     "name": "stderr",
     "output_type": "stream",
     "text": [
      "/tmp/tmp.rbKmWnPBQH/Ax-main/ax/core/map_data.py:200: FutureWarning: The behavior of DataFrame concatenation with empty or all-NA entries is deprecated. In a future version, this will no longer exclude empty or all-NA columns when determining the result dtypes. To retain the old behavior, exclude the relevant entries before the concat operation.\n",
      "  df = pd.concat(\n",
      "/tmp/tmp.rbKmWnPBQH/Ax-main/ax/core/map_data.py:200: FutureWarning: The behavior of DataFrame concatenation with empty or all-NA entries is deprecated. In a future version, this will no longer exclude empty or all-NA columns when determining the result dtypes. To retain the old behavior, exclude the relevant entries before the concat operation.\n",
      "  df = pd.concat(\n",
      "[INFO 12-22 06:47:41] ax.early_stopping.strategies.base: The number of completed trials (0) is less than the minimum number of curves needed for early stopping (5). Not early stopping.\n"
     ]
    },
    {
     "name": "stderr",
     "output_type": "stream",
     "text": [
      "[INFO 12-22 06:47:41] Scheduler: Waiting for completed trials (for 10 sec, currently running trials: 5).\n"
     ]
    },
    {
     "name": "stderr",
     "output_type": "stream",
     "text": [
      "/tmp/tmp.rbKmWnPBQH/Ax-main/ax/core/map_data.py:200: FutureWarning: The behavior of DataFrame concatenation with empty or all-NA entries is deprecated. In a future version, this will no longer exclude empty or all-NA columns when determining the result dtypes. To retain the old behavior, exclude the relevant entries before the concat operation.\n",
      "  df = pd.concat(\n",
      "/tmp/tmp.rbKmWnPBQH/Ax-main/ax/core/map_data.py:200: FutureWarning: The behavior of DataFrame concatenation with empty or all-NA entries is deprecated. In a future version, this will no longer exclude empty or all-NA columns when determining the result dtypes. To retain the old behavior, exclude the relevant entries before the concat operation.\n",
      "  df = pd.concat(\n",
      "[INFO 12-22 06:47:51] ax.early_stopping.strategies.base: The number of completed trials (0) is less than the minimum number of curves needed for early stopping (5). Not early stopping.\n"
     ]
    },
    {
     "name": "stderr",
     "output_type": "stream",
     "text": [
      "[INFO 12-22 06:47:51] Scheduler: Waiting for completed trials (for 10 sec, currently running trials: 5).\n"
     ]
    },
    {
     "name": "stderr",
     "output_type": "stream",
     "text": [
      "/tmp/tmp.rbKmWnPBQH/Ax-main/ax/core/map_data.py:200: FutureWarning: The behavior of DataFrame concatenation with empty or all-NA entries is deprecated. In a future version, this will no longer exclude empty or all-NA columns when determining the result dtypes. To retain the old behavior, exclude the relevant entries before the concat operation.\n",
      "  df = pd.concat(\n",
      "/tmp/tmp.rbKmWnPBQH/Ax-main/ax/core/map_data.py:200: FutureWarning: The behavior of DataFrame concatenation with empty or all-NA entries is deprecated. In a future version, this will no longer exclude empty or all-NA columns when determining the result dtypes. To retain the old behavior, exclude the relevant entries before the concat operation.\n",
      "  df = pd.concat(\n",
      "[INFO 12-22 06:48:01] ax.early_stopping.strategies.base: The number of completed trials (0) is less than the minimum number of curves needed for early stopping (5). Not early stopping.\n"
     ]
    },
    {
     "name": "stderr",
     "output_type": "stream",
     "text": [
      "[INFO 12-22 06:48:01] Scheduler: Waiting for completed trials (for 10 sec, currently running trials: 5).\n"
     ]
    },
    {
     "name": "stderr",
     "output_type": "stream",
     "text": [
      "/tmp/tmp.rbKmWnPBQH/Ax-main/ax/core/map_data.py:200: FutureWarning: The behavior of DataFrame concatenation with empty or all-NA entries is deprecated. In a future version, this will no longer exclude empty or all-NA columns when determining the result dtypes. To retain the old behavior, exclude the relevant entries before the concat operation.\n",
      "  df = pd.concat(\n",
      "/tmp/tmp.rbKmWnPBQH/Ax-main/ax/core/map_data.py:200: FutureWarning: The behavior of DataFrame concatenation with empty or all-NA entries is deprecated. In a future version, this will no longer exclude empty or all-NA columns when determining the result dtypes. To retain the old behavior, exclude the relevant entries before the concat operation.\n",
      "  df = pd.concat(\n",
      "[INFO 12-22 06:48:11] ax.early_stopping.strategies.base: The number of completed trials (0) is less than the minimum number of curves needed for early stopping (5). Not early stopping.\n"
     ]
    },
    {
     "name": "stderr",
     "output_type": "stream",
     "text": [
      "[INFO 12-22 06:48:11] Scheduler: Waiting for completed trials (for 10 sec, currently running trials: 5).\n"
     ]
    },
    {
     "name": "stderr",
     "output_type": "stream",
     "text": [
      "/tmp/tmp.rbKmWnPBQH/Ax-main/ax/core/map_data.py:200: FutureWarning: The behavior of DataFrame concatenation with empty or all-NA entries is deprecated. In a future version, this will no longer exclude empty or all-NA columns when determining the result dtypes. To retain the old behavior, exclude the relevant entries before the concat operation.\n",
      "  df = pd.concat(\n",
      "/tmp/tmp.rbKmWnPBQH/Ax-main/ax/core/map_data.py:200: FutureWarning: The behavior of DataFrame concatenation with empty or all-NA entries is deprecated. In a future version, this will no longer exclude empty or all-NA columns when determining the result dtypes. To retain the old behavior, exclude the relevant entries before the concat operation.\n",
      "  df = pd.concat(\n",
      "[INFO 12-22 06:48:22] ax.early_stopping.strategies.base: The number of completed trials (0) is less than the minimum number of curves needed for early stopping (5). Not early stopping.\n"
     ]
    },
    {
     "name": "stderr",
     "output_type": "stream",
     "text": [
      "[INFO 12-22 06:48:22] Scheduler: Waiting for completed trials (for 10 sec, currently running trials: 5).\n"
     ]
    },
    {
     "name": "stderr",
     "output_type": "stream",
     "text": [
      "/tmp/tmp.rbKmWnPBQH/Ax-main/ax/core/map_data.py:200: FutureWarning: The behavior of DataFrame concatenation with empty or all-NA entries is deprecated. In a future version, this will no longer exclude empty or all-NA columns when determining the result dtypes. To retain the old behavior, exclude the relevant entries before the concat operation.\n",
      "  df = pd.concat(\n",
      "/tmp/tmp.rbKmWnPBQH/Ax-main/ax/core/map_data.py:200: FutureWarning: The behavior of DataFrame concatenation with empty or all-NA entries is deprecated. In a future version, this will no longer exclude empty or all-NA columns when determining the result dtypes. To retain the old behavior, exclude the relevant entries before the concat operation.\n",
      "  df = pd.concat(\n",
      "[INFO 12-22 06:48:32] ax.early_stopping.strategies.base: The number of completed trials (0) is less than the minimum number of curves needed for early stopping (5). Not early stopping.\n"
     ]
    },
    {
     "name": "stderr",
     "output_type": "stream",
     "text": [
      "[INFO 12-22 06:48:32] Scheduler: Waiting for completed trials (for 10 sec, currently running trials: 5).\n"
     ]
    },
    {
     "name": "stderr",
     "output_type": "stream",
     "text": [
      "/tmp/tmp.rbKmWnPBQH/Ax-main/ax/core/map_data.py:200: FutureWarning: The behavior of DataFrame concatenation with empty or all-NA entries is deprecated. In a future version, this will no longer exclude empty or all-NA columns when determining the result dtypes. To retain the old behavior, exclude the relevant entries before the concat operation.\n",
      "  df = pd.concat(\n",
      "/tmp/tmp.rbKmWnPBQH/Ax-main/ax/core/map_data.py:200: FutureWarning: The behavior of DataFrame concatenation with empty or all-NA entries is deprecated. In a future version, this will no longer exclude empty or all-NA columns when determining the result dtypes. To retain the old behavior, exclude the relevant entries before the concat operation.\n",
      "  df = pd.concat(\n",
      "[INFO 12-22 06:48:42] ax.early_stopping.strategies.base: The number of completed trials (0) is less than the minimum number of curves needed for early stopping (5). Not early stopping.\n"
     ]
    },
    {
     "name": "stderr",
     "output_type": "stream",
     "text": [
      "[INFO 12-22 06:48:42] Scheduler: Waiting for completed trials (for 10 sec, currently running trials: 5).\n"
     ]
    },
    {
     "name": "stderr",
     "output_type": "stream",
     "text": [
      "/tmp/tmp.rbKmWnPBQH/Ax-main/ax/core/map_data.py:200: FutureWarning: The behavior of DataFrame concatenation with empty or all-NA entries is deprecated. In a future version, this will no longer exclude empty or all-NA columns when determining the result dtypes. To retain the old behavior, exclude the relevant entries before the concat operation.\n",
      "  df = pd.concat(\n",
      "/tmp/tmp.rbKmWnPBQH/Ax-main/ax/core/map_data.py:200: FutureWarning: The behavior of DataFrame concatenation with empty or all-NA entries is deprecated. In a future version, this will no longer exclude empty or all-NA columns when determining the result dtypes. To retain the old behavior, exclude the relevant entries before the concat operation.\n",
      "  df = pd.concat(\n",
      "[INFO 12-22 06:48:52] ax.early_stopping.strategies.base: The number of completed trials (0) is less than the minimum number of curves needed for early stopping (5). Not early stopping.\n"
     ]
    },
    {
     "name": "stderr",
     "output_type": "stream",
     "text": [
      "[INFO 12-22 06:48:52] Scheduler: Waiting for completed trials (for 10 sec, currently running trials: 5).\n"
     ]
    },
    {
     "name": "stderr",
     "output_type": "stream",
     "text": [
      "/tmp/tmp.rbKmWnPBQH/Ax-main/ax/core/map_data.py:200: FutureWarning: The behavior of DataFrame concatenation with empty or all-NA entries is deprecated. In a future version, this will no longer exclude empty or all-NA columns when determining the result dtypes. To retain the old behavior, exclude the relevant entries before the concat operation.\n",
      "  df = pd.concat(\n",
      "/tmp/tmp.rbKmWnPBQH/Ax-main/ax/core/map_data.py:200: FutureWarning: The behavior of DataFrame concatenation with empty or all-NA entries is deprecated. In a future version, this will no longer exclude empty or all-NA columns when determining the result dtypes. To retain the old behavior, exclude the relevant entries before the concat operation.\n",
      "  df = pd.concat(\n",
      "[INFO 12-22 06:49:03] ax.early_stopping.strategies.base: The number of completed trials (0) is less than the minimum number of curves needed for early stopping (5). Not early stopping.\n"
     ]
    },
    {
     "name": "stderr",
     "output_type": "stream",
     "text": [
      "[INFO 12-22 06:49:03] Scheduler: Waiting for completed trials (for 10 sec, currently running trials: 5).\n"
     ]
    },
    {
     "name": "stderr",
     "output_type": "stream",
     "text": [
      "/tmp/tmp.rbKmWnPBQH/Ax-main/ax/core/map_data.py:200: FutureWarning: The behavior of DataFrame concatenation with empty or all-NA entries is deprecated. In a future version, this will no longer exclude empty or all-NA columns when determining the result dtypes. To retain the old behavior, exclude the relevant entries before the concat operation.\n",
      "  df = pd.concat(\n",
      "/tmp/tmp.rbKmWnPBQH/Ax-main/ax/core/map_data.py:200: FutureWarning: The behavior of DataFrame concatenation with empty or all-NA entries is deprecated. In a future version, this will no longer exclude empty or all-NA columns when determining the result dtypes. To retain the old behavior, exclude the relevant entries before the concat operation.\n",
      "  df = pd.concat(\n",
      "[INFO 12-22 06:49:13] ax.early_stopping.strategies.base: The number of completed trials (0) is less than the minimum number of curves needed for early stopping (5). Not early stopping.\n"
     ]
    },
    {
     "name": "stderr",
     "output_type": "stream",
     "text": [
      "[INFO 12-22 06:49:13] Scheduler: Waiting for completed trials (for 10 sec, currently running trials: 5).\n"
     ]
    },
    {
     "name": "stderr",
     "output_type": "stream",
     "text": [
      "/tmp/tmp.rbKmWnPBQH/Ax-main/ax/core/map_data.py:200: FutureWarning: The behavior of DataFrame concatenation with empty or all-NA entries is deprecated. In a future version, this will no longer exclude empty or all-NA columns when determining the result dtypes. To retain the old behavior, exclude the relevant entries before the concat operation.\n",
      "  df = pd.concat(\n",
      "/tmp/tmp.rbKmWnPBQH/Ax-main/ax/core/map_data.py:200: FutureWarning: The behavior of DataFrame concatenation with empty or all-NA entries is deprecated. In a future version, this will no longer exclude empty or all-NA columns when determining the result dtypes. To retain the old behavior, exclude the relevant entries before the concat operation.\n",
      "  df = pd.concat(\n",
      "[INFO 12-22 06:49:23] ax.early_stopping.strategies.base: The number of completed trials (0) is less than the minimum number of curves needed for early stopping (5). Not early stopping.\n"
     ]
    },
    {
     "name": "stderr",
     "output_type": "stream",
     "text": [
      "[INFO 12-22 06:49:23] Scheduler: Waiting for completed trials (for 10 sec, currently running trials: 5).\n"
     ]
    },
    {
     "name": "stderr",
     "output_type": "stream",
     "text": [
      "/tmp/tmp.rbKmWnPBQH/Ax-main/ax/core/map_data.py:200: FutureWarning: The behavior of DataFrame concatenation with empty or all-NA entries is deprecated. In a future version, this will no longer exclude empty or all-NA columns when determining the result dtypes. To retain the old behavior, exclude the relevant entries before the concat operation.\n",
      "  df = pd.concat(\n",
      "/tmp/tmp.rbKmWnPBQH/Ax-main/ax/core/map_data.py:200: FutureWarning: The behavior of DataFrame concatenation with empty or all-NA entries is deprecated. In a future version, this will no longer exclude empty or all-NA columns when determining the result dtypes. To retain the old behavior, exclude the relevant entries before the concat operation.\n",
      "  df = pd.concat(\n",
      "[INFO 12-22 06:49:33] ax.early_stopping.strategies.base: The number of completed trials (0) is less than the minimum number of curves needed for early stopping (5). Not early stopping.\n"
     ]
    },
    {
     "name": "stderr",
     "output_type": "stream",
     "text": [
      "[INFO 12-22 06:49:33] Scheduler: Waiting for completed trials (for 10 sec, currently running trials: 5).\n"
     ]
    },
    {
     "name": "stderr",
     "output_type": "stream",
     "text": [
      "/tmp/tmp.rbKmWnPBQH/Ax-main/ax/core/map_data.py:200: FutureWarning: The behavior of DataFrame concatenation with empty or all-NA entries is deprecated. In a future version, this will no longer exclude empty or all-NA columns when determining the result dtypes. To retain the old behavior, exclude the relevant entries before the concat operation.\n",
      "  df = pd.concat(\n",
      "/tmp/tmp.rbKmWnPBQH/Ax-main/ax/core/map_data.py:200: FutureWarning: The behavior of DataFrame concatenation with empty or all-NA entries is deprecated. In a future version, this will no longer exclude empty or all-NA columns when determining the result dtypes. To retain the old behavior, exclude the relevant entries before the concat operation.\n",
      "  df = pd.concat(\n",
      "[INFO 12-22 06:49:43] ax.early_stopping.strategies.base: The number of completed trials (0) is less than the minimum number of curves needed for early stopping (5). Not early stopping.\n"
     ]
    },
    {
     "name": "stderr",
     "output_type": "stream",
     "text": [
      "[INFO 12-22 06:49:44] Scheduler: Waiting for completed trials (for 10 sec, currently running trials: 5).\n"
     ]
    },
    {
     "name": "stderr",
     "output_type": "stream",
     "text": [
      "/tmp/tmp.rbKmWnPBQH/Ax-main/ax/core/map_data.py:200: FutureWarning: The behavior of DataFrame concatenation with empty or all-NA entries is deprecated. In a future version, this will no longer exclude empty or all-NA columns when determining the result dtypes. To retain the old behavior, exclude the relevant entries before the concat operation.\n",
      "  df = pd.concat(\n",
      "/tmp/tmp.rbKmWnPBQH/Ax-main/ax/core/map_data.py:200: FutureWarning: The behavior of DataFrame concatenation with empty or all-NA entries is deprecated. In a future version, this will no longer exclude empty or all-NA columns when determining the result dtypes. To retain the old behavior, exclude the relevant entries before the concat operation.\n",
      "  df = pd.concat(\n",
      "[INFO 12-22 06:49:54] ax.early_stopping.strategies.base: The number of completed trials (0) is less than the minimum number of curves needed for early stopping (5). Not early stopping.\n"
     ]
    },
    {
     "name": "stderr",
     "output_type": "stream",
     "text": [
      "[INFO 12-22 06:49:54] Scheduler: Waiting for completed trials (for 10 sec, currently running trials: 5).\n"
     ]
    },
    {
     "name": "stderr",
     "output_type": "stream",
     "text": [
      "/tmp/tmp.rbKmWnPBQH/Ax-main/ax/core/map_data.py:200: FutureWarning: The behavior of DataFrame concatenation with empty or all-NA entries is deprecated. In a future version, this will no longer exclude empty or all-NA columns when determining the result dtypes. To retain the old behavior, exclude the relevant entries before the concat operation.\n",
      "  df = pd.concat(\n",
      "/tmp/tmp.rbKmWnPBQH/Ax-main/ax/core/map_data.py:200: FutureWarning: The behavior of DataFrame concatenation with empty or all-NA entries is deprecated. In a future version, this will no longer exclude empty or all-NA columns when determining the result dtypes. To retain the old behavior, exclude the relevant entries before the concat operation.\n",
      "  df = pd.concat(\n",
      "[INFO 12-22 06:50:04] ax.early_stopping.strategies.base: The number of completed trials (0) is less than the minimum number of curves needed for early stopping (5). Not early stopping.\n"
     ]
    },
    {
     "name": "stderr",
     "output_type": "stream",
     "text": [
      "[INFO 12-22 06:50:04] Scheduler: Waiting for completed trials (for 10 sec, currently running trials: 5).\n"
     ]
    },
    {
     "name": "stderr",
     "output_type": "stream",
     "text": [
      "/tmp/tmp.rbKmWnPBQH/Ax-main/ax/core/map_data.py:200: FutureWarning: The behavior of DataFrame concatenation with empty or all-NA entries is deprecated. In a future version, this will no longer exclude empty or all-NA columns when determining the result dtypes. To retain the old behavior, exclude the relevant entries before the concat operation.\n",
      "  df = pd.concat(\n",
      "/tmp/tmp.rbKmWnPBQH/Ax-main/ax/core/map_data.py:200: FutureWarning: The behavior of DataFrame concatenation with empty or all-NA entries is deprecated. In a future version, this will no longer exclude empty or all-NA columns when determining the result dtypes. To retain the old behavior, exclude the relevant entries before the concat operation.\n",
      "  df = pd.concat(\n",
      "[INFO 12-22 06:50:14] ax.early_stopping.strategies.base: The number of completed trials (0) is less than the minimum number of curves needed for early stopping (5). Not early stopping.\n"
     ]
    },
    {
     "name": "stderr",
     "output_type": "stream",
     "text": [
      "[INFO 12-22 06:50:14] Scheduler: Waiting for completed trials (for 10 sec, currently running trials: 5).\n"
     ]
    },
    {
     "name": "stderr",
     "output_type": "stream",
     "text": [
      "/tmp/tmp.rbKmWnPBQH/Ax-main/ax/core/map_data.py:200: FutureWarning: The behavior of DataFrame concatenation with empty or all-NA entries is deprecated. In a future version, this will no longer exclude empty or all-NA columns when determining the result dtypes. To retain the old behavior, exclude the relevant entries before the concat operation.\n",
      "  df = pd.concat(\n",
      "/tmp/tmp.rbKmWnPBQH/Ax-main/ax/core/map_data.py:200: FutureWarning: The behavior of DataFrame concatenation with empty or all-NA entries is deprecated. In a future version, this will no longer exclude empty or all-NA columns when determining the result dtypes. To retain the old behavior, exclude the relevant entries before the concat operation.\n",
      "  df = pd.concat(\n",
      "[INFO 12-22 06:50:24] ax.early_stopping.strategies.base: The number of completed trials (0) is less than the minimum number of curves needed for early stopping (5). Not early stopping.\n"
     ]
    },
    {
     "name": "stderr",
     "output_type": "stream",
     "text": [
      "[INFO 12-22 06:50:24] Scheduler: Waiting for completed trials (for 10 sec, currently running trials: 5).\n"
     ]
    },
    {
     "name": "stderr",
     "output_type": "stream",
     "text": [
      "/tmp/tmp.rbKmWnPBQH/Ax-main/ax/core/map_data.py:200: FutureWarning: The behavior of DataFrame concatenation with empty or all-NA entries is deprecated. In a future version, this will no longer exclude empty or all-NA columns when determining the result dtypes. To retain the old behavior, exclude the relevant entries before the concat operation.\n",
      "  df = pd.concat(\n",
      "/tmp/tmp.rbKmWnPBQH/Ax-main/ax/core/map_data.py:200: FutureWarning: The behavior of DataFrame concatenation with empty or all-NA entries is deprecated. In a future version, this will no longer exclude empty or all-NA columns when determining the result dtypes. To retain the old behavior, exclude the relevant entries before the concat operation.\n",
      "  df = pd.concat(\n",
      "[INFO 12-22 06:50:35] ax.early_stopping.strategies.base: The number of completed trials (0) is less than the minimum number of curves needed for early stopping (5). Not early stopping.\n"
     ]
    },
    {
     "name": "stderr",
     "output_type": "stream",
     "text": [
      "[INFO 12-22 06:50:35] Scheduler: Waiting for completed trials (for 10 sec, currently running trials: 5).\n"
     ]
    },
    {
     "name": "stderr",
     "output_type": "stream",
     "text": [
      "/tmp/tmp.rbKmWnPBQH/Ax-main/ax/core/map_data.py:200: FutureWarning: The behavior of DataFrame concatenation with empty or all-NA entries is deprecated. In a future version, this will no longer exclude empty or all-NA columns when determining the result dtypes. To retain the old behavior, exclude the relevant entries before the concat operation.\n",
      "  df = pd.concat(\n",
      "/tmp/tmp.rbKmWnPBQH/Ax-main/ax/core/map_data.py:200: FutureWarning: The behavior of DataFrame concatenation with empty or all-NA entries is deprecated. In a future version, this will no longer exclude empty or all-NA columns when determining the result dtypes. To retain the old behavior, exclude the relevant entries before the concat operation.\n",
      "  df = pd.concat(\n",
      "[INFO 12-22 06:50:45] ax.early_stopping.strategies.base: The number of completed trials (0) is less than the minimum number of curves needed for early stopping (5). Not early stopping.\n"
     ]
    },
    {
     "name": "stderr",
     "output_type": "stream",
     "text": [
      "[INFO 12-22 06:50:45] Scheduler: Waiting for completed trials (for 10 sec, currently running trials: 5).\n"
     ]
    },
    {
     "name": "stderr",
     "output_type": "stream",
     "text": [
      "/tmp/tmp.rbKmWnPBQH/Ax-main/ax/core/map_data.py:200: FutureWarning: The behavior of DataFrame concatenation with empty or all-NA entries is deprecated. In a future version, this will no longer exclude empty or all-NA columns when determining the result dtypes. To retain the old behavior, exclude the relevant entries before the concat operation.\n",
      "  df = pd.concat(\n",
      "/tmp/tmp.rbKmWnPBQH/Ax-main/ax/core/map_data.py:200: FutureWarning: The behavior of DataFrame concatenation with empty or all-NA entries is deprecated. In a future version, this will no longer exclude empty or all-NA columns when determining the result dtypes. To retain the old behavior, exclude the relevant entries before the concat operation.\n",
      "  df = pd.concat(\n",
      "[INFO 12-22 06:50:55] ax.early_stopping.strategies.base: The number of completed trials (0) is less than the minimum number of curves needed for early stopping (5). Not early stopping.\n"
     ]
    },
    {
     "name": "stderr",
     "output_type": "stream",
     "text": [
      "[INFO 12-22 06:50:55] Scheduler: Waiting for completed trials (for 10 sec, currently running trials: 5).\n"
     ]
    },
    {
     "name": "stderr",
     "output_type": "stream",
     "text": [
      "/tmp/tmp.rbKmWnPBQH/Ax-main/ax/core/map_data.py:200: FutureWarning: The behavior of DataFrame concatenation with empty or all-NA entries is deprecated. In a future version, this will no longer exclude empty or all-NA columns when determining the result dtypes. To retain the old behavior, exclude the relevant entries before the concat operation.\n",
      "  df = pd.concat(\n",
      "/tmp/tmp.rbKmWnPBQH/Ax-main/ax/core/map_data.py:200: FutureWarning: The behavior of DataFrame concatenation with empty or all-NA entries is deprecated. In a future version, this will no longer exclude empty or all-NA columns when determining the result dtypes. To retain the old behavior, exclude the relevant entries before the concat operation.\n",
      "  df = pd.concat(\n",
      "[INFO 12-22 06:51:05] ax.early_stopping.strategies.base: The number of completed trials (0) is less than the minimum number of curves needed for early stopping (5). Not early stopping.\n"
     ]
    },
    {
     "name": "stderr",
     "output_type": "stream",
     "text": [
      "[INFO 12-22 06:51:05] Scheduler: Waiting for completed trials (for 10 sec, currently running trials: 5).\n"
     ]
    },
    {
     "name": "stderr",
     "output_type": "stream",
     "text": [
      "/tmp/tmp.rbKmWnPBQH/Ax-main/ax/core/map_data.py:200: FutureWarning: The behavior of DataFrame concatenation with empty or all-NA entries is deprecated. In a future version, this will no longer exclude empty or all-NA columns when determining the result dtypes. To retain the old behavior, exclude the relevant entries before the concat operation.\n",
      "  df = pd.concat(\n",
      "/tmp/tmp.rbKmWnPBQH/Ax-main/ax/core/map_data.py:200: FutureWarning: The behavior of DataFrame concatenation with empty or all-NA entries is deprecated. In a future version, this will no longer exclude empty or all-NA columns when determining the result dtypes. To retain the old behavior, exclude the relevant entries before the concat operation.\n",
      "  df = pd.concat(\n",
      "[INFO 12-22 06:51:16] ax.early_stopping.strategies.base: The number of completed trials (0) is less than the minimum number of curves needed for early stopping (5). Not early stopping.\n"
     ]
    },
    {
     "name": "stderr",
     "output_type": "stream",
     "text": [
      "[INFO 12-22 06:51:16] Scheduler: Waiting for completed trials (for 10 sec, currently running trials: 5).\n"
     ]
    },
    {
     "name": "stderr",
     "output_type": "stream",
     "text": [
      "/tmp/tmp.rbKmWnPBQH/Ax-main/ax/core/map_data.py:200: FutureWarning: The behavior of DataFrame concatenation with empty or all-NA entries is deprecated. In a future version, this will no longer exclude empty or all-NA columns when determining the result dtypes. To retain the old behavior, exclude the relevant entries before the concat operation.\n",
      "  df = pd.concat(\n",
      "/tmp/tmp.rbKmWnPBQH/Ax-main/ax/core/map_data.py:200: FutureWarning: The behavior of DataFrame concatenation with empty or all-NA entries is deprecated. In a future version, this will no longer exclude empty or all-NA columns when determining the result dtypes. To retain the old behavior, exclude the relevant entries before the concat operation.\n",
      "  df = pd.concat(\n",
      "[INFO 12-22 06:51:26] ax.early_stopping.strategies.base: The number of completed trials (0) is less than the minimum number of curves needed for early stopping (5). Not early stopping.\n"
     ]
    },
    {
     "name": "stderr",
     "output_type": "stream",
     "text": [
      "[INFO 12-22 06:51:26] Scheduler: Waiting for completed trials (for 10 sec, currently running trials: 5).\n"
     ]
    },
    {
     "name": "stderr",
     "output_type": "stream",
     "text": [
      "/tmp/tmp.rbKmWnPBQH/Ax-main/ax/core/map_data.py:200: FutureWarning: The behavior of DataFrame concatenation with empty or all-NA entries is deprecated. In a future version, this will no longer exclude empty or all-NA columns when determining the result dtypes. To retain the old behavior, exclude the relevant entries before the concat operation.\n",
      "  df = pd.concat(\n",
      "/tmp/tmp.rbKmWnPBQH/Ax-main/ax/core/map_data.py:200: FutureWarning: The behavior of DataFrame concatenation with empty or all-NA entries is deprecated. In a future version, this will no longer exclude empty or all-NA columns when determining the result dtypes. To retain the old behavior, exclude the relevant entries before the concat operation.\n",
      "  df = pd.concat(\n",
      "[INFO 12-22 06:51:36] ax.early_stopping.strategies.base: The number of completed trials (0) is less than the minimum number of curves needed for early stopping (5). Not early stopping.\n"
     ]
    },
    {
     "name": "stderr",
     "output_type": "stream",
     "text": [
      "[INFO 12-22 06:51:36] Scheduler: Waiting for completed trials (for 10 sec, currently running trials: 5).\n"
     ]
    },
    {
     "name": "stderr",
     "output_type": "stream",
     "text": [
      "/tmp/tmp.rbKmWnPBQH/Ax-main/ax/core/map_data.py:200: FutureWarning: The behavior of DataFrame concatenation with empty or all-NA entries is deprecated. In a future version, this will no longer exclude empty or all-NA columns when determining the result dtypes. To retain the old behavior, exclude the relevant entries before the concat operation.\n",
      "  df = pd.concat(\n",
      "/tmp/tmp.rbKmWnPBQH/Ax-main/ax/core/map_data.py:200: FutureWarning: The behavior of DataFrame concatenation with empty or all-NA entries is deprecated. In a future version, this will no longer exclude empty or all-NA columns when determining the result dtypes. To retain the old behavior, exclude the relevant entries before the concat operation.\n",
      "  df = pd.concat(\n",
      "[INFO 12-22 06:51:47] ax.early_stopping.strategies.base: The number of completed trials (0) is less than the minimum number of curves needed for early stopping (5). Not early stopping.\n"
     ]
    },
    {
     "name": "stderr",
     "output_type": "stream",
     "text": [
      "[INFO 12-22 06:51:47] Scheduler: Waiting for completed trials (for 10 sec, currently running trials: 5).\n"
     ]
    },
    {
     "name": "stderr",
     "output_type": "stream",
     "text": [
      "/tmp/tmp.rbKmWnPBQH/Ax-main/ax/core/map_data.py:200: FutureWarning: The behavior of DataFrame concatenation with empty or all-NA entries is deprecated. In a future version, this will no longer exclude empty or all-NA columns when determining the result dtypes. To retain the old behavior, exclude the relevant entries before the concat operation.\n",
      "  df = pd.concat(\n",
      "/tmp/tmp.rbKmWnPBQH/Ax-main/ax/core/map_data.py:200: FutureWarning: The behavior of DataFrame concatenation with empty or all-NA entries is deprecated. In a future version, this will no longer exclude empty or all-NA columns when determining the result dtypes. To retain the old behavior, exclude the relevant entries before the concat operation.\n",
      "  df = pd.concat(\n",
      "[INFO 12-22 06:51:57] ax.early_stopping.strategies.base: The number of completed trials (0) is less than the minimum number of curves needed for early stopping (5). Not early stopping.\n"
     ]
    },
    {
     "name": "stderr",
     "output_type": "stream",
     "text": [
      "[INFO 12-22 06:51:57] Scheduler: Waiting for completed trials (for 10 sec, currently running trials: 5).\n"
     ]
    },
    {
     "name": "stderr",
     "output_type": "stream",
     "text": [
      "/tmp/tmp.rbKmWnPBQH/Ax-main/ax/core/map_data.py:200: FutureWarning: The behavior of DataFrame concatenation with empty or all-NA entries is deprecated. In a future version, this will no longer exclude empty or all-NA columns when determining the result dtypes. To retain the old behavior, exclude the relevant entries before the concat operation.\n",
      "  df = pd.concat(\n",
      "/tmp/tmp.rbKmWnPBQH/Ax-main/ax/core/map_data.py:200: FutureWarning: The behavior of DataFrame concatenation with empty or all-NA entries is deprecated. In a future version, this will no longer exclude empty or all-NA columns when determining the result dtypes. To retain the old behavior, exclude the relevant entries before the concat operation.\n",
      "  df = pd.concat(\n",
      "[INFO 12-22 06:52:07] ax.early_stopping.strategies.base: The number of completed trials (0) is less than the minimum number of curves needed for early stopping (5). Not early stopping.\n"
     ]
    },
    {
     "name": "stderr",
     "output_type": "stream",
     "text": [
      "[INFO 12-22 06:52:07] Scheduler: Waiting for completed trials (for 10 sec, currently running trials: 5).\n"
     ]
    },
    {
     "name": "stderr",
     "output_type": "stream",
     "text": [
      "/tmp/tmp.rbKmWnPBQH/Ax-main/ax/core/map_data.py:200: FutureWarning: The behavior of DataFrame concatenation with empty or all-NA entries is deprecated. In a future version, this will no longer exclude empty or all-NA columns when determining the result dtypes. To retain the old behavior, exclude the relevant entries before the concat operation.\n",
      "  df = pd.concat(\n",
      "/tmp/tmp.rbKmWnPBQH/Ax-main/ax/core/map_data.py:200: FutureWarning: The behavior of DataFrame concatenation with empty or all-NA entries is deprecated. In a future version, this will no longer exclude empty or all-NA columns when determining the result dtypes. To retain the old behavior, exclude the relevant entries before the concat operation.\n",
      "  df = pd.concat(\n",
      "[INFO 12-22 06:52:17] ax.early_stopping.strategies.base: The number of completed trials (0) is less than the minimum number of curves needed for early stopping (5). Not early stopping.\n"
     ]
    },
    {
     "name": "stderr",
     "output_type": "stream",
     "text": [
      "[INFO 12-22 06:52:17] Scheduler: Waiting for completed trials (for 10 sec, currently running trials: 5).\n"
     ]
    },
    {
     "name": "stderr",
     "output_type": "stream",
     "text": [
      "/tmp/tmp.rbKmWnPBQH/Ax-main/ax/core/map_data.py:200: FutureWarning: The behavior of DataFrame concatenation with empty or all-NA entries is deprecated. In a future version, this will no longer exclude empty or all-NA columns when determining the result dtypes. To retain the old behavior, exclude the relevant entries before the concat operation.\n",
      "  df = pd.concat(\n",
      "/tmp/tmp.rbKmWnPBQH/Ax-main/ax/core/map_data.py:200: FutureWarning: The behavior of DataFrame concatenation with empty or all-NA entries is deprecated. In a future version, this will no longer exclude empty or all-NA columns when determining the result dtypes. To retain the old behavior, exclude the relevant entries before the concat operation.\n",
      "  df = pd.concat(\n",
      "[INFO 12-22 06:52:28] ax.early_stopping.strategies.base: The number of completed trials (0) is less than the minimum number of curves needed for early stopping (5). Not early stopping.\n"
     ]
    },
    {
     "name": "stderr",
     "output_type": "stream",
     "text": [
      "[INFO 12-22 06:52:28] Scheduler: Waiting for completed trials (for 10 sec, currently running trials: 5).\n"
     ]
    },
    {
     "name": "stderr",
     "output_type": "stream",
     "text": [
      "/tmp/tmp.rbKmWnPBQH/Ax-main/ax/core/map_data.py:200: FutureWarning: The behavior of DataFrame concatenation with empty or all-NA entries is deprecated. In a future version, this will no longer exclude empty or all-NA columns when determining the result dtypes. To retain the old behavior, exclude the relevant entries before the concat operation.\n",
      "  df = pd.concat(\n",
      "/tmp/tmp.rbKmWnPBQH/Ax-main/ax/core/map_data.py:200: FutureWarning: The behavior of DataFrame concatenation with empty or all-NA entries is deprecated. In a future version, this will no longer exclude empty or all-NA columns when determining the result dtypes. To retain the old behavior, exclude the relevant entries before the concat operation.\n",
      "  df = pd.concat(\n",
      "[INFO 12-22 06:52:38] ax.early_stopping.strategies.base: The number of completed trials (0) is less than the minimum number of curves needed for early stopping (5). Not early stopping.\n"
     ]
    },
    {
     "name": "stderr",
     "output_type": "stream",
     "text": [
      "[INFO 12-22 06:52:38] Scheduler: Waiting for completed trials (for 10 sec, currently running trials: 5).\n"
     ]
    },
    {
     "name": "stderr",
     "output_type": "stream",
     "text": [
      "/tmp/tmp.rbKmWnPBQH/Ax-main/ax/core/map_data.py:200: FutureWarning: The behavior of DataFrame concatenation with empty or all-NA entries is deprecated. In a future version, this will no longer exclude empty or all-NA columns when determining the result dtypes. To retain the old behavior, exclude the relevant entries before the concat operation.\n",
      "  df = pd.concat(\n",
      "/tmp/tmp.rbKmWnPBQH/Ax-main/ax/core/map_data.py:200: FutureWarning: The behavior of DataFrame concatenation with empty or all-NA entries is deprecated. In a future version, this will no longer exclude empty or all-NA columns when determining the result dtypes. To retain the old behavior, exclude the relevant entries before the concat operation.\n",
      "  df = pd.concat(\n",
      "[INFO 12-22 06:52:48] ax.early_stopping.strategies.base: The number of completed trials (0) is less than the minimum number of curves needed for early stopping (5). Not early stopping.\n"
     ]
    },
    {
     "name": "stderr",
     "output_type": "stream",
     "text": [
      "[INFO 12-22 06:52:48] Scheduler: Waiting for completed trials (for 10 sec, currently running trials: 5).\n"
     ]
    },
    {
     "name": "stderr",
     "output_type": "stream",
     "text": [
      "/tmp/tmp.rbKmWnPBQH/Ax-main/ax/core/map_data.py:200: FutureWarning: The behavior of DataFrame concatenation with empty or all-NA entries is deprecated. In a future version, this will no longer exclude empty or all-NA columns when determining the result dtypes. To retain the old behavior, exclude the relevant entries before the concat operation.\n",
      "  df = pd.concat(\n",
      "/tmp/tmp.rbKmWnPBQH/Ax-main/ax/core/map_data.py:200: FutureWarning: The behavior of DataFrame concatenation with empty or all-NA entries is deprecated. In a future version, this will no longer exclude empty or all-NA columns when determining the result dtypes. To retain the old behavior, exclude the relevant entries before the concat operation.\n",
      "  df = pd.concat(\n",
      "[INFO 12-22 06:52:58] ax.early_stopping.strategies.base: The number of completed trials (0) is less than the minimum number of curves needed for early stopping (5). Not early stopping.\n"
     ]
    },
    {
     "name": "stderr",
     "output_type": "stream",
     "text": [
      "[INFO 12-22 06:52:58] Scheduler: Waiting for completed trials (for 10 sec, currently running trials: 5).\n"
     ]
    },
    {
     "name": "stderr",
     "output_type": "stream",
     "text": [
      "/tmp/tmp.rbKmWnPBQH/Ax-main/ax/core/map_data.py:200: FutureWarning: The behavior of DataFrame concatenation with empty or all-NA entries is deprecated. In a future version, this will no longer exclude empty or all-NA columns when determining the result dtypes. To retain the old behavior, exclude the relevant entries before the concat operation.\n",
      "  df = pd.concat(\n",
      "/tmp/tmp.rbKmWnPBQH/Ax-main/ax/core/map_data.py:200: FutureWarning: The behavior of DataFrame concatenation with empty or all-NA entries is deprecated. In a future version, this will no longer exclude empty or all-NA columns when determining the result dtypes. To retain the old behavior, exclude the relevant entries before the concat operation.\n",
      "  df = pd.concat(\n",
      "[INFO 12-22 06:53:09] ax.early_stopping.strategies.base: The number of completed trials (0) is less than the minimum number of curves needed for early stopping (5). Not early stopping.\n"
     ]
    },
    {
     "name": "stderr",
     "output_type": "stream",
     "text": [
      "[INFO 12-22 06:53:09] Scheduler: Waiting for completed trials (for 10 sec, currently running trials: 5).\n"
     ]
    },
    {
     "name": "stderr",
     "output_type": "stream",
     "text": [
      "/tmp/tmp.rbKmWnPBQH/Ax-main/ax/core/map_data.py:200: FutureWarning: The behavior of DataFrame concatenation with empty or all-NA entries is deprecated. In a future version, this will no longer exclude empty or all-NA columns when determining the result dtypes. To retain the old behavior, exclude the relevant entries before the concat operation.\n",
      "  df = pd.concat(\n",
      "/tmp/tmp.rbKmWnPBQH/Ax-main/ax/core/map_data.py:200: FutureWarning: The behavior of DataFrame concatenation with empty or all-NA entries is deprecated. In a future version, this will no longer exclude empty or all-NA columns when determining the result dtypes. To retain the old behavior, exclude the relevant entries before the concat operation.\n",
      "  df = pd.concat(\n",
      "[INFO 12-22 06:53:19] ax.early_stopping.strategies.base: The number of completed trials (0) is less than the minimum number of curves needed for early stopping (5). Not early stopping.\n"
     ]
    },
    {
     "name": "stderr",
     "output_type": "stream",
     "text": [
      "[INFO 12-22 06:53:19] Scheduler: Waiting for completed trials (for 10 sec, currently running trials: 5).\n"
     ]
    },
    {
     "name": "stderr",
     "output_type": "stream",
     "text": [
      "/tmp/tmp.rbKmWnPBQH/Ax-main/ax/core/map_data.py:200: FutureWarning: The behavior of DataFrame concatenation with empty or all-NA entries is deprecated. In a future version, this will no longer exclude empty or all-NA columns when determining the result dtypes. To retain the old behavior, exclude the relevant entries before the concat operation.\n",
      "  df = pd.concat(\n",
      "/tmp/tmp.rbKmWnPBQH/Ax-main/ax/core/map_data.py:200: FutureWarning: The behavior of DataFrame concatenation with empty or all-NA entries is deprecated. In a future version, this will no longer exclude empty or all-NA columns when determining the result dtypes. To retain the old behavior, exclude the relevant entries before the concat operation.\n",
      "  df = pd.concat(\n",
      "[INFO 12-22 06:53:29] ax.early_stopping.strategies.base: The number of completed trials (0) is less than the minimum number of curves needed for early stopping (5). Not early stopping.\n"
     ]
    },
    {
     "name": "stderr",
     "output_type": "stream",
     "text": [
      "[INFO 12-22 06:53:29] Scheduler: Waiting for completed trials (for 10 sec, currently running trials: 5).\n"
     ]
    },
    {
     "name": "stderr",
     "output_type": "stream",
     "text": [
      "/tmp/tmp.rbKmWnPBQH/Ax-main/ax/core/map_data.py:200: FutureWarning: The behavior of DataFrame concatenation with empty or all-NA entries is deprecated. In a future version, this will no longer exclude empty or all-NA columns when determining the result dtypes. To retain the old behavior, exclude the relevant entries before the concat operation.\n",
      "  df = pd.concat(\n",
      "/tmp/tmp.rbKmWnPBQH/Ax-main/ax/core/map_data.py:200: FutureWarning: The behavior of DataFrame concatenation with empty or all-NA entries is deprecated. In a future version, this will no longer exclude empty or all-NA columns when determining the result dtypes. To retain the old behavior, exclude the relevant entries before the concat operation.\n",
      "  df = pd.concat(\n",
      "[INFO 12-22 06:53:39] ax.early_stopping.strategies.base: The number of completed trials (0) is less than the minimum number of curves needed for early stopping (5). Not early stopping.\n"
     ]
    },
    {
     "name": "stderr",
     "output_type": "stream",
     "text": [
      "[INFO 12-22 06:53:39] Scheduler: Waiting for completed trials (for 10 sec, currently running trials: 5).\n"
     ]
    },
    {
     "name": "stderr",
     "output_type": "stream",
     "text": [
      "/tmp/tmp.rbKmWnPBQH/Ax-main/ax/core/map_data.py:200: FutureWarning: The behavior of DataFrame concatenation with empty or all-NA entries is deprecated. In a future version, this will no longer exclude empty or all-NA columns when determining the result dtypes. To retain the old behavior, exclude the relevant entries before the concat operation.\n",
      "  df = pd.concat(\n",
      "/tmp/tmp.rbKmWnPBQH/Ax-main/ax/core/map_data.py:200: FutureWarning: The behavior of DataFrame concatenation with empty or all-NA entries is deprecated. In a future version, this will no longer exclude empty or all-NA columns when determining the result dtypes. To retain the old behavior, exclude the relevant entries before the concat operation.\n",
      "  df = pd.concat(\n",
      "[INFO 12-22 06:53:50] ax.early_stopping.strategies.base: The number of completed trials (0) is less than the minimum number of curves needed for early stopping (5). Not early stopping.\n"
     ]
    },
    {
     "name": "stderr",
     "output_type": "stream",
     "text": [
      "[INFO 12-22 06:53:50] Scheduler: Waiting for completed trials (for 10 sec, currently running trials: 5).\n"
     ]
    },
    {
     "name": "stderr",
     "output_type": "stream",
     "text": [
      "/tmp/tmp.rbKmWnPBQH/Ax-main/ax/core/map_data.py:200: FutureWarning: The behavior of DataFrame concatenation with empty or all-NA entries is deprecated. In a future version, this will no longer exclude empty or all-NA columns when determining the result dtypes. To retain the old behavior, exclude the relevant entries before the concat operation.\n",
      "  df = pd.concat(\n",
      "/tmp/tmp.rbKmWnPBQH/Ax-main/ax/core/map_data.py:200: FutureWarning: The behavior of DataFrame concatenation with empty or all-NA entries is deprecated. In a future version, this will no longer exclude empty or all-NA columns when determining the result dtypes. To retain the old behavior, exclude the relevant entries before the concat operation.\n",
      "  df = pd.concat(\n",
      "[INFO 12-22 06:54:00] ax.early_stopping.strategies.base: The number of completed trials (0) is less than the minimum number of curves needed for early stopping (5). Not early stopping.\n"
     ]
    },
    {
     "name": "stderr",
     "output_type": "stream",
     "text": [
      "[INFO 12-22 06:54:00] Scheduler: Waiting for completed trials (for 10 sec, currently running trials: 5).\n"
     ]
    },
    {
     "name": "stderr",
     "output_type": "stream",
     "text": [
      "/tmp/tmp.rbKmWnPBQH/Ax-main/ax/core/map_data.py:200: FutureWarning: The behavior of DataFrame concatenation with empty or all-NA entries is deprecated. In a future version, this will no longer exclude empty or all-NA columns when determining the result dtypes. To retain the old behavior, exclude the relevant entries before the concat operation.\n",
      "  df = pd.concat(\n",
      "/tmp/tmp.rbKmWnPBQH/Ax-main/ax/core/map_data.py:200: FutureWarning: The behavior of DataFrame concatenation with empty or all-NA entries is deprecated. In a future version, this will no longer exclude empty or all-NA columns when determining the result dtypes. To retain the old behavior, exclude the relevant entries before the concat operation.\n",
      "  df = pd.concat(\n",
      "[INFO 12-22 06:54:10] ax.early_stopping.strategies.base: The number of completed trials (0) is less than the minimum number of curves needed for early stopping (5). Not early stopping.\n"
     ]
    },
    {
     "name": "stderr",
     "output_type": "stream",
     "text": [
      "[INFO 12-22 06:54:10] Scheduler: Waiting for completed trials (for 10 sec, currently running trials: 5).\n"
     ]
    },
    {
     "name": "stderr",
     "output_type": "stream",
     "text": [
      "/tmp/tmp.rbKmWnPBQH/Ax-main/ax/core/map_data.py:200: FutureWarning: The behavior of DataFrame concatenation with empty or all-NA entries is deprecated. In a future version, this will no longer exclude empty or all-NA columns when determining the result dtypes. To retain the old behavior, exclude the relevant entries before the concat operation.\n",
      "  df = pd.concat(\n",
      "/tmp/tmp.rbKmWnPBQH/Ax-main/ax/core/map_data.py:200: FutureWarning: The behavior of DataFrame concatenation with empty or all-NA entries is deprecated. In a future version, this will no longer exclude empty or all-NA columns when determining the result dtypes. To retain the old behavior, exclude the relevant entries before the concat operation.\n",
      "  df = pd.concat(\n",
      "[INFO 12-22 06:54:21] ax.early_stopping.strategies.base: The number of completed trials (0) is less than the minimum number of curves needed for early stopping (5). Not early stopping.\n"
     ]
    },
    {
     "name": "stderr",
     "output_type": "stream",
     "text": [
      "[INFO 12-22 06:54:21] Scheduler: Waiting for completed trials (for 10 sec, currently running trials: 5).\n"
     ]
    },
    {
     "name": "stderr",
     "output_type": "stream",
     "text": [
      "/tmp/tmp.rbKmWnPBQH/Ax-main/ax/core/map_data.py:200: FutureWarning: The behavior of DataFrame concatenation with empty or all-NA entries is deprecated. In a future version, this will no longer exclude empty or all-NA columns when determining the result dtypes. To retain the old behavior, exclude the relevant entries before the concat operation.\n",
      "  df = pd.concat(\n",
      "/tmp/tmp.rbKmWnPBQH/Ax-main/ax/core/map_data.py:200: FutureWarning: The behavior of DataFrame concatenation with empty or all-NA entries is deprecated. In a future version, this will no longer exclude empty or all-NA columns when determining the result dtypes. To retain the old behavior, exclude the relevant entries before the concat operation.\n",
      "  df = pd.concat(\n",
      "[INFO 12-22 06:54:31] ax.early_stopping.strategies.base: The number of completed trials (0) is less than the minimum number of curves needed for early stopping (5). Not early stopping.\n"
     ]
    },
    {
     "name": "stderr",
     "output_type": "stream",
     "text": [
      "[INFO 12-22 06:54:31] Scheduler: Waiting for completed trials (for 10 sec, currently running trials: 5).\n"
     ]
    },
    {
     "name": "stderr",
     "output_type": "stream",
     "text": [
      "/tmp/tmp.rbKmWnPBQH/Ax-main/ax/core/map_data.py:200: FutureWarning: The behavior of DataFrame concatenation with empty or all-NA entries is deprecated. In a future version, this will no longer exclude empty or all-NA columns when determining the result dtypes. To retain the old behavior, exclude the relevant entries before the concat operation.\n",
      "  df = pd.concat(\n",
      "/tmp/tmp.rbKmWnPBQH/Ax-main/ax/core/map_data.py:200: FutureWarning: The behavior of DataFrame concatenation with empty or all-NA entries is deprecated. In a future version, this will no longer exclude empty or all-NA columns when determining the result dtypes. To retain the old behavior, exclude the relevant entries before the concat operation.\n",
      "  df = pd.concat(\n",
      "[INFO 12-22 06:54:41] ax.early_stopping.strategies.base: The number of completed trials (0) is less than the minimum number of curves needed for early stopping (5). Not early stopping.\n"
     ]
    },
    {
     "name": "stderr",
     "output_type": "stream",
     "text": [
      "[INFO 12-22 06:54:41] Scheduler: Waiting for completed trials (for 10 sec, currently running trials: 5).\n"
     ]
    },
    {
     "name": "stderr",
     "output_type": "stream",
     "text": [
      "/tmp/tmp.rbKmWnPBQH/Ax-main/ax/core/map_data.py:200: FutureWarning: The behavior of DataFrame concatenation with empty or all-NA entries is deprecated. In a future version, this will no longer exclude empty or all-NA columns when determining the result dtypes. To retain the old behavior, exclude the relevant entries before the concat operation.\n",
      "  df = pd.concat(\n",
      "/tmp/tmp.rbKmWnPBQH/Ax-main/ax/core/map_data.py:200: FutureWarning: The behavior of DataFrame concatenation with empty or all-NA entries is deprecated. In a future version, this will no longer exclude empty or all-NA columns when determining the result dtypes. To retain the old behavior, exclude the relevant entries before the concat operation.\n",
      "  df = pd.concat(\n",
      "[INFO 12-22 06:54:51] ax.early_stopping.strategies.base: The number of completed trials (0) is less than the minimum number of curves needed for early stopping (5). Not early stopping.\n"
     ]
    },
    {
     "name": "stderr",
     "output_type": "stream",
     "text": [
      "[INFO 12-22 06:54:51] Scheduler: Waiting for completed trials (for 10 sec, currently running trials: 5).\n"
     ]
    },
    {
     "name": "stderr",
     "output_type": "stream",
     "text": [
      "/tmp/tmp.rbKmWnPBQH/Ax-main/ax/core/map_data.py:200: FutureWarning: The behavior of DataFrame concatenation with empty or all-NA entries is deprecated. In a future version, this will no longer exclude empty or all-NA columns when determining the result dtypes. To retain the old behavior, exclude the relevant entries before the concat operation.\n",
      "  df = pd.concat(\n",
      "/tmp/tmp.rbKmWnPBQH/Ax-main/ax/core/map_data.py:200: FutureWarning: The behavior of DataFrame concatenation with empty or all-NA entries is deprecated. In a future version, this will no longer exclude empty or all-NA columns when determining the result dtypes. To retain the old behavior, exclude the relevant entries before the concat operation.\n",
      "  df = pd.concat(\n",
      "[INFO 12-22 06:55:02] ax.early_stopping.strategies.base: The number of completed trials (0) is less than the minimum number of curves needed for early stopping (5). Not early stopping.\n"
     ]
    },
    {
     "name": "stderr",
     "output_type": "stream",
     "text": [
      "[INFO 12-22 06:55:02] Scheduler: Waiting for completed trials (for 10 sec, currently running trials: 5).\n"
     ]
    },
    {
     "name": "stderr",
     "output_type": "stream",
     "text": [
      "/tmp/tmp.rbKmWnPBQH/Ax-main/ax/core/map_data.py:200: FutureWarning: The behavior of DataFrame concatenation with empty or all-NA entries is deprecated. In a future version, this will no longer exclude empty or all-NA columns when determining the result dtypes. To retain the old behavior, exclude the relevant entries before the concat operation.\n",
      "  df = pd.concat(\n",
      "/tmp/tmp.rbKmWnPBQH/Ax-main/ax/core/map_data.py:200: FutureWarning: The behavior of DataFrame concatenation with empty or all-NA entries is deprecated. In a future version, this will no longer exclude empty or all-NA columns when determining the result dtypes. To retain the old behavior, exclude the relevant entries before the concat operation.\n",
      "  df = pd.concat(\n",
      "[INFO 12-22 06:55:12] ax.early_stopping.strategies.base: The number of completed trials (0) is less than the minimum number of curves needed for early stopping (5). Not early stopping.\n"
     ]
    },
    {
     "name": "stderr",
     "output_type": "stream",
     "text": [
      "[INFO 12-22 06:55:12] Scheduler: Waiting for completed trials (for 10 sec, currently running trials: 5).\n"
     ]
    },
    {
     "name": "stderr",
     "output_type": "stream",
     "text": [
      "/tmp/tmp.rbKmWnPBQH/Ax-main/ax/core/map_data.py:200: FutureWarning: The behavior of DataFrame concatenation with empty or all-NA entries is deprecated. In a future version, this will no longer exclude empty or all-NA columns when determining the result dtypes. To retain the old behavior, exclude the relevant entries before the concat operation.\n",
      "  df = pd.concat(\n",
      "/tmp/tmp.rbKmWnPBQH/Ax-main/ax/core/map_data.py:200: FutureWarning: The behavior of DataFrame concatenation with empty or all-NA entries is deprecated. In a future version, this will no longer exclude empty or all-NA columns when determining the result dtypes. To retain the old behavior, exclude the relevant entries before the concat operation.\n",
      "  df = pd.concat(\n",
      "[INFO 12-22 06:55:22] ax.early_stopping.strategies.base: The number of completed trials (0) is less than the minimum number of curves needed for early stopping (5). Not early stopping.\n"
     ]
    },
    {
     "name": "stderr",
     "output_type": "stream",
     "text": [
      "[INFO 12-22 06:55:22] Scheduler: Waiting for completed trials (for 10 sec, currently running trials: 5).\n"
     ]
    },
    {
     "name": "stderr",
     "output_type": "stream",
     "text": [
      "/tmp/tmp.rbKmWnPBQH/Ax-main/ax/core/map_data.py:200: FutureWarning: The behavior of DataFrame concatenation with empty or all-NA entries is deprecated. In a future version, this will no longer exclude empty or all-NA columns when determining the result dtypes. To retain the old behavior, exclude the relevant entries before the concat operation.\n",
      "  df = pd.concat(\n",
      "/tmp/tmp.rbKmWnPBQH/Ax-main/ax/core/map_data.py:200: FutureWarning: The behavior of DataFrame concatenation with empty or all-NA entries is deprecated. In a future version, this will no longer exclude empty or all-NA columns when determining the result dtypes. To retain the old behavior, exclude the relevant entries before the concat operation.\n",
      "  df = pd.concat(\n",
      "[INFO 12-22 06:55:33] ax.early_stopping.strategies.base: The number of completed trials (0) is less than the minimum number of curves needed for early stopping (5). Not early stopping.\n"
     ]
    },
    {
     "name": "stderr",
     "output_type": "stream",
     "text": [
      "[INFO 12-22 06:55:33] Scheduler: Waiting for completed trials (for 10 sec, currently running trials: 5).\n"
     ]
    },
    {
     "name": "stderr",
     "output_type": "stream",
     "text": [
      "/tmp/tmp.rbKmWnPBQH/Ax-main/ax/core/map_data.py:200: FutureWarning: The behavior of DataFrame concatenation with empty or all-NA entries is deprecated. In a future version, this will no longer exclude empty or all-NA columns when determining the result dtypes. To retain the old behavior, exclude the relevant entries before the concat operation.\n",
      "  df = pd.concat(\n",
      "/tmp/tmp.rbKmWnPBQH/Ax-main/ax/core/map_data.py:200: FutureWarning: The behavior of DataFrame concatenation with empty or all-NA entries is deprecated. In a future version, this will no longer exclude empty or all-NA columns when determining the result dtypes. To retain the old behavior, exclude the relevant entries before the concat operation.\n",
      "  df = pd.concat(\n",
      "[INFO 12-22 06:55:43] ax.early_stopping.strategies.base: The number of completed trials (0) is less than the minimum number of curves needed for early stopping (5). Not early stopping.\n"
     ]
    },
    {
     "name": "stderr",
     "output_type": "stream",
     "text": [
      "[INFO 12-22 06:55:43] Scheduler: Waiting for completed trials (for 10 sec, currently running trials: 5).\n"
     ]
    },
    {
     "name": "stderr",
     "output_type": "stream",
     "text": [
      "/tmp/tmp.rbKmWnPBQH/Ax-main/ax/core/map_data.py:200: FutureWarning: The behavior of DataFrame concatenation with empty or all-NA entries is deprecated. In a future version, this will no longer exclude empty or all-NA columns when determining the result dtypes. To retain the old behavior, exclude the relevant entries before the concat operation.\n",
      "  df = pd.concat(\n",
      "/tmp/tmp.rbKmWnPBQH/Ax-main/ax/core/map_data.py:200: FutureWarning: The behavior of DataFrame concatenation with empty or all-NA entries is deprecated. In a future version, this will no longer exclude empty or all-NA columns when determining the result dtypes. To retain the old behavior, exclude the relevant entries before the concat operation.\n",
      "  df = pd.concat(\n",
      "[INFO 12-22 06:55:53] ax.early_stopping.strategies.base: The number of completed trials (0) is less than the minimum number of curves needed for early stopping (5). Not early stopping.\n"
     ]
    },
    {
     "name": "stderr",
     "output_type": "stream",
     "text": [
      "[INFO 12-22 06:55:53] Scheduler: Waiting for completed trials (for 10 sec, currently running trials: 5).\n"
     ]
    },
    {
     "name": "stderr",
     "output_type": "stream",
     "text": [
      "/tmp/tmp.rbKmWnPBQH/Ax-main/ax/core/map_data.py:200: FutureWarning: The behavior of DataFrame concatenation with empty or all-NA entries is deprecated. In a future version, this will no longer exclude empty or all-NA columns when determining the result dtypes. To retain the old behavior, exclude the relevant entries before the concat operation.\n",
      "  df = pd.concat(\n",
      "/tmp/tmp.rbKmWnPBQH/Ax-main/ax/core/map_data.py:200: FutureWarning: The behavior of DataFrame concatenation with empty or all-NA entries is deprecated. In a future version, this will no longer exclude empty or all-NA columns when determining the result dtypes. To retain the old behavior, exclude the relevant entries before the concat operation.\n",
      "  df = pd.concat(\n",
      "[INFO 12-22 06:56:03] ax.early_stopping.strategies.base: The number of completed trials (0) is less than the minimum number of curves needed for early stopping (5). Not early stopping.\n"
     ]
    },
    {
     "name": "stderr",
     "output_type": "stream",
     "text": [
      "[INFO 12-22 06:56:03] Scheduler: Waiting for completed trials (for 10 sec, currently running trials: 5).\n"
     ]
    },
    {
     "name": "stderr",
     "output_type": "stream",
     "text": [
      "/tmp/tmp.rbKmWnPBQH/Ax-main/ax/core/map_data.py:200: FutureWarning: The behavior of DataFrame concatenation with empty or all-NA entries is deprecated. In a future version, this will no longer exclude empty or all-NA columns when determining the result dtypes. To retain the old behavior, exclude the relevant entries before the concat operation.\n",
      "  df = pd.concat(\n",
      "/tmp/tmp.rbKmWnPBQH/Ax-main/ax/core/map_data.py:200: FutureWarning: The behavior of DataFrame concatenation with empty or all-NA entries is deprecated. In a future version, this will no longer exclude empty or all-NA columns when determining the result dtypes. To retain the old behavior, exclude the relevant entries before the concat operation.\n",
      "  df = pd.concat(\n",
      "[INFO 12-22 06:56:14] ax.early_stopping.strategies.base: The number of completed trials (0) is less than the minimum number of curves needed for early stopping (5). Not early stopping.\n"
     ]
    },
    {
     "name": "stderr",
     "output_type": "stream",
     "text": [
      "[INFO 12-22 06:56:14] Scheduler: Waiting for completed trials (for 10 sec, currently running trials: 5).\n"
     ]
    },
    {
     "name": "stderr",
     "output_type": "stream",
     "text": [
      "/tmp/tmp.rbKmWnPBQH/Ax-main/ax/core/map_data.py:200: FutureWarning: The behavior of DataFrame concatenation with empty or all-NA entries is deprecated. In a future version, this will no longer exclude empty or all-NA columns when determining the result dtypes. To retain the old behavior, exclude the relevant entries before the concat operation.\n",
      "  df = pd.concat(\n",
      "/tmp/tmp.rbKmWnPBQH/Ax-main/ax/core/map_data.py:200: FutureWarning: The behavior of DataFrame concatenation with empty or all-NA entries is deprecated. In a future version, this will no longer exclude empty or all-NA columns when determining the result dtypes. To retain the old behavior, exclude the relevant entries before the concat operation.\n",
      "  df = pd.concat(\n",
      "[INFO 12-22 06:56:24] ax.early_stopping.strategies.base: The number of completed trials (0) is less than the minimum number of curves needed for early stopping (5). Not early stopping.\n"
     ]
    },
    {
     "name": "stderr",
     "output_type": "stream",
     "text": [
      "[INFO 12-22 06:56:24] Scheduler: Waiting for completed trials (for 10 sec, currently running trials: 5).\n"
     ]
    },
    {
     "name": "stderr",
     "output_type": "stream",
     "text": [
      "/tmp/tmp.rbKmWnPBQH/Ax-main/ax/core/map_data.py:200: FutureWarning: The behavior of DataFrame concatenation with empty or all-NA entries is deprecated. In a future version, this will no longer exclude empty or all-NA columns when determining the result dtypes. To retain the old behavior, exclude the relevant entries before the concat operation.\n",
      "  df = pd.concat(\n"
     ]
    },
    {
     "name": "stderr",
     "output_type": "stream",
     "text": [
      "/tmp/tmp.rbKmWnPBQH/Ax-main/ax/core/map_data.py:200: FutureWarning: The behavior of DataFrame concatenation with empty or all-NA entries is deprecated. In a future version, this will no longer exclude empty or all-NA columns when determining the result dtypes. To retain the old behavior, exclude the relevant entries before the concat operation.\n",
      "  df = pd.concat(\n",
      "[INFO 12-22 06:56:35] ax.early_stopping.strategies.base: The number of completed trials (0) is less than the minimum number of curves needed for early stopping (5). Not early stopping.\n"
     ]
    },
    {
     "name": "stderr",
     "output_type": "stream",
     "text": [
      "[INFO 12-22 06:56:35] Scheduler: Waiting for completed trials (for 10 sec, currently running trials: 5).\n"
     ]
    },
    {
     "name": "stderr",
     "output_type": "stream",
     "text": [
      "/tmp/tmp.rbKmWnPBQH/Ax-main/ax/core/map_data.py:200: FutureWarning: The behavior of DataFrame concatenation with empty or all-NA entries is deprecated. In a future version, this will no longer exclude empty or all-NA columns when determining the result dtypes. To retain the old behavior, exclude the relevant entries before the concat operation.\n",
      "  df = pd.concat(\n",
      "/tmp/tmp.rbKmWnPBQH/Ax-main/ax/core/map_data.py:200: FutureWarning: The behavior of DataFrame concatenation with empty or all-NA entries is deprecated. In a future version, this will no longer exclude empty or all-NA columns when determining the result dtypes. To retain the old behavior, exclude the relevant entries before the concat operation.\n",
      "  df = pd.concat(\n",
      "[INFO 12-22 06:56:45] ax.early_stopping.strategies.base: The number of completed trials (0) is less than the minimum number of curves needed for early stopping (5). Not early stopping.\n"
     ]
    },
    {
     "name": "stderr",
     "output_type": "stream",
     "text": [
      "[INFO 12-22 06:56:45] Scheduler: Waiting for completed trials (for 10 sec, currently running trials: 5).\n"
     ]
    },
    {
     "name": "stderr",
     "output_type": "stream",
     "text": [
      "/tmp/tmp.rbKmWnPBQH/Ax-main/ax/core/map_data.py:200: FutureWarning: The behavior of DataFrame concatenation with empty or all-NA entries is deprecated. In a future version, this will no longer exclude empty or all-NA columns when determining the result dtypes. To retain the old behavior, exclude the relevant entries before the concat operation.\n",
      "  df = pd.concat(\n",
      "/tmp/tmp.rbKmWnPBQH/Ax-main/ax/core/map_data.py:200: FutureWarning: The behavior of DataFrame concatenation with empty or all-NA entries is deprecated. In a future version, this will no longer exclude empty or all-NA columns when determining the result dtypes. To retain the old behavior, exclude the relevant entries before the concat operation.\n",
      "  df = pd.concat(\n",
      "[INFO 12-22 06:56:55] ax.early_stopping.strategies.base: The number of completed trials (0) is less than the minimum number of curves needed for early stopping (5). Not early stopping.\n"
     ]
    },
    {
     "name": "stderr",
     "output_type": "stream",
     "text": [
      "[INFO 12-22 06:56:55] Scheduler: Waiting for completed trials (for 10 sec, currently running trials: 5).\n"
     ]
    },
    {
     "name": "stderr",
     "output_type": "stream",
     "text": [
      "/tmp/tmp.rbKmWnPBQH/Ax-main/ax/core/map_data.py:200: FutureWarning: The behavior of DataFrame concatenation with empty or all-NA entries is deprecated. In a future version, this will no longer exclude empty or all-NA columns when determining the result dtypes. To retain the old behavior, exclude the relevant entries before the concat operation.\n",
      "  df = pd.concat(\n",
      "/tmp/tmp.rbKmWnPBQH/Ax-main/ax/core/map_data.py:200: FutureWarning: The behavior of DataFrame concatenation with empty or all-NA entries is deprecated. In a future version, this will no longer exclude empty or all-NA columns when determining the result dtypes. To retain the old behavior, exclude the relevant entries before the concat operation.\n",
      "  df = pd.concat(\n",
      "[INFO 12-22 06:57:06] ax.early_stopping.strategies.base: The number of completed trials (0) is less than the minimum number of curves needed for early stopping (5). Not early stopping.\n"
     ]
    },
    {
     "name": "stderr",
     "output_type": "stream",
     "text": [
      "[INFO 12-22 06:57:06] Scheduler: Waiting for completed trials (for 10 sec, currently running trials: 5).\n"
     ]
    },
    {
     "name": "stderr",
     "output_type": "stream",
     "text": [
      "/tmp/tmp.rbKmWnPBQH/Ax-main/ax/core/map_data.py:200: FutureWarning: The behavior of DataFrame concatenation with empty or all-NA entries is deprecated. In a future version, this will no longer exclude empty or all-NA columns when determining the result dtypes. To retain the old behavior, exclude the relevant entries before the concat operation.\n",
      "  df = pd.concat(\n",
      "/tmp/tmp.rbKmWnPBQH/Ax-main/ax/core/map_data.py:200: FutureWarning: The behavior of DataFrame concatenation with empty or all-NA entries is deprecated. In a future version, this will no longer exclude empty or all-NA columns when determining the result dtypes. To retain the old behavior, exclude the relevant entries before the concat operation.\n",
      "  df = pd.concat(\n",
      "[INFO 12-22 06:57:16] ax.early_stopping.strategies.base: The number of completed trials (0) is less than the minimum number of curves needed for early stopping (5). Not early stopping.\n"
     ]
    },
    {
     "name": "stderr",
     "output_type": "stream",
     "text": [
      "[INFO 12-22 06:57:16] Scheduler: Waiting for completed trials (for 10 sec, currently running trials: 5).\n"
     ]
    },
    {
     "name": "stderr",
     "output_type": "stream",
     "text": [
      "/tmp/tmp.rbKmWnPBQH/Ax-main/ax/core/map_data.py:200: FutureWarning: The behavior of DataFrame concatenation with empty or all-NA entries is deprecated. In a future version, this will no longer exclude empty or all-NA columns when determining the result dtypes. To retain the old behavior, exclude the relevant entries before the concat operation.\n",
      "  df = pd.concat(\n",
      "/tmp/tmp.rbKmWnPBQH/Ax-main/ax/core/map_data.py:200: FutureWarning: The behavior of DataFrame concatenation with empty or all-NA entries is deprecated. In a future version, this will no longer exclude empty or all-NA columns when determining the result dtypes. To retain the old behavior, exclude the relevant entries before the concat operation.\n",
      "  df = pd.concat(\n",
      "[INFO 12-22 06:57:26] ax.early_stopping.strategies.base: The number of completed trials (0) is less than the minimum number of curves needed for early stopping (5). Not early stopping.\n"
     ]
    },
    {
     "name": "stderr",
     "output_type": "stream",
     "text": [
      "[INFO 12-22 06:57:26] Scheduler: Waiting for completed trials (for 10 sec, currently running trials: 5).\n"
     ]
    },
    {
     "name": "stderr",
     "output_type": "stream",
     "text": [
      "/tmp/tmp.rbKmWnPBQH/Ax-main/ax/core/map_data.py:200: FutureWarning: The behavior of DataFrame concatenation with empty or all-NA entries is deprecated. In a future version, this will no longer exclude empty or all-NA columns when determining the result dtypes. To retain the old behavior, exclude the relevant entries before the concat operation.\n",
      "  df = pd.concat(\n",
      "/tmp/tmp.rbKmWnPBQH/Ax-main/ax/core/map_data.py:200: FutureWarning: The behavior of DataFrame concatenation with empty or all-NA entries is deprecated. In a future version, this will no longer exclude empty or all-NA columns when determining the result dtypes. To retain the old behavior, exclude the relevant entries before the concat operation.\n",
      "  df = pd.concat(\n",
      "[INFO 12-22 06:57:36] ax.early_stopping.strategies.base: The number of completed trials (0) is less than the minimum number of curves needed for early stopping (5). Not early stopping.\n"
     ]
    },
    {
     "name": "stderr",
     "output_type": "stream",
     "text": [
      "[INFO 12-22 06:57:36] Scheduler: Waiting for completed trials (for 10 sec, currently running trials: 5).\n"
     ]
    },
    {
     "name": "stderr",
     "output_type": "stream",
     "text": [
      "/tmp/tmp.rbKmWnPBQH/Ax-main/ax/core/map_data.py:200: FutureWarning: The behavior of DataFrame concatenation with empty or all-NA entries is deprecated. In a future version, this will no longer exclude empty or all-NA columns when determining the result dtypes. To retain the old behavior, exclude the relevant entries before the concat operation.\n",
      "  df = pd.concat(\n",
      "/tmp/tmp.rbKmWnPBQH/Ax-main/ax/core/map_data.py:200: FutureWarning: The behavior of DataFrame concatenation with empty or all-NA entries is deprecated. In a future version, this will no longer exclude empty or all-NA columns when determining the result dtypes. To retain the old behavior, exclude the relevant entries before the concat operation.\n",
      "  df = pd.concat(\n",
      "[INFO 12-22 06:57:47] ax.early_stopping.strategies.base: The number of completed trials (0) is less than the minimum number of curves needed for early stopping (5). Not early stopping.\n"
     ]
    },
    {
     "name": "stderr",
     "output_type": "stream",
     "text": [
      "[INFO 12-22 06:57:47] Scheduler: Waiting for completed trials (for 10 sec, currently running trials: 5).\n"
     ]
    },
    {
     "name": "stderr",
     "output_type": "stream",
     "text": [
      "/tmp/tmp.rbKmWnPBQH/Ax-main/ax/core/map_data.py:200: FutureWarning: The behavior of DataFrame concatenation with empty or all-NA entries is deprecated. In a future version, this will no longer exclude empty or all-NA columns when determining the result dtypes. To retain the old behavior, exclude the relevant entries before the concat operation.\n",
      "  df = pd.concat(\n",
      "/tmp/tmp.rbKmWnPBQH/Ax-main/ax/core/map_data.py:200: FutureWarning: The behavior of DataFrame concatenation with empty or all-NA entries is deprecated. In a future version, this will no longer exclude empty or all-NA columns when determining the result dtypes. To retain the old behavior, exclude the relevant entries before the concat operation.\n",
      "  df = pd.concat(\n",
      "[INFO 12-22 06:57:57] ax.early_stopping.strategies.base: The number of completed trials (0) is less than the minimum number of curves needed for early stopping (5). Not early stopping.\n"
     ]
    },
    {
     "name": "stderr",
     "output_type": "stream",
     "text": [
      "[INFO 12-22 06:57:57] Scheduler: Waiting for completed trials (for 10 sec, currently running trials: 5).\n"
     ]
    },
    {
     "name": "stderr",
     "output_type": "stream",
     "text": [
      "/tmp/tmp.rbKmWnPBQH/Ax-main/ax/core/map_data.py:200: FutureWarning: The behavior of DataFrame concatenation with empty or all-NA entries is deprecated. In a future version, this will no longer exclude empty or all-NA columns when determining the result dtypes. To retain the old behavior, exclude the relevant entries before the concat operation.\n",
      "  df = pd.concat(\n",
      "/tmp/tmp.rbKmWnPBQH/Ax-main/ax/core/map_data.py:200: FutureWarning: The behavior of DataFrame concatenation with empty or all-NA entries is deprecated. In a future version, this will no longer exclude empty or all-NA columns when determining the result dtypes. To retain the old behavior, exclude the relevant entries before the concat operation.\n",
      "  df = pd.concat(\n",
      "[INFO 12-22 06:58:07] ax.early_stopping.strategies.base: The number of completed trials (0) is less than the minimum number of curves needed for early stopping (5). Not early stopping.\n"
     ]
    },
    {
     "name": "stderr",
     "output_type": "stream",
     "text": [
      "[INFO 12-22 06:58:07] Scheduler: Waiting for completed trials (for 10 sec, currently running trials: 5).\n"
     ]
    },
    {
     "name": "stderr",
     "output_type": "stream",
     "text": [
      "/tmp/tmp.rbKmWnPBQH/Ax-main/ax/core/map_data.py:200: FutureWarning: The behavior of DataFrame concatenation with empty or all-NA entries is deprecated. In a future version, this will no longer exclude empty or all-NA columns when determining the result dtypes. To retain the old behavior, exclude the relevant entries before the concat operation.\n",
      "  df = pd.concat(\n",
      "/tmp/tmp.rbKmWnPBQH/Ax-main/ax/core/map_data.py:200: FutureWarning: The behavior of DataFrame concatenation with empty or all-NA entries is deprecated. In a future version, this will no longer exclude empty or all-NA columns when determining the result dtypes. To retain the old behavior, exclude the relevant entries before the concat operation.\n",
      "  df = pd.concat(\n",
      "[INFO 12-22 06:58:17] ax.early_stopping.strategies.base: The number of completed trials (0) is less than the minimum number of curves needed for early stopping (5). Not early stopping.\n"
     ]
    },
    {
     "name": "stderr",
     "output_type": "stream",
     "text": [
      "[INFO 12-22 06:58:17] Scheduler: Waiting for completed trials (for 10 sec, currently running trials: 5).\n"
     ]
    },
    {
     "name": "stderr",
     "output_type": "stream",
     "text": [
      "/tmp/tmp.rbKmWnPBQH/Ax-main/ax/core/map_data.py:200: FutureWarning: The behavior of DataFrame concatenation with empty or all-NA entries is deprecated. In a future version, this will no longer exclude empty or all-NA columns when determining the result dtypes. To retain the old behavior, exclude the relevant entries before the concat operation.\n",
      "  df = pd.concat(\n",
      "/tmp/tmp.rbKmWnPBQH/Ax-main/ax/core/map_data.py:200: FutureWarning: The behavior of DataFrame concatenation with empty or all-NA entries is deprecated. In a future version, this will no longer exclude empty or all-NA columns when determining the result dtypes. To retain the old behavior, exclude the relevant entries before the concat operation.\n",
      "  df = pd.concat(\n",
      "[INFO 12-22 06:58:28] ax.early_stopping.strategies.base: The number of completed trials (0) is less than the minimum number of curves needed for early stopping (5). Not early stopping.\n"
     ]
    },
    {
     "name": "stderr",
     "output_type": "stream",
     "text": [
      "[INFO 12-22 06:58:28] Scheduler: Waiting for completed trials (for 10 sec, currently running trials: 5).\n"
     ]
    },
    {
     "name": "stderr",
     "output_type": "stream",
     "text": [
      "/tmp/tmp.rbKmWnPBQH/Ax-main/ax/core/map_data.py:200: FutureWarning: The behavior of DataFrame concatenation with empty or all-NA entries is deprecated. In a future version, this will no longer exclude empty or all-NA columns when determining the result dtypes. To retain the old behavior, exclude the relevant entries before the concat operation.\n",
      "  df = pd.concat(\n",
      "/tmp/tmp.rbKmWnPBQH/Ax-main/ax/core/map_data.py:200: FutureWarning: The behavior of DataFrame concatenation with empty or all-NA entries is deprecated. In a future version, this will no longer exclude empty or all-NA columns when determining the result dtypes. To retain the old behavior, exclude the relevant entries before the concat operation.\n",
      "  df = pd.concat(\n",
      "[INFO 12-22 06:58:38] ax.early_stopping.strategies.base: The number of completed trials (0) is less than the minimum number of curves needed for early stopping (5). Not early stopping.\n"
     ]
    },
    {
     "name": "stderr",
     "output_type": "stream",
     "text": [
      "[INFO 12-22 06:58:38] Scheduler: Waiting for completed trials (for 10 sec, currently running trials: 5).\n"
     ]
    },
    {
     "name": "stderr",
     "output_type": "stream",
     "text": [
      "/tmp/tmp.rbKmWnPBQH/Ax-main/ax/core/map_data.py:200: FutureWarning: The behavior of DataFrame concatenation with empty or all-NA entries is deprecated. In a future version, this will no longer exclude empty or all-NA columns when determining the result dtypes. To retain the old behavior, exclude the relevant entries before the concat operation.\n",
      "  df = pd.concat(\n",
      "/tmp/tmp.rbKmWnPBQH/Ax-main/ax/core/map_data.py:200: FutureWarning: The behavior of DataFrame concatenation with empty or all-NA entries is deprecated. In a future version, this will no longer exclude empty or all-NA columns when determining the result dtypes. To retain the old behavior, exclude the relevant entries before the concat operation.\n",
      "  df = pd.concat(\n",
      "[INFO 12-22 06:58:48] ax.early_stopping.strategies.base: The number of completed trials (0) is less than the minimum number of curves needed for early stopping (5). Not early stopping.\n"
     ]
    },
    {
     "name": "stderr",
     "output_type": "stream",
     "text": [
      "[INFO 12-22 06:58:48] Scheduler: Waiting for completed trials (for 10 sec, currently running trials: 5).\n"
     ]
    },
    {
     "name": "stderr",
     "output_type": "stream",
     "text": [
      "/tmp/tmp.rbKmWnPBQH/Ax-main/ax/core/map_data.py:200: FutureWarning: The behavior of DataFrame concatenation with empty or all-NA entries is deprecated. In a future version, this will no longer exclude empty or all-NA columns when determining the result dtypes. To retain the old behavior, exclude the relevant entries before the concat operation.\n",
      "  df = pd.concat(\n",
      "/tmp/tmp.rbKmWnPBQH/Ax-main/ax/core/map_data.py:200: FutureWarning: The behavior of DataFrame concatenation with empty or all-NA entries is deprecated. In a future version, this will no longer exclude empty or all-NA columns when determining the result dtypes. To retain the old behavior, exclude the relevant entries before the concat operation.\n",
      "  df = pd.concat(\n",
      "[INFO 12-22 06:58:59] ax.early_stopping.strategies.base: The number of completed trials (0) is less than the minimum number of curves needed for early stopping (5). Not early stopping.\n"
     ]
    },
    {
     "name": "stderr",
     "output_type": "stream",
     "text": [
      "[INFO 12-22 06:58:59] Scheduler: Waiting for completed trials (for 10 sec, currently running trials: 5).\n"
     ]
    },
    {
     "name": "stderr",
     "output_type": "stream",
     "text": [
      "/tmp/tmp.rbKmWnPBQH/Ax-main/ax/core/map_data.py:200: FutureWarning: The behavior of DataFrame concatenation with empty or all-NA entries is deprecated. In a future version, this will no longer exclude empty or all-NA columns when determining the result dtypes. To retain the old behavior, exclude the relevant entries before the concat operation.\n",
      "  df = pd.concat(\n",
      "/tmp/tmp.rbKmWnPBQH/Ax-main/ax/core/map_data.py:200: FutureWarning: The behavior of DataFrame concatenation with empty or all-NA entries is deprecated. In a future version, this will no longer exclude empty or all-NA columns when determining the result dtypes. To retain the old behavior, exclude the relevant entries before the concat operation.\n",
      "  df = pd.concat(\n",
      "[INFO 12-22 06:59:09] ax.early_stopping.strategies.base: The number of completed trials (0) is less than the minimum number of curves needed for early stopping (5). Not early stopping.\n"
     ]
    },
    {
     "name": "stderr",
     "output_type": "stream",
     "text": [
      "[INFO 12-22 06:59:09] Scheduler: Waiting for completed trials (for 10 sec, currently running trials: 5).\n"
     ]
    },
    {
     "name": "stderr",
     "output_type": "stream",
     "text": [
      "/tmp/tmp.rbKmWnPBQH/Ax-main/ax/core/map_data.py:200: FutureWarning: The behavior of DataFrame concatenation with empty or all-NA entries is deprecated. In a future version, this will no longer exclude empty or all-NA columns when determining the result dtypes. To retain the old behavior, exclude the relevant entries before the concat operation.\n",
      "  df = pd.concat(\n",
      "/tmp/tmp.rbKmWnPBQH/Ax-main/ax/core/map_data.py:200: FutureWarning: The behavior of DataFrame concatenation with empty or all-NA entries is deprecated. In a future version, this will no longer exclude empty or all-NA columns when determining the result dtypes. To retain the old behavior, exclude the relevant entries before the concat operation.\n",
      "  df = pd.concat(\n",
      "[INFO 12-22 06:59:19] ax.early_stopping.strategies.base: The number of completed trials (0) is less than the minimum number of curves needed for early stopping (5). Not early stopping.\n"
     ]
    },
    {
     "name": "stderr",
     "output_type": "stream",
     "text": [
      "[WARNING 12-22 06:59:19] Scheduler: Both `init_seconds_between_polls` and `early_stopping_strategy supplied. `init_seconds_between_polls=1` will be overrridden by `early_stopping_strategy.seconds_between_polls=10` and polling will take place at a constant rate.\n"
     ]
    },
    {
     "name": "stderr",
     "output_type": "stream",
     "text": [
      "/tmp/tmp.rbKmWnPBQH/Ax-main/ax/core/map_data.py:200: FutureWarning: The behavior of DataFrame concatenation with empty or all-NA entries is deprecated. In a future version, this will no longer exclude empty or all-NA columns when determining the result dtypes. To retain the old behavior, exclude the relevant entries before the concat operation.\n",
      "  df = pd.concat(\n"
     ]
    },
    {
     "name": "stderr",
     "output_type": "stream",
     "text": [
      "/tmp/tmp.rbKmWnPBQH/Ax-main/ax/core/map_data.py:200: FutureWarning: The behavior of DataFrame concatenation with empty or all-NA entries is deprecated. In a future version, this will no longer exclude empty or all-NA columns when determining the result dtypes. To retain the old behavior, exclude the relevant entries before the concat operation.\n",
      "  df = pd.concat(\n",
      "[INFO 12-22 06:59:19] ax.early_stopping.strategies.base: The number of completed trials (0) is less than the minimum number of curves needed for early stopping (5). Not early stopping.\n"
     ]
    },
    {
     "name": "stderr",
     "output_type": "stream",
     "text": [
      "[INFO 12-22 06:59:19] Scheduler: Waiting for completed trials (for 10 sec, currently running trials: 5).\n"
     ]
    },
    {
     "name": "stderr",
     "output_type": "stream",
     "text": [
      "/tmp/tmp.rbKmWnPBQH/Ax-main/ax/core/map_data.py:200: FutureWarning: The behavior of DataFrame concatenation with empty or all-NA entries is deprecated. In a future version, this will no longer exclude empty or all-NA columns when determining the result dtypes. To retain the old behavior, exclude the relevant entries before the concat operation.\n",
      "  df = pd.concat(\n",
      "/tmp/tmp.rbKmWnPBQH/Ax-main/ax/core/map_data.py:200: FutureWarning: The behavior of DataFrame concatenation with empty or all-NA entries is deprecated. In a future version, this will no longer exclude empty or all-NA columns when determining the result dtypes. To retain the old behavior, exclude the relevant entries before the concat operation.\n",
      "  df = pd.concat(\n",
      "[INFO 12-22 06:59:30] ax.early_stopping.strategies.base: The number of completed trials (0) is less than the minimum number of curves needed for early stopping (5). Not early stopping.\n"
     ]
    },
    {
     "name": "stderr",
     "output_type": "stream",
     "text": [
      "[INFO 12-22 06:59:30] Scheduler: Waiting for completed trials (for 10 sec, currently running trials: 5).\n"
     ]
    },
    {
     "name": "stderr",
     "output_type": "stream",
     "text": [
      "/tmp/tmp.rbKmWnPBQH/Ax-main/ax/core/map_data.py:200: FutureWarning: The behavior of DataFrame concatenation with empty or all-NA entries is deprecated. In a future version, this will no longer exclude empty or all-NA columns when determining the result dtypes. To retain the old behavior, exclude the relevant entries before the concat operation.\n",
      "  df = pd.concat(\n",
      "/tmp/tmp.rbKmWnPBQH/Ax-main/ax/core/map_data.py:200: FutureWarning: The behavior of DataFrame concatenation with empty or all-NA entries is deprecated. In a future version, this will no longer exclude empty or all-NA columns when determining the result dtypes. To retain the old behavior, exclude the relevant entries before the concat operation.\n",
      "  df = pd.concat(\n",
      "[INFO 12-22 06:59:40] ax.early_stopping.strategies.base: The number of completed trials (0) is less than the minimum number of curves needed for early stopping (5). Not early stopping.\n"
     ]
    },
    {
     "name": "stderr",
     "output_type": "stream",
     "text": [
      "[INFO 12-22 06:59:40] Scheduler: Waiting for completed trials (for 10 sec, currently running trials: 5).\n"
     ]
    },
    {
     "name": "stderr",
     "output_type": "stream",
     "text": [
      "/tmp/tmp.rbKmWnPBQH/Ax-main/ax/core/map_data.py:200: FutureWarning: The behavior of DataFrame concatenation with empty or all-NA entries is deprecated. In a future version, this will no longer exclude empty or all-NA columns when determining the result dtypes. To retain the old behavior, exclude the relevant entries before the concat operation.\n",
      "  df = pd.concat(\n",
      "/tmp/tmp.rbKmWnPBQH/Ax-main/ax/core/map_data.py:200: FutureWarning: The behavior of DataFrame concatenation with empty or all-NA entries is deprecated. In a future version, this will no longer exclude empty or all-NA columns when determining the result dtypes. To retain the old behavior, exclude the relevant entries before the concat operation.\n",
      "  df = pd.concat(\n",
      "[INFO 12-22 06:59:50] ax.early_stopping.strategies.base: The number of completed trials (0) is less than the minimum number of curves needed for early stopping (5). Not early stopping.\n"
     ]
    },
    {
     "name": "stderr",
     "output_type": "stream",
     "text": [
      "[INFO 12-22 06:59:50] Scheduler: Waiting for completed trials (for 10 sec, currently running trials: 5).\n"
     ]
    },
    {
     "name": "stderr",
     "output_type": "stream",
     "text": [
      "/tmp/tmp.rbKmWnPBQH/Ax-main/ax/core/map_data.py:200: FutureWarning: The behavior of DataFrame concatenation with empty or all-NA entries is deprecated. In a future version, this will no longer exclude empty or all-NA columns when determining the result dtypes. To retain the old behavior, exclude the relevant entries before the concat operation.\n",
      "  df = pd.concat(\n",
      "/tmp/tmp.rbKmWnPBQH/Ax-main/ax/core/map_data.py:200: FutureWarning: The behavior of DataFrame concatenation with empty or all-NA entries is deprecated. In a future version, this will no longer exclude empty or all-NA columns when determining the result dtypes. To retain the old behavior, exclude the relevant entries before the concat operation.\n",
      "  df = pd.concat(\n",
      "[INFO 12-22 07:00:00] ax.early_stopping.strategies.base: The number of completed trials (0) is less than the minimum number of curves needed for early stopping (5). Not early stopping.\n"
     ]
    },
    {
     "name": "stderr",
     "output_type": "stream",
     "text": [
      "[INFO 12-22 07:00:00] Scheduler: Waiting for completed trials (for 10 sec, currently running trials: 5).\n"
     ]
    },
    {
     "name": "stderr",
     "output_type": "stream",
     "text": [
      "/tmp/tmp.rbKmWnPBQH/Ax-main/ax/core/map_data.py:200: FutureWarning: The behavior of DataFrame concatenation with empty or all-NA entries is deprecated. In a future version, this will no longer exclude empty or all-NA columns when determining the result dtypes. To retain the old behavior, exclude the relevant entries before the concat operation.\n",
      "  df = pd.concat(\n",
      "/tmp/tmp.rbKmWnPBQH/Ax-main/ax/core/map_data.py:200: FutureWarning: The behavior of DataFrame concatenation with empty or all-NA entries is deprecated. In a future version, this will no longer exclude empty or all-NA columns when determining the result dtypes. To retain the old behavior, exclude the relevant entries before the concat operation.\n",
      "  df = pd.concat(\n",
      "[INFO 12-22 07:00:11] ax.early_stopping.strategies.base: The number of completed trials (0) is less than the minimum number of curves needed for early stopping (5). Not early stopping.\n"
     ]
    },
    {
     "name": "stderr",
     "output_type": "stream",
     "text": [
      "[INFO 12-22 07:00:11] Scheduler: Waiting for completed trials (for 10 sec, currently running trials: 5).\n"
     ]
    },
    {
     "name": "stderr",
     "output_type": "stream",
     "text": [
      "/tmp/tmp.rbKmWnPBQH/Ax-main/ax/core/map_data.py:200: FutureWarning: The behavior of DataFrame concatenation with empty or all-NA entries is deprecated. In a future version, this will no longer exclude empty or all-NA columns when determining the result dtypes. To retain the old behavior, exclude the relevant entries before the concat operation.\n",
      "  df = pd.concat(\n",
      "/tmp/tmp.rbKmWnPBQH/Ax-main/ax/core/map_data.py:200: FutureWarning: The behavior of DataFrame concatenation with empty or all-NA entries is deprecated. In a future version, this will no longer exclude empty or all-NA columns when determining the result dtypes. To retain the old behavior, exclude the relevant entries before the concat operation.\n",
      "  df = pd.concat(\n",
      "[INFO 12-22 07:00:21] ax.early_stopping.strategies.base: The number of completed trials (0) is less than the minimum number of curves needed for early stopping (5). Not early stopping.\n"
     ]
    },
    {
     "name": "stderr",
     "output_type": "stream",
     "text": [
      "[INFO 12-22 07:00:21] Scheduler: Waiting for completed trials (for 10 sec, currently running trials: 5).\n"
     ]
    },
    {
     "name": "stderr",
     "output_type": "stream",
     "text": [
      "/tmp/tmp.rbKmWnPBQH/Ax-main/ax/core/map_data.py:200: FutureWarning: The behavior of DataFrame concatenation with empty or all-NA entries is deprecated. In a future version, this will no longer exclude empty or all-NA columns when determining the result dtypes. To retain the old behavior, exclude the relevant entries before the concat operation.\n",
      "  df = pd.concat(\n",
      "/tmp/tmp.rbKmWnPBQH/Ax-main/ax/core/map_data.py:200: FutureWarning: The behavior of DataFrame concatenation with empty or all-NA entries is deprecated. In a future version, this will no longer exclude empty or all-NA columns when determining the result dtypes. To retain the old behavior, exclude the relevant entries before the concat operation.\n",
      "  df = pd.concat(\n",
      "[INFO 12-22 07:00:31] ax.early_stopping.strategies.base: The number of completed trials (0) is less than the minimum number of curves needed for early stopping (5). Not early stopping.\n"
     ]
    },
    {
     "name": "stderr",
     "output_type": "stream",
     "text": [
      "[INFO 12-22 07:00:31] Scheduler: Waiting for completed trials (for 10 sec, currently running trials: 5).\n"
     ]
    },
    {
     "name": "stderr",
     "output_type": "stream",
     "text": [
      "/tmp/tmp.rbKmWnPBQH/Ax-main/ax/core/map_data.py:200: FutureWarning: The behavior of DataFrame concatenation with empty or all-NA entries is deprecated. In a future version, this will no longer exclude empty or all-NA columns when determining the result dtypes. To retain the old behavior, exclude the relevant entries before the concat operation.\n",
      "  df = pd.concat(\n",
      "/tmp/tmp.rbKmWnPBQH/Ax-main/ax/core/map_data.py:200: FutureWarning: The behavior of DataFrame concatenation with empty or all-NA entries is deprecated. In a future version, this will no longer exclude empty or all-NA columns when determining the result dtypes. To retain the old behavior, exclude the relevant entries before the concat operation.\n",
      "  df = pd.concat(\n",
      "[INFO 12-22 07:00:42] ax.early_stopping.strategies.base: The number of completed trials (0) is less than the minimum number of curves needed for early stopping (5). Not early stopping.\n"
     ]
    },
    {
     "name": "stderr",
     "output_type": "stream",
     "text": [
      "[INFO 12-22 07:00:42] Scheduler: Waiting for completed trials (for 10 sec, currently running trials: 5).\n"
     ]
    },
    {
     "name": "stderr",
     "output_type": "stream",
     "text": [
      "/tmp/tmp.rbKmWnPBQH/Ax-main/ax/core/map_data.py:200: FutureWarning: The behavior of DataFrame concatenation with empty or all-NA entries is deprecated. In a future version, this will no longer exclude empty or all-NA columns when determining the result dtypes. To retain the old behavior, exclude the relevant entries before the concat operation.\n",
      "  df = pd.concat(\n",
      "/tmp/tmp.rbKmWnPBQH/Ax-main/ax/core/map_data.py:200: FutureWarning: The behavior of DataFrame concatenation with empty or all-NA entries is deprecated. In a future version, this will no longer exclude empty or all-NA columns when determining the result dtypes. To retain the old behavior, exclude the relevant entries before the concat operation.\n",
      "  df = pd.concat(\n",
      "[INFO 12-22 07:00:52] ax.early_stopping.strategies.base: The number of completed trials (0) is less than the minimum number of curves needed for early stopping (5). Not early stopping.\n"
     ]
    },
    {
     "name": "stderr",
     "output_type": "stream",
     "text": [
      "[INFO 12-22 07:00:52] Scheduler: Waiting for completed trials (for 10 sec, currently running trials: 5).\n"
     ]
    },
    {
     "name": "stderr",
     "output_type": "stream",
     "text": [
      "/tmp/tmp.rbKmWnPBQH/Ax-main/ax/core/map_data.py:200: FutureWarning: The behavior of DataFrame concatenation with empty or all-NA entries is deprecated. In a future version, this will no longer exclude empty or all-NA columns when determining the result dtypes. To retain the old behavior, exclude the relevant entries before the concat operation.\n",
      "  df = pd.concat(\n",
      "/tmp/tmp.rbKmWnPBQH/Ax-main/ax/core/map_data.py:200: FutureWarning: The behavior of DataFrame concatenation with empty or all-NA entries is deprecated. In a future version, this will no longer exclude empty or all-NA columns when determining the result dtypes. To retain the old behavior, exclude the relevant entries before the concat operation.\n",
      "  df = pd.concat(\n",
      "[INFO 12-22 07:01:02] ax.early_stopping.strategies.base: The number of completed trials (0) is less than the minimum number of curves needed for early stopping (5). Not early stopping.\n"
     ]
    },
    {
     "name": "stderr",
     "output_type": "stream",
     "text": [
      "[INFO 12-22 07:01:02] Scheduler: Waiting for completed trials (for 10 sec, currently running trials: 5).\n"
     ]
    },
    {
     "name": "stderr",
     "output_type": "stream",
     "text": [
      "/tmp/tmp.rbKmWnPBQH/Ax-main/ax/core/map_data.py:200: FutureWarning: The behavior of DataFrame concatenation with empty or all-NA entries is deprecated. In a future version, this will no longer exclude empty or all-NA columns when determining the result dtypes. To retain the old behavior, exclude the relevant entries before the concat operation.\n",
      "  df = pd.concat(\n",
      "/tmp/tmp.rbKmWnPBQH/Ax-main/ax/core/map_data.py:200: FutureWarning: The behavior of DataFrame concatenation with empty or all-NA entries is deprecated. In a future version, this will no longer exclude empty or all-NA columns when determining the result dtypes. To retain the old behavior, exclude the relevant entries before the concat operation.\n",
      "  df = pd.concat(\n",
      "[INFO 12-22 07:01:12] ax.early_stopping.strategies.base: The number of completed trials (0) is less than the minimum number of curves needed for early stopping (5). Not early stopping.\n"
     ]
    },
    {
     "name": "stderr",
     "output_type": "stream",
     "text": [
      "[INFO 12-22 07:01:12] Scheduler: Waiting for completed trials (for 10 sec, currently running trials: 5).\n"
     ]
    },
    {
     "name": "stderr",
     "output_type": "stream",
     "text": [
      "/tmp/tmp.rbKmWnPBQH/Ax-main/ax/core/map_data.py:200: FutureWarning: The behavior of DataFrame concatenation with empty or all-NA entries is deprecated. In a future version, this will no longer exclude empty or all-NA columns when determining the result dtypes. To retain the old behavior, exclude the relevant entries before the concat operation.\n",
      "  df = pd.concat(\n",
      "/tmp/tmp.rbKmWnPBQH/Ax-main/ax/core/map_data.py:200: FutureWarning: The behavior of DataFrame concatenation with empty or all-NA entries is deprecated. In a future version, this will no longer exclude empty or all-NA columns when determining the result dtypes. To retain the old behavior, exclude the relevant entries before the concat operation.\n",
      "  df = pd.concat(\n",
      "[INFO 12-22 07:01:23] ax.early_stopping.strategies.base: The number of completed trials (0) is less than the minimum number of curves needed for early stopping (5). Not early stopping.\n"
     ]
    },
    {
     "name": "stderr",
     "output_type": "stream",
     "text": [
      "[INFO 12-22 07:01:23] Scheduler: Waiting for completed trials (for 10 sec, currently running trials: 5).\n"
     ]
    },
    {
     "name": "stderr",
     "output_type": "stream",
     "text": [
      "/tmp/tmp.rbKmWnPBQH/Ax-main/ax/core/map_data.py:200: FutureWarning: The behavior of DataFrame concatenation with empty or all-NA entries is deprecated. In a future version, this will no longer exclude empty or all-NA columns when determining the result dtypes. To retain the old behavior, exclude the relevant entries before the concat operation.\n",
      "  df = pd.concat(\n",
      "/tmp/tmp.rbKmWnPBQH/Ax-main/ax/core/map_data.py:200: FutureWarning: The behavior of DataFrame concatenation with empty or all-NA entries is deprecated. In a future version, this will no longer exclude empty or all-NA columns when determining the result dtypes. To retain the old behavior, exclude the relevant entries before the concat operation.\n",
      "  df = pd.concat(\n",
      "[INFO 12-22 07:01:33] ax.early_stopping.strategies.base: The number of completed trials (0) is less than the minimum number of curves needed for early stopping (5). Not early stopping.\n"
     ]
    },
    {
     "name": "stderr",
     "output_type": "stream",
     "text": [
      "[INFO 12-22 07:01:33] Scheduler: Waiting for completed trials (for 10 sec, currently running trials: 5).\n"
     ]
    },
    {
     "name": "stderr",
     "output_type": "stream",
     "text": [
      "/tmp/tmp.rbKmWnPBQH/Ax-main/ax/core/map_data.py:200: FutureWarning: The behavior of DataFrame concatenation with empty or all-NA entries is deprecated. In a future version, this will no longer exclude empty or all-NA columns when determining the result dtypes. To retain the old behavior, exclude the relevant entries before the concat operation.\n",
      "  df = pd.concat(\n",
      "/tmp/tmp.rbKmWnPBQH/Ax-main/ax/core/map_data.py:200: FutureWarning: The behavior of DataFrame concatenation with empty or all-NA entries is deprecated. In a future version, this will no longer exclude empty or all-NA columns when determining the result dtypes. To retain the old behavior, exclude the relevant entries before the concat operation.\n",
      "  df = pd.concat(\n",
      "[INFO 12-22 07:01:43] ax.early_stopping.strategies.base: The number of completed trials (0) is less than the minimum number of curves needed for early stopping (5). Not early stopping.\n"
     ]
    },
    {
     "name": "stderr",
     "output_type": "stream",
     "text": [
      "[INFO 12-22 07:01:43] Scheduler: Waiting for completed trials (for 10 sec, currently running trials: 5).\n"
     ]
    },
    {
     "name": "stderr",
     "output_type": "stream",
     "text": [
      "/tmp/tmp.rbKmWnPBQH/Ax-main/ax/core/map_data.py:200: FutureWarning: The behavior of DataFrame concatenation with empty or all-NA entries is deprecated. In a future version, this will no longer exclude empty or all-NA columns when determining the result dtypes. To retain the old behavior, exclude the relevant entries before the concat operation.\n",
      "  df = pd.concat(\n",
      "/tmp/tmp.rbKmWnPBQH/Ax-main/ax/core/map_data.py:200: FutureWarning: The behavior of DataFrame concatenation with empty or all-NA entries is deprecated. In a future version, this will no longer exclude empty or all-NA columns when determining the result dtypes. To retain the old behavior, exclude the relevant entries before the concat operation.\n",
      "  df = pd.concat(\n",
      "[INFO 12-22 07:01:53] ax.early_stopping.strategies.base: The number of completed trials (0) is less than the minimum number of curves needed for early stopping (5). Not early stopping.\n"
     ]
    },
    {
     "name": "stderr",
     "output_type": "stream",
     "text": [
      "[INFO 12-22 07:01:53] Scheduler: Waiting for completed trials (for 10 sec, currently running trials: 5).\n"
     ]
    },
    {
     "name": "stderr",
     "output_type": "stream",
     "text": [
      "/tmp/tmp.rbKmWnPBQH/Ax-main/ax/core/map_data.py:200: FutureWarning: The behavior of DataFrame concatenation with empty or all-NA entries is deprecated. In a future version, this will no longer exclude empty or all-NA columns when determining the result dtypes. To retain the old behavior, exclude the relevant entries before the concat operation.\n",
      "  df = pd.concat(\n",
      "/tmp/tmp.rbKmWnPBQH/Ax-main/ax/core/map_data.py:200: FutureWarning: The behavior of DataFrame concatenation with empty or all-NA entries is deprecated. In a future version, this will no longer exclude empty or all-NA columns when determining the result dtypes. To retain the old behavior, exclude the relevant entries before the concat operation.\n",
      "  df = pd.concat(\n",
      "[INFO 12-22 07:02:04] ax.early_stopping.strategies.base: The number of completed trials (0) is less than the minimum number of curves needed for early stopping (5). Not early stopping.\n"
     ]
    },
    {
     "name": "stderr",
     "output_type": "stream",
     "text": [
      "[INFO 12-22 07:02:04] Scheduler: Waiting for completed trials (for 10 sec, currently running trials: 5).\n"
     ]
    },
    {
     "name": "stderr",
     "output_type": "stream",
     "text": [
      "/tmp/tmp.rbKmWnPBQH/Ax-main/ax/core/map_data.py:200: FutureWarning: The behavior of DataFrame concatenation with empty or all-NA entries is deprecated. In a future version, this will no longer exclude empty or all-NA columns when determining the result dtypes. To retain the old behavior, exclude the relevant entries before the concat operation.\n",
      "  df = pd.concat(\n",
      "/tmp/tmp.rbKmWnPBQH/Ax-main/ax/core/map_data.py:200: FutureWarning: The behavior of DataFrame concatenation with empty or all-NA entries is deprecated. In a future version, this will no longer exclude empty or all-NA columns when determining the result dtypes. To retain the old behavior, exclude the relevant entries before the concat operation.\n",
      "  df = pd.concat(\n",
      "[INFO 12-22 07:02:14] ax.early_stopping.strategies.base: The number of completed trials (0) is less than the minimum number of curves needed for early stopping (5). Not early stopping.\n"
     ]
    },
    {
     "name": "stderr",
     "output_type": "stream",
     "text": [
      "[INFO 12-22 07:02:14] Scheduler: Waiting for completed trials (for 10 sec, currently running trials: 5).\n"
     ]
    },
    {
     "name": "stderr",
     "output_type": "stream",
     "text": [
      "/tmp/tmp.rbKmWnPBQH/Ax-main/ax/core/map_data.py:200: FutureWarning: The behavior of DataFrame concatenation with empty or all-NA entries is deprecated. In a future version, this will no longer exclude empty or all-NA columns when determining the result dtypes. To retain the old behavior, exclude the relevant entries before the concat operation.\n",
      "  df = pd.concat(\n",
      "/tmp/tmp.rbKmWnPBQH/Ax-main/ax/core/map_data.py:200: FutureWarning: The behavior of DataFrame concatenation with empty or all-NA entries is deprecated. In a future version, this will no longer exclude empty or all-NA columns when determining the result dtypes. To retain the old behavior, exclude the relevant entries before the concat operation.\n",
      "  df = pd.concat(\n",
      "[INFO 12-22 07:02:24] ax.early_stopping.strategies.base: The number of completed trials (0) is less than the minimum number of curves needed for early stopping (5). Not early stopping.\n"
     ]
    },
    {
     "name": "stderr",
     "output_type": "stream",
     "text": [
      "[INFO 12-22 07:02:24] Scheduler: Waiting for completed trials (for 10 sec, currently running trials: 5).\n"
     ]
    },
    {
     "name": "stderr",
     "output_type": "stream",
     "text": [
      "/tmp/tmp.rbKmWnPBQH/Ax-main/ax/core/map_data.py:200: FutureWarning: The behavior of DataFrame concatenation with empty or all-NA entries is deprecated. In a future version, this will no longer exclude empty or all-NA columns when determining the result dtypes. To retain the old behavior, exclude the relevant entries before the concat operation.\n",
      "  df = pd.concat(\n",
      "/tmp/tmp.rbKmWnPBQH/Ax-main/ax/core/map_data.py:200: FutureWarning: The behavior of DataFrame concatenation with empty or all-NA entries is deprecated. In a future version, this will no longer exclude empty or all-NA columns when determining the result dtypes. To retain the old behavior, exclude the relevant entries before the concat operation.\n",
      "  df = pd.concat(\n",
      "[INFO 12-22 07:02:34] ax.early_stopping.strategies.base: The number of completed trials (0) is less than the minimum number of curves needed for early stopping (5). Not early stopping.\n"
     ]
    },
    {
     "name": "stderr",
     "output_type": "stream",
     "text": [
      "[INFO 12-22 07:02:34] Scheduler: Waiting for completed trials (for 10 sec, currently running trials: 5).\n"
     ]
    },
    {
     "name": "stderr",
     "output_type": "stream",
     "text": [
      "/tmp/tmp.rbKmWnPBQH/Ax-main/ax/core/map_data.py:200: FutureWarning: The behavior of DataFrame concatenation with empty or all-NA entries is deprecated. In a future version, this will no longer exclude empty or all-NA columns when determining the result dtypes. To retain the old behavior, exclude the relevant entries before the concat operation.\n",
      "  df = pd.concat(\n",
      "/tmp/tmp.rbKmWnPBQH/Ax-main/ax/core/map_data.py:200: FutureWarning: The behavior of DataFrame concatenation with empty or all-NA entries is deprecated. In a future version, this will no longer exclude empty or all-NA columns when determining the result dtypes. To retain the old behavior, exclude the relevant entries before the concat operation.\n",
      "  df = pd.concat(\n",
      "[INFO 12-22 07:02:45] ax.early_stopping.strategies.base: The number of completed trials (0) is less than the minimum number of curves needed for early stopping (5). Not early stopping.\n"
     ]
    },
    {
     "name": "stderr",
     "output_type": "stream",
     "text": [
      "[INFO 12-22 07:02:45] Scheduler: Waiting for completed trials (for 10 sec, currently running trials: 5).\n"
     ]
    },
    {
     "name": "stderr",
     "output_type": "stream",
     "text": [
      "/tmp/tmp.rbKmWnPBQH/Ax-main/ax/core/map_data.py:200: FutureWarning: The behavior of DataFrame concatenation with empty or all-NA entries is deprecated. In a future version, this will no longer exclude empty or all-NA columns when determining the result dtypes. To retain the old behavior, exclude the relevant entries before the concat operation.\n",
      "  df = pd.concat(\n",
      "/tmp/tmp.rbKmWnPBQH/Ax-main/ax/core/map_data.py:200: FutureWarning: The behavior of DataFrame concatenation with empty or all-NA entries is deprecated. In a future version, this will no longer exclude empty or all-NA columns when determining the result dtypes. To retain the old behavior, exclude the relevant entries before the concat operation.\n",
      "  df = pd.concat(\n",
      "[INFO 12-22 07:02:55] ax.early_stopping.strategies.base: The number of completed trials (0) is less than the minimum number of curves needed for early stopping (5). Not early stopping.\n"
     ]
    },
    {
     "name": "stderr",
     "output_type": "stream",
     "text": [
      "[INFO 12-22 07:02:55] Scheduler: Waiting for completed trials (for 10 sec, currently running trials: 5).\n"
     ]
    },
    {
     "name": "stderr",
     "output_type": "stream",
     "text": [
      "/tmp/tmp.rbKmWnPBQH/Ax-main/ax/core/map_data.py:200: FutureWarning: The behavior of DataFrame concatenation with empty or all-NA entries is deprecated. In a future version, this will no longer exclude empty or all-NA columns when determining the result dtypes. To retain the old behavior, exclude the relevant entries before the concat operation.\n",
      "  df = pd.concat(\n",
      "/tmp/tmp.rbKmWnPBQH/Ax-main/ax/core/map_data.py:200: FutureWarning: The behavior of DataFrame concatenation with empty or all-NA entries is deprecated. In a future version, this will no longer exclude empty or all-NA columns when determining the result dtypes. To retain the old behavior, exclude the relevant entries before the concat operation.\n",
      "  df = pd.concat(\n",
      "[INFO 12-22 07:03:05] ax.early_stopping.strategies.base: The number of completed trials (0) is less than the minimum number of curves needed for early stopping (5). Not early stopping.\n"
     ]
    },
    {
     "name": "stderr",
     "output_type": "stream",
     "text": [
      "[INFO 12-22 07:03:05] Scheduler: Waiting for completed trials (for 10 sec, currently running trials: 5).\n"
     ]
    },
    {
     "name": "stderr",
     "output_type": "stream",
     "text": [
      "/tmp/tmp.rbKmWnPBQH/Ax-main/ax/core/map_data.py:200: FutureWarning: The behavior of DataFrame concatenation with empty or all-NA entries is deprecated. In a future version, this will no longer exclude empty or all-NA columns when determining the result dtypes. To retain the old behavior, exclude the relevant entries before the concat operation.\n",
      "  df = pd.concat(\n",
      "/tmp/tmp.rbKmWnPBQH/Ax-main/ax/core/map_data.py:200: FutureWarning: The behavior of DataFrame concatenation with empty or all-NA entries is deprecated. In a future version, this will no longer exclude empty or all-NA columns when determining the result dtypes. To retain the old behavior, exclude the relevant entries before the concat operation.\n",
      "  df = pd.concat(\n",
      "[INFO 12-22 07:03:15] ax.early_stopping.strategies.base: The number of completed trials (0) is less than the minimum number of curves needed for early stopping (5). Not early stopping.\n"
     ]
    },
    {
     "name": "stderr",
     "output_type": "stream",
     "text": [
      "[INFO 12-22 07:03:15] Scheduler: Waiting for completed trials (for 10 sec, currently running trials: 5).\n"
     ]
    },
    {
     "name": "stderr",
     "output_type": "stream",
     "text": [
      "/tmp/tmp.rbKmWnPBQH/Ax-main/ax/core/map_data.py:200: FutureWarning: The behavior of DataFrame concatenation with empty or all-NA entries is deprecated. In a future version, this will no longer exclude empty or all-NA columns when determining the result dtypes. To retain the old behavior, exclude the relevant entries before the concat operation.\n",
      "  df = pd.concat(\n",
      "/tmp/tmp.rbKmWnPBQH/Ax-main/ax/core/map_data.py:200: FutureWarning: The behavior of DataFrame concatenation with empty or all-NA entries is deprecated. In a future version, this will no longer exclude empty or all-NA columns when determining the result dtypes. To retain the old behavior, exclude the relevant entries before the concat operation.\n",
      "  df = pd.concat(\n",
      "[INFO 12-22 07:03:26] ax.early_stopping.strategies.base: The number of completed trials (0) is less than the minimum number of curves needed for early stopping (5). Not early stopping.\n"
     ]
    },
    {
     "name": "stderr",
     "output_type": "stream",
     "text": [
      "[INFO 12-22 07:03:26] Scheduler: Waiting for completed trials (for 10 sec, currently running trials: 5).\n"
     ]
    },
    {
     "name": "stderr",
     "output_type": "stream",
     "text": [
      "/tmp/tmp.rbKmWnPBQH/Ax-main/ax/core/map_data.py:200: FutureWarning: The behavior of DataFrame concatenation with empty or all-NA entries is deprecated. In a future version, this will no longer exclude empty or all-NA columns when determining the result dtypes. To retain the old behavior, exclude the relevant entries before the concat operation.\n",
      "  df = pd.concat(\n",
      "/tmp/tmp.rbKmWnPBQH/Ax-main/ax/core/map_data.py:200: FutureWarning: The behavior of DataFrame concatenation with empty or all-NA entries is deprecated. In a future version, this will no longer exclude empty or all-NA columns when determining the result dtypes. To retain the old behavior, exclude the relevant entries before the concat operation.\n",
      "  df = pd.concat(\n",
      "[INFO 12-22 07:03:36] ax.early_stopping.strategies.base: The number of completed trials (0) is less than the minimum number of curves needed for early stopping (5). Not early stopping.\n"
     ]
    },
    {
     "name": "stderr",
     "output_type": "stream",
     "text": [
      "[INFO 12-22 07:03:36] Scheduler: Waiting for completed trials (for 10 sec, currently running trials: 5).\n"
     ]
    },
    {
     "name": "stderr",
     "output_type": "stream",
     "text": [
      "/tmp/tmp.rbKmWnPBQH/Ax-main/ax/core/map_data.py:200: FutureWarning: The behavior of DataFrame concatenation with empty or all-NA entries is deprecated. In a future version, this will no longer exclude empty or all-NA columns when determining the result dtypes. To retain the old behavior, exclude the relevant entries before the concat operation.\n",
      "  df = pd.concat(\n",
      "/tmp/tmp.rbKmWnPBQH/Ax-main/ax/core/map_data.py:200: FutureWarning: The behavior of DataFrame concatenation with empty or all-NA entries is deprecated. In a future version, this will no longer exclude empty or all-NA columns when determining the result dtypes. To retain the old behavior, exclude the relevant entries before the concat operation.\n",
      "  df = pd.concat(\n",
      "[INFO 12-22 07:03:46] ax.early_stopping.strategies.base: The number of completed trials (0) is less than the minimum number of curves needed for early stopping (5). Not early stopping.\n"
     ]
    },
    {
     "name": "stderr",
     "output_type": "stream",
     "text": [
      "[INFO 12-22 07:03:46] Scheduler: Waiting for completed trials (for 10 sec, currently running trials: 5).\n"
     ]
    },
    {
     "name": "stderr",
     "output_type": "stream",
     "text": [
      "/tmp/tmp.rbKmWnPBQH/Ax-main/ax/core/map_data.py:200: FutureWarning: The behavior of DataFrame concatenation with empty or all-NA entries is deprecated. In a future version, this will no longer exclude empty or all-NA columns when determining the result dtypes. To retain the old behavior, exclude the relevant entries before the concat operation.\n",
      "  df = pd.concat(\n",
      "/tmp/tmp.rbKmWnPBQH/Ax-main/ax/core/map_data.py:200: FutureWarning: The behavior of DataFrame concatenation with empty or all-NA entries is deprecated. In a future version, this will no longer exclude empty or all-NA columns when determining the result dtypes. To retain the old behavior, exclude the relevant entries before the concat operation.\n",
      "  df = pd.concat(\n",
      "[INFO 12-22 07:03:56] ax.early_stopping.strategies.base: The number of completed trials (0) is less than the minimum number of curves needed for early stopping (5). Not early stopping.\n"
     ]
    },
    {
     "name": "stderr",
     "output_type": "stream",
     "text": [
      "[INFO 12-22 07:03:56] Scheduler: Waiting for completed trials (for 10 sec, currently running trials: 5).\n"
     ]
    },
    {
     "name": "stderr",
     "output_type": "stream",
     "text": [
      "[INFO 12-22 07:04:06] Scheduler: Retrieved COMPLETED trials: [2, 4].\n"
     ]
    },
    {
     "name": "stderr",
     "output_type": "stream",
     "text": [
      "/tmp/tmp.rbKmWnPBQH/Ax-main/ax/core/map_data.py:200: FutureWarning: The behavior of DataFrame concatenation with empty or all-NA entries is deprecated. In a future version, this will no longer exclude empty or all-NA columns when determining the result dtypes. To retain the old behavior, exclude the relevant entries before the concat operation.\n",
      "  df = pd.concat(\n",
      "/tmp/tmp.rbKmWnPBQH/Ax-main/ax/core/map_data.py:200: FutureWarning: The behavior of DataFrame concatenation with empty or all-NA entries is deprecated. In a future version, this will no longer exclude empty or all-NA columns when determining the result dtypes. To retain the old behavior, exclude the relevant entries before the concat operation.\n",
      "  df = pd.concat(\n",
      "[INFO 12-22 07:04:07] ax.early_stopping.strategies.base: The number of completed trials (2) is less than the minimum number of curves needed for early stopping (5). Not early stopping.\n"
     ]
    },
    {
     "name": "stderr",
     "output_type": "stream",
     "text": [
      "[WARNING 12-22 07:04:07] Scheduler: Both `init_seconds_between_polls` and `early_stopping_strategy supplied. `init_seconds_between_polls=1` will be overrridden by `early_stopping_strategy.seconds_between_polls=10` and polling will take place at a constant rate.\n"
     ]
    },
    {
     "name": "stderr",
     "output_type": "stream",
     "text": [
      "/tmp/tmp.rbKmWnPBQH/Ax-main/ax/core/map_data.py:200: FutureWarning: The behavior of DataFrame concatenation with empty or all-NA entries is deprecated. In a future version, this will no longer exclude empty or all-NA columns when determining the result dtypes. To retain the old behavior, exclude the relevant entries before the concat operation.\n",
      "  df = pd.concat(\n"
     ]
    },
    {
     "name": "stderr",
     "output_type": "stream",
     "text": [
      "/tmp/tmp.rbKmWnPBQH/Ax-main/ax/core/map_data.py:200: FutureWarning: The behavior of DataFrame concatenation with empty or all-NA entries is deprecated. In a future version, this will no longer exclude empty or all-NA columns when determining the result dtypes. To retain the old behavior, exclude the relevant entries before the concat operation.\n",
      "  df = pd.concat(\n",
      "[INFO 12-22 07:04:07] ax.early_stopping.strategies.base: The number of completed trials (2) is less than the minimum number of curves needed for early stopping (5). Not early stopping.\n"
     ]
    },
    {
     "name": "stderr",
     "output_type": "stream",
     "text": [
      "[INFO 12-22 07:04:07] Scheduler: Waiting for completed trials (for 10 sec, currently running trials: 3).\n"
     ]
    },
    {
     "name": "stderr",
     "output_type": "stream",
     "text": [
      "[INFO 12-22 07:04:17] Scheduler: Retrieved COMPLETED trials: [5].\n"
     ]
    },
    {
     "name": "stderr",
     "output_type": "stream",
     "text": [
      "/tmp/tmp.rbKmWnPBQH/Ax-main/ax/core/map_data.py:200: FutureWarning: The behavior of DataFrame concatenation with empty or all-NA entries is deprecated. In a future version, this will no longer exclude empty or all-NA columns when determining the result dtypes. To retain the old behavior, exclude the relevant entries before the concat operation.\n",
      "  df = pd.concat(\n",
      "/tmp/tmp.rbKmWnPBQH/Ax-main/ax/core/map_data.py:200: FutureWarning: The behavior of DataFrame concatenation with empty or all-NA entries is deprecated. In a future version, this will no longer exclude empty or all-NA columns when determining the result dtypes. To retain the old behavior, exclude the relevant entries before the concat operation.\n",
      "  df = pd.concat(\n",
      "[INFO 12-22 07:04:17] ax.early_stopping.strategies.base: The number of completed trials (3) is less than the minimum number of curves needed for early stopping (5). Not early stopping.\n"
     ]
    },
    {
     "name": "stderr",
     "output_type": "stream",
     "text": [
      "/tmp/tmp.rbKmWnPBQH/Ax-main/ax/core/map_data.py:200: FutureWarning: The behavior of DataFrame concatenation with empty or all-NA entries is deprecated. In a future version, this will no longer exclude empty or all-NA columns when determining the result dtypes. To retain the old behavior, exclude the relevant entries before the concat operation.\n",
      "  df = pd.concat(\n"
     ]
    },
    {
     "name": "stderr",
     "output_type": "stream",
     "text": [
      "[INFO 12-22 07:04:19] Scheduler: Running trials [7]...\n"
     ]
    },
    {
     "name": "stderr",
     "output_type": "stream",
     "text": [
      "/tmp/tmp.rbKmWnPBQH/Ax-main/ax/core/map_data.py:200: FutureWarning: The behavior of DataFrame concatenation with empty or all-NA entries is deprecated. In a future version, this will no longer exclude empty or all-NA columns when determining the result dtypes. To retain the old behavior, exclude the relevant entries before the concat operation.\n",
      "  df = pd.concat(\n"
     ]
    },
    {
     "name": "stderr",
     "output_type": "stream",
     "text": [
      "[INFO 12-22 07:04:22] Scheduler: Running trials [8]...\n"
     ]
    },
    {
     "name": "stderr",
     "output_type": "stream",
     "text": [
      "/tmp/tmp.rbKmWnPBQH/Ax-main/ax/core/map_data.py:200: FutureWarning: The behavior of DataFrame concatenation with empty or all-NA entries is deprecated. In a future version, this will no longer exclude empty or all-NA columns when determining the result dtypes. To retain the old behavior, exclude the relevant entries before the concat operation.\n",
      "  df = pd.concat(\n"
     ]
    },
    {
     "name": "stderr",
     "output_type": "stream",
     "text": [
      "[INFO 12-22 07:04:27] Scheduler: Running trials [9]...\n"
     ]
    },
    {
     "name": "stderr",
     "output_type": "stream",
     "text": [
      "[WARNING 12-22 07:04:28] Scheduler: Both `init_seconds_between_polls` and `early_stopping_strategy supplied. `init_seconds_between_polls=1` will be overrridden by `early_stopping_strategy.seconds_between_polls=10` and polling will take place at a constant rate.\n"
     ]
    },
    {
     "name": "stderr",
     "output_type": "stream",
     "text": [
      "[INFO 12-22 07:04:28] Scheduler: Retrieved COMPLETED trials: [3, 6].\n"
     ]
    },
    {
     "name": "stderr",
     "output_type": "stream",
     "text": [
      "[INFO 12-22 07:04:28] ax.core.metric: MetricFetchE INFO: Initialized MetricFetchE(message=\"No 'scalar' data found for trial in multiplexer mul=<tensorboard.backend.event_processing.plugin_event_multiplexer.EventMultiplexer object at 0x7f5a3dbb7d00>\")\n"
     ]
    },
    {
     "name": "stderr",
     "output_type": "stream",
     "text": [
      "[INFO 12-22 07:04:28] ax.core.metric: MetricFetchE INFO: Initialized MetricFetchE(message=\"No 'scalar' data found for trial in multiplexer mul=<tensorboard.backend.event_processing.plugin_event_multiplexer.EventMultiplexer object at 0x7f5a3dbb7e50>\")\n"
     ]
    },
    {
     "name": "stderr",
     "output_type": "stream",
     "text": [
      "[INFO 12-22 07:04:28] ax.core.metric: MetricFetchE INFO: Initialized MetricFetchE(message=\"No 'scalar' data found for trial in multiplexer mul=<tensorboard.backend.event_processing.plugin_event_multiplexer.EventMultiplexer object at 0x7f5a3dbb7880>\")\n"
     ]
    },
    {
     "name": "stderr",
     "output_type": "stream",
     "text": [
      "[ERROR 12-22 07:04:28] ax.core.experiment: Discovered Metric fetching Err while attaching data MetricFetchE(message=\"No 'scalar' data found for trial in multiplexer mul=<tensorboard.backend.event_processing.plugin_event_multiplexer.EventMultiplexer object at 0x7f5a3dbb7d00>\"). Ignoring for now -- will retry query on next call to fetch.\n"
     ]
    },
    {
     "name": "stderr",
     "output_type": "stream",
     "text": [
      "[ERROR 12-22 07:04:28] ax.core.experiment: Discovered Metric fetching Err while attaching data MetricFetchE(message=\"No 'scalar' data found for trial in multiplexer mul=<tensorboard.backend.event_processing.plugin_event_multiplexer.EventMultiplexer object at 0x7f5a3dbb7e50>\"). Ignoring for now -- will retry query on next call to fetch.\n"
     ]
    },
    {
     "name": "stderr",
     "output_type": "stream",
     "text": [
      "[ERROR 12-22 07:04:28] ax.core.experiment: Discovered Metric fetching Err while attaching data MetricFetchE(message=\"No 'scalar' data found for trial in multiplexer mul=<tensorboard.backend.event_processing.plugin_event_multiplexer.EventMultiplexer object at 0x7f5a3dbb7880>\"). Ignoring for now -- will retry query on next call to fetch.\n"
     ]
    },
    {
     "name": "stderr",
     "output_type": "stream",
     "text": [
      "/tmp/tmp.rbKmWnPBQH/Ax-main/ax/core/map_data.py:200: FutureWarning: The behavior of DataFrame concatenation with empty or all-NA entries is deprecated. In a future version, this will no longer exclude empty or all-NA columns when determining the result dtypes. To retain the old behavior, exclude the relevant entries before the concat operation.\n",
      "  df = pd.concat(\n",
      "[WARNING 12-22 07:04:28] Scheduler: Failed to fetch val_acc for trial 7, found MetricFetchE(message=\"No 'scalar' data found for trial in multiplexer mul=<tensorboard.backend.event_processing.plugin_event_multiplexer.EventMultiplexer object at 0x7f5a3dbb7d00>\").\n"
     ]
    },
    {
     "name": "stderr",
     "output_type": "stream",
     "text": [
      "[INFO 12-22 07:04:28] Scheduler: MetricFetchE INFO: Because val_acc is available_while_running and trial 7 is still RUNNING continuing the experiment and retrying on next poll...\n"
     ]
    },
    {
     "name": "stderr",
     "output_type": "stream",
     "text": [
      "[WARNING 12-22 07:04:28] Scheduler: Failed to fetch val_acc for trial 8, found MetricFetchE(message=\"No 'scalar' data found for trial in multiplexer mul=<tensorboard.backend.event_processing.plugin_event_multiplexer.EventMultiplexer object at 0x7f5a3dbb7e50>\").\n"
     ]
    },
    {
     "name": "stderr",
     "output_type": "stream",
     "text": [
      "[INFO 12-22 07:04:28] Scheduler: MetricFetchE INFO: Because val_acc is available_while_running and trial 8 is still RUNNING continuing the experiment and retrying on next poll...\n"
     ]
    },
    {
     "name": "stderr",
     "output_type": "stream",
     "text": [
      "[WARNING 12-22 07:04:28] Scheduler: Failed to fetch val_acc for trial 9, found MetricFetchE(message=\"No 'scalar' data found for trial in multiplexer mul=<tensorboard.backend.event_processing.plugin_event_multiplexer.EventMultiplexer object at 0x7f5a3dbb7880>\").\n"
     ]
    },
    {
     "name": "stderr",
     "output_type": "stream",
     "text": [
      "[INFO 12-22 07:04:28] Scheduler: MetricFetchE INFO: Because val_acc is available_while_running and trial 9 is still RUNNING continuing the experiment and retrying on next poll...\n"
     ]
    },
    {
     "name": "stderr",
     "output_type": "stream",
     "text": [
      "/tmp/tmp.rbKmWnPBQH/Ax-main/ax/core/map_data.py:200: FutureWarning: The behavior of DataFrame concatenation with empty or all-NA entries is deprecated. In a future version, this will no longer exclude empty or all-NA columns when determining the result dtypes. To retain the old behavior, exclude the relevant entries before the concat operation.\n",
      "  df = pd.concat(\n"
     ]
    },
    {
     "name": "stderr",
     "output_type": "stream",
     "text": [
      "[INFO 12-22 07:04:28] ax.early_stopping.strategies.base: Last progression of any candidate for trial stopping is 0.\n"
     ]
    },
    {
     "name": "stderr",
     "output_type": "stream",
     "text": [
      "[INFO 12-22 07:04:28] ax.early_stopping.strategies.base: No trials have reached 0.3. Not stopping any trials.\n"
     ]
    },
    {
     "name": "stderr",
     "output_type": "stream",
     "text": [
      "/tmp/tmp.rbKmWnPBQH/Ax-main/ax/core/map_data.py:200: FutureWarning: The behavior of DataFrame concatenation with empty or all-NA entries is deprecated. In a future version, this will no longer exclude empty or all-NA columns when determining the result dtypes. To retain the old behavior, exclude the relevant entries before the concat operation.\n",
      "  df = pd.concat(\n"
     ]
    },
    {
     "name": "stderr",
     "output_type": "stream",
     "text": [
      "[WARNING 12-22 07:04:29] Scheduler: Both `init_seconds_between_polls` and `early_stopping_strategy supplied. `init_seconds_between_polls=1` will be overrridden by `early_stopping_strategy.seconds_between_polls=10` and polling will take place at a constant rate.\n"
     ]
    },
    {
     "name": "stderr",
     "output_type": "stream",
     "text": [
      "[INFO 12-22 07:04:29] ax.core.metric: MetricFetchE INFO: Initialized MetricFetchE(message=\"No 'scalar' data found for trial in multiplexer mul=<tensorboard.backend.event_processing.plugin_event_multiplexer.EventMultiplexer object at 0x7f5a3db97e80>\")\n"
     ]
    },
    {
     "name": "stderr",
     "output_type": "stream",
     "text": [
      "[INFO 12-22 07:04:29] ax.core.metric: MetricFetchE INFO: Initialized MetricFetchE(message=\"No 'scalar' data found for trial in multiplexer mul=<tensorboard.backend.event_processing.plugin_event_multiplexer.EventMultiplexer object at 0x7f5a3db97e80>\")\n"
     ]
    },
    {
     "name": "stderr",
     "output_type": "stream",
     "text": [
      "[INFO 12-22 07:04:29] ax.core.metric: MetricFetchE INFO: Initialized MetricFetchE(message=\"No 'scalar' data found for trial in multiplexer mul=<tensorboard.backend.event_processing.plugin_event_multiplexer.EventMultiplexer object at 0x7f5a3db97e80>\")\n"
     ]
    },
    {
     "name": "stderr",
     "output_type": "stream",
     "text": [
      "[ERROR 12-22 07:04:29] ax.core.experiment: Discovered Metric fetching Err while attaching data MetricFetchE(message=\"No 'scalar' data found for trial in multiplexer mul=<tensorboard.backend.event_processing.plugin_event_multiplexer.EventMultiplexer object at 0x7f5a3db97e80>\"). Ignoring for now -- will retry query on next call to fetch.\n"
     ]
    },
    {
     "name": "stderr",
     "output_type": "stream",
     "text": [
      "[ERROR 12-22 07:04:29] ax.core.experiment: Discovered Metric fetching Err while attaching data MetricFetchE(message=\"No 'scalar' data found for trial in multiplexer mul=<tensorboard.backend.event_processing.plugin_event_multiplexer.EventMultiplexer object at 0x7f5a3db97e80>\"). Ignoring for now -- will retry query on next call to fetch.\n"
     ]
    },
    {
     "name": "stderr",
     "output_type": "stream",
     "text": [
      "[ERROR 12-22 07:04:29] ax.core.experiment: Discovered Metric fetching Err while attaching data MetricFetchE(message=\"No 'scalar' data found for trial in multiplexer mul=<tensorboard.backend.event_processing.plugin_event_multiplexer.EventMultiplexer object at 0x7f5a3db97e80>\"). Ignoring for now -- will retry query on next call to fetch.\n"
     ]
    },
    {
     "name": "stderr",
     "output_type": "stream",
     "text": [
      "[WARNING 12-22 07:04:29] Scheduler: Failed to fetch val_acc for trial 8, found MetricFetchE(message=\"No 'scalar' data found for trial in multiplexer mul=<tensorboard.backend.event_processing.plugin_event_multiplexer.EventMultiplexer object at 0x7f5a3db97e80>\").\n"
     ]
    },
    {
     "name": "stderr",
     "output_type": "stream",
     "text": [
      "[INFO 12-22 07:04:29] Scheduler: MetricFetchE INFO: Because val_acc is available_while_running and trial 8 is still RUNNING continuing the experiment and retrying on next poll...\n"
     ]
    },
    {
     "name": "stderr",
     "output_type": "stream",
     "text": [
      "[WARNING 12-22 07:04:29] Scheduler: Failed to fetch val_acc for trial 9, found MetricFetchE(message=\"No 'scalar' data found for trial in multiplexer mul=<tensorboard.backend.event_processing.plugin_event_multiplexer.EventMultiplexer object at 0x7f5a3db97e80>\").\n"
     ]
    },
    {
     "name": "stderr",
     "output_type": "stream",
     "text": [
      "[INFO 12-22 07:04:29] Scheduler: MetricFetchE INFO: Because val_acc is available_while_running and trial 9 is still RUNNING continuing the experiment and retrying on next poll...\n"
     ]
    },
    {
     "name": "stderr",
     "output_type": "stream",
     "text": [
      "[WARNING 12-22 07:04:29] Scheduler: Failed to fetch val_acc for trial 7, found MetricFetchE(message=\"No 'scalar' data found for trial in multiplexer mul=<tensorboard.backend.event_processing.plugin_event_multiplexer.EventMultiplexer object at 0x7f5a3db97e80>\").\n"
     ]
    },
    {
     "name": "stderr",
     "output_type": "stream",
     "text": [
      "[INFO 12-22 07:04:29] Scheduler: MetricFetchE INFO: Because val_acc is available_while_running and trial 7 is still RUNNING continuing the experiment and retrying on next poll...\n"
     ]
    },
    {
     "name": "stderr",
     "output_type": "stream",
     "text": [
      "/tmp/tmp.rbKmWnPBQH/Ax-main/ax/core/map_data.py:200: FutureWarning: The behavior of DataFrame concatenation with empty or all-NA entries is deprecated. In a future version, this will no longer exclude empty or all-NA columns when determining the result dtypes. To retain the old behavior, exclude the relevant entries before the concat operation.\n",
      "  df = pd.concat(\n",
      "[INFO 12-22 07:04:29] ax.early_stopping.strategies.base: Last progression of any candidate for trial stopping is 0.\n"
     ]
    },
    {
     "name": "stderr",
     "output_type": "stream",
     "text": [
      "[INFO 12-22 07:04:29] ax.early_stopping.strategies.base: No trials have reached 0.3. Not stopping any trials.\n"
     ]
    },
    {
     "name": "stderr",
     "output_type": "stream",
     "text": [
      "[INFO 12-22 07:04:29] Scheduler: Waiting for completed trials (for 10 sec, currently running trials: 3).\n"
     ]
    },
    {
     "name": "stderr",
     "output_type": "stream",
     "text": [
      "[INFO 12-22 07:04:39] ax.core.metric: MetricFetchE INFO: Initialized MetricFetchE(message=\"No 'scalar' data found for trial in multiplexer mul=<tensorboard.backend.event_processing.plugin_event_multiplexer.EventMultiplexer object at 0x7f5a44ecd120>\")\n"
     ]
    },
    {
     "name": "stderr",
     "output_type": "stream",
     "text": [
      "[INFO 12-22 07:04:39] ax.core.metric: MetricFetchE INFO: Initialized MetricFetchE(message=\"No 'scalar' data found for trial in multiplexer mul=<tensorboard.backend.event_processing.plugin_event_multiplexer.EventMultiplexer object at 0x7f5a44ecc9d0>\")\n"
     ]
    },
    {
     "name": "stderr",
     "output_type": "stream",
     "text": [
      "[INFO 12-22 07:04:39] ax.core.metric: MetricFetchE INFO: Initialized MetricFetchE(message=\"No 'scalar' data found for trial in multiplexer mul=<tensorboard.backend.event_processing.plugin_event_multiplexer.EventMultiplexer object at 0x7f5a44ecca90>\")\n"
     ]
    },
    {
     "name": "stderr",
     "output_type": "stream",
     "text": [
      "[ERROR 12-22 07:04:39] ax.core.experiment: Discovered Metric fetching Err while attaching data MetricFetchE(message=\"No 'scalar' data found for trial in multiplexer mul=<tensorboard.backend.event_processing.plugin_event_multiplexer.EventMultiplexer object at 0x7f5a44ecd120>\"). Ignoring for now -- will retry query on next call to fetch.\n"
     ]
    },
    {
     "name": "stderr",
     "output_type": "stream",
     "text": [
      "[ERROR 12-22 07:04:39] ax.core.experiment: Discovered Metric fetching Err while attaching data MetricFetchE(message=\"No 'scalar' data found for trial in multiplexer mul=<tensorboard.backend.event_processing.plugin_event_multiplexer.EventMultiplexer object at 0x7f5a44ecc9d0>\"). Ignoring for now -- will retry query on next call to fetch.\n"
     ]
    },
    {
     "name": "stderr",
     "output_type": "stream",
     "text": [
      "[ERROR 12-22 07:04:39] ax.core.experiment: Discovered Metric fetching Err while attaching data MetricFetchE(message=\"No 'scalar' data found for trial in multiplexer mul=<tensorboard.backend.event_processing.plugin_event_multiplexer.EventMultiplexer object at 0x7f5a44ecca90>\"). Ignoring for now -- will retry query on next call to fetch.\n"
     ]
    },
    {
     "name": "stderr",
     "output_type": "stream",
     "text": [
      "[WARNING 12-22 07:04:39] Scheduler: Failed to fetch val_acc for trial 8, found MetricFetchE(message=\"No 'scalar' data found for trial in multiplexer mul=<tensorboard.backend.event_processing.plugin_event_multiplexer.EventMultiplexer object at 0x7f5a44ecd120>\").\n"
     ]
    },
    {
     "name": "stderr",
     "output_type": "stream",
     "text": [
      "[INFO 12-22 07:04:39] Scheduler: MetricFetchE INFO: Because val_acc is available_while_running and trial 8 is still RUNNING continuing the experiment and retrying on next poll...\n"
     ]
    },
    {
     "name": "stderr",
     "output_type": "stream",
     "text": [
      "[WARNING 12-22 07:04:39] Scheduler: Failed to fetch val_acc for trial 9, found MetricFetchE(message=\"No 'scalar' data found for trial in multiplexer mul=<tensorboard.backend.event_processing.plugin_event_multiplexer.EventMultiplexer object at 0x7f5a44ecc9d0>\").\n"
     ]
    },
    {
     "name": "stderr",
     "output_type": "stream",
     "text": [
      "[INFO 12-22 07:04:39] Scheduler: MetricFetchE INFO: Because val_acc is available_while_running and trial 9 is still RUNNING continuing the experiment and retrying on next poll...\n"
     ]
    },
    {
     "name": "stderr",
     "output_type": "stream",
     "text": [
      "[WARNING 12-22 07:04:39] Scheduler: Failed to fetch val_acc for trial 7, found MetricFetchE(message=\"No 'scalar' data found for trial in multiplexer mul=<tensorboard.backend.event_processing.plugin_event_multiplexer.EventMultiplexer object at 0x7f5a44ecca90>\").\n"
     ]
    },
    {
     "name": "stderr",
     "output_type": "stream",
     "text": [
      "[INFO 12-22 07:04:39] Scheduler: MetricFetchE INFO: Because val_acc is available_while_running and trial 7 is still RUNNING continuing the experiment and retrying on next poll...\n"
     ]
    },
    {
     "name": "stderr",
     "output_type": "stream",
     "text": [
      "/tmp/tmp.rbKmWnPBQH/Ax-main/ax/core/map_data.py:200: FutureWarning: The behavior of DataFrame concatenation with empty or all-NA entries is deprecated. In a future version, this will no longer exclude empty or all-NA columns when determining the result dtypes. To retain the old behavior, exclude the relevant entries before the concat operation.\n",
      "  df = pd.concat(\n",
      "[INFO 12-22 07:04:39] ax.early_stopping.strategies.base: Last progression of any candidate for trial stopping is 0.\n"
     ]
    },
    {
     "name": "stderr",
     "output_type": "stream",
     "text": [
      "[INFO 12-22 07:04:39] ax.early_stopping.strategies.base: No trials have reached 0.3. Not stopping any trials.\n"
     ]
    },
    {
     "name": "stderr",
     "output_type": "stream",
     "text": [
      "[INFO 12-22 07:04:39] Scheduler: Waiting for completed trials (for 10 sec, currently running trials: 3).\n"
     ]
    },
    {
     "name": "stderr",
     "output_type": "stream",
     "text": [
      "[INFO 12-22 07:04:49] ax.core.metric: MetricFetchE INFO: Initialized MetricFetchE(message=\"No 'scalar' data found for trial in multiplexer mul=<tensorboard.backend.event_processing.plugin_event_multiplexer.EventMultiplexer object at 0x7f5a44f175e0>\")\n"
     ]
    },
    {
     "name": "stderr",
     "output_type": "stream",
     "text": [
      "[INFO 12-22 07:04:49] ax.core.metric: MetricFetchE INFO: Initialized MetricFetchE(message=\"No 'scalar' data found for trial in multiplexer mul=<tensorboard.backend.event_processing.plugin_event_multiplexer.EventMultiplexer object at 0x7f5a44f17700>\")\n"
     ]
    },
    {
     "name": "stderr",
     "output_type": "stream",
     "text": [
      "[INFO 12-22 07:04:49] ax.core.metric: MetricFetchE INFO: Initialized MetricFetchE(message=\"No 'scalar' data found for trial in multiplexer mul=<tensorboard.backend.event_processing.plugin_event_multiplexer.EventMultiplexer object at 0x7f5a44f15f30>\")\n"
     ]
    },
    {
     "name": "stderr",
     "output_type": "stream",
     "text": [
      "[ERROR 12-22 07:04:49] ax.core.experiment: Discovered Metric fetching Err while attaching data MetricFetchE(message=\"No 'scalar' data found for trial in multiplexer mul=<tensorboard.backend.event_processing.plugin_event_multiplexer.EventMultiplexer object at 0x7f5a44f175e0>\"). Ignoring for now -- will retry query on next call to fetch.\n"
     ]
    },
    {
     "name": "stderr",
     "output_type": "stream",
     "text": [
      "[ERROR 12-22 07:04:49] ax.core.experiment: Discovered Metric fetching Err while attaching data MetricFetchE(message=\"No 'scalar' data found for trial in multiplexer mul=<tensorboard.backend.event_processing.plugin_event_multiplexer.EventMultiplexer object at 0x7f5a44f17700>\"). Ignoring for now -- will retry query on next call to fetch.\n"
     ]
    },
    {
     "name": "stderr",
     "output_type": "stream",
     "text": [
      "[ERROR 12-22 07:04:49] ax.core.experiment: Discovered Metric fetching Err while attaching data MetricFetchE(message=\"No 'scalar' data found for trial in multiplexer mul=<tensorboard.backend.event_processing.plugin_event_multiplexer.EventMultiplexer object at 0x7f5a44f15f30>\"). Ignoring for now -- will retry query on next call to fetch.\n"
     ]
    },
    {
     "name": "stderr",
     "output_type": "stream",
     "text": [
      "[WARNING 12-22 07:04:49] Scheduler: Failed to fetch val_acc for trial 8, found MetricFetchE(message=\"No 'scalar' data found for trial in multiplexer mul=<tensorboard.backend.event_processing.plugin_event_multiplexer.EventMultiplexer object at 0x7f5a44f175e0>\").\n"
     ]
    },
    {
     "name": "stderr",
     "output_type": "stream",
     "text": [
      "[INFO 12-22 07:04:49] Scheduler: MetricFetchE INFO: Because val_acc is available_while_running and trial 8 is still RUNNING continuing the experiment and retrying on next poll...\n"
     ]
    },
    {
     "name": "stderr",
     "output_type": "stream",
     "text": [
      "[WARNING 12-22 07:04:49] Scheduler: Failed to fetch val_acc for trial 9, found MetricFetchE(message=\"No 'scalar' data found for trial in multiplexer mul=<tensorboard.backend.event_processing.plugin_event_multiplexer.EventMultiplexer object at 0x7f5a44f17700>\").\n"
     ]
    },
    {
     "name": "stderr",
     "output_type": "stream",
     "text": [
      "[INFO 12-22 07:04:49] Scheduler: MetricFetchE INFO: Because val_acc is available_while_running and trial 9 is still RUNNING continuing the experiment and retrying on next poll...\n"
     ]
    },
    {
     "name": "stderr",
     "output_type": "stream",
     "text": [
      "[WARNING 12-22 07:04:49] Scheduler: Failed to fetch val_acc for trial 7, found MetricFetchE(message=\"No 'scalar' data found for trial in multiplexer mul=<tensorboard.backend.event_processing.plugin_event_multiplexer.EventMultiplexer object at 0x7f5a44f15f30>\").\n"
     ]
    },
    {
     "name": "stderr",
     "output_type": "stream",
     "text": [
      "[INFO 12-22 07:04:49] Scheduler: MetricFetchE INFO: Because val_acc is available_while_running and trial 7 is still RUNNING continuing the experiment and retrying on next poll...\n"
     ]
    },
    {
     "name": "stderr",
     "output_type": "stream",
     "text": [
      "/tmp/tmp.rbKmWnPBQH/Ax-main/ax/core/map_data.py:200: FutureWarning: The behavior of DataFrame concatenation with empty or all-NA entries is deprecated. In a future version, this will no longer exclude empty or all-NA columns when determining the result dtypes. To retain the old behavior, exclude the relevant entries before the concat operation.\n",
      "  df = pd.concat(\n",
      "[INFO 12-22 07:04:49] ax.early_stopping.strategies.base: Last progression of any candidate for trial stopping is 0.\n"
     ]
    },
    {
     "name": "stderr",
     "output_type": "stream",
     "text": [
      "[INFO 12-22 07:04:49] ax.early_stopping.strategies.base: No trials have reached 0.3. Not stopping any trials.\n"
     ]
    },
    {
     "name": "stderr",
     "output_type": "stream",
     "text": [
      "[INFO 12-22 07:04:49] Scheduler: Waiting for completed trials (for 10 sec, currently running trials: 3).\n"
     ]
    },
    {
     "name": "stderr",
     "output_type": "stream",
     "text": [
      "[INFO 12-22 07:04:59] ax.core.metric: MetricFetchE INFO: Initialized MetricFetchE(message=\"No 'scalar' data found for trial in multiplexer mul=<tensorboard.backend.event_processing.plugin_event_multiplexer.EventMultiplexer object at 0x7f5a44ecd180>\")\n"
     ]
    },
    {
     "name": "stderr",
     "output_type": "stream",
     "text": [
      "[INFO 12-22 07:04:59] ax.core.metric: MetricFetchE INFO: Initialized MetricFetchE(message=\"No 'scalar' data found for trial in multiplexer mul=<tensorboard.backend.event_processing.plugin_event_multiplexer.EventMultiplexer object at 0x7f5a44ecf2b0>\")\n"
     ]
    },
    {
     "name": "stderr",
     "output_type": "stream",
     "text": [
      "[INFO 12-22 07:04:59] ax.core.metric: MetricFetchE INFO: Initialized MetricFetchE(message=\"No 'scalar' data found for trial in multiplexer mul=<tensorboard.backend.event_processing.plugin_event_multiplexer.EventMultiplexer object at 0x7f5a44ecf1c0>\")\n"
     ]
    },
    {
     "name": "stderr",
     "output_type": "stream",
     "text": [
      "[ERROR 12-22 07:04:59] ax.core.experiment: Discovered Metric fetching Err while attaching data MetricFetchE(message=\"No 'scalar' data found for trial in multiplexer mul=<tensorboard.backend.event_processing.plugin_event_multiplexer.EventMultiplexer object at 0x7f5a44ecd180>\"). Ignoring for now -- will retry query on next call to fetch.\n"
     ]
    },
    {
     "name": "stderr",
     "output_type": "stream",
     "text": [
      "[ERROR 12-22 07:04:59] ax.core.experiment: Discovered Metric fetching Err while attaching data MetricFetchE(message=\"No 'scalar' data found for trial in multiplexer mul=<tensorboard.backend.event_processing.plugin_event_multiplexer.EventMultiplexer object at 0x7f5a44ecf2b0>\"). Ignoring for now -- will retry query on next call to fetch.\n"
     ]
    },
    {
     "name": "stderr",
     "output_type": "stream",
     "text": [
      "[ERROR 12-22 07:04:59] ax.core.experiment: Discovered Metric fetching Err while attaching data MetricFetchE(message=\"No 'scalar' data found for trial in multiplexer mul=<tensorboard.backend.event_processing.plugin_event_multiplexer.EventMultiplexer object at 0x7f5a44ecf1c0>\"). Ignoring for now -- will retry query on next call to fetch.\n"
     ]
    },
    {
     "name": "stderr",
     "output_type": "stream",
     "text": [
      "[WARNING 12-22 07:04:59] Scheduler: Failed to fetch val_acc for trial 8, found MetricFetchE(message=\"No 'scalar' data found for trial in multiplexer mul=<tensorboard.backend.event_processing.plugin_event_multiplexer.EventMultiplexer object at 0x7f5a44ecd180>\").\n"
     ]
    },
    {
     "name": "stderr",
     "output_type": "stream",
     "text": [
      "[INFO 12-22 07:04:59] Scheduler: MetricFetchE INFO: Because val_acc is available_while_running and trial 8 is still RUNNING continuing the experiment and retrying on next poll...\n"
     ]
    },
    {
     "name": "stderr",
     "output_type": "stream",
     "text": [
      "[WARNING 12-22 07:04:59] Scheduler: Failed to fetch val_acc for trial 9, found MetricFetchE(message=\"No 'scalar' data found for trial in multiplexer mul=<tensorboard.backend.event_processing.plugin_event_multiplexer.EventMultiplexer object at 0x7f5a44ecf2b0>\").\n"
     ]
    },
    {
     "name": "stderr",
     "output_type": "stream",
     "text": [
      "[INFO 12-22 07:04:59] Scheduler: MetricFetchE INFO: Because val_acc is available_while_running and trial 9 is still RUNNING continuing the experiment and retrying on next poll...\n"
     ]
    },
    {
     "name": "stderr",
     "output_type": "stream",
     "text": [
      "[WARNING 12-22 07:04:59] Scheduler: Failed to fetch val_acc for trial 7, found MetricFetchE(message=\"No 'scalar' data found for trial in multiplexer mul=<tensorboard.backend.event_processing.plugin_event_multiplexer.EventMultiplexer object at 0x7f5a44ecf1c0>\").\n"
     ]
    },
    {
     "name": "stderr",
     "output_type": "stream",
     "text": [
      "[INFO 12-22 07:04:59] Scheduler: MetricFetchE INFO: Because val_acc is available_while_running and trial 7 is still RUNNING continuing the experiment and retrying on next poll...\n"
     ]
    },
    {
     "name": "stderr",
     "output_type": "stream",
     "text": [
      "/tmp/tmp.rbKmWnPBQH/Ax-main/ax/core/map_data.py:200: FutureWarning: The behavior of DataFrame concatenation with empty or all-NA entries is deprecated. In a future version, this will no longer exclude empty or all-NA columns when determining the result dtypes. To retain the old behavior, exclude the relevant entries before the concat operation.\n",
      "  df = pd.concat(\n",
      "[INFO 12-22 07:04:59] ax.early_stopping.strategies.base: Last progression of any candidate for trial stopping is 0.\n"
     ]
    },
    {
     "name": "stderr",
     "output_type": "stream",
     "text": [
      "[INFO 12-22 07:04:59] ax.early_stopping.strategies.base: No trials have reached 0.3. Not stopping any trials.\n"
     ]
    },
    {
     "name": "stderr",
     "output_type": "stream",
     "text": [
      "[INFO 12-22 07:04:59] Scheduler: Waiting for completed trials (for 10 sec, currently running trials: 3).\n"
     ]
    },
    {
     "name": "stderr",
     "output_type": "stream",
     "text": [
      "[INFO 12-22 07:05:09] ax.core.metric: MetricFetchE INFO: Initialized MetricFetchE(message=\"No 'scalar' data found for trial in multiplexer mul=<tensorboard.backend.event_processing.plugin_event_multiplexer.EventMultiplexer object at 0x7f5a44efa350>\")\n"
     ]
    },
    {
     "name": "stderr",
     "output_type": "stream",
     "text": [
      "[ERROR 12-22 07:05:09] ax.core.experiment: Discovered Metric fetching Err while attaching data MetricFetchE(message=\"No 'scalar' data found for trial in multiplexer mul=<tensorboard.backend.event_processing.plugin_event_multiplexer.EventMultiplexer object at 0x7f5a44efa350>\"). Ignoring for now -- will retry query on next call to fetch.\n"
     ]
    },
    {
     "name": "stderr",
     "output_type": "stream",
     "text": [
      "/tmp/tmp.rbKmWnPBQH/Ax-main/ax/core/map_data.py:200: FutureWarning: The behavior of DataFrame concatenation with empty or all-NA entries is deprecated. In a future version, this will no longer exclude empty or all-NA columns when determining the result dtypes. To retain the old behavior, exclude the relevant entries before the concat operation.\n",
      "  df = pd.concat(\n",
      "[WARNING 12-22 07:05:09] Scheduler: Failed to fetch val_acc for trial 9, found MetricFetchE(message=\"No 'scalar' data found for trial in multiplexer mul=<tensorboard.backend.event_processing.plugin_event_multiplexer.EventMultiplexer object at 0x7f5a44efa350>\").\n"
     ]
    },
    {
     "name": "stderr",
     "output_type": "stream",
     "text": [
      "[INFO 12-22 07:05:09] Scheduler: MetricFetchE INFO: Because val_acc is available_while_running and trial 9 is still RUNNING continuing the experiment and retrying on next poll...\n"
     ]
    },
    {
     "name": "stderr",
     "output_type": "stream",
     "text": [
      "/tmp/tmp.rbKmWnPBQH/Ax-main/ax/core/map_data.py:200: FutureWarning: The behavior of DataFrame concatenation with empty or all-NA entries is deprecated. In a future version, this will no longer exclude empty or all-NA columns when determining the result dtypes. To retain the old behavior, exclude the relevant entries before the concat operation.\n",
      "  df = pd.concat(\n",
      "[INFO 12-22 07:05:09] ax.early_stopping.strategies.base: Last progression of any candidate for trial stopping is 0.09994666666666667.\n"
     ]
    },
    {
     "name": "stderr",
     "output_type": "stream",
     "text": [
      "[INFO 12-22 07:05:09] ax.early_stopping.strategies.base: No trials have reached 0.3. Not stopping any trials.\n"
     ]
    },
    {
     "name": "stderr",
     "output_type": "stream",
     "text": [
      "[INFO 12-22 07:05:09] Scheduler: Waiting for completed trials (for 10 sec, currently running trials: 3).\n"
     ]
    },
    {
     "name": "stderr",
     "output_type": "stream",
     "text": [
      "[INFO 12-22 07:05:19] ax.core.metric: MetricFetchE INFO: Initialized MetricFetchE(message=\"No 'scalar' data found for trial in multiplexer mul=<tensorboard.backend.event_processing.plugin_event_multiplexer.EventMultiplexer object at 0x7f5a3db91c30>\")\n"
     ]
    },
    {
     "name": "stderr",
     "output_type": "stream",
     "text": [
      "[ERROR 12-22 07:05:19] ax.core.experiment: Discovered Metric fetching Err while attaching data MetricFetchE(message=\"No 'scalar' data found for trial in multiplexer mul=<tensorboard.backend.event_processing.plugin_event_multiplexer.EventMultiplexer object at 0x7f5a3db91c30>\"). Ignoring for now -- will retry query on next call to fetch.\n"
     ]
    },
    {
     "name": "stderr",
     "output_type": "stream",
     "text": [
      "/tmp/tmp.rbKmWnPBQH/Ax-main/ax/core/map_data.py:200: FutureWarning: The behavior of DataFrame concatenation with empty or all-NA entries is deprecated. In a future version, this will no longer exclude empty or all-NA columns when determining the result dtypes. To retain the old behavior, exclude the relevant entries before the concat operation.\n",
      "  df = pd.concat(\n",
      "[WARNING 12-22 07:05:19] Scheduler: Failed to fetch val_acc for trial 9, found MetricFetchE(message=\"No 'scalar' data found for trial in multiplexer mul=<tensorboard.backend.event_processing.plugin_event_multiplexer.EventMultiplexer object at 0x7f5a3db91c30>\").\n"
     ]
    },
    {
     "name": "stderr",
     "output_type": "stream",
     "text": [
      "[INFO 12-22 07:05:19] Scheduler: MetricFetchE INFO: Because val_acc is available_while_running and trial 9 is still RUNNING continuing the experiment and retrying on next poll...\n"
     ]
    },
    {
     "name": "stderr",
     "output_type": "stream",
     "text": [
      "/tmp/tmp.rbKmWnPBQH/Ax-main/ax/core/map_data.py:200: FutureWarning: The behavior of DataFrame concatenation with empty or all-NA entries is deprecated. In a future version, this will no longer exclude empty or all-NA columns when determining the result dtypes. To retain the old behavior, exclude the relevant entries before the concat operation.\n",
      "  df = pd.concat(\n",
      "[INFO 12-22 07:05:19] ax.early_stopping.strategies.base: Last progression of any candidate for trial stopping is 0.09994666666666667.\n"
     ]
    },
    {
     "name": "stderr",
     "output_type": "stream",
     "text": [
      "[INFO 12-22 07:05:19] ax.early_stopping.strategies.base: No trials have reached 0.3. Not stopping any trials.\n"
     ]
    },
    {
     "name": "stderr",
     "output_type": "stream",
     "text": [
      "[INFO 12-22 07:05:19] Scheduler: Waiting for completed trials (for 10 sec, currently running trials: 3).\n"
     ]
    },
    {
     "name": "stderr",
     "output_type": "stream",
     "text": [
      "/tmp/tmp.rbKmWnPBQH/Ax-main/ax/core/map_data.py:200: FutureWarning: The behavior of DataFrame concatenation with empty or all-NA entries is deprecated. In a future version, this will no longer exclude empty or all-NA columns when determining the result dtypes. To retain the old behavior, exclude the relevant entries before the concat operation.\n",
      "  df = pd.concat(\n",
      "/tmp/tmp.rbKmWnPBQH/Ax-main/ax/core/map_data.py:200: FutureWarning: The behavior of DataFrame concatenation with empty or all-NA entries is deprecated. In a future version, this will no longer exclude empty or all-NA columns when determining the result dtypes. To retain the old behavior, exclude the relevant entries before the concat operation.\n",
      "  df = pd.concat(\n",
      "[INFO 12-22 07:05:30] ax.early_stopping.strategies.base: Last progression of any candidate for trial stopping is 0.09994666666666667.\n"
     ]
    },
    {
     "name": "stderr",
     "output_type": "stream",
     "text": [
      "[INFO 12-22 07:05:30] ax.early_stopping.strategies.base: No trials have reached 0.3. Not stopping any trials.\n"
     ]
    },
    {
     "name": "stderr",
     "output_type": "stream",
     "text": [
      "[INFO 12-22 07:05:30] Scheduler: Waiting for completed trials (for 10 sec, currently running trials: 3).\n"
     ]
    },
    {
     "name": "stderr",
     "output_type": "stream",
     "text": [
      "/tmp/tmp.rbKmWnPBQH/Ax-main/ax/core/map_data.py:200: FutureWarning: The behavior of DataFrame concatenation with empty or all-NA entries is deprecated. In a future version, this will no longer exclude empty or all-NA columns when determining the result dtypes. To retain the old behavior, exclude the relevant entries before the concat operation.\n",
      "  df = pd.concat(\n",
      "/tmp/tmp.rbKmWnPBQH/Ax-main/ax/core/map_data.py:200: FutureWarning: The behavior of DataFrame concatenation with empty or all-NA entries is deprecated. In a future version, this will no longer exclude empty or all-NA columns when determining the result dtypes. To retain the old behavior, exclude the relevant entries before the concat operation.\n",
      "  df = pd.concat(\n",
      "[INFO 12-22 07:05:40] ax.early_stopping.strategies.base: Last progression of any candidate for trial stopping is 0.09994666666666667.\n"
     ]
    },
    {
     "name": "stderr",
     "output_type": "stream",
     "text": [
      "[INFO 12-22 07:05:40] ax.early_stopping.strategies.base: No trials have reached 0.3. Not stopping any trials.\n"
     ]
    },
    {
     "name": "stderr",
     "output_type": "stream",
     "text": [
      "[INFO 12-22 07:05:40] Scheduler: Waiting for completed trials (for 10 sec, currently running trials: 3).\n"
     ]
    },
    {
     "name": "stderr",
     "output_type": "stream",
     "text": [
      "/tmp/tmp.rbKmWnPBQH/Ax-main/ax/core/map_data.py:200: FutureWarning: The behavior of DataFrame concatenation with empty or all-NA entries is deprecated. In a future version, this will no longer exclude empty or all-NA columns when determining the result dtypes. To retain the old behavior, exclude the relevant entries before the concat operation.\n",
      "  df = pd.concat(\n",
      "/tmp/tmp.rbKmWnPBQH/Ax-main/ax/core/map_data.py:200: FutureWarning: The behavior of DataFrame concatenation with empty or all-NA entries is deprecated. In a future version, this will no longer exclude empty or all-NA columns when determining the result dtypes. To retain the old behavior, exclude the relevant entries before the concat operation.\n",
      "  df = pd.concat(\n",
      "[INFO 12-22 07:05:50] ax.early_stopping.strategies.base: Last progression of any candidate for trial stopping is 0.19994666666666666.\n"
     ]
    },
    {
     "name": "stderr",
     "output_type": "stream",
     "text": [
      "[INFO 12-22 07:05:50] ax.early_stopping.strategies.base: No trials have reached 0.3. Not stopping any trials.\n"
     ]
    },
    {
     "name": "stderr",
     "output_type": "stream",
     "text": [
      "[INFO 12-22 07:05:50] Scheduler: Waiting for completed trials (for 10 sec, currently running trials: 3).\n"
     ]
    },
    {
     "name": "stderr",
     "output_type": "stream",
     "text": [
      "/tmp/tmp.rbKmWnPBQH/Ax-main/ax/core/map_data.py:200: FutureWarning: The behavior of DataFrame concatenation with empty or all-NA entries is deprecated. In a future version, this will no longer exclude empty or all-NA columns when determining the result dtypes. To retain the old behavior, exclude the relevant entries before the concat operation.\n",
      "  df = pd.concat(\n",
      "/tmp/tmp.rbKmWnPBQH/Ax-main/ax/core/map_data.py:200: FutureWarning: The behavior of DataFrame concatenation with empty or all-NA entries is deprecated. In a future version, this will no longer exclude empty or all-NA columns when determining the result dtypes. To retain the old behavior, exclude the relevant entries before the concat operation.\n",
      "  df = pd.concat(\n",
      "[INFO 12-22 07:06:00] ax.early_stopping.strategies.base: Last progression of any candidate for trial stopping is 0.19994666666666666.\n"
     ]
    },
    {
     "name": "stderr",
     "output_type": "stream",
     "text": [
      "[INFO 12-22 07:06:00] ax.early_stopping.strategies.base: No trials have reached 0.3. Not stopping any trials.\n"
     ]
    },
    {
     "name": "stderr",
     "output_type": "stream",
     "text": [
      "[INFO 12-22 07:06:00] Scheduler: Waiting for completed trials (for 10 sec, currently running trials: 3).\n"
     ]
    },
    {
     "name": "stderr",
     "output_type": "stream",
     "text": [
      "/tmp/tmp.rbKmWnPBQH/Ax-main/ax/core/map_data.py:200: FutureWarning: The behavior of DataFrame concatenation with empty or all-NA entries is deprecated. In a future version, this will no longer exclude empty or all-NA columns when determining the result dtypes. To retain the old behavior, exclude the relevant entries before the concat operation.\n",
      "  df = pd.concat(\n",
      "/tmp/tmp.rbKmWnPBQH/Ax-main/ax/core/map_data.py:200: FutureWarning: The behavior of DataFrame concatenation with empty or all-NA entries is deprecated. In a future version, this will no longer exclude empty or all-NA columns when determining the result dtypes. To retain the old behavior, exclude the relevant entries before the concat operation.\n",
      "  df = pd.concat(\n",
      "[INFO 12-22 07:06:10] ax.early_stopping.strategies.base: Last progression of any candidate for trial stopping is 0.19994666666666666.\n"
     ]
    },
    {
     "name": "stderr",
     "output_type": "stream",
     "text": [
      "[INFO 12-22 07:06:10] ax.early_stopping.strategies.base: No trials have reached 0.3. Not stopping any trials.\n"
     ]
    },
    {
     "name": "stderr",
     "output_type": "stream",
     "text": [
      "[INFO 12-22 07:06:10] Scheduler: Waiting for completed trials (for 10 sec, currently running trials: 3).\n"
     ]
    },
    {
     "name": "stderr",
     "output_type": "stream",
     "text": [
      "/tmp/tmp.rbKmWnPBQH/Ax-main/ax/core/map_data.py:200: FutureWarning: The behavior of DataFrame concatenation with empty or all-NA entries is deprecated. In a future version, this will no longer exclude empty or all-NA columns when determining the result dtypes. To retain the old behavior, exclude the relevant entries before the concat operation.\n",
      "  df = pd.concat(\n",
      "/tmp/tmp.rbKmWnPBQH/Ax-main/ax/core/map_data.py:200: FutureWarning: The behavior of DataFrame concatenation with empty or all-NA entries is deprecated. In a future version, this will no longer exclude empty or all-NA columns when determining the result dtypes. To retain the old behavior, exclude the relevant entries before the concat operation.\n",
      "  df = pd.concat(\n",
      "[INFO 12-22 07:06:20] ax.early_stopping.strategies.base: Last progression of any candidate for trial stopping is 0.19994666666666666.\n"
     ]
    },
    {
     "name": "stderr",
     "output_type": "stream",
     "text": [
      "[INFO 12-22 07:06:20] ax.early_stopping.strategies.base: No trials have reached 0.3. Not stopping any trials.\n"
     ]
    },
    {
     "name": "stderr",
     "output_type": "stream",
     "text": [
      "[INFO 12-22 07:06:20] Scheduler: Waiting for completed trials (for 10 sec, currently running trials: 3).\n"
     ]
    },
    {
     "name": "stderr",
     "output_type": "stream",
     "text": [
      "/tmp/tmp.rbKmWnPBQH/Ax-main/ax/core/map_data.py:200: FutureWarning: The behavior of DataFrame concatenation with empty or all-NA entries is deprecated. In a future version, this will no longer exclude empty or all-NA columns when determining the result dtypes. To retain the old behavior, exclude the relevant entries before the concat operation.\n",
      "  df = pd.concat(\n",
      "/tmp/tmp.rbKmWnPBQH/Ax-main/ax/core/map_data.py:200: FutureWarning: The behavior of DataFrame concatenation with empty or all-NA entries is deprecated. In a future version, this will no longer exclude empty or all-NA columns when determining the result dtypes. To retain the old behavior, exclude the relevant entries before the concat operation.\n",
      "  df = pd.concat(\n",
      "[INFO 12-22 07:06:30] ax.early_stopping.strategies.base: Last progression of any candidate for trial stopping is 0.19994666666666666.\n"
     ]
    },
    {
     "name": "stderr",
     "output_type": "stream",
     "text": [
      "[INFO 12-22 07:06:30] ax.early_stopping.strategies.base: No trials have reached 0.3. Not stopping any trials.\n"
     ]
    },
    {
     "name": "stderr",
     "output_type": "stream",
     "text": [
      "[INFO 12-22 07:06:30] Scheduler: Waiting for completed trials (for 10 sec, currently running trials: 3).\n"
     ]
    },
    {
     "name": "stderr",
     "output_type": "stream",
     "text": [
      "/tmp/tmp.rbKmWnPBQH/Ax-main/ax/core/map_data.py:200: FutureWarning: The behavior of DataFrame concatenation with empty or all-NA entries is deprecated. In a future version, this will no longer exclude empty or all-NA columns when determining the result dtypes. To retain the old behavior, exclude the relevant entries before the concat operation.\n",
      "  df = pd.concat(\n",
      "/tmp/tmp.rbKmWnPBQH/Ax-main/ax/core/map_data.py:200: FutureWarning: The behavior of DataFrame concatenation with empty or all-NA entries is deprecated. In a future version, this will no longer exclude empty or all-NA columns when determining the result dtypes. To retain the old behavior, exclude the relevant entries before the concat operation.\n",
      "  df = pd.concat(\n",
      "[INFO 12-22 07:06:40] ax.early_stopping.strategies.base: Last progression of any candidate for trial stopping is 0.29994666666666664.\n"
     ]
    },
    {
     "name": "stderr",
     "output_type": "stream",
     "text": [
      "[INFO 12-22 07:06:41] ax.early_stopping.strategies.base: No trials have reached 0.3. Not stopping any trials.\n"
     ]
    },
    {
     "name": "stderr",
     "output_type": "stream",
     "text": [
      "[INFO 12-22 07:06:41] Scheduler: Waiting for completed trials (for 10 sec, currently running trials: 3).\n"
     ]
    },
    {
     "name": "stderr",
     "output_type": "stream",
     "text": [
      "/tmp/tmp.rbKmWnPBQH/Ax-main/ax/core/map_data.py:200: FutureWarning: The behavior of DataFrame concatenation with empty or all-NA entries is deprecated. In a future version, this will no longer exclude empty or all-NA columns when determining the result dtypes. To retain the old behavior, exclude the relevant entries before the concat operation.\n",
      "  df = pd.concat(\n",
      "/tmp/tmp.rbKmWnPBQH/Ax-main/ax/core/map_data.py:200: FutureWarning: The behavior of DataFrame concatenation with empty or all-NA entries is deprecated. In a future version, this will no longer exclude empty or all-NA columns when determining the result dtypes. To retain the old behavior, exclude the relevant entries before the concat operation.\n",
      "  df = pd.concat(\n",
      "[INFO 12-22 07:06:51] ax.early_stopping.strategies.base: Last progression of any candidate for trial stopping is 0.29994666666666664.\n"
     ]
    },
    {
     "name": "stderr",
     "output_type": "stream",
     "text": [
      "[INFO 12-22 07:06:51] ax.early_stopping.strategies.base: No trials have reached 0.3. Not stopping any trials.\n"
     ]
    },
    {
     "name": "stderr",
     "output_type": "stream",
     "text": [
      "[INFO 12-22 07:06:51] Scheduler: Waiting for completed trials (for 10 sec, currently running trials: 3).\n"
     ]
    },
    {
     "name": "stderr",
     "output_type": "stream",
     "text": [
      "/tmp/tmp.rbKmWnPBQH/Ax-main/ax/core/map_data.py:200: FutureWarning: The behavior of DataFrame concatenation with empty or all-NA entries is deprecated. In a future version, this will no longer exclude empty or all-NA columns when determining the result dtypes. To retain the old behavior, exclude the relevant entries before the concat operation.\n",
      "  df = pd.concat(\n",
      "/tmp/tmp.rbKmWnPBQH/Ax-main/ax/core/map_data.py:200: FutureWarning: The behavior of DataFrame concatenation with empty or all-NA entries is deprecated. In a future version, this will no longer exclude empty or all-NA columns when determining the result dtypes. To retain the old behavior, exclude the relevant entries before the concat operation.\n",
      "  df = pd.concat(\n",
      "[INFO 12-22 07:07:01] ax.early_stopping.strategies.base: Last progression of any candidate for trial stopping is 0.29994666666666664.\n"
     ]
    },
    {
     "name": "stderr",
     "output_type": "stream",
     "text": [
      "[INFO 12-22 07:07:01] ax.early_stopping.strategies.base: No trials have reached 0.3. Not stopping any trials.\n"
     ]
    },
    {
     "name": "stderr",
     "output_type": "stream",
     "text": [
      "[INFO 12-22 07:07:01] Scheduler: Waiting for completed trials (for 10 sec, currently running trials: 3).\n"
     ]
    },
    {
     "name": "stderr",
     "output_type": "stream",
     "text": [
      "/tmp/tmp.rbKmWnPBQH/Ax-main/ax/core/map_data.py:200: FutureWarning: The behavior of DataFrame concatenation with empty or all-NA entries is deprecated. In a future version, this will no longer exclude empty or all-NA columns when determining the result dtypes. To retain the old behavior, exclude the relevant entries before the concat operation.\n",
      "  df = pd.concat(\n",
      "/tmp/tmp.rbKmWnPBQH/Ax-main/ax/core/map_data.py:200: FutureWarning: The behavior of DataFrame concatenation with empty or all-NA entries is deprecated. In a future version, this will no longer exclude empty or all-NA columns when determining the result dtypes. To retain the old behavior, exclude the relevant entries before the concat operation.\n",
      "  df = pd.concat(\n",
      "[INFO 12-22 07:07:11] ax.early_stopping.strategies.base: Last progression of any candidate for trial stopping is 0.29994666666666664.\n"
     ]
    },
    {
     "name": "stderr",
     "output_type": "stream",
     "text": [
      "[INFO 12-22 07:07:11] ax.early_stopping.strategies.base: No trials have reached 0.3. Not stopping any trials.\n"
     ]
    },
    {
     "name": "stderr",
     "output_type": "stream",
     "text": [
      "[INFO 12-22 07:07:11] Scheduler: Waiting for completed trials (for 10 sec, currently running trials: 3).\n"
     ]
    },
    {
     "name": "stderr",
     "output_type": "stream",
     "text": [
      "/tmp/tmp.rbKmWnPBQH/Ax-main/ax/core/map_data.py:200: FutureWarning: The behavior of DataFrame concatenation with empty or all-NA entries is deprecated. In a future version, this will no longer exclude empty or all-NA columns when determining the result dtypes. To retain the old behavior, exclude the relevant entries before the concat operation.\n",
      "  df = pd.concat(\n",
      "/tmp/tmp.rbKmWnPBQH/Ax-main/ax/core/map_data.py:200: FutureWarning: The behavior of DataFrame concatenation with empty or all-NA entries is deprecated. In a future version, this will no longer exclude empty or all-NA columns when determining the result dtypes. To retain the old behavior, exclude the relevant entries before the concat operation.\n",
      "  df = pd.concat(\n",
      "[INFO 12-22 07:07:21] ax.early_stopping.strategies.base: Last progression of any candidate for trial stopping is 0.3999466666666667.\n"
     ]
    },
    {
     "name": "stderr",
     "output_type": "stream",
     "text": [
      "[INFO 12-22 07:07:21] ax.early_stopping.strategies.percentile: Considering trial 8 for early stopping.\n"
     ]
    },
    {
     "name": "stderr",
     "output_type": "stream",
     "text": [
      "[INFO 12-22 07:07:21] ax.early_stopping.strategies.base: Last progression of Trial 8 is 0.3999466666666667.\n"
     ]
    },
    {
     "name": "stderr",
     "output_type": "stream",
     "text": [
      "[INFO 12-22 07:07:21] ax.early_stopping.strategies.percentile: Early stopping objective at last progression is:\n",
      "2    0.950124\n",
      "3    0.923434\n",
      "4    0.904314\n",
      "5    0.942822\n",
      "6    0.956270\n",
      "8    0.935924\n",
      "Name: 0.3999466666666667, dtype: float64.\n"
     ]
    },
    {
     "name": "stderr",
     "output_type": "stream",
     "text": [
      "[INFO 12-22 07:07:21] ax.early_stopping.strategies.percentile: Early stopping decision for 8: True. Reason: Trial objective value 0.935924032345194 is worse than 70.0-th percentile (0.9464731496836751) across comparable trials.\n"
     ]
    },
    {
     "name": "stderr",
     "output_type": "stream",
     "text": [
      "[INFO 12-22 07:07:21] ax.early_stopping.strategies.percentile: Considering trial 9 for early stopping.\n"
     ]
    },
    {
     "name": "stderr",
     "output_type": "stream",
     "text": [
      "[INFO 12-22 07:07:21] ax.early_stopping.strategies.base: Last progression of Trial 9 is 0.29994666666666664.\n"
     ]
    },
    {
     "name": "stderr",
     "output_type": "stream",
     "text": [
      "[INFO 12-22 07:07:21] ax.early_stopping.strategies.base: Trial 9's most recent progression (0.29994666666666664) that is available for metric val_acc falls out of the min/max_progression range (0.3, None). Not early stopping this trial.\n"
     ]
    },
    {
     "name": "stderr",
     "output_type": "stream",
     "text": [
      "[INFO 12-22 07:07:21] ax.early_stopping.strategies.percentile: Considering trial 7 for early stopping.\n"
     ]
    },
    {
     "name": "stderr",
     "output_type": "stream",
     "text": [
      "[INFO 12-22 07:07:21] ax.early_stopping.strategies.base: Last progression of Trial 7 is 0.29994666666666664.\n"
     ]
    },
    {
     "name": "stderr",
     "output_type": "stream",
     "text": [
      "[INFO 12-22 07:07:21] ax.early_stopping.strategies.base: Trial 7's most recent progression (0.29994666666666664) that is available for metric val_acc falls out of the min/max_progression range (0.3, None). Not early stopping this trial.\n"
     ]
    },
    {
     "name": "stderr",
     "output_type": "stream",
     "text": [
      "/tmp/tmp.rbKmWnPBQH/Ax-main/ax/core/map_data.py:200: FutureWarning: The behavior of DataFrame concatenation with empty or all-NA entries is deprecated. In a future version, this will no longer exclude empty or all-NA columns when determining the result dtypes. To retain the old behavior, exclude the relevant entries before the concat operation.\n",
      "  df = pd.concat(\n"
     ]
    },
    {
     "name": "stderr",
     "output_type": "stream",
     "text": [
      "[INFO 12-22 07:07:23] Scheduler: Running trials [10]...\n"
     ]
    },
    {
     "name": "stderr",
     "output_type": "stream",
     "text": [
      "/tmp/tmp.rbKmWnPBQH/Ax-main/ax/core/map_data.py:200: FutureWarning: The behavior of DataFrame concatenation with empty or all-NA entries is deprecated. In a future version, this will no longer exclude empty or all-NA columns when determining the result dtypes. To retain the old behavior, exclude the relevant entries before the concat operation.\n",
      "  df = pd.concat(\n",
      "[INFO 12-22 07:07:24] Scheduler: Generated all trials that can be generated currently. Max parallelism currently reached.\n"
     ]
    },
    {
     "name": "stderr",
     "output_type": "stream",
     "text": [
      "[WARNING 12-22 07:07:24] Scheduler: Both `init_seconds_between_polls` and `early_stopping_strategy supplied. `init_seconds_between_polls=1` will be overrridden by `early_stopping_strategy.seconds_between_polls=10` and polling will take place at a constant rate.\n"
     ]
    },
    {
     "name": "stderr",
     "output_type": "stream",
     "text": [
      "[INFO 12-22 07:07:24] ax.core.metric: MetricFetchE INFO: Initialized MetricFetchE(message=\"No 'scalar' data found for trial in multiplexer mul=<tensorboard.backend.event_processing.plugin_event_multiplexer.EventMultiplexer object at 0x7f5a3dbb7940>\")\n"
     ]
    },
    {
     "name": "stderr",
     "output_type": "stream",
     "text": [
      "[ERROR 12-22 07:07:24] ax.core.experiment: Discovered Metric fetching Err while attaching data MetricFetchE(message=\"No 'scalar' data found for trial in multiplexer mul=<tensorboard.backend.event_processing.plugin_event_multiplexer.EventMultiplexer object at 0x7f5a3dbb7940>\"). Ignoring for now -- will retry query on next call to fetch.\n"
     ]
    },
    {
     "name": "stderr",
     "output_type": "stream",
     "text": [
      "/tmp/tmp.rbKmWnPBQH/Ax-main/ax/core/map_data.py:200: FutureWarning: The behavior of DataFrame concatenation with empty or all-NA entries is deprecated. In a future version, this will no longer exclude empty or all-NA columns when determining the result dtypes. To retain the old behavior, exclude the relevant entries before the concat operation.\n",
      "  df = pd.concat(\n",
      "[WARNING 12-22 07:07:24] Scheduler: Failed to fetch val_acc for trial 10, found MetricFetchE(message=\"No 'scalar' data found for trial in multiplexer mul=<tensorboard.backend.event_processing.plugin_event_multiplexer.EventMultiplexer object at 0x7f5a3dbb7940>\").\n"
     ]
    },
    {
     "name": "stderr",
     "output_type": "stream",
     "text": [
      "[INFO 12-22 07:07:24] Scheduler: MetricFetchE INFO: Because val_acc is available_while_running and trial 10 is still RUNNING continuing the experiment and retrying on next poll...\n"
     ]
    },
    {
     "name": "stderr",
     "output_type": "stream",
     "text": [
      "/tmp/tmp.rbKmWnPBQH/Ax-main/ax/core/map_data.py:200: FutureWarning: The behavior of DataFrame concatenation with empty or all-NA entries is deprecated. In a future version, this will no longer exclude empty or all-NA columns when determining the result dtypes. To retain the old behavior, exclude the relevant entries before the concat operation.\n",
      "  df = pd.concat(\n",
      "[INFO 12-22 07:07:24] ax.early_stopping.strategies.base: Last progression of any candidate for trial stopping is 0.3999466666666667.\n"
     ]
    },
    {
     "name": "stderr",
     "output_type": "stream",
     "text": [
      "[INFO 12-22 07:07:24] ax.early_stopping.strategies.percentile: Considering trial 9 for early stopping.\n"
     ]
    },
    {
     "name": "stderr",
     "output_type": "stream",
     "text": [
      "[INFO 12-22 07:07:24] ax.early_stopping.strategies.base: Last progression of Trial 9 is 0.29994666666666664.\n"
     ]
    },
    {
     "name": "stderr",
     "output_type": "stream",
     "text": [
      "[INFO 12-22 07:07:24] ax.early_stopping.strategies.base: Trial 9's most recent progression (0.29994666666666664) that is available for metric val_acc falls out of the min/max_progression range (0.3, None). Not early stopping this trial.\n"
     ]
    },
    {
     "name": "stderr",
     "output_type": "stream",
     "text": [
      "[INFO 12-22 07:07:24] ax.early_stopping.strategies.percentile: Considering trial 10 for early stopping.\n"
     ]
    },
    {
     "name": "stderr",
     "output_type": "stream",
     "text": [
      "[INFO 12-22 07:07:24] ax.early_stopping.strategies.base: There is not yet any data associated with trial 10 and metric val_acc. Not early stopping this trial.\n"
     ]
    },
    {
     "name": "stderr",
     "output_type": "stream",
     "text": [
      "[INFO 12-22 07:07:24] ax.early_stopping.strategies.percentile: Considering trial 7 for early stopping.\n"
     ]
    },
    {
     "name": "stderr",
     "output_type": "stream",
     "text": [
      "[INFO 12-22 07:07:24] ax.early_stopping.strategies.base: Last progression of Trial 7 is 0.3999466666666667.\n"
     ]
    },
    {
     "name": "stderr",
     "output_type": "stream",
     "text": [
      "[INFO 12-22 07:07:24] ax.early_stopping.strategies.percentile: Early stopping objective at last progression is:\n",
      "2    0.950124\n",
      "3    0.923434\n",
      "4    0.904314\n",
      "5    0.942822\n",
      "6    0.956270\n",
      "7    0.914413\n",
      "8    0.935924\n",
      "Name: 0.3999466666666667, dtype: float64.\n"
     ]
    },
    {
     "name": "stderr",
     "output_type": "stream",
     "text": [
      "[INFO 12-22 07:07:24] ax.early_stopping.strategies.percentile: Early stopping decision for 7: True. Reason: Trial objective value 0.9144125313594423 is worse than 70.0-th percentile (0.9442825846484143) across comparable trials.\n"
     ]
    },
    {
     "name": "stderr",
     "output_type": "stream",
     "text": [
      "/tmp/tmp.rbKmWnPBQH/Ax-main/ax/core/map_data.py:200: FutureWarning: The behavior of DataFrame concatenation with empty or all-NA entries is deprecated. In a future version, this will no longer exclude empty or all-NA columns when determining the result dtypes. To retain the old behavior, exclude the relevant entries before the concat operation.\n",
      "  df = pd.concat(\n"
     ]
    },
    {
     "name": "stderr",
     "output_type": "stream",
     "text": [
      "[INFO 12-22 07:07:28] Scheduler: Running trials [11]...\n"
     ]
    },
    {
     "name": "stderr",
     "output_type": "stream",
     "text": [
      "/tmp/tmp.rbKmWnPBQH/Ax-main/ax/core/map_data.py:200: FutureWarning: The behavior of DataFrame concatenation with empty or all-NA entries is deprecated. In a future version, this will no longer exclude empty or all-NA columns when determining the result dtypes. To retain the old behavior, exclude the relevant entries before the concat operation.\n",
      "  df = pd.concat(\n",
      "[INFO 12-22 07:07:28] Scheduler: Generated all trials that can be generated currently. Max parallelism currently reached.\n"
     ]
    },
    {
     "name": "stderr",
     "output_type": "stream",
     "text": [
      "[WARNING 12-22 07:07:28] Scheduler: Both `init_seconds_between_polls` and `early_stopping_strategy supplied. `init_seconds_between_polls=1` will be overrridden by `early_stopping_strategy.seconds_between_polls=10` and polling will take place at a constant rate.\n"
     ]
    },
    {
     "name": "stderr",
     "output_type": "stream",
     "text": [
      "[INFO 12-22 07:07:28] ax.core.metric: MetricFetchE INFO: Initialized MetricFetchE(message=\"No 'scalar' data found for trial in multiplexer mul=<tensorboard.backend.event_processing.plugin_event_multiplexer.EventMultiplexer object at 0x7f5a3db96aa0>\")\n"
     ]
    },
    {
     "name": "stderr",
     "output_type": "stream",
     "text": [
      "[INFO 12-22 07:07:28] ax.core.metric: MetricFetchE INFO: Initialized MetricFetchE(message=\"No 'scalar' data found for trial in multiplexer mul=<tensorboard.backend.event_processing.plugin_event_multiplexer.EventMultiplexer object at 0x7f5a44ecc850>\")\n"
     ]
    },
    {
     "name": "stderr",
     "output_type": "stream",
     "text": [
      "[ERROR 12-22 07:07:28] ax.core.experiment: Discovered Metric fetching Err while attaching data MetricFetchE(message=\"No 'scalar' data found for trial in multiplexer mul=<tensorboard.backend.event_processing.plugin_event_multiplexer.EventMultiplexer object at 0x7f5a3db96aa0>\"). Ignoring for now -- will retry query on next call to fetch.\n"
     ]
    },
    {
     "name": "stderr",
     "output_type": "stream",
     "text": [
      "[ERROR 12-22 07:07:28] ax.core.experiment: Discovered Metric fetching Err while attaching data MetricFetchE(message=\"No 'scalar' data found for trial in multiplexer mul=<tensorboard.backend.event_processing.plugin_event_multiplexer.EventMultiplexer object at 0x7f5a44ecc850>\"). Ignoring for now -- will retry query on next call to fetch.\n"
     ]
    },
    {
     "name": "stderr",
     "output_type": "stream",
     "text": [
      "/tmp/tmp.rbKmWnPBQH/Ax-main/ax/core/map_data.py:200: FutureWarning: The behavior of DataFrame concatenation with empty or all-NA entries is deprecated. In a future version, this will no longer exclude empty or all-NA columns when determining the result dtypes. To retain the old behavior, exclude the relevant entries before the concat operation.\n",
      "  df = pd.concat(\n",
      "[WARNING 12-22 07:07:28] Scheduler: Failed to fetch val_acc for trial 10, found MetricFetchE(message=\"No 'scalar' data found for trial in multiplexer mul=<tensorboard.backend.event_processing.plugin_event_multiplexer.EventMultiplexer object at 0x7f5a3db96aa0>\").\n"
     ]
    },
    {
     "name": "stderr",
     "output_type": "stream",
     "text": [
      "[INFO 12-22 07:07:28] Scheduler: MetricFetchE INFO: Because val_acc is available_while_running and trial 10 is still RUNNING continuing the experiment and retrying on next poll...\n"
     ]
    },
    {
     "name": "stderr",
     "output_type": "stream",
     "text": [
      "[WARNING 12-22 07:07:28] Scheduler: Failed to fetch val_acc for trial 11, found MetricFetchE(message=\"No 'scalar' data found for trial in multiplexer mul=<tensorboard.backend.event_processing.plugin_event_multiplexer.EventMultiplexer object at 0x7f5a44ecc850>\").\n"
     ]
    },
    {
     "name": "stderr",
     "output_type": "stream",
     "text": [
      "[INFO 12-22 07:07:28] Scheduler: MetricFetchE INFO: Because val_acc is available_while_running and trial 11 is still RUNNING continuing the experiment and retrying on next poll...\n"
     ]
    },
    {
     "name": "stderr",
     "output_type": "stream",
     "text": [
      "/tmp/tmp.rbKmWnPBQH/Ax-main/ax/core/map_data.py:200: FutureWarning: The behavior of DataFrame concatenation with empty or all-NA entries is deprecated. In a future version, this will no longer exclude empty or all-NA columns when determining the result dtypes. To retain the old behavior, exclude the relevant entries before the concat operation.\n",
      "  df = pd.concat(\n",
      "[INFO 12-22 07:07:29] ax.early_stopping.strategies.base: Last progression of any candidate for trial stopping is 0.3999466666666667.\n"
     ]
    },
    {
     "name": "stderr",
     "output_type": "stream",
     "text": [
      "[INFO 12-22 07:07:29] ax.early_stopping.strategies.percentile: Considering trial 9 for early stopping.\n"
     ]
    },
    {
     "name": "stderr",
     "output_type": "stream",
     "text": [
      "[INFO 12-22 07:07:29] ax.early_stopping.strategies.base: Last progression of Trial 9 is 0.3999466666666667.\n"
     ]
    },
    {
     "name": "stderr",
     "output_type": "stream",
     "text": [
      "[INFO 12-22 07:07:29] ax.early_stopping.strategies.percentile: Early stopping objective at last progression is:\n",
      "2    0.950124\n",
      "3    0.923434\n",
      "4    0.904314\n",
      "5    0.942822\n",
      "6    0.956270\n",
      "7    0.914413\n",
      "8    0.935924\n",
      "9    0.942847\n",
      "Name: 0.3999466666666667, dtype: float64.\n"
     ]
    },
    {
     "name": "stderr",
     "output_type": "stream",
     "text": [
      "[INFO 12-22 07:07:29] ax.early_stopping.strategies.percentile: Early stopping decision for 9: False. Reason: Trial objective value 0.9428474483231605 is better than 70.0-th percentile (0.9428449242866684) across comparable trials.\n"
     ]
    },
    {
     "name": "stderr",
     "output_type": "stream",
     "text": [
      "[INFO 12-22 07:07:29] ax.early_stopping.strategies.percentile: Considering trial 10 for early stopping.\n"
     ]
    },
    {
     "name": "stderr",
     "output_type": "stream",
     "text": [
      "[INFO 12-22 07:07:29] ax.early_stopping.strategies.base: There is not yet any data associated with trial 10 and metric val_acc. Not early stopping this trial.\n"
     ]
    },
    {
     "name": "stderr",
     "output_type": "stream",
     "text": [
      "[INFO 12-22 07:07:29] ax.early_stopping.strategies.percentile: Considering trial 11 for early stopping.\n"
     ]
    },
    {
     "name": "stderr",
     "output_type": "stream",
     "text": [
      "[INFO 12-22 07:07:29] ax.early_stopping.strategies.base: There is not yet any data associated with trial 11 and metric val_acc. Not early stopping this trial.\n"
     ]
    },
    {
     "name": "stderr",
     "output_type": "stream",
     "text": [
      "[INFO 12-22 07:07:29] Scheduler: Waiting for completed trials (for 10 sec, currently running trials: 3).\n"
     ]
    },
    {
     "name": "stderr",
     "output_type": "stream",
     "text": [
      "[INFO 12-22 07:07:39] ax.core.metric: MetricFetchE INFO: Initialized MetricFetchE(message=\"No 'scalar' data found for trial in multiplexer mul=<tensorboard.backend.event_processing.plugin_event_multiplexer.EventMultiplexer object at 0x7f5a3dbb7e20>\")\n"
     ]
    },
    {
     "name": "stderr",
     "output_type": "stream",
     "text": [
      "[INFO 12-22 07:07:39] ax.core.metric: MetricFetchE INFO: Initialized MetricFetchE(message=\"No 'scalar' data found for trial in multiplexer mul=<tensorboard.backend.event_processing.plugin_event_multiplexer.EventMultiplexer object at 0x7f5a3dbb7e20>\")\n"
     ]
    },
    {
     "name": "stderr",
     "output_type": "stream",
     "text": [
      "[ERROR 12-22 07:07:39] ax.core.experiment: Discovered Metric fetching Err while attaching data MetricFetchE(message=\"No 'scalar' data found for trial in multiplexer mul=<tensorboard.backend.event_processing.plugin_event_multiplexer.EventMultiplexer object at 0x7f5a3dbb7e20>\"). Ignoring for now -- will retry query on next call to fetch.\n"
     ]
    },
    {
     "name": "stderr",
     "output_type": "stream",
     "text": [
      "[ERROR 12-22 07:07:39] ax.core.experiment: Discovered Metric fetching Err while attaching data MetricFetchE(message=\"No 'scalar' data found for trial in multiplexer mul=<tensorboard.backend.event_processing.plugin_event_multiplexer.EventMultiplexer object at 0x7f5a3dbb7e20>\"). Ignoring for now -- will retry query on next call to fetch.\n"
     ]
    },
    {
     "name": "stderr",
     "output_type": "stream",
     "text": [
      "/tmp/tmp.rbKmWnPBQH/Ax-main/ax/core/map_data.py:200: FutureWarning: The behavior of DataFrame concatenation with empty or all-NA entries is deprecated. In a future version, this will no longer exclude empty or all-NA columns when determining the result dtypes. To retain the old behavior, exclude the relevant entries before the concat operation.\n",
      "  df = pd.concat(\n",
      "[WARNING 12-22 07:07:39] Scheduler: Failed to fetch val_acc for trial 10, found MetricFetchE(message=\"No 'scalar' data found for trial in multiplexer mul=<tensorboard.backend.event_processing.plugin_event_multiplexer.EventMultiplexer object at 0x7f5a3dbb7e20>\").\n"
     ]
    },
    {
     "name": "stderr",
     "output_type": "stream",
     "text": [
      "[INFO 12-22 07:07:39] Scheduler: MetricFetchE INFO: Because val_acc is available_while_running and trial 10 is still RUNNING continuing the experiment and retrying on next poll...\n"
     ]
    },
    {
     "name": "stderr",
     "output_type": "stream",
     "text": [
      "[WARNING 12-22 07:07:39] Scheduler: Failed to fetch val_acc for trial 11, found MetricFetchE(message=\"No 'scalar' data found for trial in multiplexer mul=<tensorboard.backend.event_processing.plugin_event_multiplexer.EventMultiplexer object at 0x7f5a3dbb7e20>\").\n"
     ]
    },
    {
     "name": "stderr",
     "output_type": "stream",
     "text": [
      "[INFO 12-22 07:07:39] Scheduler: MetricFetchE INFO: Because val_acc is available_while_running and trial 11 is still RUNNING continuing the experiment and retrying on next poll...\n"
     ]
    },
    {
     "name": "stderr",
     "output_type": "stream",
     "text": [
      "/tmp/tmp.rbKmWnPBQH/Ax-main/ax/core/map_data.py:200: FutureWarning: The behavior of DataFrame concatenation with empty or all-NA entries is deprecated. In a future version, this will no longer exclude empty or all-NA columns when determining the result dtypes. To retain the old behavior, exclude the relevant entries before the concat operation.\n",
      "  df = pd.concat(\n",
      "[INFO 12-22 07:07:39] ax.early_stopping.strategies.base: Last progression of any candidate for trial stopping is 0.3999466666666667.\n"
     ]
    },
    {
     "name": "stderr",
     "output_type": "stream",
     "text": [
      "[INFO 12-22 07:07:39] ax.early_stopping.strategies.percentile: Considering trial 9 for early stopping.\n"
     ]
    },
    {
     "name": "stderr",
     "output_type": "stream",
     "text": [
      "[INFO 12-22 07:07:39] ax.early_stopping.strategies.base: Last progression of Trial 9 is 0.3999466666666667.\n"
     ]
    },
    {
     "name": "stderr",
     "output_type": "stream",
     "text": [
      "[INFO 12-22 07:07:39] ax.early_stopping.strategies.percentile: Early stopping objective at last progression is:\n",
      "2    0.950124\n",
      "3    0.923434\n",
      "4    0.904314\n",
      "5    0.942822\n",
      "6    0.956270\n",
      "7    0.914413\n",
      "8    0.935924\n",
      "9    0.942847\n",
      "Name: 0.3999466666666667, dtype: float64.\n"
     ]
    },
    {
     "name": "stderr",
     "output_type": "stream",
     "text": [
      "[INFO 12-22 07:07:39] ax.early_stopping.strategies.percentile: Early stopping decision for 9: False. Reason: Trial objective value 0.9428474483231605 is better than 70.0-th percentile (0.9428449242866684) across comparable trials.\n"
     ]
    },
    {
     "name": "stderr",
     "output_type": "stream",
     "text": [
      "[INFO 12-22 07:07:39] ax.early_stopping.strategies.percentile: Considering trial 10 for early stopping.\n"
     ]
    },
    {
     "name": "stderr",
     "output_type": "stream",
     "text": [
      "[INFO 12-22 07:07:39] ax.early_stopping.strategies.base: There is not yet any data associated with trial 10 and metric val_acc. Not early stopping this trial.\n"
     ]
    },
    {
     "name": "stderr",
     "output_type": "stream",
     "text": [
      "[INFO 12-22 07:07:39] ax.early_stopping.strategies.percentile: Considering trial 11 for early stopping.\n"
     ]
    },
    {
     "name": "stderr",
     "output_type": "stream",
     "text": [
      "[INFO 12-22 07:07:39] ax.early_stopping.strategies.base: There is not yet any data associated with trial 11 and metric val_acc. Not early stopping this trial.\n"
     ]
    },
    {
     "name": "stderr",
     "output_type": "stream",
     "text": [
      "[INFO 12-22 07:07:39] Scheduler: Waiting for completed trials (for 10 sec, currently running trials: 3).\n"
     ]
    },
    {
     "name": "stderr",
     "output_type": "stream",
     "text": [
      "[INFO 12-22 07:07:49] ax.core.metric: MetricFetchE INFO: Initialized MetricFetchE(message=\"No 'scalar' data found for trial in multiplexer mul=<tensorboard.backend.event_processing.plugin_event_multiplexer.EventMultiplexer object at 0x7f5a3dbb4d30>\")\n"
     ]
    },
    {
     "name": "stderr",
     "output_type": "stream",
     "text": [
      "[INFO 12-22 07:07:49] ax.core.metric: MetricFetchE INFO: Initialized MetricFetchE(message=\"No 'scalar' data found for trial in multiplexer mul=<tensorboard.backend.event_processing.plugin_event_multiplexer.EventMultiplexer object at 0x7f5a3dbb46a0>\")\n"
     ]
    },
    {
     "name": "stderr",
     "output_type": "stream",
     "text": [
      "[ERROR 12-22 07:07:49] ax.core.experiment: Discovered Metric fetching Err while attaching data MetricFetchE(message=\"No 'scalar' data found for trial in multiplexer mul=<tensorboard.backend.event_processing.plugin_event_multiplexer.EventMultiplexer object at 0x7f5a3dbb4d30>\"). Ignoring for now -- will retry query on next call to fetch.\n"
     ]
    },
    {
     "name": "stderr",
     "output_type": "stream",
     "text": [
      "[ERROR 12-22 07:07:49] ax.core.experiment: Discovered Metric fetching Err while attaching data MetricFetchE(message=\"No 'scalar' data found for trial in multiplexer mul=<tensorboard.backend.event_processing.plugin_event_multiplexer.EventMultiplexer object at 0x7f5a3dbb46a0>\"). Ignoring for now -- will retry query on next call to fetch.\n"
     ]
    },
    {
     "name": "stderr",
     "output_type": "stream",
     "text": [
      "/tmp/tmp.rbKmWnPBQH/Ax-main/ax/core/map_data.py:200: FutureWarning: The behavior of DataFrame concatenation with empty or all-NA entries is deprecated. In a future version, this will no longer exclude empty or all-NA columns when determining the result dtypes. To retain the old behavior, exclude the relevant entries before the concat operation.\n",
      "  df = pd.concat(\n",
      "[WARNING 12-22 07:07:49] Scheduler: Failed to fetch val_acc for trial 10, found MetricFetchE(message=\"No 'scalar' data found for trial in multiplexer mul=<tensorboard.backend.event_processing.plugin_event_multiplexer.EventMultiplexer object at 0x7f5a3dbb4d30>\").\n"
     ]
    },
    {
     "name": "stderr",
     "output_type": "stream",
     "text": [
      "[INFO 12-22 07:07:49] Scheduler: MetricFetchE INFO: Because val_acc is available_while_running and trial 10 is still RUNNING continuing the experiment and retrying on next poll...\n"
     ]
    },
    {
     "name": "stderr",
     "output_type": "stream",
     "text": [
      "[WARNING 12-22 07:07:49] Scheduler: Failed to fetch val_acc for trial 11, found MetricFetchE(message=\"No 'scalar' data found for trial in multiplexer mul=<tensorboard.backend.event_processing.plugin_event_multiplexer.EventMultiplexer object at 0x7f5a3dbb46a0>\").\n"
     ]
    },
    {
     "name": "stderr",
     "output_type": "stream",
     "text": [
      "[INFO 12-22 07:07:49] Scheduler: MetricFetchE INFO: Because val_acc is available_while_running and trial 11 is still RUNNING continuing the experiment and retrying on next poll...\n"
     ]
    },
    {
     "name": "stderr",
     "output_type": "stream",
     "text": [
      "/tmp/tmp.rbKmWnPBQH/Ax-main/ax/core/map_data.py:200: FutureWarning: The behavior of DataFrame concatenation with empty or all-NA entries is deprecated. In a future version, this will no longer exclude empty or all-NA columns when determining the result dtypes. To retain the old behavior, exclude the relevant entries before the concat operation.\n",
      "  df = pd.concat(\n",
      "[INFO 12-22 07:07:49] ax.early_stopping.strategies.base: Last progression of any candidate for trial stopping is 0.3999466666666667.\n"
     ]
    },
    {
     "name": "stderr",
     "output_type": "stream",
     "text": [
      "[INFO 12-22 07:07:49] ax.early_stopping.strategies.percentile: Considering trial 9 for early stopping.\n"
     ]
    },
    {
     "name": "stderr",
     "output_type": "stream",
     "text": [
      "[INFO 12-22 07:07:49] ax.early_stopping.strategies.base: Last progression of Trial 9 is 0.3999466666666667.\n"
     ]
    },
    {
     "name": "stderr",
     "output_type": "stream",
     "text": [
      "[INFO 12-22 07:07:49] ax.early_stopping.strategies.percentile: Early stopping objective at last progression is:\n",
      "2    0.950124\n",
      "3    0.923434\n",
      "4    0.904314\n",
      "5    0.942822\n",
      "6    0.956270\n",
      "7    0.914413\n",
      "8    0.935924\n",
      "9    0.942847\n",
      "Name: 0.3999466666666667, dtype: float64.\n"
     ]
    },
    {
     "name": "stderr",
     "output_type": "stream",
     "text": [
      "[INFO 12-22 07:07:49] ax.early_stopping.strategies.percentile: Early stopping decision for 9: False. Reason: Trial objective value 0.9428474483231605 is better than 70.0-th percentile (0.9428449242866684) across comparable trials.\n"
     ]
    },
    {
     "name": "stderr",
     "output_type": "stream",
     "text": [
      "[INFO 12-22 07:07:49] ax.early_stopping.strategies.percentile: Considering trial 10 for early stopping.\n"
     ]
    },
    {
     "name": "stderr",
     "output_type": "stream",
     "text": [
      "[INFO 12-22 07:07:49] ax.early_stopping.strategies.base: There is not yet any data associated with trial 10 and metric val_acc. Not early stopping this trial.\n"
     ]
    },
    {
     "name": "stderr",
     "output_type": "stream",
     "text": [
      "[INFO 12-22 07:07:49] ax.early_stopping.strategies.percentile: Considering trial 11 for early stopping.\n"
     ]
    },
    {
     "name": "stderr",
     "output_type": "stream",
     "text": [
      "[INFO 12-22 07:07:49] ax.early_stopping.strategies.base: There is not yet any data associated with trial 11 and metric val_acc. Not early stopping this trial.\n"
     ]
    },
    {
     "name": "stderr",
     "output_type": "stream",
     "text": [
      "[INFO 12-22 07:07:49] Scheduler: Waiting for completed trials (for 10 sec, currently running trials: 3).\n"
     ]
    },
    {
     "name": "stderr",
     "output_type": "stream",
     "text": [
      "[INFO 12-22 07:07:59] ax.core.metric: MetricFetchE INFO: Initialized MetricFetchE(message=\"No 'scalar' data found for trial in multiplexer mul=<tensorboard.backend.event_processing.plugin_event_multiplexer.EventMultiplexer object at 0x7f5a3dbb7220>\")\n"
     ]
    },
    {
     "name": "stderr",
     "output_type": "stream",
     "text": [
      "[INFO 12-22 07:07:59] ax.core.metric: MetricFetchE INFO: Initialized MetricFetchE(message=\"No 'scalar' data found for trial in multiplexer mul=<tensorboard.backend.event_processing.plugin_event_multiplexer.EventMultiplexer object at 0x7f5a3dbb7220>\")\n"
     ]
    },
    {
     "name": "stderr",
     "output_type": "stream",
     "text": [
      "[ERROR 12-22 07:07:59] ax.core.experiment: Discovered Metric fetching Err while attaching data MetricFetchE(message=\"No 'scalar' data found for trial in multiplexer mul=<tensorboard.backend.event_processing.plugin_event_multiplexer.EventMultiplexer object at 0x7f5a3dbb7220>\"). Ignoring for now -- will retry query on next call to fetch.\n"
     ]
    },
    {
     "name": "stderr",
     "output_type": "stream",
     "text": [
      "[ERROR 12-22 07:07:59] ax.core.experiment: Discovered Metric fetching Err while attaching data MetricFetchE(message=\"No 'scalar' data found for trial in multiplexer mul=<tensorboard.backend.event_processing.plugin_event_multiplexer.EventMultiplexer object at 0x7f5a3dbb7220>\"). Ignoring for now -- will retry query on next call to fetch.\n"
     ]
    },
    {
     "name": "stderr",
     "output_type": "stream",
     "text": [
      "/tmp/tmp.rbKmWnPBQH/Ax-main/ax/core/map_data.py:200: FutureWarning: The behavior of DataFrame concatenation with empty or all-NA entries is deprecated. In a future version, this will no longer exclude empty or all-NA columns when determining the result dtypes. To retain the old behavior, exclude the relevant entries before the concat operation.\n",
      "  df = pd.concat(\n",
      "[WARNING 12-22 07:07:59] Scheduler: Failed to fetch val_acc for trial 10, found MetricFetchE(message=\"No 'scalar' data found for trial in multiplexer mul=<tensorboard.backend.event_processing.plugin_event_multiplexer.EventMultiplexer object at 0x7f5a3dbb7220>\").\n"
     ]
    },
    {
     "name": "stderr",
     "output_type": "stream",
     "text": [
      "[INFO 12-22 07:07:59] Scheduler: MetricFetchE INFO: Because val_acc is available_while_running and trial 10 is still RUNNING continuing the experiment and retrying on next poll...\n"
     ]
    },
    {
     "name": "stderr",
     "output_type": "stream",
     "text": [
      "[WARNING 12-22 07:07:59] Scheduler: Failed to fetch val_acc for trial 11, found MetricFetchE(message=\"No 'scalar' data found for trial in multiplexer mul=<tensorboard.backend.event_processing.plugin_event_multiplexer.EventMultiplexer object at 0x7f5a3dbb7220>\").\n"
     ]
    },
    {
     "name": "stderr",
     "output_type": "stream",
     "text": [
      "[INFO 12-22 07:07:59] Scheduler: MetricFetchE INFO: Because val_acc is available_while_running and trial 11 is still RUNNING continuing the experiment and retrying on next poll...\n"
     ]
    },
    {
     "name": "stderr",
     "output_type": "stream",
     "text": [
      "/tmp/tmp.rbKmWnPBQH/Ax-main/ax/core/map_data.py:200: FutureWarning: The behavior of DataFrame concatenation with empty or all-NA entries is deprecated. In a future version, this will no longer exclude empty or all-NA columns when determining the result dtypes. To retain the old behavior, exclude the relevant entries before the concat operation.\n",
      "  df = pd.concat(\n",
      "[INFO 12-22 07:07:59] ax.early_stopping.strategies.base: Last progression of any candidate for trial stopping is 0.3999466666666667.\n"
     ]
    },
    {
     "name": "stderr",
     "output_type": "stream",
     "text": [
      "[INFO 12-22 07:07:59] ax.early_stopping.strategies.percentile: Considering trial 9 for early stopping.\n"
     ]
    },
    {
     "name": "stderr",
     "output_type": "stream",
     "text": [
      "[INFO 12-22 07:07:59] ax.early_stopping.strategies.base: Last progression of Trial 9 is 0.3999466666666667.\n"
     ]
    },
    {
     "name": "stderr",
     "output_type": "stream",
     "text": [
      "[INFO 12-22 07:07:59] ax.early_stopping.strategies.percentile: Early stopping objective at last progression is:\n",
      "2    0.950124\n",
      "3    0.923434\n",
      "4    0.904314\n",
      "5    0.942822\n",
      "6    0.956270\n",
      "7    0.914413\n",
      "8    0.935924\n",
      "9    0.942847\n",
      "Name: 0.3999466666666667, dtype: float64.\n"
     ]
    },
    {
     "name": "stderr",
     "output_type": "stream",
     "text": [
      "[INFO 12-22 07:07:59] ax.early_stopping.strategies.percentile: Early stopping decision for 9: False. Reason: Trial objective value 0.9428474483231605 is better than 70.0-th percentile (0.9428449242866684) across comparable trials.\n"
     ]
    },
    {
     "name": "stderr",
     "output_type": "stream",
     "text": [
      "[INFO 12-22 07:07:59] ax.early_stopping.strategies.percentile: Considering trial 10 for early stopping.\n"
     ]
    },
    {
     "name": "stderr",
     "output_type": "stream",
     "text": [
      "[INFO 12-22 07:07:59] ax.early_stopping.strategies.base: There is not yet any data associated with trial 10 and metric val_acc. Not early stopping this trial.\n"
     ]
    },
    {
     "name": "stderr",
     "output_type": "stream",
     "text": [
      "[INFO 12-22 07:07:59] ax.early_stopping.strategies.percentile: Considering trial 11 for early stopping.\n"
     ]
    },
    {
     "name": "stderr",
     "output_type": "stream",
     "text": [
      "[INFO 12-22 07:07:59] ax.early_stopping.strategies.base: There is not yet any data associated with trial 11 and metric val_acc. Not early stopping this trial.\n"
     ]
    },
    {
     "name": "stderr",
     "output_type": "stream",
     "text": [
      "[INFO 12-22 07:07:59] Scheduler: Waiting for completed trials (for 10 sec, currently running trials: 3).\n"
     ]
    },
    {
     "name": "stderr",
     "output_type": "stream",
     "text": [
      "[INFO 12-22 07:08:09] ax.core.metric: MetricFetchE INFO: Initialized MetricFetchE(message=\"No 'scalar' data found for trial in multiplexer mul=<tensorboard.backend.event_processing.plugin_event_multiplexer.EventMultiplexer object at 0x7f5a44ecf850>\")\n"
     ]
    },
    {
     "name": "stderr",
     "output_type": "stream",
     "text": [
      "[ERROR 12-22 07:08:09] ax.core.experiment: Discovered Metric fetching Err while attaching data MetricFetchE(message=\"No 'scalar' data found for trial in multiplexer mul=<tensorboard.backend.event_processing.plugin_event_multiplexer.EventMultiplexer object at 0x7f5a44ecf850>\"). Ignoring for now -- will retry query on next call to fetch.\n"
     ]
    },
    {
     "name": "stderr",
     "output_type": "stream",
     "text": [
      "/tmp/tmp.rbKmWnPBQH/Ax-main/ax/core/map_data.py:200: FutureWarning: The behavior of DataFrame concatenation with empty or all-NA entries is deprecated. In a future version, this will no longer exclude empty or all-NA columns when determining the result dtypes. To retain the old behavior, exclude the relevant entries before the concat operation.\n",
      "  df = pd.concat(\n",
      "[WARNING 12-22 07:08:09] Scheduler: Failed to fetch val_acc for trial 11, found MetricFetchE(message=\"No 'scalar' data found for trial in multiplexer mul=<tensorboard.backend.event_processing.plugin_event_multiplexer.EventMultiplexer object at 0x7f5a44ecf850>\").\n"
     ]
    },
    {
     "name": "stderr",
     "output_type": "stream",
     "text": [
      "[INFO 12-22 07:08:09] Scheduler: MetricFetchE INFO: Because val_acc is available_while_running and trial 11 is still RUNNING continuing the experiment and retrying on next poll...\n"
     ]
    },
    {
     "name": "stderr",
     "output_type": "stream",
     "text": [
      "/tmp/tmp.rbKmWnPBQH/Ax-main/ax/core/map_data.py:200: FutureWarning: The behavior of DataFrame concatenation with empty or all-NA entries is deprecated. In a future version, this will no longer exclude empty or all-NA columns when determining the result dtypes. To retain the old behavior, exclude the relevant entries before the concat operation.\n",
      "  df = pd.concat(\n",
      "[INFO 12-22 07:08:09] ax.early_stopping.strategies.base: Last progression of any candidate for trial stopping is 0.49994666666666665.\n"
     ]
    },
    {
     "name": "stderr",
     "output_type": "stream",
     "text": [
      "[INFO 12-22 07:08:09] ax.early_stopping.utils: Got exception `x and y arrays must have at least 2 entries` during interpolation. Using uninterpolated values instead.\n"
     ]
    },
    {
     "name": "stderr",
     "output_type": "stream",
     "text": [
      "[INFO 12-22 07:08:09] ax.early_stopping.strategies.percentile: Considering trial 9 for early stopping.\n"
     ]
    },
    {
     "name": "stderr",
     "output_type": "stream",
     "text": [
      "[INFO 12-22 07:08:09] ax.early_stopping.strategies.base: Last progression of Trial 9 is 0.49994666666666665.\n"
     ]
    },
    {
     "name": "stderr",
     "output_type": "stream",
     "text": [
      "[INFO 12-22 07:08:09] ax.early_stopping.strategies.percentile: Early stopping objective at last progression is:\n",
      "2    0.954273\n",
      "3    0.926895\n",
      "4    0.894005\n",
      "5    0.947804\n",
      "6    0.961177\n",
      "9    0.949727\n",
      "Name: 0.49994666666666665, dtype: float64.\n"
     ]
    },
    {
     "name": "stderr",
     "output_type": "stream",
     "text": [
      "[INFO 12-22 07:08:09] ax.early_stopping.strategies.percentile: Early stopping decision for 9: True. Reason: Trial objective value 0.9497267227515103 is worse than 70.0-th percentile (0.9519997884010831) across comparable trials.\n"
     ]
    },
    {
     "name": "stderr",
     "output_type": "stream",
     "text": [
      "[INFO 12-22 07:08:09] ax.early_stopping.strategies.percentile: Considering trial 10 for early stopping.\n"
     ]
    },
    {
     "name": "stderr",
     "output_type": "stream",
     "text": [
      "[INFO 12-22 07:08:09] ax.early_stopping.strategies.base: Last progression of Trial 10 is 0.09994666666666667.\n"
     ]
    },
    {
     "name": "stderr",
     "output_type": "stream",
     "text": [
      "[INFO 12-22 07:08:09] ax.early_stopping.strategies.base: Trial 10's most recent progression (0.09994666666666667) that is available for metric val_acc falls out of the min/max_progression range (0.3, None). Not early stopping this trial.\n"
     ]
    },
    {
     "name": "stderr",
     "output_type": "stream",
     "text": [
      "[INFO 12-22 07:08:09] ax.early_stopping.strategies.percentile: Considering trial 11 for early stopping.\n"
     ]
    },
    {
     "name": "stderr",
     "output_type": "stream",
     "text": [
      "[INFO 12-22 07:08:09] ax.early_stopping.strategies.base: There is not yet any data associated with trial 11 and metric val_acc. Not early stopping this trial.\n"
     ]
    },
    {
     "name": "stderr",
     "output_type": "stream",
     "text": [
      "/tmp/tmp.rbKmWnPBQH/Ax-main/ax/core/map_data.py:200: FutureWarning: The behavior of DataFrame concatenation with empty or all-NA entries is deprecated. In a future version, this will no longer exclude empty or all-NA columns when determining the result dtypes. To retain the old behavior, exclude the relevant entries before the concat operation.\n",
      "  df = pd.concat(\n"
     ]
    },
    {
     "name": "stderr",
     "output_type": "stream",
     "text": [
      "[INFO 12-22 07:08:12] Scheduler: Running trials [12]...\n"
     ]
    },
    {
     "name": "stderr",
     "output_type": "stream",
     "text": [
      "/tmp/tmp.rbKmWnPBQH/Ax-main/ax/core/map_data.py:200: FutureWarning: The behavior of DataFrame concatenation with empty or all-NA entries is deprecated. In a future version, this will no longer exclude empty or all-NA columns when determining the result dtypes. To retain the old behavior, exclude the relevant entries before the concat operation.\n",
      "  df = pd.concat(\n",
      "[INFO 12-22 07:08:13] Scheduler: Generated all trials that can be generated currently. Max parallelism currently reached.\n"
     ]
    },
    {
     "name": "stderr",
     "output_type": "stream",
     "text": [
      "[WARNING 12-22 07:08:13] Scheduler: Both `init_seconds_between_polls` and `early_stopping_strategy supplied. `init_seconds_between_polls=1` will be overrridden by `early_stopping_strategy.seconds_between_polls=10` and polling will take place at a constant rate.\n"
     ]
    },
    {
     "name": "stderr",
     "output_type": "stream",
     "text": [
      "[INFO 12-22 07:08:13] ax.core.metric: MetricFetchE INFO: Initialized MetricFetchE(message=\"No 'scalar' data found for trial in multiplexer mul=<tensorboard.backend.event_processing.plugin_event_multiplexer.EventMultiplexer object at 0x7f5a3dbcdd80>\")\n"
     ]
    },
    {
     "name": "stderr",
     "output_type": "stream",
     "text": [
      "[INFO 12-22 07:08:13] ax.core.metric: MetricFetchE INFO: Initialized MetricFetchE(message=\"No 'scalar' data found for trial in multiplexer mul=<tensorboard.backend.event_processing.plugin_event_multiplexer.EventMultiplexer object at 0x7f5a3dbcc430>\")\n"
     ]
    },
    {
     "name": "stderr",
     "output_type": "stream",
     "text": [
      "[ERROR 12-22 07:08:13] ax.core.experiment: Discovered Metric fetching Err while attaching data MetricFetchE(message=\"No 'scalar' data found for trial in multiplexer mul=<tensorboard.backend.event_processing.plugin_event_multiplexer.EventMultiplexer object at 0x7f5a3dbcdd80>\"). Ignoring for now -- will retry query on next call to fetch.\n"
     ]
    },
    {
     "name": "stderr",
     "output_type": "stream",
     "text": [
      "[ERROR 12-22 07:08:13] ax.core.experiment: Discovered Metric fetching Err while attaching data MetricFetchE(message=\"No 'scalar' data found for trial in multiplexer mul=<tensorboard.backend.event_processing.plugin_event_multiplexer.EventMultiplexer object at 0x7f5a3dbcc430>\"). Ignoring for now -- will retry query on next call to fetch.\n"
     ]
    },
    {
     "name": "stderr",
     "output_type": "stream",
     "text": [
      "/tmp/tmp.rbKmWnPBQH/Ax-main/ax/core/map_data.py:200: FutureWarning: The behavior of DataFrame concatenation with empty or all-NA entries is deprecated. In a future version, this will no longer exclude empty or all-NA columns when determining the result dtypes. To retain the old behavior, exclude the relevant entries before the concat operation.\n",
      "  df = pd.concat(\n",
      "[WARNING 12-22 07:08:13] Scheduler: Failed to fetch val_acc for trial 11, found MetricFetchE(message=\"No 'scalar' data found for trial in multiplexer mul=<tensorboard.backend.event_processing.plugin_event_multiplexer.EventMultiplexer object at 0x7f5a3dbcdd80>\").\n"
     ]
    },
    {
     "name": "stderr",
     "output_type": "stream",
     "text": [
      "[INFO 12-22 07:08:13] Scheduler: MetricFetchE INFO: Because val_acc is available_while_running and trial 11 is still RUNNING continuing the experiment and retrying on next poll...\n"
     ]
    },
    {
     "name": "stderr",
     "output_type": "stream",
     "text": [
      "[WARNING 12-22 07:08:13] Scheduler: Failed to fetch val_acc for trial 12, found MetricFetchE(message=\"No 'scalar' data found for trial in multiplexer mul=<tensorboard.backend.event_processing.plugin_event_multiplexer.EventMultiplexer object at 0x7f5a3dbcc430>\").\n"
     ]
    },
    {
     "name": "stderr",
     "output_type": "stream",
     "text": [
      "[INFO 12-22 07:08:13] Scheduler: MetricFetchE INFO: Because val_acc is available_while_running and trial 12 is still RUNNING continuing the experiment and retrying on next poll...\n"
     ]
    },
    {
     "name": "stderr",
     "output_type": "stream",
     "text": [
      "/tmp/tmp.rbKmWnPBQH/Ax-main/ax/core/map_data.py:200: FutureWarning: The behavior of DataFrame concatenation with empty or all-NA entries is deprecated. In a future version, this will no longer exclude empty or all-NA columns when determining the result dtypes. To retain the old behavior, exclude the relevant entries before the concat operation.\n",
      "  df = pd.concat(\n",
      "[INFO 12-22 07:08:13] ax.early_stopping.strategies.base: Last progression of any candidate for trial stopping is 0.09994666666666667.\n"
     ]
    },
    {
     "name": "stderr",
     "output_type": "stream",
     "text": [
      "[INFO 12-22 07:08:13] ax.early_stopping.strategies.base: No trials have reached 0.3. Not stopping any trials.\n"
     ]
    },
    {
     "name": "stderr",
     "output_type": "stream",
     "text": [
      "[INFO 12-22 07:08:13] Scheduler: Waiting for completed trials (for 10 sec, currently running trials: 3).\n"
     ]
    },
    {
     "name": "stderr",
     "output_type": "stream",
     "text": [
      "[INFO 12-22 07:08:23] ax.core.metric: MetricFetchE INFO: Initialized MetricFetchE(message=\"No 'scalar' data found for trial in multiplexer mul=<tensorboard.backend.event_processing.plugin_event_multiplexer.EventMultiplexer object at 0x7f5a3db97bb0>\")\n"
     ]
    },
    {
     "name": "stderr",
     "output_type": "stream",
     "text": [
      "[ERROR 12-22 07:08:23] ax.core.experiment: Discovered Metric fetching Err while attaching data MetricFetchE(message=\"No 'scalar' data found for trial in multiplexer mul=<tensorboard.backend.event_processing.plugin_event_multiplexer.EventMultiplexer object at 0x7f5a3db97bb0>\"). Ignoring for now -- will retry query on next call to fetch.\n"
     ]
    },
    {
     "name": "stderr",
     "output_type": "stream",
     "text": [
      "/tmp/tmp.rbKmWnPBQH/Ax-main/ax/core/map_data.py:200: FutureWarning: The behavior of DataFrame concatenation with empty or all-NA entries is deprecated. In a future version, this will no longer exclude empty or all-NA columns when determining the result dtypes. To retain the old behavior, exclude the relevant entries before the concat operation.\n",
      "  df = pd.concat(\n",
      "[WARNING 12-22 07:08:23] Scheduler: Failed to fetch val_acc for trial 12, found MetricFetchE(message=\"No 'scalar' data found for trial in multiplexer mul=<tensorboard.backend.event_processing.plugin_event_multiplexer.EventMultiplexer object at 0x7f5a3db97bb0>\").\n"
     ]
    },
    {
     "name": "stderr",
     "output_type": "stream",
     "text": [
      "[INFO 12-22 07:08:23] Scheduler: MetricFetchE INFO: Because val_acc is available_while_running and trial 12 is still RUNNING continuing the experiment and retrying on next poll...\n"
     ]
    },
    {
     "name": "stderr",
     "output_type": "stream",
     "text": [
      "/tmp/tmp.rbKmWnPBQH/Ax-main/ax/core/map_data.py:200: FutureWarning: The behavior of DataFrame concatenation with empty or all-NA entries is deprecated. In a future version, this will no longer exclude empty or all-NA columns when determining the result dtypes. To retain the old behavior, exclude the relevant entries before the concat operation.\n",
      "  df = pd.concat(\n",
      "[INFO 12-22 07:08:23] ax.early_stopping.strategies.base: Last progression of any candidate for trial stopping is 0.09994666666666667.\n"
     ]
    },
    {
     "name": "stderr",
     "output_type": "stream",
     "text": [
      "[INFO 12-22 07:08:23] ax.early_stopping.strategies.base: No trials have reached 0.3. Not stopping any trials.\n"
     ]
    },
    {
     "name": "stderr",
     "output_type": "stream",
     "text": [
      "[INFO 12-22 07:08:23] Scheduler: Waiting for completed trials (for 10 sec, currently running trials: 3).\n"
     ]
    },
    {
     "name": "stderr",
     "output_type": "stream",
     "text": [
      "[INFO 12-22 07:08:33] ax.core.metric: MetricFetchE INFO: Initialized MetricFetchE(message=\"No 'scalar' data found for trial in multiplexer mul=<tensorboard.backend.event_processing.plugin_event_multiplexer.EventMultiplexer object at 0x7f5a3dbb5f90>\")\n"
     ]
    },
    {
     "name": "stderr",
     "output_type": "stream",
     "text": [
      "[ERROR 12-22 07:08:33] ax.core.experiment: Discovered Metric fetching Err while attaching data MetricFetchE(message=\"No 'scalar' data found for trial in multiplexer mul=<tensorboard.backend.event_processing.plugin_event_multiplexer.EventMultiplexer object at 0x7f5a3dbb5f90>\"). Ignoring for now -- will retry query on next call to fetch.\n"
     ]
    },
    {
     "name": "stderr",
     "output_type": "stream",
     "text": [
      "/tmp/tmp.rbKmWnPBQH/Ax-main/ax/core/map_data.py:200: FutureWarning: The behavior of DataFrame concatenation with empty or all-NA entries is deprecated. In a future version, this will no longer exclude empty or all-NA columns when determining the result dtypes. To retain the old behavior, exclude the relevant entries before the concat operation.\n",
      "  df = pd.concat(\n",
      "[WARNING 12-22 07:08:33] Scheduler: Failed to fetch val_acc for trial 12, found MetricFetchE(message=\"No 'scalar' data found for trial in multiplexer mul=<tensorboard.backend.event_processing.plugin_event_multiplexer.EventMultiplexer object at 0x7f5a3dbb5f90>\").\n"
     ]
    },
    {
     "name": "stderr",
     "output_type": "stream",
     "text": [
      "[INFO 12-22 07:08:33] Scheduler: MetricFetchE INFO: Because val_acc is available_while_running and trial 12 is still RUNNING continuing the experiment and retrying on next poll...\n"
     ]
    },
    {
     "name": "stderr",
     "output_type": "stream",
     "text": [
      "/tmp/tmp.rbKmWnPBQH/Ax-main/ax/core/map_data.py:200: FutureWarning: The behavior of DataFrame concatenation with empty or all-NA entries is deprecated. In a future version, this will no longer exclude empty or all-NA columns when determining the result dtypes. To retain the old behavior, exclude the relevant entries before the concat operation.\n",
      "  df = pd.concat(\n",
      "[INFO 12-22 07:08:33] ax.early_stopping.strategies.base: Last progression of any candidate for trial stopping is 0.09994666666666667.\n"
     ]
    },
    {
     "name": "stderr",
     "output_type": "stream",
     "text": [
      "[INFO 12-22 07:08:33] ax.early_stopping.strategies.base: No trials have reached 0.3. Not stopping any trials.\n"
     ]
    },
    {
     "name": "stderr",
     "output_type": "stream",
     "text": [
      "[INFO 12-22 07:08:33] Scheduler: Waiting for completed trials (for 10 sec, currently running trials: 3).\n"
     ]
    },
    {
     "name": "stderr",
     "output_type": "stream",
     "text": [
      "[INFO 12-22 07:08:43] ax.core.metric: MetricFetchE INFO: Initialized MetricFetchE(message=\"No 'scalar' data found for trial in multiplexer mul=<tensorboard.backend.event_processing.plugin_event_multiplexer.EventMultiplexer object at 0x7f5a3db96830>\")\n"
     ]
    },
    {
     "name": "stderr",
     "output_type": "stream",
     "text": [
      "[ERROR 12-22 07:08:43] ax.core.experiment: Discovered Metric fetching Err while attaching data MetricFetchE(message=\"No 'scalar' data found for trial in multiplexer mul=<tensorboard.backend.event_processing.plugin_event_multiplexer.EventMultiplexer object at 0x7f5a3db96830>\"). Ignoring for now -- will retry query on next call to fetch.\n"
     ]
    },
    {
     "name": "stderr",
     "output_type": "stream",
     "text": [
      "/tmp/tmp.rbKmWnPBQH/Ax-main/ax/core/map_data.py:200: FutureWarning: The behavior of DataFrame concatenation with empty or all-NA entries is deprecated. In a future version, this will no longer exclude empty or all-NA columns when determining the result dtypes. To retain the old behavior, exclude the relevant entries before the concat operation.\n",
      "  df = pd.concat(\n",
      "[WARNING 12-22 07:08:43] Scheduler: Failed to fetch val_acc for trial 12, found MetricFetchE(message=\"No 'scalar' data found for trial in multiplexer mul=<tensorboard.backend.event_processing.plugin_event_multiplexer.EventMultiplexer object at 0x7f5a3db96830>\").\n"
     ]
    },
    {
     "name": "stderr",
     "output_type": "stream",
     "text": [
      "[INFO 12-22 07:08:43] Scheduler: MetricFetchE INFO: Because val_acc is available_while_running and trial 12 is still RUNNING continuing the experiment and retrying on next poll...\n"
     ]
    },
    {
     "name": "stderr",
     "output_type": "stream",
     "text": [
      "/tmp/tmp.rbKmWnPBQH/Ax-main/ax/core/map_data.py:200: FutureWarning: The behavior of DataFrame concatenation with empty or all-NA entries is deprecated. In a future version, this will no longer exclude empty or all-NA columns when determining the result dtypes. To retain the old behavior, exclude the relevant entries before the concat operation.\n",
      "  df = pd.concat(\n",
      "[INFO 12-22 07:08:43] ax.early_stopping.strategies.base: Last progression of any candidate for trial stopping is 0.09994666666666667.\n"
     ]
    },
    {
     "name": "stderr",
     "output_type": "stream",
     "text": [
      "[INFO 12-22 07:08:43] ax.early_stopping.strategies.base: No trials have reached 0.3. Not stopping any trials.\n"
     ]
    },
    {
     "name": "stderr",
     "output_type": "stream",
     "text": [
      "[INFO 12-22 07:08:43] Scheduler: Waiting for completed trials (for 10 sec, currently running trials: 3).\n"
     ]
    },
    {
     "name": "stderr",
     "output_type": "stream",
     "text": [
      "[INFO 12-22 07:08:53] ax.core.metric: MetricFetchE INFO: Initialized MetricFetchE(message=\"No 'scalar' data found for trial in multiplexer mul=<tensorboard.backend.event_processing.plugin_event_multiplexer.EventMultiplexer object at 0x7f5a3dbb76a0>\")\n"
     ]
    },
    {
     "name": "stderr",
     "output_type": "stream",
     "text": [
      "[ERROR 12-22 07:08:53] ax.core.experiment: Discovered Metric fetching Err while attaching data MetricFetchE(message=\"No 'scalar' data found for trial in multiplexer mul=<tensorboard.backend.event_processing.plugin_event_multiplexer.EventMultiplexer object at 0x7f5a3dbb76a0>\"). Ignoring for now -- will retry query on next call to fetch.\n"
     ]
    },
    {
     "name": "stderr",
     "output_type": "stream",
     "text": [
      "/tmp/tmp.rbKmWnPBQH/Ax-main/ax/core/map_data.py:200: FutureWarning: The behavior of DataFrame concatenation with empty or all-NA entries is deprecated. In a future version, this will no longer exclude empty or all-NA columns when determining the result dtypes. To retain the old behavior, exclude the relevant entries before the concat operation.\n",
      "  df = pd.concat(\n",
      "[WARNING 12-22 07:08:53] Scheduler: Failed to fetch val_acc for trial 12, found MetricFetchE(message=\"No 'scalar' data found for trial in multiplexer mul=<tensorboard.backend.event_processing.plugin_event_multiplexer.EventMultiplexer object at 0x7f5a3dbb76a0>\").\n"
     ]
    },
    {
     "name": "stderr",
     "output_type": "stream",
     "text": [
      "[INFO 12-22 07:08:53] Scheduler: MetricFetchE INFO: Because val_acc is available_while_running and trial 12 is still RUNNING continuing the experiment and retrying on next poll...\n"
     ]
    },
    {
     "name": "stderr",
     "output_type": "stream",
     "text": [
      "/tmp/tmp.rbKmWnPBQH/Ax-main/ax/core/map_data.py:200: FutureWarning: The behavior of DataFrame concatenation with empty or all-NA entries is deprecated. In a future version, this will no longer exclude empty or all-NA columns when determining the result dtypes. To retain the old behavior, exclude the relevant entries before the concat operation.\n",
      "  df = pd.concat(\n",
      "[INFO 12-22 07:08:53] ax.early_stopping.strategies.base: Last progression of any candidate for trial stopping is 0.19994666666666666.\n"
     ]
    },
    {
     "name": "stderr",
     "output_type": "stream",
     "text": [
      "[INFO 12-22 07:08:53] ax.early_stopping.strategies.base: No trials have reached 0.3. Not stopping any trials.\n"
     ]
    },
    {
     "name": "stderr",
     "output_type": "stream",
     "text": [
      "[INFO 12-22 07:08:53] Scheduler: Waiting for completed trials (for 10 sec, currently running trials: 3).\n"
     ]
    },
    {
     "name": "stderr",
     "output_type": "stream",
     "text": [
      "/tmp/tmp.rbKmWnPBQH/Ax-main/ax/core/map_data.py:200: FutureWarning: The behavior of DataFrame concatenation with empty or all-NA entries is deprecated. In a future version, this will no longer exclude empty or all-NA columns when determining the result dtypes. To retain the old behavior, exclude the relevant entries before the concat operation.\n",
      "  df = pd.concat(\n",
      "/tmp/tmp.rbKmWnPBQH/Ax-main/ax/core/map_data.py:200: FutureWarning: The behavior of DataFrame concatenation with empty or all-NA entries is deprecated. In a future version, this will no longer exclude empty or all-NA columns when determining the result dtypes. To retain the old behavior, exclude the relevant entries before the concat operation.\n",
      "  df = pd.concat(\n",
      "[INFO 12-22 07:09:04] ax.early_stopping.strategies.base: Last progression of any candidate for trial stopping is 0.19994666666666666.\n"
     ]
    },
    {
     "name": "stderr",
     "output_type": "stream",
     "text": [
      "[INFO 12-22 07:09:04] ax.early_stopping.strategies.base: No trials have reached 0.3. Not stopping any trials.\n"
     ]
    },
    {
     "name": "stderr",
     "output_type": "stream",
     "text": [
      "[INFO 12-22 07:09:04] Scheduler: Waiting for completed trials (for 10 sec, currently running trials: 3).\n"
     ]
    },
    {
     "name": "stderr",
     "output_type": "stream",
     "text": [
      "/tmp/tmp.rbKmWnPBQH/Ax-main/ax/core/map_data.py:200: FutureWarning: The behavior of DataFrame concatenation with empty or all-NA entries is deprecated. In a future version, this will no longer exclude empty or all-NA columns when determining the result dtypes. To retain the old behavior, exclude the relevant entries before the concat operation.\n",
      "  df = pd.concat(\n",
      "/tmp/tmp.rbKmWnPBQH/Ax-main/ax/core/map_data.py:200: FutureWarning: The behavior of DataFrame concatenation with empty or all-NA entries is deprecated. In a future version, this will no longer exclude empty or all-NA columns when determining the result dtypes. To retain the old behavior, exclude the relevant entries before the concat operation.\n",
      "  df = pd.concat(\n",
      "[INFO 12-22 07:09:14] ax.early_stopping.strategies.base: Last progression of any candidate for trial stopping is 0.19994666666666666.\n"
     ]
    },
    {
     "name": "stderr",
     "output_type": "stream",
     "text": [
      "[INFO 12-22 07:09:14] ax.early_stopping.strategies.base: No trials have reached 0.3. Not stopping any trials.\n"
     ]
    },
    {
     "name": "stderr",
     "output_type": "stream",
     "text": [
      "[INFO 12-22 07:09:14] Scheduler: Waiting for completed trials (for 10 sec, currently running trials: 3).\n"
     ]
    },
    {
     "name": "stderr",
     "output_type": "stream",
     "text": [
      "/tmp/tmp.rbKmWnPBQH/Ax-main/ax/core/map_data.py:200: FutureWarning: The behavior of DataFrame concatenation with empty or all-NA entries is deprecated. In a future version, this will no longer exclude empty or all-NA columns when determining the result dtypes. To retain the old behavior, exclude the relevant entries before the concat operation.\n",
      "  df = pd.concat(\n",
      "/tmp/tmp.rbKmWnPBQH/Ax-main/ax/core/map_data.py:200: FutureWarning: The behavior of DataFrame concatenation with empty or all-NA entries is deprecated. In a future version, this will no longer exclude empty or all-NA columns when determining the result dtypes. To retain the old behavior, exclude the relevant entries before the concat operation.\n",
      "  df = pd.concat(\n",
      "[INFO 12-22 07:09:24] ax.early_stopping.strategies.base: Last progression of any candidate for trial stopping is 0.19994666666666666.\n"
     ]
    },
    {
     "name": "stderr",
     "output_type": "stream",
     "text": [
      "[INFO 12-22 07:09:24] ax.early_stopping.strategies.base: No trials have reached 0.3. Not stopping any trials.\n"
     ]
    },
    {
     "name": "stderr",
     "output_type": "stream",
     "text": [
      "[INFO 12-22 07:09:24] Scheduler: Waiting for completed trials (for 10 sec, currently running trials: 3).\n"
     ]
    },
    {
     "name": "stderr",
     "output_type": "stream",
     "text": [
      "/tmp/tmp.rbKmWnPBQH/Ax-main/ax/core/map_data.py:200: FutureWarning: The behavior of DataFrame concatenation with empty or all-NA entries is deprecated. In a future version, this will no longer exclude empty or all-NA columns when determining the result dtypes. To retain the old behavior, exclude the relevant entries before the concat operation.\n",
      "  df = pd.concat(\n",
      "/tmp/tmp.rbKmWnPBQH/Ax-main/ax/core/map_data.py:200: FutureWarning: The behavior of DataFrame concatenation with empty or all-NA entries is deprecated. In a future version, this will no longer exclude empty or all-NA columns when determining the result dtypes. To retain the old behavior, exclude the relevant entries before the concat operation.\n",
      "  df = pd.concat(\n",
      "[INFO 12-22 07:09:34] ax.early_stopping.strategies.base: Last progression of any candidate for trial stopping is 0.19994666666666666.\n"
     ]
    },
    {
     "name": "stderr",
     "output_type": "stream",
     "text": [
      "[INFO 12-22 07:09:34] ax.early_stopping.strategies.base: No trials have reached 0.3. Not stopping any trials.\n"
     ]
    },
    {
     "name": "stderr",
     "output_type": "stream",
     "text": [
      "[INFO 12-22 07:09:34] Scheduler: Waiting for completed trials (for 10 sec, currently running trials: 3).\n"
     ]
    },
    {
     "name": "stderr",
     "output_type": "stream",
     "text": [
      "/tmp/tmp.rbKmWnPBQH/Ax-main/ax/core/map_data.py:200: FutureWarning: The behavior of DataFrame concatenation with empty or all-NA entries is deprecated. In a future version, this will no longer exclude empty or all-NA columns when determining the result dtypes. To retain the old behavior, exclude the relevant entries before the concat operation.\n",
      "  df = pd.concat(\n",
      "/tmp/tmp.rbKmWnPBQH/Ax-main/ax/core/map_data.py:200: FutureWarning: The behavior of DataFrame concatenation with empty or all-NA entries is deprecated. In a future version, this will no longer exclude empty or all-NA columns when determining the result dtypes. To retain the old behavior, exclude the relevant entries before the concat operation.\n",
      "  df = pd.concat(\n",
      "[INFO 12-22 07:09:44] ax.early_stopping.strategies.base: Last progression of any candidate for trial stopping is 0.29994666666666664.\n"
     ]
    },
    {
     "name": "stderr",
     "output_type": "stream",
     "text": [
      "[INFO 12-22 07:09:44] ax.early_stopping.strategies.base: No trials have reached 0.3. Not stopping any trials.\n"
     ]
    },
    {
     "name": "stderr",
     "output_type": "stream",
     "text": [
      "[INFO 12-22 07:09:44] Scheduler: Waiting for completed trials (for 10 sec, currently running trials: 3).\n"
     ]
    },
    {
     "name": "stderr",
     "output_type": "stream",
     "text": [
      "/tmp/tmp.rbKmWnPBQH/Ax-main/ax/core/map_data.py:200: FutureWarning: The behavior of DataFrame concatenation with empty or all-NA entries is deprecated. In a future version, this will no longer exclude empty or all-NA columns when determining the result dtypes. To retain the old behavior, exclude the relevant entries before the concat operation.\n",
      "  df = pd.concat(\n",
      "/tmp/tmp.rbKmWnPBQH/Ax-main/ax/core/map_data.py:200: FutureWarning: The behavior of DataFrame concatenation with empty or all-NA entries is deprecated. In a future version, this will no longer exclude empty or all-NA columns when determining the result dtypes. To retain the old behavior, exclude the relevant entries before the concat operation.\n",
      "  df = pd.concat(\n",
      "[INFO 12-22 07:09:54] ax.early_stopping.strategies.base: Last progression of any candidate for trial stopping is 0.29994666666666664.\n"
     ]
    },
    {
     "name": "stderr",
     "output_type": "stream",
     "text": [
      "[INFO 12-22 07:09:54] ax.early_stopping.strategies.base: No trials have reached 0.3. Not stopping any trials.\n"
     ]
    },
    {
     "name": "stderr",
     "output_type": "stream",
     "text": [
      "[INFO 12-22 07:09:54] Scheduler: Waiting for completed trials (for 10 sec, currently running trials: 3).\n"
     ]
    },
    {
     "name": "stderr",
     "output_type": "stream",
     "text": [
      "/tmp/tmp.rbKmWnPBQH/Ax-main/ax/core/map_data.py:200: FutureWarning: The behavior of DataFrame concatenation with empty or all-NA entries is deprecated. In a future version, this will no longer exclude empty or all-NA columns when determining the result dtypes. To retain the old behavior, exclude the relevant entries before the concat operation.\n",
      "  df = pd.concat(\n",
      "/tmp/tmp.rbKmWnPBQH/Ax-main/ax/core/map_data.py:200: FutureWarning: The behavior of DataFrame concatenation with empty or all-NA entries is deprecated. In a future version, this will no longer exclude empty or all-NA columns when determining the result dtypes. To retain the old behavior, exclude the relevant entries before the concat operation.\n",
      "  df = pd.concat(\n",
      "[INFO 12-22 07:10:04] ax.early_stopping.strategies.base: Last progression of any candidate for trial stopping is 0.29994666666666664.\n"
     ]
    },
    {
     "name": "stderr",
     "output_type": "stream",
     "text": [
      "[INFO 12-22 07:10:04] ax.early_stopping.strategies.base: No trials have reached 0.3. Not stopping any trials.\n"
     ]
    },
    {
     "name": "stderr",
     "output_type": "stream",
     "text": [
      "[INFO 12-22 07:10:04] Scheduler: Waiting for completed trials (for 10 sec, currently running trials: 3).\n"
     ]
    },
    {
     "name": "stderr",
     "output_type": "stream",
     "text": [
      "/tmp/tmp.rbKmWnPBQH/Ax-main/ax/core/map_data.py:200: FutureWarning: The behavior of DataFrame concatenation with empty or all-NA entries is deprecated. In a future version, this will no longer exclude empty or all-NA columns when determining the result dtypes. To retain the old behavior, exclude the relevant entries before the concat operation.\n",
      "  df = pd.concat(\n",
      "/tmp/tmp.rbKmWnPBQH/Ax-main/ax/core/map_data.py:200: FutureWarning: The behavior of DataFrame concatenation with empty or all-NA entries is deprecated. In a future version, this will no longer exclude empty or all-NA columns when determining the result dtypes. To retain the old behavior, exclude the relevant entries before the concat operation.\n",
      "  df = pd.concat(\n",
      "[INFO 12-22 07:10:14] ax.early_stopping.strategies.base: Last progression of any candidate for trial stopping is 0.3999466666666667.\n"
     ]
    },
    {
     "name": "stderr",
     "output_type": "stream",
     "text": [
      "[INFO 12-22 07:10:14] ax.early_stopping.strategies.percentile: Considering trial 10 for early stopping.\n"
     ]
    },
    {
     "name": "stderr",
     "output_type": "stream",
     "text": [
      "[INFO 12-22 07:10:14] ax.early_stopping.strategies.base: Last progression of Trial 10 is 0.3999466666666667.\n"
     ]
    },
    {
     "name": "stderr",
     "output_type": "stream",
     "text": [
      "[INFO 12-22 07:10:14] ax.early_stopping.strategies.percentile: Early stopping objective at last progression is:\n",
      "2     0.950124\n",
      "3     0.923434\n",
      "4     0.904314\n",
      "5     0.942822\n",
      "6     0.956270\n",
      "7     0.914413\n",
      "8     0.935924\n",
      "9     0.942847\n",
      "10    0.952262\n",
      "Name: 0.3999466666666667, dtype: float64.\n"
     ]
    },
    {
     "name": "stderr",
     "output_type": "stream",
     "text": [
      "[INFO 12-22 07:10:14] ax.early_stopping.strategies.percentile: Early stopping decision for 10: False. Reason: Trial objective value 0.9522618968498531 is better than 70.0-th percentile (0.9472134341747303) across comparable trials.\n"
     ]
    },
    {
     "name": "stderr",
     "output_type": "stream",
     "text": [
      "[INFO 12-22 07:10:14] ax.early_stopping.strategies.percentile: Considering trial 11 for early stopping.\n"
     ]
    },
    {
     "name": "stderr",
     "output_type": "stream",
     "text": [
      "[INFO 12-22 07:10:14] ax.early_stopping.strategies.base: Last progression of Trial 11 is 0.29994666666666664.\n"
     ]
    },
    {
     "name": "stderr",
     "output_type": "stream",
     "text": [
      "[INFO 12-22 07:10:14] ax.early_stopping.strategies.base: Trial 11's most recent progression (0.29994666666666664) that is available for metric val_acc falls out of the min/max_progression range (0.3, None). Not early stopping this trial.\n"
     ]
    },
    {
     "name": "stderr",
     "output_type": "stream",
     "text": [
      "[INFO 12-22 07:10:14] ax.early_stopping.strategies.percentile: Considering trial 12 for early stopping.\n"
     ]
    },
    {
     "name": "stderr",
     "output_type": "stream",
     "text": [
      "[INFO 12-22 07:10:14] ax.early_stopping.strategies.base: Last progression of Trial 12 is 0.19994666666666666.\n"
     ]
    },
    {
     "name": "stderr",
     "output_type": "stream",
     "text": [
      "[INFO 12-22 07:10:14] ax.early_stopping.strategies.base: Trial 12's most recent progression (0.19994666666666666) that is available for metric val_acc falls out of the min/max_progression range (0.3, None). Not early stopping this trial.\n"
     ]
    },
    {
     "name": "stderr",
     "output_type": "stream",
     "text": [
      "[INFO 12-22 07:10:14] Scheduler: Waiting for completed trials (for 10 sec, currently running trials: 3).\n"
     ]
    },
    {
     "name": "stderr",
     "output_type": "stream",
     "text": [
      "/tmp/tmp.rbKmWnPBQH/Ax-main/ax/core/map_data.py:200: FutureWarning: The behavior of DataFrame concatenation with empty or all-NA entries is deprecated. In a future version, this will no longer exclude empty or all-NA columns when determining the result dtypes. To retain the old behavior, exclude the relevant entries before the concat operation.\n",
      "  df = pd.concat(\n",
      "/tmp/tmp.rbKmWnPBQH/Ax-main/ax/core/map_data.py:200: FutureWarning: The behavior of DataFrame concatenation with empty or all-NA entries is deprecated. In a future version, this will no longer exclude empty or all-NA columns when determining the result dtypes. To retain the old behavior, exclude the relevant entries before the concat operation.\n",
      "  df = pd.concat(\n",
      "[INFO 12-22 07:10:25] ax.early_stopping.strategies.base: Last progression of any candidate for trial stopping is 0.3999466666666667.\n"
     ]
    },
    {
     "name": "stderr",
     "output_type": "stream",
     "text": [
      "[INFO 12-22 07:10:25] ax.early_stopping.strategies.percentile: Considering trial 10 for early stopping.\n"
     ]
    },
    {
     "name": "stderr",
     "output_type": "stream",
     "text": [
      "[INFO 12-22 07:10:25] ax.early_stopping.strategies.base: Last progression of Trial 10 is 0.3999466666666667.\n"
     ]
    },
    {
     "name": "stderr",
     "output_type": "stream",
     "text": [
      "[INFO 12-22 07:10:25] ax.early_stopping.strategies.percentile: Early stopping objective at last progression is:\n",
      "2     0.950124\n",
      "3     0.923434\n",
      "4     0.904314\n",
      "5     0.942822\n",
      "6     0.956270\n",
      "7     0.914413\n",
      "8     0.935924\n",
      "9     0.942847\n",
      "10    0.952262\n",
      "Name: 0.3999466666666667, dtype: float64.\n"
     ]
    },
    {
     "name": "stderr",
     "output_type": "stream",
     "text": [
      "[INFO 12-22 07:10:25] ax.early_stopping.strategies.percentile: Early stopping decision for 10: False. Reason: Trial objective value 0.9522618968498531 is better than 70.0-th percentile (0.9472134341747303) across comparable trials.\n"
     ]
    },
    {
     "name": "stderr",
     "output_type": "stream",
     "text": [
      "[INFO 12-22 07:10:25] ax.early_stopping.strategies.percentile: Considering trial 11 for early stopping.\n"
     ]
    },
    {
     "name": "stderr",
     "output_type": "stream",
     "text": [
      "[INFO 12-22 07:10:25] ax.early_stopping.strategies.base: Last progression of Trial 11 is 0.29994666666666664.\n"
     ]
    },
    {
     "name": "stderr",
     "output_type": "stream",
     "text": [
      "[INFO 12-22 07:10:25] ax.early_stopping.strategies.base: Trial 11's most recent progression (0.29994666666666664) that is available for metric val_acc falls out of the min/max_progression range (0.3, None). Not early stopping this trial.\n"
     ]
    },
    {
     "name": "stderr",
     "output_type": "stream",
     "text": [
      "[INFO 12-22 07:10:25] ax.early_stopping.strategies.percentile: Considering trial 12 for early stopping.\n"
     ]
    },
    {
     "name": "stderr",
     "output_type": "stream",
     "text": [
      "[INFO 12-22 07:10:25] ax.early_stopping.strategies.base: Last progression of Trial 12 is 0.19994666666666666.\n"
     ]
    },
    {
     "name": "stderr",
     "output_type": "stream",
     "text": [
      "[INFO 12-22 07:10:25] ax.early_stopping.strategies.base: Trial 12's most recent progression (0.19994666666666666) that is available for metric val_acc falls out of the min/max_progression range (0.3, None). Not early stopping this trial.\n"
     ]
    },
    {
     "name": "stderr",
     "output_type": "stream",
     "text": [
      "[INFO 12-22 07:10:25] Scheduler: Waiting for completed trials (for 10 sec, currently running trials: 3).\n"
     ]
    },
    {
     "name": "stderr",
     "output_type": "stream",
     "text": [
      "/tmp/tmp.rbKmWnPBQH/Ax-main/ax/core/map_data.py:200: FutureWarning: The behavior of DataFrame concatenation with empty or all-NA entries is deprecated. In a future version, this will no longer exclude empty or all-NA columns when determining the result dtypes. To retain the old behavior, exclude the relevant entries before the concat operation.\n",
      "  df = pd.concat(\n",
      "/tmp/tmp.rbKmWnPBQH/Ax-main/ax/core/map_data.py:200: FutureWarning: The behavior of DataFrame concatenation with empty or all-NA entries is deprecated. In a future version, this will no longer exclude empty or all-NA columns when determining the result dtypes. To retain the old behavior, exclude the relevant entries before the concat operation.\n",
      "  df = pd.concat(\n",
      "[INFO 12-22 07:10:35] ax.early_stopping.strategies.base: Last progression of any candidate for trial stopping is 0.3999466666666667.\n"
     ]
    },
    {
     "name": "stderr",
     "output_type": "stream",
     "text": [
      "[INFO 12-22 07:10:35] ax.early_stopping.strategies.percentile: Considering trial 10 for early stopping.\n"
     ]
    },
    {
     "name": "stderr",
     "output_type": "stream",
     "text": [
      "[INFO 12-22 07:10:35] ax.early_stopping.strategies.base: Last progression of Trial 10 is 0.3999466666666667.\n"
     ]
    },
    {
     "name": "stderr",
     "output_type": "stream",
     "text": [
      "[INFO 12-22 07:10:35] ax.early_stopping.strategies.percentile: Early stopping objective at last progression is:\n",
      "2     0.950124\n",
      "3     0.923434\n",
      "4     0.904314\n",
      "5     0.942822\n",
      "6     0.956270\n",
      "7     0.914413\n",
      "8     0.935924\n",
      "9     0.942847\n",
      "10    0.952262\n",
      "11    0.936989\n",
      "Name: 0.3999466666666667, dtype: float64.\n"
     ]
    },
    {
     "name": "stderr",
     "output_type": "stream",
     "text": [
      "[INFO 12-22 07:10:35] ax.early_stopping.strategies.percentile: Early stopping decision for 10: False. Reason: Trial objective value 0.9522618968498531 is better than 70.0-th percentile (0.9450304412489453) across comparable trials.\n"
     ]
    },
    {
     "name": "stderr",
     "output_type": "stream",
     "text": [
      "[INFO 12-22 07:10:35] ax.early_stopping.strategies.percentile: Considering trial 11 for early stopping.\n"
     ]
    },
    {
     "name": "stderr",
     "output_type": "stream",
     "text": [
      "[INFO 12-22 07:10:35] ax.early_stopping.strategies.base: Last progression of Trial 11 is 0.3999466666666667.\n"
     ]
    },
    {
     "name": "stderr",
     "output_type": "stream",
     "text": [
      "[INFO 12-22 07:10:35] ax.early_stopping.strategies.percentile: Early stopping objective at last progression is:\n",
      "2     0.950124\n",
      "3     0.923434\n",
      "4     0.904314\n",
      "5     0.942822\n",
      "6     0.956270\n",
      "7     0.914413\n",
      "8     0.935924\n",
      "9     0.942847\n",
      "10    0.952262\n",
      "11    0.936989\n",
      "Name: 0.3999466666666667, dtype: float64.\n"
     ]
    },
    {
     "name": "stderr",
     "output_type": "stream",
     "text": [
      "[INFO 12-22 07:10:35] ax.early_stopping.strategies.percentile: Early stopping decision for 11: True. Reason: Trial objective value 0.9369892680586264 is worse than 70.0-th percentile (0.9450304412489453) across comparable trials.\n"
     ]
    },
    {
     "name": "stderr",
     "output_type": "stream",
     "text": [
      "[INFO 12-22 07:10:35] ax.early_stopping.strategies.percentile: Considering trial 12 for early stopping.\n"
     ]
    },
    {
     "name": "stderr",
     "output_type": "stream",
     "text": [
      "[INFO 12-22 07:10:35] ax.early_stopping.strategies.base: Last progression of Trial 12 is 0.29994666666666664.\n"
     ]
    },
    {
     "name": "stderr",
     "output_type": "stream",
     "text": [
      "[INFO 12-22 07:10:35] ax.early_stopping.strategies.base: Trial 12's most recent progression (0.29994666666666664) that is available for metric val_acc falls out of the min/max_progression range (0.3, None). Not early stopping this trial.\n"
     ]
    },
    {
     "name": "stderr",
     "output_type": "stream",
     "text": [
      "/tmp/tmp.rbKmWnPBQH/Ax-main/ax/core/map_data.py:200: FutureWarning: The behavior of DataFrame concatenation with empty or all-NA entries is deprecated. In a future version, this will no longer exclude empty or all-NA columns when determining the result dtypes. To retain the old behavior, exclude the relevant entries before the concat operation.\n",
      "  df = pd.concat(\n"
     ]
    },
    {
     "name": "stderr",
     "output_type": "stream",
     "text": [
      "[INFO 12-22 07:10:38] Scheduler: Running trials [13]...\n"
     ]
    },
    {
     "name": "stderr",
     "output_type": "stream",
     "text": [
      "/tmp/tmp.rbKmWnPBQH/Ax-main/ax/core/map_data.py:200: FutureWarning: The behavior of DataFrame concatenation with empty or all-NA entries is deprecated. In a future version, this will no longer exclude empty or all-NA columns when determining the result dtypes. To retain the old behavior, exclude the relevant entries before the concat operation.\n",
      "  df = pd.concat(\n",
      "[INFO 12-22 07:10:39] Scheduler: Generated all trials that can be generated currently. Max parallelism currently reached.\n"
     ]
    },
    {
     "name": "stderr",
     "output_type": "stream",
     "text": [
      "[WARNING 12-22 07:10:39] Scheduler: Both `init_seconds_between_polls` and `early_stopping_strategy supplied. `init_seconds_between_polls=1` will be overrridden by `early_stopping_strategy.seconds_between_polls=10` and polling will take place at a constant rate.\n"
     ]
    },
    {
     "name": "stderr",
     "output_type": "stream",
     "text": [
      "[INFO 12-22 07:10:39] ax.core.metric: MetricFetchE INFO: Initialized MetricFetchE(message=\"No 'scalar' data found for trial in multiplexer mul=<tensorboard.backend.event_processing.plugin_event_multiplexer.EventMultiplexer object at 0x7f5a3db96650>\")\n"
     ]
    },
    {
     "name": "stderr",
     "output_type": "stream",
     "text": [
      "[ERROR 12-22 07:10:39] ax.core.experiment: Discovered Metric fetching Err while attaching data MetricFetchE(message=\"No 'scalar' data found for trial in multiplexer mul=<tensorboard.backend.event_processing.plugin_event_multiplexer.EventMultiplexer object at 0x7f5a3db96650>\"). Ignoring for now -- will retry query on next call to fetch.\n"
     ]
    },
    {
     "name": "stderr",
     "output_type": "stream",
     "text": [
      "/tmp/tmp.rbKmWnPBQH/Ax-main/ax/core/map_data.py:200: FutureWarning: The behavior of DataFrame concatenation with empty or all-NA entries is deprecated. In a future version, this will no longer exclude empty or all-NA columns when determining the result dtypes. To retain the old behavior, exclude the relevant entries before the concat operation.\n",
      "  df = pd.concat(\n",
      "[WARNING 12-22 07:10:39] Scheduler: Failed to fetch val_acc for trial 13, found MetricFetchE(message=\"No 'scalar' data found for trial in multiplexer mul=<tensorboard.backend.event_processing.plugin_event_multiplexer.EventMultiplexer object at 0x7f5a3db96650>\").\n"
     ]
    },
    {
     "name": "stderr",
     "output_type": "stream",
     "text": [
      "[INFO 12-22 07:10:39] Scheduler: MetricFetchE INFO: Because val_acc is available_while_running and trial 13 is still RUNNING continuing the experiment and retrying on next poll...\n"
     ]
    },
    {
     "name": "stderr",
     "output_type": "stream",
     "text": [
      "/tmp/tmp.rbKmWnPBQH/Ax-main/ax/core/map_data.py:200: FutureWarning: The behavior of DataFrame concatenation with empty or all-NA entries is deprecated. In a future version, this will no longer exclude empty or all-NA columns when determining the result dtypes. To retain the old behavior, exclude the relevant entries before the concat operation.\n",
      "  df = pd.concat(\n",
      "[INFO 12-22 07:10:39] ax.early_stopping.strategies.base: Last progression of any candidate for trial stopping is 0.3999466666666667.\n"
     ]
    },
    {
     "name": "stderr",
     "output_type": "stream",
     "text": [
      "[INFO 12-22 07:10:39] ax.early_stopping.strategies.percentile: Considering trial 10 for early stopping.\n"
     ]
    },
    {
     "name": "stderr",
     "output_type": "stream",
     "text": [
      "[INFO 12-22 07:10:39] ax.early_stopping.strategies.base: Last progression of Trial 10 is 0.3999466666666667.\n"
     ]
    },
    {
     "name": "stderr",
     "output_type": "stream",
     "text": [
      "[INFO 12-22 07:10:39] ax.early_stopping.strategies.percentile: Early stopping objective at last progression is:\n",
      "2     0.950124\n",
      "3     0.923434\n",
      "4     0.904314\n",
      "5     0.942822\n",
      "6     0.956270\n",
      "7     0.914413\n",
      "8     0.935924\n",
      "9     0.942847\n",
      "10    0.952262\n",
      "11    0.936989\n",
      "Name: 0.3999466666666667, dtype: float64.\n"
     ]
    },
    {
     "name": "stderr",
     "output_type": "stream",
     "text": [
      "[INFO 12-22 07:10:39] ax.early_stopping.strategies.percentile: Early stopping decision for 10: False. Reason: Trial objective value 0.9522618968498531 is better than 70.0-th percentile (0.9450304412489453) across comparable trials.\n"
     ]
    },
    {
     "name": "stderr",
     "output_type": "stream",
     "text": [
      "[INFO 12-22 07:10:39] ax.early_stopping.strategies.percentile: Considering trial 12 for early stopping.\n"
     ]
    },
    {
     "name": "stderr",
     "output_type": "stream",
     "text": [
      "[INFO 12-22 07:10:39] ax.early_stopping.strategies.base: Last progression of Trial 12 is 0.29994666666666664.\n"
     ]
    },
    {
     "name": "stderr",
     "output_type": "stream",
     "text": [
      "[INFO 12-22 07:10:39] ax.early_stopping.strategies.base: Trial 12's most recent progression (0.29994666666666664) that is available for metric val_acc falls out of the min/max_progression range (0.3, None). Not early stopping this trial.\n"
     ]
    },
    {
     "name": "stderr",
     "output_type": "stream",
     "text": [
      "[INFO 12-22 07:10:39] ax.early_stopping.strategies.percentile: Considering trial 13 for early stopping.\n"
     ]
    },
    {
     "name": "stderr",
     "output_type": "stream",
     "text": [
      "[INFO 12-22 07:10:39] ax.early_stopping.strategies.base: There is not yet any data associated with trial 13 and metric val_acc. Not early stopping this trial.\n"
     ]
    },
    {
     "name": "stderr",
     "output_type": "stream",
     "text": [
      "[INFO 12-22 07:10:39] Scheduler: Waiting for completed trials (for 10 sec, currently running trials: 3).\n"
     ]
    },
    {
     "name": "stderr",
     "output_type": "stream",
     "text": [
      "[INFO 12-22 07:10:49] ax.core.metric: MetricFetchE INFO: Initialized MetricFetchE(message=\"No 'scalar' data found for trial in multiplexer mul=<tensorboard.backend.event_processing.plugin_event_multiplexer.EventMultiplexer object at 0x7f5a3dbb7c70>\")\n"
     ]
    },
    {
     "name": "stderr",
     "output_type": "stream",
     "text": [
      "[ERROR 12-22 07:10:49] ax.core.experiment: Discovered Metric fetching Err while attaching data MetricFetchE(message=\"No 'scalar' data found for trial in multiplexer mul=<tensorboard.backend.event_processing.plugin_event_multiplexer.EventMultiplexer object at 0x7f5a3dbb7c70>\"). Ignoring for now -- will retry query on next call to fetch.\n"
     ]
    },
    {
     "name": "stderr",
     "output_type": "stream",
     "text": [
      "/tmp/tmp.rbKmWnPBQH/Ax-main/ax/core/map_data.py:200: FutureWarning: The behavior of DataFrame concatenation with empty or all-NA entries is deprecated. In a future version, this will no longer exclude empty or all-NA columns when determining the result dtypes. To retain the old behavior, exclude the relevant entries before the concat operation.\n",
      "  df = pd.concat(\n",
      "[WARNING 12-22 07:10:49] Scheduler: Failed to fetch val_acc for trial 13, found MetricFetchE(message=\"No 'scalar' data found for trial in multiplexer mul=<tensorboard.backend.event_processing.plugin_event_multiplexer.EventMultiplexer object at 0x7f5a3dbb7c70>\").\n"
     ]
    },
    {
     "name": "stderr",
     "output_type": "stream",
     "text": [
      "[INFO 12-22 07:10:49] Scheduler: MetricFetchE INFO: Because val_acc is available_while_running and trial 13 is still RUNNING continuing the experiment and retrying on next poll...\n"
     ]
    },
    {
     "name": "stderr",
     "output_type": "stream",
     "text": [
      "/tmp/tmp.rbKmWnPBQH/Ax-main/ax/core/map_data.py:200: FutureWarning: The behavior of DataFrame concatenation with empty or all-NA entries is deprecated. In a future version, this will no longer exclude empty or all-NA columns when determining the result dtypes. To retain the old behavior, exclude the relevant entries before the concat operation.\n",
      "  df = pd.concat(\n",
      "[INFO 12-22 07:10:49] ax.early_stopping.strategies.base: Last progression of any candidate for trial stopping is 0.3999466666666667.\n"
     ]
    },
    {
     "name": "stderr",
     "output_type": "stream",
     "text": [
      "[INFO 12-22 07:10:49] ax.early_stopping.strategies.percentile: Considering trial 10 for early stopping.\n"
     ]
    },
    {
     "name": "stderr",
     "output_type": "stream",
     "text": [
      "[INFO 12-22 07:10:49] ax.early_stopping.strategies.base: Last progression of Trial 10 is 0.3999466666666667.\n"
     ]
    },
    {
     "name": "stderr",
     "output_type": "stream",
     "text": [
      "[INFO 12-22 07:10:49] ax.early_stopping.strategies.percentile: Early stopping objective at last progression is:\n",
      "2     0.950124\n",
      "3     0.923434\n",
      "4     0.904314\n",
      "5     0.942822\n",
      "6     0.956270\n",
      "7     0.914413\n",
      "8     0.935924\n",
      "9     0.942847\n",
      "10    0.952262\n",
      "11    0.936989\n",
      "Name: 0.3999466666666667, dtype: float64.\n"
     ]
    },
    {
     "name": "stderr",
     "output_type": "stream",
     "text": [
      "[INFO 12-22 07:10:49] ax.early_stopping.strategies.percentile: Early stopping decision for 10: False. Reason: Trial objective value 0.9522618968498531 is better than 70.0-th percentile (0.9450304412489453) across comparable trials.\n"
     ]
    },
    {
     "name": "stderr",
     "output_type": "stream",
     "text": [
      "[INFO 12-22 07:10:49] ax.early_stopping.strategies.percentile: Considering trial 12 for early stopping.\n"
     ]
    },
    {
     "name": "stderr",
     "output_type": "stream",
     "text": [
      "[INFO 12-22 07:10:49] ax.early_stopping.strategies.base: Last progression of Trial 12 is 0.29994666666666664.\n"
     ]
    },
    {
     "name": "stderr",
     "output_type": "stream",
     "text": [
      "[INFO 12-22 07:10:49] ax.early_stopping.strategies.base: Trial 12's most recent progression (0.29994666666666664) that is available for metric val_acc falls out of the min/max_progression range (0.3, None). Not early stopping this trial.\n"
     ]
    },
    {
     "name": "stderr",
     "output_type": "stream",
     "text": [
      "[INFO 12-22 07:10:49] ax.early_stopping.strategies.percentile: Considering trial 13 for early stopping.\n"
     ]
    },
    {
     "name": "stderr",
     "output_type": "stream",
     "text": [
      "[INFO 12-22 07:10:49] ax.early_stopping.strategies.base: There is not yet any data associated with trial 13 and metric val_acc. Not early stopping this trial.\n"
     ]
    },
    {
     "name": "stderr",
     "output_type": "stream",
     "text": [
      "[INFO 12-22 07:10:49] Scheduler: Waiting for completed trials (for 10 sec, currently running trials: 3).\n"
     ]
    },
    {
     "name": "stderr",
     "output_type": "stream",
     "text": [
      "[INFO 12-22 07:10:59] ax.core.metric: MetricFetchE INFO: Initialized MetricFetchE(message=\"No 'scalar' data found for trial in multiplexer mul=<tensorboard.backend.event_processing.plugin_event_multiplexer.EventMultiplexer object at 0x7f5a3db96aa0>\")\n"
     ]
    },
    {
     "name": "stderr",
     "output_type": "stream",
     "text": [
      "[ERROR 12-22 07:10:59] ax.core.experiment: Discovered Metric fetching Err while attaching data MetricFetchE(message=\"No 'scalar' data found for trial in multiplexer mul=<tensorboard.backend.event_processing.plugin_event_multiplexer.EventMultiplexer object at 0x7f5a3db96aa0>\"). Ignoring for now -- will retry query on next call to fetch.\n"
     ]
    },
    {
     "name": "stderr",
     "output_type": "stream",
     "text": [
      "/tmp/tmp.rbKmWnPBQH/Ax-main/ax/core/map_data.py:200: FutureWarning: The behavior of DataFrame concatenation with empty or all-NA entries is deprecated. In a future version, this will no longer exclude empty or all-NA columns when determining the result dtypes. To retain the old behavior, exclude the relevant entries before the concat operation.\n",
      "  df = pd.concat(\n",
      "[WARNING 12-22 07:10:59] Scheduler: Failed to fetch val_acc for trial 13, found MetricFetchE(message=\"No 'scalar' data found for trial in multiplexer mul=<tensorboard.backend.event_processing.plugin_event_multiplexer.EventMultiplexer object at 0x7f5a3db96aa0>\").\n"
     ]
    },
    {
     "name": "stderr",
     "output_type": "stream",
     "text": [
      "[INFO 12-22 07:10:59] Scheduler: MetricFetchE INFO: Because val_acc is available_while_running and trial 13 is still RUNNING continuing the experiment and retrying on next poll...\n"
     ]
    },
    {
     "name": "stderr",
     "output_type": "stream",
     "text": [
      "/tmp/tmp.rbKmWnPBQH/Ax-main/ax/core/map_data.py:200: FutureWarning: The behavior of DataFrame concatenation with empty or all-NA entries is deprecated. In a future version, this will no longer exclude empty or all-NA columns when determining the result dtypes. To retain the old behavior, exclude the relevant entries before the concat operation.\n",
      "  df = pd.concat(\n",
      "[INFO 12-22 07:10:59] ax.early_stopping.strategies.base: Last progression of any candidate for trial stopping is 0.49994666666666665.\n"
     ]
    },
    {
     "name": "stderr",
     "output_type": "stream",
     "text": [
      "[INFO 12-22 07:10:59] ax.early_stopping.strategies.percentile: Considering trial 10 for early stopping.\n"
     ]
    },
    {
     "name": "stderr",
     "output_type": "stream",
     "text": [
      "[INFO 12-22 07:10:59] ax.early_stopping.strategies.base: Last progression of Trial 10 is 0.49994666666666665.\n"
     ]
    },
    {
     "name": "stderr",
     "output_type": "stream",
     "text": [
      "[INFO 12-22 07:10:59] ax.early_stopping.strategies.percentile: Early stopping objective at last progression is:\n",
      "2     0.954273\n",
      "3     0.926895\n",
      "4     0.894005\n",
      "5     0.947804\n",
      "6     0.961177\n",
      "9     0.949727\n",
      "10    0.955588\n",
      "Name: 0.49994666666666665, dtype: float64.\n"
     ]
    },
    {
     "name": "stderr",
     "output_type": "stream",
     "text": [
      "[INFO 12-22 07:10:59] ax.early_stopping.strategies.percentile: Early stopping decision for 10: False. Reason: Trial objective value 0.95558811742975 is better than 70.0-th percentile (0.9545359067264747) across comparable trials.\n"
     ]
    },
    {
     "name": "stderr",
     "output_type": "stream",
     "text": [
      "[INFO 12-22 07:10:59] ax.early_stopping.strategies.percentile: Considering trial 12 for early stopping.\n"
     ]
    },
    {
     "name": "stderr",
     "output_type": "stream",
     "text": [
      "[INFO 12-22 07:10:59] ax.early_stopping.strategies.base: Last progression of Trial 12 is 0.29994666666666664.\n"
     ]
    },
    {
     "name": "stderr",
     "output_type": "stream",
     "text": [
      "[INFO 12-22 07:10:59] ax.early_stopping.strategies.base: Trial 12's most recent progression (0.29994666666666664) that is available for metric val_acc falls out of the min/max_progression range (0.3, None). Not early stopping this trial.\n"
     ]
    },
    {
     "name": "stderr",
     "output_type": "stream",
     "text": [
      "[INFO 12-22 07:10:59] ax.early_stopping.strategies.percentile: Considering trial 13 for early stopping.\n"
     ]
    },
    {
     "name": "stderr",
     "output_type": "stream",
     "text": [
      "[INFO 12-22 07:10:59] ax.early_stopping.strategies.base: There is not yet any data associated with trial 13 and metric val_acc. Not early stopping this trial.\n"
     ]
    },
    {
     "name": "stderr",
     "output_type": "stream",
     "text": [
      "[INFO 12-22 07:10:59] Scheduler: Waiting for completed trials (for 10 sec, currently running trials: 3).\n"
     ]
    },
    {
     "name": "stderr",
     "output_type": "stream",
     "text": [
      "[INFO 12-22 07:11:09] ax.core.metric: MetricFetchE INFO: Initialized MetricFetchE(message=\"No 'scalar' data found for trial in multiplexer mul=<tensorboard.backend.event_processing.plugin_event_multiplexer.EventMultiplexer object at 0x7f5a3db97610>\")\n"
     ]
    },
    {
     "name": "stderr",
     "output_type": "stream",
     "text": [
      "[ERROR 12-22 07:11:09] ax.core.experiment: Discovered Metric fetching Err while attaching data MetricFetchE(message=\"No 'scalar' data found for trial in multiplexer mul=<tensorboard.backend.event_processing.plugin_event_multiplexer.EventMultiplexer object at 0x7f5a3db97610>\"). Ignoring for now -- will retry query on next call to fetch.\n"
     ]
    },
    {
     "name": "stderr",
     "output_type": "stream",
     "text": [
      "/tmp/tmp.rbKmWnPBQH/Ax-main/ax/core/map_data.py:200: FutureWarning: The behavior of DataFrame concatenation with empty or all-NA entries is deprecated. In a future version, this will no longer exclude empty or all-NA columns when determining the result dtypes. To retain the old behavior, exclude the relevant entries before the concat operation.\n",
      "  df = pd.concat(\n",
      "[WARNING 12-22 07:11:09] Scheduler: Failed to fetch val_acc for trial 13, found MetricFetchE(message=\"No 'scalar' data found for trial in multiplexer mul=<tensorboard.backend.event_processing.plugin_event_multiplexer.EventMultiplexer object at 0x7f5a3db97610>\").\n"
     ]
    },
    {
     "name": "stderr",
     "output_type": "stream",
     "text": [
      "[INFO 12-22 07:11:09] Scheduler: MetricFetchE INFO: Because val_acc is available_while_running and trial 13 is still RUNNING continuing the experiment and retrying on next poll...\n"
     ]
    },
    {
     "name": "stderr",
     "output_type": "stream",
     "text": [
      "/tmp/tmp.rbKmWnPBQH/Ax-main/ax/core/map_data.py:200: FutureWarning: The behavior of DataFrame concatenation with empty or all-NA entries is deprecated. In a future version, this will no longer exclude empty or all-NA columns when determining the result dtypes. To retain the old behavior, exclude the relevant entries before the concat operation.\n",
      "  df = pd.concat(\n",
      "[INFO 12-22 07:11:09] ax.early_stopping.strategies.base: Last progression of any candidate for trial stopping is 0.49994666666666665.\n"
     ]
    },
    {
     "name": "stderr",
     "output_type": "stream",
     "text": [
      "[INFO 12-22 07:11:09] ax.early_stopping.strategies.percentile: Considering trial 10 for early stopping.\n"
     ]
    },
    {
     "name": "stderr",
     "output_type": "stream",
     "text": [
      "[INFO 12-22 07:11:09] ax.early_stopping.strategies.base: Last progression of Trial 10 is 0.49994666666666665.\n"
     ]
    },
    {
     "name": "stderr",
     "output_type": "stream",
     "text": [
      "[INFO 12-22 07:11:09] ax.early_stopping.strategies.percentile: Early stopping objective at last progression is:\n",
      "2     0.954273\n",
      "3     0.926895\n",
      "4     0.894005\n",
      "5     0.947804\n",
      "6     0.961177\n",
      "9     0.949727\n",
      "10    0.955588\n",
      "Name: 0.49994666666666665, dtype: float64.\n"
     ]
    },
    {
     "name": "stderr",
     "output_type": "stream",
     "text": [
      "[INFO 12-22 07:11:09] ax.early_stopping.strategies.percentile: Early stopping decision for 10: False. Reason: Trial objective value 0.95558811742975 is better than 70.0-th percentile (0.9545359067264747) across comparable trials.\n"
     ]
    },
    {
     "name": "stderr",
     "output_type": "stream",
     "text": [
      "[INFO 12-22 07:11:09] ax.early_stopping.strategies.percentile: Considering trial 12 for early stopping.\n"
     ]
    },
    {
     "name": "stderr",
     "output_type": "stream",
     "text": [
      "[INFO 12-22 07:11:09] ax.early_stopping.strategies.base: Last progression of Trial 12 is 0.29994666666666664.\n"
     ]
    },
    {
     "name": "stderr",
     "output_type": "stream",
     "text": [
      "[INFO 12-22 07:11:09] ax.early_stopping.strategies.base: Trial 12's most recent progression (0.29994666666666664) that is available for metric val_acc falls out of the min/max_progression range (0.3, None). Not early stopping this trial.\n"
     ]
    },
    {
     "name": "stderr",
     "output_type": "stream",
     "text": [
      "[INFO 12-22 07:11:09] ax.early_stopping.strategies.percentile: Considering trial 13 for early stopping.\n"
     ]
    },
    {
     "name": "stderr",
     "output_type": "stream",
     "text": [
      "[INFO 12-22 07:11:09] ax.early_stopping.strategies.base: There is not yet any data associated with trial 13 and metric val_acc. Not early stopping this trial.\n"
     ]
    },
    {
     "name": "stderr",
     "output_type": "stream",
     "text": [
      "[INFO 12-22 07:11:09] Scheduler: Waiting for completed trials (for 10 sec, currently running trials: 3).\n"
     ]
    },
    {
     "name": "stderr",
     "output_type": "stream",
     "text": [
      "[INFO 12-22 07:11:19] ax.core.metric: MetricFetchE INFO: Initialized MetricFetchE(message=\"No 'scalar' data found for trial in multiplexer mul=<tensorboard.backend.event_processing.plugin_event_multiplexer.EventMultiplexer object at 0x7f5a3db96890>\")\n"
     ]
    },
    {
     "name": "stderr",
     "output_type": "stream",
     "text": [
      "[ERROR 12-22 07:11:19] ax.core.experiment: Discovered Metric fetching Err while attaching data MetricFetchE(message=\"No 'scalar' data found for trial in multiplexer mul=<tensorboard.backend.event_processing.plugin_event_multiplexer.EventMultiplexer object at 0x7f5a3db96890>\"). Ignoring for now -- will retry query on next call to fetch.\n"
     ]
    },
    {
     "name": "stderr",
     "output_type": "stream",
     "text": [
      "/tmp/tmp.rbKmWnPBQH/Ax-main/ax/core/map_data.py:200: FutureWarning: The behavior of DataFrame concatenation with empty or all-NA entries is deprecated. In a future version, this will no longer exclude empty or all-NA columns when determining the result dtypes. To retain the old behavior, exclude the relevant entries before the concat operation.\n",
      "  df = pd.concat(\n",
      "[WARNING 12-22 07:11:19] Scheduler: Failed to fetch val_acc for trial 13, found MetricFetchE(message=\"No 'scalar' data found for trial in multiplexer mul=<tensorboard.backend.event_processing.plugin_event_multiplexer.EventMultiplexer object at 0x7f5a3db96890>\").\n"
     ]
    },
    {
     "name": "stderr",
     "output_type": "stream",
     "text": [
      "[INFO 12-22 07:11:19] Scheduler: MetricFetchE INFO: Because val_acc is available_while_running and trial 13 is still RUNNING continuing the experiment and retrying on next poll...\n"
     ]
    },
    {
     "name": "stderr",
     "output_type": "stream",
     "text": [
      "/tmp/tmp.rbKmWnPBQH/Ax-main/ax/core/map_data.py:200: FutureWarning: The behavior of DataFrame concatenation with empty or all-NA entries is deprecated. In a future version, this will no longer exclude empty or all-NA columns when determining the result dtypes. To retain the old behavior, exclude the relevant entries before the concat operation.\n",
      "  df = pd.concat(\n",
      "[INFO 12-22 07:11:20] ax.early_stopping.strategies.base: Last progression of any candidate for trial stopping is 0.49994666666666665.\n"
     ]
    },
    {
     "name": "stderr",
     "output_type": "stream",
     "text": [
      "[INFO 12-22 07:11:20] ax.early_stopping.strategies.percentile: Considering trial 10 for early stopping.\n"
     ]
    },
    {
     "name": "stderr",
     "output_type": "stream",
     "text": [
      "[INFO 12-22 07:11:20] ax.early_stopping.strategies.base: Last progression of Trial 10 is 0.49994666666666665.\n"
     ]
    },
    {
     "name": "stderr",
     "output_type": "stream",
     "text": [
      "[INFO 12-22 07:11:20] ax.early_stopping.strategies.percentile: Early stopping objective at last progression is:\n",
      "2     0.954273\n",
      "3     0.926895\n",
      "4     0.894005\n",
      "5     0.947804\n",
      "6     0.961177\n",
      "9     0.949727\n",
      "10    0.955588\n",
      "Name: 0.49994666666666665, dtype: float64.\n"
     ]
    },
    {
     "name": "stderr",
     "output_type": "stream",
     "text": [
      "[INFO 12-22 07:11:20] ax.early_stopping.strategies.percentile: Early stopping decision for 10: False. Reason: Trial objective value 0.95558811742975 is better than 70.0-th percentile (0.9545359067264747) across comparable trials.\n"
     ]
    },
    {
     "name": "stderr",
     "output_type": "stream",
     "text": [
      "[INFO 12-22 07:11:20] ax.early_stopping.strategies.percentile: Considering trial 12 for early stopping.\n"
     ]
    },
    {
     "name": "stderr",
     "output_type": "stream",
     "text": [
      "[INFO 12-22 07:11:20] ax.early_stopping.strategies.base: Last progression of Trial 12 is 0.3999466666666667.\n"
     ]
    },
    {
     "name": "stderr",
     "output_type": "stream",
     "text": [
      "[INFO 12-22 07:11:20] ax.early_stopping.strategies.percentile: Early stopping objective at last progression is:\n",
      "2     0.950124\n",
      "3     0.923434\n",
      "4     0.904314\n",
      "5     0.942822\n",
      "6     0.956270\n",
      "7     0.914413\n",
      "8     0.935924\n",
      "9     0.942847\n",
      "10    0.952262\n",
      "11    0.936989\n",
      "12    0.944841\n",
      "Name: 0.3999466666666667, dtype: float64.\n"
     ]
    },
    {
     "name": "stderr",
     "output_type": "stream",
     "text": [
      "[INFO 12-22 07:11:20] ax.early_stopping.strategies.percentile: Early stopping decision for 12: False. Reason: Trial objective value 0.944841068953716 is better than 70.0-th percentile (0.944841068953716) across comparable trials.\n"
     ]
    },
    {
     "name": "stderr",
     "output_type": "stream",
     "text": [
      "[INFO 12-22 07:11:20] ax.early_stopping.strategies.percentile: Considering trial 13 for early stopping.\n"
     ]
    },
    {
     "name": "stderr",
     "output_type": "stream",
     "text": [
      "[INFO 12-22 07:11:20] ax.early_stopping.strategies.base: There is not yet any data associated with trial 13 and metric val_acc. Not early stopping this trial.\n"
     ]
    },
    {
     "name": "stderr",
     "output_type": "stream",
     "text": [
      "[INFO 12-22 07:11:20] Scheduler: Waiting for completed trials (for 10 sec, currently running trials: 3).\n"
     ]
    },
    {
     "name": "stderr",
     "output_type": "stream",
     "text": [
      "/tmp/tmp.rbKmWnPBQH/Ax-main/ax/core/map_data.py:200: FutureWarning: The behavior of DataFrame concatenation with empty or all-NA entries is deprecated. In a future version, this will no longer exclude empty or all-NA columns when determining the result dtypes. To retain the old behavior, exclude the relevant entries before the concat operation.\n",
      "  df = pd.concat(\n",
      "/tmp/tmp.rbKmWnPBQH/Ax-main/ax/core/map_data.py:200: FutureWarning: The behavior of DataFrame concatenation with empty or all-NA entries is deprecated. In a future version, this will no longer exclude empty or all-NA columns when determining the result dtypes. To retain the old behavior, exclude the relevant entries before the concat operation.\n",
      "  df = pd.concat(\n",
      "[INFO 12-22 07:11:30] ax.early_stopping.strategies.base: Last progression of any candidate for trial stopping is 0.49994666666666665.\n"
     ]
    },
    {
     "name": "stderr",
     "output_type": "stream",
     "text": [
      "[INFO 12-22 07:11:30] ax.early_stopping.utils: Got exception `x and y arrays must have at least 2 entries` during interpolation. Using uninterpolated values instead.\n"
     ]
    },
    {
     "name": "stderr",
     "output_type": "stream",
     "text": [
      "[INFO 12-22 07:11:30] ax.early_stopping.strategies.percentile: Considering trial 10 for early stopping.\n"
     ]
    },
    {
     "name": "stderr",
     "output_type": "stream",
     "text": [
      "[INFO 12-22 07:11:30] ax.early_stopping.strategies.base: Last progression of Trial 10 is 0.49994666666666665.\n"
     ]
    },
    {
     "name": "stderr",
     "output_type": "stream",
     "text": [
      "[INFO 12-22 07:11:30] ax.early_stopping.strategies.percentile: Early stopping objective at last progression is:\n",
      "2     0.954273\n",
      "3     0.926895\n",
      "4     0.894005\n",
      "5     0.947804\n",
      "6     0.961177\n",
      "9     0.949727\n",
      "10    0.955588\n",
      "Name: 0.49994666666666665, dtype: float64.\n"
     ]
    },
    {
     "name": "stderr",
     "output_type": "stream",
     "text": [
      "[INFO 12-22 07:11:30] ax.early_stopping.strategies.percentile: Early stopping decision for 10: False. Reason: Trial objective value 0.95558811742975 is better than 70.0-th percentile (0.9545359067264747) across comparable trials.\n"
     ]
    },
    {
     "name": "stderr",
     "output_type": "stream",
     "text": [
      "[INFO 12-22 07:11:30] ax.early_stopping.strategies.percentile: Considering trial 12 for early stopping.\n"
     ]
    },
    {
     "name": "stderr",
     "output_type": "stream",
     "text": [
      "[INFO 12-22 07:11:30] ax.early_stopping.strategies.base: Last progression of Trial 12 is 0.3999466666666667.\n"
     ]
    },
    {
     "name": "stderr",
     "output_type": "stream",
     "text": [
      "[INFO 12-22 07:11:30] ax.early_stopping.strategies.percentile: Early stopping objective at last progression is:\n",
      "2     0.950124\n",
      "3     0.923434\n",
      "4     0.904314\n",
      "5     0.942822\n",
      "6     0.956270\n",
      "7     0.914413\n",
      "8     0.935924\n",
      "9     0.942847\n",
      "10    0.952262\n",
      "11    0.936989\n",
      "12    0.944841\n",
      "Name: 0.3999466666666667, dtype: float64.\n"
     ]
    },
    {
     "name": "stderr",
     "output_type": "stream",
     "text": [
      "[INFO 12-22 07:11:30] ax.early_stopping.strategies.percentile: Early stopping decision for 12: False. Reason: Trial objective value 0.944841068953716 is better than 70.0-th percentile (0.944841068953716) across comparable trials.\n"
     ]
    },
    {
     "name": "stderr",
     "output_type": "stream",
     "text": [
      "[INFO 12-22 07:11:30] ax.early_stopping.strategies.percentile: Considering trial 13 for early stopping.\n"
     ]
    },
    {
     "name": "stderr",
     "output_type": "stream",
     "text": [
      "[INFO 12-22 07:11:30] ax.early_stopping.strategies.base: Last progression of Trial 13 is 0.09994666666666667.\n"
     ]
    },
    {
     "name": "stderr",
     "output_type": "stream",
     "text": [
      "[INFO 12-22 07:11:30] ax.early_stopping.strategies.base: Trial 13's most recent progression (0.09994666666666667) that is available for metric val_acc falls out of the min/max_progression range (0.3, None). Not early stopping this trial.\n"
     ]
    },
    {
     "name": "stderr",
     "output_type": "stream",
     "text": [
      "[INFO 12-22 07:11:30] Scheduler: Waiting for completed trials (for 10 sec, currently running trials: 3).\n"
     ]
    },
    {
     "name": "stderr",
     "output_type": "stream",
     "text": [
      "/tmp/tmp.rbKmWnPBQH/Ax-main/ax/core/map_data.py:200: FutureWarning: The behavior of DataFrame concatenation with empty or all-NA entries is deprecated. In a future version, this will no longer exclude empty or all-NA columns when determining the result dtypes. To retain the old behavior, exclude the relevant entries before the concat operation.\n",
      "  df = pd.concat(\n",
      "/tmp/tmp.rbKmWnPBQH/Ax-main/ax/core/map_data.py:200: FutureWarning: The behavior of DataFrame concatenation with empty or all-NA entries is deprecated. In a future version, this will no longer exclude empty or all-NA columns when determining the result dtypes. To retain the old behavior, exclude the relevant entries before the concat operation.\n",
      "  df = pd.concat(\n",
      "[INFO 12-22 07:11:40] ax.early_stopping.strategies.base: Last progression of any candidate for trial stopping is 0.5999466666666666.\n"
     ]
    },
    {
     "name": "stderr",
     "output_type": "stream",
     "text": [
      "[INFO 12-22 07:11:40] ax.early_stopping.utils: Got exception `x and y arrays must have at least 2 entries` during interpolation. Using uninterpolated values instead.\n"
     ]
    },
    {
     "name": "stderr",
     "output_type": "stream",
     "text": [
      "[INFO 12-22 07:11:40] ax.early_stopping.strategies.percentile: Considering trial 10 for early stopping.\n"
     ]
    },
    {
     "name": "stderr",
     "output_type": "stream",
     "text": [
      "[INFO 12-22 07:11:40] ax.early_stopping.strategies.base: Last progression of Trial 10 is 0.5999466666666666.\n"
     ]
    },
    {
     "name": "stderr",
     "output_type": "stream",
     "text": [
      "[INFO 12-22 07:11:40] ax.early_stopping.strategies.percentile: Early stopping objective at last progression is:\n",
      "2     0.956333\n",
      "3     0.929308\n",
      "4     0.885799\n",
      "5     0.952183\n",
      "6     0.962886\n",
      "10    0.958908\n",
      "Name: 0.5999466666666666, dtype: float64.\n"
     ]
    },
    {
     "name": "stderr",
     "output_type": "stream",
     "text": [
      "[INFO 12-22 07:11:40] ax.early_stopping.strategies.percentile: Early stopping decision for 10: False. Reason: Trial objective value 0.9589075452448983 is better than 70.0-th percentile (0.9576202421397954) across comparable trials.\n"
     ]
    },
    {
     "name": "stderr",
     "output_type": "stream",
     "text": [
      "[INFO 12-22 07:11:40] ax.early_stopping.strategies.percentile: Considering trial 12 for early stopping.\n"
     ]
    },
    {
     "name": "stderr",
     "output_type": "stream",
     "text": [
      "[INFO 12-22 07:11:40] ax.early_stopping.strategies.base: Last progression of Trial 12 is 0.3999466666666667.\n"
     ]
    },
    {
     "name": "stderr",
     "output_type": "stream",
     "text": [
      "[INFO 12-22 07:11:40] ax.early_stopping.strategies.percentile: Early stopping objective at last progression is:\n",
      "2     0.950124\n",
      "3     0.923434\n",
      "4     0.904314\n",
      "5     0.942822\n",
      "6     0.956270\n",
      "7     0.914413\n",
      "8     0.935924\n",
      "9     0.942847\n",
      "10    0.952262\n",
      "11    0.936989\n",
      "12    0.944841\n",
      "Name: 0.3999466666666667, dtype: float64.\n"
     ]
    },
    {
     "name": "stderr",
     "output_type": "stream",
     "text": [
      "[INFO 12-22 07:11:40] ax.early_stopping.strategies.percentile: Early stopping decision for 12: False. Reason: Trial objective value 0.944841068953716 is better than 70.0-th percentile (0.944841068953716) across comparable trials.\n"
     ]
    },
    {
     "name": "stderr",
     "output_type": "stream",
     "text": [
      "[INFO 12-22 07:11:40] ax.early_stopping.strategies.percentile: Considering trial 13 for early stopping.\n"
     ]
    },
    {
     "name": "stderr",
     "output_type": "stream",
     "text": [
      "[INFO 12-22 07:11:40] ax.early_stopping.strategies.base: Last progression of Trial 13 is 0.09994666666666667.\n"
     ]
    },
    {
     "name": "stderr",
     "output_type": "stream",
     "text": [
      "[INFO 12-22 07:11:40] ax.early_stopping.strategies.base: Trial 13's most recent progression (0.09994666666666667) that is available for metric val_acc falls out of the min/max_progression range (0.3, None). Not early stopping this trial.\n"
     ]
    },
    {
     "name": "stderr",
     "output_type": "stream",
     "text": [
      "[INFO 12-22 07:11:40] Scheduler: Waiting for completed trials (for 10 sec, currently running trials: 3).\n"
     ]
    },
    {
     "name": "stderr",
     "output_type": "stream",
     "text": [
      "/tmp/tmp.rbKmWnPBQH/Ax-main/ax/core/map_data.py:200: FutureWarning: The behavior of DataFrame concatenation with empty or all-NA entries is deprecated. In a future version, this will no longer exclude empty or all-NA columns when determining the result dtypes. To retain the old behavior, exclude the relevant entries before the concat operation.\n",
      "  df = pd.concat(\n",
      "/tmp/tmp.rbKmWnPBQH/Ax-main/ax/core/map_data.py:200: FutureWarning: The behavior of DataFrame concatenation with empty or all-NA entries is deprecated. In a future version, this will no longer exclude empty or all-NA columns when determining the result dtypes. To retain the old behavior, exclude the relevant entries before the concat operation.\n",
      "  df = pd.concat(\n",
      "[INFO 12-22 07:11:50] ax.early_stopping.strategies.base: Last progression of any candidate for trial stopping is 0.5999466666666666.\n"
     ]
    },
    {
     "name": "stderr",
     "output_type": "stream",
     "text": [
      "[INFO 12-22 07:11:50] ax.early_stopping.utils: Got exception `x and y arrays must have at least 2 entries` during interpolation. Using uninterpolated values instead.\n"
     ]
    },
    {
     "name": "stderr",
     "output_type": "stream",
     "text": [
      "[INFO 12-22 07:11:50] ax.early_stopping.strategies.percentile: Considering trial 10 for early stopping.\n"
     ]
    },
    {
     "name": "stderr",
     "output_type": "stream",
     "text": [
      "[INFO 12-22 07:11:50] ax.early_stopping.strategies.base: Last progression of Trial 10 is 0.5999466666666666.\n"
     ]
    },
    {
     "name": "stderr",
     "output_type": "stream",
     "text": [
      "[INFO 12-22 07:11:50] ax.early_stopping.strategies.percentile: Early stopping objective at last progression is:\n",
      "2     0.956333\n",
      "3     0.929308\n",
      "4     0.885799\n",
      "5     0.952183\n",
      "6     0.962886\n",
      "10    0.958908\n",
      "Name: 0.5999466666666666, dtype: float64.\n"
     ]
    },
    {
     "name": "stderr",
     "output_type": "stream",
     "text": [
      "[INFO 12-22 07:11:50] ax.early_stopping.strategies.percentile: Early stopping decision for 10: False. Reason: Trial objective value 0.9589075452448983 is better than 70.0-th percentile (0.9576202421397954) across comparable trials.\n"
     ]
    },
    {
     "name": "stderr",
     "output_type": "stream",
     "text": [
      "[INFO 12-22 07:11:50] ax.early_stopping.strategies.percentile: Considering trial 12 for early stopping.\n"
     ]
    },
    {
     "name": "stderr",
     "output_type": "stream",
     "text": [
      "[INFO 12-22 07:11:50] ax.early_stopping.strategies.base: Last progression of Trial 12 is 0.3999466666666667.\n"
     ]
    },
    {
     "name": "stderr",
     "output_type": "stream",
     "text": [
      "[INFO 12-22 07:11:50] ax.early_stopping.strategies.percentile: Early stopping objective at last progression is:\n",
      "2     0.950124\n",
      "3     0.923434\n",
      "4     0.904314\n",
      "5     0.942822\n",
      "6     0.956270\n",
      "7     0.914413\n",
      "8     0.935924\n",
      "9     0.942847\n",
      "10    0.952262\n",
      "11    0.936989\n",
      "12    0.944841\n",
      "Name: 0.3999466666666667, dtype: float64.\n"
     ]
    },
    {
     "name": "stderr",
     "output_type": "stream",
     "text": [
      "[INFO 12-22 07:11:50] ax.early_stopping.strategies.percentile: Early stopping decision for 12: False. Reason: Trial objective value 0.944841068953716 is better than 70.0-th percentile (0.944841068953716) across comparable trials.\n"
     ]
    },
    {
     "name": "stderr",
     "output_type": "stream",
     "text": [
      "[INFO 12-22 07:11:50] ax.early_stopping.strategies.percentile: Considering trial 13 for early stopping.\n"
     ]
    },
    {
     "name": "stderr",
     "output_type": "stream",
     "text": [
      "[INFO 12-22 07:11:50] ax.early_stopping.strategies.base: Last progression of Trial 13 is 0.09994666666666667.\n"
     ]
    },
    {
     "name": "stderr",
     "output_type": "stream",
     "text": [
      "[INFO 12-22 07:11:50] ax.early_stopping.strategies.base: Trial 13's most recent progression (0.09994666666666667) that is available for metric val_acc falls out of the min/max_progression range (0.3, None). Not early stopping this trial.\n"
     ]
    },
    {
     "name": "stderr",
     "output_type": "stream",
     "text": [
      "[INFO 12-22 07:11:50] Scheduler: Waiting for completed trials (for 10 sec, currently running trials: 3).\n"
     ]
    },
    {
     "name": "stderr",
     "output_type": "stream",
     "text": [
      "/tmp/tmp.rbKmWnPBQH/Ax-main/ax/core/map_data.py:200: FutureWarning: The behavior of DataFrame concatenation with empty or all-NA entries is deprecated. In a future version, this will no longer exclude empty or all-NA columns when determining the result dtypes. To retain the old behavior, exclude the relevant entries before the concat operation.\n",
      "  df = pd.concat(\n",
      "/tmp/tmp.rbKmWnPBQH/Ax-main/ax/core/map_data.py:200: FutureWarning: The behavior of DataFrame concatenation with empty or all-NA entries is deprecated. In a future version, this will no longer exclude empty or all-NA columns when determining the result dtypes. To retain the old behavior, exclude the relevant entries before the concat operation.\n",
      "  df = pd.concat(\n",
      "[INFO 12-22 07:12:00] ax.early_stopping.strategies.base: Last progression of any candidate for trial stopping is 0.5999466666666666.\n"
     ]
    },
    {
     "name": "stderr",
     "output_type": "stream",
     "text": [
      "[INFO 12-22 07:12:00] ax.early_stopping.utils: Got exception `x and y arrays must have at least 2 entries` during interpolation. Using uninterpolated values instead.\n"
     ]
    },
    {
     "name": "stderr",
     "output_type": "stream",
     "text": [
      "[INFO 12-22 07:12:00] ax.early_stopping.strategies.percentile: Considering trial 10 for early stopping.\n"
     ]
    },
    {
     "name": "stderr",
     "output_type": "stream",
     "text": [
      "[INFO 12-22 07:12:00] ax.early_stopping.strategies.base: Last progression of Trial 10 is 0.5999466666666666.\n"
     ]
    },
    {
     "name": "stderr",
     "output_type": "stream",
     "text": [
      "[INFO 12-22 07:12:00] ax.early_stopping.strategies.percentile: Early stopping objective at last progression is:\n",
      "2     0.956333\n",
      "3     0.929308\n",
      "4     0.885799\n",
      "5     0.952183\n",
      "6     0.962886\n",
      "10    0.958908\n",
      "Name: 0.5999466666666666, dtype: float64.\n"
     ]
    },
    {
     "name": "stderr",
     "output_type": "stream",
     "text": [
      "[INFO 12-22 07:12:00] ax.early_stopping.strategies.percentile: Early stopping decision for 10: False. Reason: Trial objective value 0.9589075452448983 is better than 70.0-th percentile (0.9576202421397954) across comparable trials.\n"
     ]
    },
    {
     "name": "stderr",
     "output_type": "stream",
     "text": [
      "[INFO 12-22 07:12:00] ax.early_stopping.strategies.percentile: Considering trial 12 for early stopping.\n"
     ]
    },
    {
     "name": "stderr",
     "output_type": "stream",
     "text": [
      "[INFO 12-22 07:12:00] ax.early_stopping.strategies.base: Last progression of Trial 12 is 0.49994666666666665.\n"
     ]
    },
    {
     "name": "stderr",
     "output_type": "stream",
     "text": [
      "[INFO 12-22 07:12:00] ax.early_stopping.strategies.percentile: Early stopping objective at last progression is:\n",
      "2     0.954273\n",
      "3     0.926895\n",
      "4     0.894005\n",
      "5     0.947804\n",
      "6     0.961177\n",
      "9     0.949727\n",
      "10    0.955588\n",
      "12    0.950814\n",
      "Name: 0.49994666666666665, dtype: float64.\n"
     ]
    },
    {
     "name": "stderr",
     "output_type": "stream",
     "text": [
      "[INFO 12-22 07:12:00] ax.early_stopping.strategies.percentile: Early stopping decision for 12: True. Reason: Trial objective value 0.9508142630297739 is worse than 70.0-th percentile (0.9539269949485677) across comparable trials.\n"
     ]
    },
    {
     "name": "stderr",
     "output_type": "stream",
     "text": [
      "[INFO 12-22 07:12:00] ax.early_stopping.strategies.percentile: Considering trial 13 for early stopping.\n"
     ]
    },
    {
     "name": "stderr",
     "output_type": "stream",
     "text": [
      "[INFO 12-22 07:12:00] ax.early_stopping.strategies.base: Last progression of Trial 13 is 0.09994666666666667.\n"
     ]
    },
    {
     "name": "stderr",
     "output_type": "stream",
     "text": [
      "[INFO 12-22 07:12:00] ax.early_stopping.strategies.base: Trial 13's most recent progression (0.09994666666666667) that is available for metric val_acc falls out of the min/max_progression range (0.3, None). Not early stopping this trial.\n"
     ]
    },
    {
     "name": "stderr",
     "output_type": "stream",
     "text": [
      "/tmp/tmp.rbKmWnPBQH/Ax-main/ax/core/map_data.py:200: FutureWarning: The behavior of DataFrame concatenation with empty or all-NA entries is deprecated. In a future version, this will no longer exclude empty or all-NA columns when determining the result dtypes. To retain the old behavior, exclude the relevant entries before the concat operation.\n",
      "  df = pd.concat(\n"
     ]
    },
    {
     "name": "stderr",
     "output_type": "stream",
     "text": [
      "[INFO 12-22 07:12:04] Scheduler: Running trials [14]...\n"
     ]
    },
    {
     "name": "stderr",
     "output_type": "stream",
     "text": [
      "[WARNING 12-22 07:12:04] Scheduler: Both `init_seconds_between_polls` and `early_stopping_strategy supplied. `init_seconds_between_polls=1` will be overrridden by `early_stopping_strategy.seconds_between_polls=10` and polling will take place at a constant rate.\n"
     ]
    },
    {
     "name": "stderr",
     "output_type": "stream",
     "text": [
      "[INFO 12-22 07:12:06] ax.core.metric: MetricFetchE INFO: Initialized MetricFetchE(message=\"No 'scalar' data found for trial in multiplexer mul=<tensorboard.backend.event_processing.plugin_event_multiplexer.EventMultiplexer object at 0x7f5a3db95e40>\")\n"
     ]
    },
    {
     "name": "stderr",
     "output_type": "stream",
     "text": [
      "[ERROR 12-22 07:12:06] ax.core.experiment: Discovered Metric fetching Err while attaching data MetricFetchE(message=\"No 'scalar' data found for trial in multiplexer mul=<tensorboard.backend.event_processing.plugin_event_multiplexer.EventMultiplexer object at 0x7f5a3db95e40>\"). Ignoring for now -- will retry query on next call to fetch.\n"
     ]
    },
    {
     "name": "stderr",
     "output_type": "stream",
     "text": [
      "/tmp/tmp.rbKmWnPBQH/Ax-main/ax/core/map_data.py:200: FutureWarning: The behavior of DataFrame concatenation with empty or all-NA entries is deprecated. In a future version, this will no longer exclude empty or all-NA columns when determining the result dtypes. To retain the old behavior, exclude the relevant entries before the concat operation.\n",
      "  df = pd.concat(\n",
      "[WARNING 12-22 07:12:06] Scheduler: Failed to fetch val_acc for trial 14, found MetricFetchE(message=\"No 'scalar' data found for trial in multiplexer mul=<tensorboard.backend.event_processing.plugin_event_multiplexer.EventMultiplexer object at 0x7f5a3db95e40>\").\n"
     ]
    },
    {
     "name": "stderr",
     "output_type": "stream",
     "text": [
      "[INFO 12-22 07:12:06] Scheduler: MetricFetchE INFO: Because val_acc is available_while_running and trial 14 is still RUNNING continuing the experiment and retrying on next poll...\n"
     ]
    },
    {
     "name": "stderr",
     "output_type": "stream",
     "text": [
      "/tmp/tmp.rbKmWnPBQH/Ax-main/ax/core/map_data.py:200: FutureWarning: The behavior of DataFrame concatenation with empty or all-NA entries is deprecated. In a future version, this will no longer exclude empty or all-NA columns when determining the result dtypes. To retain the old behavior, exclude the relevant entries before the concat operation.\n",
      "  df = pd.concat(\n",
      "[INFO 12-22 07:12:06] ax.early_stopping.strategies.base: Last progression of any candidate for trial stopping is 0.5999466666666666.\n"
     ]
    },
    {
     "name": "stderr",
     "output_type": "stream",
     "text": [
      "[INFO 12-22 07:12:06] ax.early_stopping.utils: Got exception `x and y arrays must have at least 2 entries` during interpolation. Using uninterpolated values instead.\n"
     ]
    },
    {
     "name": "stderr",
     "output_type": "stream",
     "text": [
      "[INFO 12-22 07:12:06] ax.early_stopping.strategies.percentile: Considering trial 10 for early stopping.\n"
     ]
    },
    {
     "name": "stderr",
     "output_type": "stream",
     "text": [
      "[INFO 12-22 07:12:06] ax.early_stopping.strategies.base: Last progression of Trial 10 is 0.5999466666666666.\n"
     ]
    },
    {
     "name": "stderr",
     "output_type": "stream",
     "text": [
      "[INFO 12-22 07:12:06] ax.early_stopping.strategies.percentile: Early stopping objective at last progression is:\n",
      "2     0.956333\n",
      "3     0.929308\n",
      "4     0.885799\n",
      "5     0.952183\n",
      "6     0.962886\n",
      "10    0.958908\n",
      "Name: 0.5999466666666666, dtype: float64.\n"
     ]
    },
    {
     "name": "stderr",
     "output_type": "stream",
     "text": [
      "[INFO 12-22 07:12:06] ax.early_stopping.strategies.percentile: Early stopping decision for 10: False. Reason: Trial objective value 0.9589075452448983 is better than 70.0-th percentile (0.9576202421397954) across comparable trials.\n"
     ]
    },
    {
     "name": "stderr",
     "output_type": "stream",
     "text": [
      "[INFO 12-22 07:12:06] ax.early_stopping.strategies.percentile: Considering trial 13 for early stopping.\n"
     ]
    },
    {
     "name": "stderr",
     "output_type": "stream",
     "text": [
      "[INFO 12-22 07:12:06] ax.early_stopping.strategies.base: Last progression of Trial 13 is 0.09994666666666667.\n"
     ]
    },
    {
     "name": "stderr",
     "output_type": "stream",
     "text": [
      "[INFO 12-22 07:12:06] ax.early_stopping.strategies.base: Trial 13's most recent progression (0.09994666666666667) that is available for metric val_acc falls out of the min/max_progression range (0.3, None). Not early stopping this trial.\n"
     ]
    },
    {
     "name": "stderr",
     "output_type": "stream",
     "text": [
      "[INFO 12-22 07:12:06] ax.early_stopping.strategies.percentile: Considering trial 14 for early stopping.\n"
     ]
    },
    {
     "name": "stderr",
     "output_type": "stream",
     "text": [
      "[INFO 12-22 07:12:06] ax.early_stopping.strategies.base: There is not yet any data associated with trial 14 and metric val_acc. Not early stopping this trial.\n"
     ]
    },
    {
     "name": "stderr",
     "output_type": "stream",
     "text": [
      "[INFO 12-22 07:12:06] Scheduler: Waiting for completed trials (for 10 sec, currently running trials: 3).\n"
     ]
    },
    {
     "name": "stderr",
     "output_type": "stream",
     "text": [
      "[INFO 12-22 07:12:16] ax.core.metric: MetricFetchE INFO: Initialized MetricFetchE(message=\"No 'scalar' data found for trial in multiplexer mul=<tensorboard.backend.event_processing.plugin_event_multiplexer.EventMultiplexer object at 0x7f5a3db963e0>\")\n"
     ]
    },
    {
     "name": "stderr",
     "output_type": "stream",
     "text": [
      "[ERROR 12-22 07:12:16] ax.core.experiment: Discovered Metric fetching Err while attaching data MetricFetchE(message=\"No 'scalar' data found for trial in multiplexer mul=<tensorboard.backend.event_processing.plugin_event_multiplexer.EventMultiplexer object at 0x7f5a3db963e0>\"). Ignoring for now -- will retry query on next call to fetch.\n"
     ]
    },
    {
     "name": "stderr",
     "output_type": "stream",
     "text": [
      "/tmp/tmp.rbKmWnPBQH/Ax-main/ax/core/map_data.py:200: FutureWarning: The behavior of DataFrame concatenation with empty or all-NA entries is deprecated. In a future version, this will no longer exclude empty or all-NA columns when determining the result dtypes. To retain the old behavior, exclude the relevant entries before the concat operation.\n",
      "  df = pd.concat(\n",
      "[WARNING 12-22 07:12:16] Scheduler: Failed to fetch val_acc for trial 14, found MetricFetchE(message=\"No 'scalar' data found for trial in multiplexer mul=<tensorboard.backend.event_processing.plugin_event_multiplexer.EventMultiplexer object at 0x7f5a3db963e0>\").\n"
     ]
    },
    {
     "name": "stderr",
     "output_type": "stream",
     "text": [
      "[INFO 12-22 07:12:16] Scheduler: MetricFetchE INFO: Because val_acc is available_while_running and trial 14 is still RUNNING continuing the experiment and retrying on next poll...\n"
     ]
    },
    {
     "name": "stderr",
     "output_type": "stream",
     "text": [
      "/tmp/tmp.rbKmWnPBQH/Ax-main/ax/core/map_data.py:200: FutureWarning: The behavior of DataFrame concatenation with empty or all-NA entries is deprecated. In a future version, this will no longer exclude empty or all-NA columns when determining the result dtypes. To retain the old behavior, exclude the relevant entries before the concat operation.\n",
      "  df = pd.concat(\n",
      "[INFO 12-22 07:12:16] ax.early_stopping.strategies.base: Last progression of any candidate for trial stopping is 0.5999466666666666.\n"
     ]
    },
    {
     "name": "stderr",
     "output_type": "stream",
     "text": [
      "[INFO 12-22 07:12:16] ax.early_stopping.strategies.percentile: Considering trial 10 for early stopping.\n"
     ]
    },
    {
     "name": "stderr",
     "output_type": "stream",
     "text": [
      "[INFO 12-22 07:12:16] ax.early_stopping.strategies.base: Last progression of Trial 10 is 0.5999466666666666.\n"
     ]
    },
    {
     "name": "stderr",
     "output_type": "stream",
     "text": [
      "[INFO 12-22 07:12:16] ax.early_stopping.strategies.percentile: Early stopping objective at last progression is:\n",
      "2     0.956333\n",
      "3     0.929308\n",
      "4     0.885799\n",
      "5     0.952183\n",
      "6     0.962886\n",
      "10    0.958908\n",
      "Name: 0.5999466666666666, dtype: float64.\n"
     ]
    },
    {
     "name": "stderr",
     "output_type": "stream",
     "text": [
      "[INFO 12-22 07:12:16] ax.early_stopping.strategies.percentile: Early stopping decision for 10: False. Reason: Trial objective value 0.9589075452448983 is better than 70.0-th percentile (0.9576202421397954) across comparable trials.\n"
     ]
    },
    {
     "name": "stderr",
     "output_type": "stream",
     "text": [
      "[INFO 12-22 07:12:16] ax.early_stopping.strategies.percentile: Considering trial 13 for early stopping.\n"
     ]
    },
    {
     "name": "stderr",
     "output_type": "stream",
     "text": [
      "[INFO 12-22 07:12:16] ax.early_stopping.strategies.base: Last progression of Trial 13 is 0.19994666666666666.\n"
     ]
    },
    {
     "name": "stderr",
     "output_type": "stream",
     "text": [
      "[INFO 12-22 07:12:16] ax.early_stopping.strategies.base: Trial 13's most recent progression (0.19994666666666666) that is available for metric val_acc falls out of the min/max_progression range (0.3, None). Not early stopping this trial.\n"
     ]
    },
    {
     "name": "stderr",
     "output_type": "stream",
     "text": [
      "[INFO 12-22 07:12:16] ax.early_stopping.strategies.percentile: Considering trial 14 for early stopping.\n"
     ]
    },
    {
     "name": "stderr",
     "output_type": "stream",
     "text": [
      "[INFO 12-22 07:12:16] ax.early_stopping.strategies.base: There is not yet any data associated with trial 14 and metric val_acc. Not early stopping this trial.\n"
     ]
    },
    {
     "name": "stderr",
     "output_type": "stream",
     "text": [
      "[INFO 12-22 07:12:16] Scheduler: Waiting for completed trials (for 10 sec, currently running trials: 3).\n"
     ]
    },
    {
     "name": "stderr",
     "output_type": "stream",
     "text": [
      "[INFO 12-22 07:12:26] ax.core.metric: MetricFetchE INFO: Initialized MetricFetchE(message=\"No 'scalar' data found for trial in multiplexer mul=<tensorboard.backend.event_processing.plugin_event_multiplexer.EventMultiplexer object at 0x7f5a3db97fa0>\")\n"
     ]
    },
    {
     "name": "stderr",
     "output_type": "stream",
     "text": [
      "[ERROR 12-22 07:12:26] ax.core.experiment: Discovered Metric fetching Err while attaching data MetricFetchE(message=\"No 'scalar' data found for trial in multiplexer mul=<tensorboard.backend.event_processing.plugin_event_multiplexer.EventMultiplexer object at 0x7f5a3db97fa0>\"). Ignoring for now -- will retry query on next call to fetch.\n"
     ]
    },
    {
     "name": "stderr",
     "output_type": "stream",
     "text": [
      "/tmp/tmp.rbKmWnPBQH/Ax-main/ax/core/map_data.py:200: FutureWarning: The behavior of DataFrame concatenation with empty or all-NA entries is deprecated. In a future version, this will no longer exclude empty or all-NA columns when determining the result dtypes. To retain the old behavior, exclude the relevant entries before the concat operation.\n",
      "  df = pd.concat(\n",
      "[WARNING 12-22 07:12:26] Scheduler: Failed to fetch val_acc for trial 14, found MetricFetchE(message=\"No 'scalar' data found for trial in multiplexer mul=<tensorboard.backend.event_processing.plugin_event_multiplexer.EventMultiplexer object at 0x7f5a3db97fa0>\").\n"
     ]
    },
    {
     "name": "stderr",
     "output_type": "stream",
     "text": [
      "[INFO 12-22 07:12:26] Scheduler: MetricFetchE INFO: Because val_acc is available_while_running and trial 14 is still RUNNING continuing the experiment and retrying on next poll...\n"
     ]
    },
    {
     "name": "stderr",
     "output_type": "stream",
     "text": [
      "/tmp/tmp.rbKmWnPBQH/Ax-main/ax/core/map_data.py:200: FutureWarning: The behavior of DataFrame concatenation with empty or all-NA entries is deprecated. In a future version, this will no longer exclude empty or all-NA columns when determining the result dtypes. To retain the old behavior, exclude the relevant entries before the concat operation.\n",
      "  df = pd.concat(\n",
      "[INFO 12-22 07:12:26] ax.early_stopping.strategies.base: Last progression of any candidate for trial stopping is 0.6999466666666667.\n"
     ]
    },
    {
     "name": "stderr",
     "output_type": "stream",
     "text": [
      "[INFO 12-22 07:12:26] ax.early_stopping.strategies.percentile: Considering trial 10 for early stopping.\n"
     ]
    },
    {
     "name": "stderr",
     "output_type": "stream",
     "text": [
      "[INFO 12-22 07:12:26] ax.early_stopping.strategies.base: Last progression of Trial 10 is 0.6999466666666667.\n"
     ]
    },
    {
     "name": "stderr",
     "output_type": "stream",
     "text": [
      "[INFO 12-22 07:12:26] ax.early_stopping.strategies.percentile: Early stopping objective at last progression is:\n",
      "2     0.959704\n",
      "3     0.930895\n",
      "4     0.898733\n",
      "5     0.956376\n",
      "6     0.959650\n",
      "10    0.960346\n",
      "Name: 0.6999466666666667, dtype: float64.\n"
     ]
    },
    {
     "name": "stderr",
     "output_type": "stream",
     "text": [
      "[INFO 12-22 07:12:26] ax.early_stopping.strategies.percentile: Early stopping decision for 10: False. Reason: Trial objective value 0.9603462428366929 is better than 70.0-th percentile (0.9596767627765108) across comparable trials.\n"
     ]
    },
    {
     "name": "stderr",
     "output_type": "stream",
     "text": [
      "[INFO 12-22 07:12:26] ax.early_stopping.strategies.percentile: Considering trial 13 for early stopping.\n"
     ]
    },
    {
     "name": "stderr",
     "output_type": "stream",
     "text": [
      "[INFO 12-22 07:12:26] ax.early_stopping.strategies.base: Last progression of Trial 13 is 0.19994666666666666.\n"
     ]
    },
    {
     "name": "stderr",
     "output_type": "stream",
     "text": [
      "[INFO 12-22 07:12:26] ax.early_stopping.strategies.base: Trial 13's most recent progression (0.19994666666666666) that is available for metric val_acc falls out of the min/max_progression range (0.3, None). Not early stopping this trial.\n"
     ]
    },
    {
     "name": "stderr",
     "output_type": "stream",
     "text": [
      "[INFO 12-22 07:12:26] ax.early_stopping.strategies.percentile: Considering trial 14 for early stopping.\n"
     ]
    },
    {
     "name": "stderr",
     "output_type": "stream",
     "text": [
      "[INFO 12-22 07:12:26] ax.early_stopping.strategies.base: There is not yet any data associated with trial 14 and metric val_acc. Not early stopping this trial.\n"
     ]
    },
    {
     "name": "stderr",
     "output_type": "stream",
     "text": [
      "[INFO 12-22 07:12:26] Scheduler: Waiting for completed trials (for 10 sec, currently running trials: 3).\n"
     ]
    },
    {
     "name": "stderr",
     "output_type": "stream",
     "text": [
      "[INFO 12-22 07:12:36] ax.core.metric: MetricFetchE INFO: Initialized MetricFetchE(message=\"No 'scalar' data found for trial in multiplexer mul=<tensorboard.backend.event_processing.plugin_event_multiplexer.EventMultiplexer object at 0x7f5a3db968c0>\")\n"
     ]
    },
    {
     "name": "stderr",
     "output_type": "stream",
     "text": [
      "[ERROR 12-22 07:12:36] ax.core.experiment: Discovered Metric fetching Err while attaching data MetricFetchE(message=\"No 'scalar' data found for trial in multiplexer mul=<tensorboard.backend.event_processing.plugin_event_multiplexer.EventMultiplexer object at 0x7f5a3db968c0>\"). Ignoring for now -- will retry query on next call to fetch.\n"
     ]
    },
    {
     "name": "stderr",
     "output_type": "stream",
     "text": [
      "/tmp/tmp.rbKmWnPBQH/Ax-main/ax/core/map_data.py:200: FutureWarning: The behavior of DataFrame concatenation with empty or all-NA entries is deprecated. In a future version, this will no longer exclude empty or all-NA columns when determining the result dtypes. To retain the old behavior, exclude the relevant entries before the concat operation.\n",
      "  df = pd.concat(\n",
      "[WARNING 12-22 07:12:36] Scheduler: Failed to fetch val_acc for trial 14, found MetricFetchE(message=\"No 'scalar' data found for trial in multiplexer mul=<tensorboard.backend.event_processing.plugin_event_multiplexer.EventMultiplexer object at 0x7f5a3db968c0>\").\n"
     ]
    },
    {
     "name": "stderr",
     "output_type": "stream",
     "text": [
      "[INFO 12-22 07:12:36] Scheduler: MetricFetchE INFO: Because val_acc is available_while_running and trial 14 is still RUNNING continuing the experiment and retrying on next poll...\n"
     ]
    },
    {
     "name": "stderr",
     "output_type": "stream",
     "text": [
      "/tmp/tmp.rbKmWnPBQH/Ax-main/ax/core/map_data.py:200: FutureWarning: The behavior of DataFrame concatenation with empty or all-NA entries is deprecated. In a future version, this will no longer exclude empty or all-NA columns when determining the result dtypes. To retain the old behavior, exclude the relevant entries before the concat operation.\n",
      "  df = pd.concat(\n",
      "[INFO 12-22 07:12:36] ax.early_stopping.strategies.base: Last progression of any candidate for trial stopping is 0.6999466666666667.\n"
     ]
    },
    {
     "name": "stderr",
     "output_type": "stream",
     "text": [
      "[INFO 12-22 07:12:36] ax.early_stopping.strategies.percentile: Considering trial 10 for early stopping.\n"
     ]
    },
    {
     "name": "stderr",
     "output_type": "stream",
     "text": [
      "[INFO 12-22 07:12:36] ax.early_stopping.strategies.base: Last progression of Trial 10 is 0.6999466666666667.\n"
     ]
    },
    {
     "name": "stderr",
     "output_type": "stream",
     "text": [
      "[INFO 12-22 07:12:36] ax.early_stopping.strategies.percentile: Early stopping objective at last progression is:\n",
      "2     0.959704\n",
      "3     0.930895\n",
      "4     0.898733\n",
      "5     0.956376\n",
      "6     0.959650\n",
      "10    0.960346\n",
      "Name: 0.6999466666666667, dtype: float64.\n"
     ]
    },
    {
     "name": "stderr",
     "output_type": "stream",
     "text": [
      "[INFO 12-22 07:12:36] ax.early_stopping.strategies.percentile: Early stopping decision for 10: False. Reason: Trial objective value 0.9603462428366929 is better than 70.0-th percentile (0.9596767627765108) across comparable trials.\n"
     ]
    },
    {
     "name": "stderr",
     "output_type": "stream",
     "text": [
      "[INFO 12-22 07:12:36] ax.early_stopping.strategies.percentile: Considering trial 13 for early stopping.\n"
     ]
    },
    {
     "name": "stderr",
     "output_type": "stream",
     "text": [
      "[INFO 12-22 07:12:36] ax.early_stopping.strategies.base: Last progression of Trial 13 is 0.19994666666666666.\n"
     ]
    },
    {
     "name": "stderr",
     "output_type": "stream",
     "text": [
      "[INFO 12-22 07:12:36] ax.early_stopping.strategies.base: Trial 13's most recent progression (0.19994666666666666) that is available for metric val_acc falls out of the min/max_progression range (0.3, None). Not early stopping this trial.\n"
     ]
    },
    {
     "name": "stderr",
     "output_type": "stream",
     "text": [
      "[INFO 12-22 07:12:36] ax.early_stopping.strategies.percentile: Considering trial 14 for early stopping.\n"
     ]
    },
    {
     "name": "stderr",
     "output_type": "stream",
     "text": [
      "[INFO 12-22 07:12:36] ax.early_stopping.strategies.base: There is not yet any data associated with trial 14 and metric val_acc. Not early stopping this trial.\n"
     ]
    },
    {
     "name": "stderr",
     "output_type": "stream",
     "text": [
      "[INFO 12-22 07:12:36] Scheduler: Waiting for completed trials (for 10 sec, currently running trials: 3).\n"
     ]
    },
    {
     "name": "stderr",
     "output_type": "stream",
     "text": [
      "[INFO 12-22 07:12:46] ax.core.metric: MetricFetchE INFO: Initialized MetricFetchE(message=\"No 'scalar' data found for trial in multiplexer mul=<tensorboard.backend.event_processing.plugin_event_multiplexer.EventMultiplexer object at 0x7f5a3db95e40>\")\n"
     ]
    },
    {
     "name": "stderr",
     "output_type": "stream",
     "text": [
      "[ERROR 12-22 07:12:46] ax.core.experiment: Discovered Metric fetching Err while attaching data MetricFetchE(message=\"No 'scalar' data found for trial in multiplexer mul=<tensorboard.backend.event_processing.plugin_event_multiplexer.EventMultiplexer object at 0x7f5a3db95e40>\"). Ignoring for now -- will retry query on next call to fetch.\n"
     ]
    },
    {
     "name": "stderr",
     "output_type": "stream",
     "text": [
      "/tmp/tmp.rbKmWnPBQH/Ax-main/ax/core/map_data.py:200: FutureWarning: The behavior of DataFrame concatenation with empty or all-NA entries is deprecated. In a future version, this will no longer exclude empty or all-NA columns when determining the result dtypes. To retain the old behavior, exclude the relevant entries before the concat operation.\n",
      "  df = pd.concat(\n",
      "[WARNING 12-22 07:12:46] Scheduler: Failed to fetch val_acc for trial 14, found MetricFetchE(message=\"No 'scalar' data found for trial in multiplexer mul=<tensorboard.backend.event_processing.plugin_event_multiplexer.EventMultiplexer object at 0x7f5a3db95e40>\").\n"
     ]
    },
    {
     "name": "stderr",
     "output_type": "stream",
     "text": [
      "[INFO 12-22 07:12:46] Scheduler: MetricFetchE INFO: Because val_acc is available_while_running and trial 14 is still RUNNING continuing the experiment and retrying on next poll...\n"
     ]
    },
    {
     "name": "stderr",
     "output_type": "stream",
     "text": [
      "/tmp/tmp.rbKmWnPBQH/Ax-main/ax/core/map_data.py:200: FutureWarning: The behavior of DataFrame concatenation with empty or all-NA entries is deprecated. In a future version, this will no longer exclude empty or all-NA columns when determining the result dtypes. To retain the old behavior, exclude the relevant entries before the concat operation.\n",
      "  df = pd.concat(\n",
      "[INFO 12-22 07:12:46] ax.early_stopping.strategies.base: Last progression of any candidate for trial stopping is 0.6999466666666667.\n"
     ]
    },
    {
     "name": "stderr",
     "output_type": "stream",
     "text": [
      "[INFO 12-22 07:12:46] ax.early_stopping.strategies.percentile: Considering trial 10 for early stopping.\n"
     ]
    },
    {
     "name": "stderr",
     "output_type": "stream",
     "text": [
      "[INFO 12-22 07:12:46] ax.early_stopping.strategies.base: Last progression of Trial 10 is 0.6999466666666667.\n"
     ]
    },
    {
     "name": "stderr",
     "output_type": "stream",
     "text": [
      "[INFO 12-22 07:12:46] ax.early_stopping.strategies.percentile: Early stopping objective at last progression is:\n",
      "2     0.959704\n",
      "3     0.930895\n",
      "4     0.898733\n",
      "5     0.956376\n",
      "6     0.959650\n",
      "10    0.960346\n",
      "Name: 0.6999466666666667, dtype: float64.\n"
     ]
    },
    {
     "name": "stderr",
     "output_type": "stream",
     "text": [
      "[INFO 12-22 07:12:46] ax.early_stopping.strategies.percentile: Early stopping decision for 10: False. Reason: Trial objective value 0.9603462428366929 is better than 70.0-th percentile (0.9596767627765108) across comparable trials.\n"
     ]
    },
    {
     "name": "stderr",
     "output_type": "stream",
     "text": [
      "[INFO 12-22 07:12:46] ax.early_stopping.strategies.percentile: Considering trial 13 for early stopping.\n"
     ]
    },
    {
     "name": "stderr",
     "output_type": "stream",
     "text": [
      "[INFO 12-22 07:12:46] ax.early_stopping.strategies.base: Last progression of Trial 13 is 0.19994666666666666.\n"
     ]
    },
    {
     "name": "stderr",
     "output_type": "stream",
     "text": [
      "[INFO 12-22 07:12:46] ax.early_stopping.strategies.base: Trial 13's most recent progression (0.19994666666666666) that is available for metric val_acc falls out of the min/max_progression range (0.3, None). Not early stopping this trial.\n"
     ]
    },
    {
     "name": "stderr",
     "output_type": "stream",
     "text": [
      "[INFO 12-22 07:12:46] ax.early_stopping.strategies.percentile: Considering trial 14 for early stopping.\n"
     ]
    },
    {
     "name": "stderr",
     "output_type": "stream",
     "text": [
      "[INFO 12-22 07:12:46] ax.early_stopping.strategies.base: There is not yet any data associated with trial 14 and metric val_acc. Not early stopping this trial.\n"
     ]
    },
    {
     "name": "stderr",
     "output_type": "stream",
     "text": [
      "[INFO 12-22 07:12:46] Scheduler: Waiting for completed trials (for 10 sec, currently running trials: 3).\n"
     ]
    },
    {
     "name": "stderr",
     "output_type": "stream",
     "text": [
      "/tmp/tmp.rbKmWnPBQH/Ax-main/ax/core/map_data.py:200: FutureWarning: The behavior of DataFrame concatenation with empty or all-NA entries is deprecated. In a future version, this will no longer exclude empty or all-NA columns when determining the result dtypes. To retain the old behavior, exclude the relevant entries before the concat operation.\n",
      "  df = pd.concat(\n",
      "/tmp/tmp.rbKmWnPBQH/Ax-main/ax/core/map_data.py:200: FutureWarning: The behavior of DataFrame concatenation with empty or all-NA entries is deprecated. In a future version, this will no longer exclude empty or all-NA columns when determining the result dtypes. To retain the old behavior, exclude the relevant entries before the concat operation.\n",
      "  df = pd.concat(\n",
      "[INFO 12-22 07:12:56] ax.early_stopping.strategies.base: Last progression of any candidate for trial stopping is 0.6999466666666667.\n"
     ]
    },
    {
     "name": "stderr",
     "output_type": "stream",
     "text": [
      "[INFO 12-22 07:12:57] ax.early_stopping.utils: Got exception `x and y arrays must have at least 2 entries` during interpolation. Using uninterpolated values instead.\n"
     ]
    },
    {
     "name": "stderr",
     "output_type": "stream",
     "text": [
      "[INFO 12-22 07:12:57] ax.early_stopping.strategies.percentile: Considering trial 10 for early stopping.\n"
     ]
    },
    {
     "name": "stderr",
     "output_type": "stream",
     "text": [
      "[INFO 12-22 07:12:57] ax.early_stopping.strategies.base: Last progression of Trial 10 is 0.6999466666666667.\n"
     ]
    },
    {
     "name": "stderr",
     "output_type": "stream",
     "text": [
      "[INFO 12-22 07:12:57] ax.early_stopping.strategies.percentile: Early stopping objective at last progression is:\n",
      "2     0.959704\n",
      "3     0.930895\n",
      "4     0.898733\n",
      "5     0.956376\n",
      "6     0.959650\n",
      "10    0.960346\n",
      "Name: 0.6999466666666667, dtype: float64.\n"
     ]
    },
    {
     "name": "stderr",
     "output_type": "stream",
     "text": [
      "[INFO 12-22 07:12:57] ax.early_stopping.strategies.percentile: Early stopping decision for 10: False. Reason: Trial objective value 0.9603462428366929 is better than 70.0-th percentile (0.9596767627765108) across comparable trials.\n"
     ]
    },
    {
     "name": "stderr",
     "output_type": "stream",
     "text": [
      "[INFO 12-22 07:12:57] ax.early_stopping.strategies.percentile: Considering trial 13 for early stopping.\n"
     ]
    },
    {
     "name": "stderr",
     "output_type": "stream",
     "text": [
      "[INFO 12-22 07:12:57] ax.early_stopping.strategies.base: Last progression of Trial 13 is 0.29994666666666664.\n"
     ]
    },
    {
     "name": "stderr",
     "output_type": "stream",
     "text": [
      "[INFO 12-22 07:12:57] ax.early_stopping.strategies.base: Trial 13's most recent progression (0.29994666666666664) that is available for metric val_acc falls out of the min/max_progression range (0.3, None). Not early stopping this trial.\n"
     ]
    },
    {
     "name": "stderr",
     "output_type": "stream",
     "text": [
      "[INFO 12-22 07:12:57] ax.early_stopping.strategies.percentile: Considering trial 14 for early stopping.\n"
     ]
    },
    {
     "name": "stderr",
     "output_type": "stream",
     "text": [
      "[INFO 12-22 07:12:57] ax.early_stopping.strategies.base: Last progression of Trial 14 is 0.09994666666666667.\n"
     ]
    },
    {
     "name": "stderr",
     "output_type": "stream",
     "text": [
      "[INFO 12-22 07:12:57] ax.early_stopping.strategies.base: Trial 14's most recent progression (0.09994666666666667) that is available for metric val_acc falls out of the min/max_progression range (0.3, None). Not early stopping this trial.\n"
     ]
    },
    {
     "name": "stderr",
     "output_type": "stream",
     "text": [
      "[INFO 12-22 07:12:57] Scheduler: Waiting for completed trials (for 10 sec, currently running trials: 3).\n"
     ]
    },
    {
     "name": "stderr",
     "output_type": "stream",
     "text": [
      "/tmp/tmp.rbKmWnPBQH/Ax-main/ax/core/map_data.py:200: FutureWarning: The behavior of DataFrame concatenation with empty or all-NA entries is deprecated. In a future version, this will no longer exclude empty or all-NA columns when determining the result dtypes. To retain the old behavior, exclude the relevant entries before the concat operation.\n",
      "  df = pd.concat(\n",
      "/tmp/tmp.rbKmWnPBQH/Ax-main/ax/core/map_data.py:200: FutureWarning: The behavior of DataFrame concatenation with empty or all-NA entries is deprecated. In a future version, this will no longer exclude empty or all-NA columns when determining the result dtypes. To retain the old behavior, exclude the relevant entries before the concat operation.\n",
      "  df = pd.concat(\n",
      "[INFO 12-22 07:13:07] ax.early_stopping.strategies.base: Last progression of any candidate for trial stopping is 0.7999466666666667.\n"
     ]
    },
    {
     "name": "stderr",
     "output_type": "stream",
     "text": [
      "[INFO 12-22 07:13:07] ax.early_stopping.utils: Got exception `x and y arrays must have at least 2 entries` during interpolation. Using uninterpolated values instead.\n"
     ]
    },
    {
     "name": "stderr",
     "output_type": "stream",
     "text": [
      "[INFO 12-22 07:13:07] ax.early_stopping.strategies.percentile: Considering trial 10 for early stopping.\n"
     ]
    },
    {
     "name": "stderr",
     "output_type": "stream",
     "text": [
      "[INFO 12-22 07:13:07] ax.early_stopping.strategies.base: Last progression of Trial 10 is 0.7999466666666667.\n"
     ]
    },
    {
     "name": "stderr",
     "output_type": "stream",
     "text": [
      "[INFO 12-22 07:13:07] ax.early_stopping.strategies.percentile: Early stopping objective at last progression is:\n",
      "2     0.959553\n",
      "3     0.927533\n",
      "4     0.907086\n",
      "5     0.958810\n",
      "6     0.962690\n",
      "10    0.959976\n",
      "Name: 0.7999466666666667, dtype: float64.\n"
     ]
    },
    {
     "name": "stderr",
     "output_type": "stream",
     "text": [
      "[INFO 12-22 07:13:07] ax.early_stopping.strategies.percentile: Early stopping decision for 10: False. Reason: Trial objective value 0.9599757711270056 is better than 70.0-th percentile (0.9597641597008192) across comparable trials.\n"
     ]
    },
    {
     "name": "stderr",
     "output_type": "stream",
     "text": [
      "[INFO 12-22 07:13:07] ax.early_stopping.strategies.percentile: Considering trial 13 for early stopping.\n"
     ]
    },
    {
     "name": "stderr",
     "output_type": "stream",
     "text": [
      "[INFO 12-22 07:13:07] ax.early_stopping.strategies.base: Last progression of Trial 13 is 0.29994666666666664.\n"
     ]
    },
    {
     "name": "stderr",
     "output_type": "stream",
     "text": [
      "[INFO 12-22 07:13:07] ax.early_stopping.strategies.base: Trial 13's most recent progression (0.29994666666666664) that is available for metric val_acc falls out of the min/max_progression range (0.3, None). Not early stopping this trial.\n"
     ]
    },
    {
     "name": "stderr",
     "output_type": "stream",
     "text": [
      "[INFO 12-22 07:13:07] ax.early_stopping.strategies.percentile: Considering trial 14 for early stopping.\n"
     ]
    },
    {
     "name": "stderr",
     "output_type": "stream",
     "text": [
      "[INFO 12-22 07:13:07] ax.early_stopping.strategies.base: Last progression of Trial 14 is 0.09994666666666667.\n"
     ]
    },
    {
     "name": "stderr",
     "output_type": "stream",
     "text": [
      "[INFO 12-22 07:13:07] ax.early_stopping.strategies.base: Trial 14's most recent progression (0.09994666666666667) that is available for metric val_acc falls out of the min/max_progression range (0.3, None). Not early stopping this trial.\n"
     ]
    },
    {
     "name": "stderr",
     "output_type": "stream",
     "text": [
      "[INFO 12-22 07:13:07] Scheduler: Waiting for completed trials (for 10 sec, currently running trials: 3).\n"
     ]
    },
    {
     "name": "stderr",
     "output_type": "stream",
     "text": [
      "/tmp/tmp.rbKmWnPBQH/Ax-main/ax/core/map_data.py:200: FutureWarning: The behavior of DataFrame concatenation with empty or all-NA entries is deprecated. In a future version, this will no longer exclude empty or all-NA columns when determining the result dtypes. To retain the old behavior, exclude the relevant entries before the concat operation.\n",
      "  df = pd.concat(\n",
      "/tmp/tmp.rbKmWnPBQH/Ax-main/ax/core/map_data.py:200: FutureWarning: The behavior of DataFrame concatenation with empty or all-NA entries is deprecated. In a future version, this will no longer exclude empty or all-NA columns when determining the result dtypes. To retain the old behavior, exclude the relevant entries before the concat operation.\n",
      "  df = pd.concat(\n",
      "[INFO 12-22 07:13:17] ax.early_stopping.strategies.base: Last progression of any candidate for trial stopping is 0.7999466666666667.\n"
     ]
    },
    {
     "name": "stderr",
     "output_type": "stream",
     "text": [
      "[INFO 12-22 07:13:17] ax.early_stopping.utils: Got exception `x and y arrays must have at least 2 entries` during interpolation. Using uninterpolated values instead.\n"
     ]
    },
    {
     "name": "stderr",
     "output_type": "stream",
     "text": [
      "[INFO 12-22 07:13:17] ax.early_stopping.strategies.percentile: Considering trial 10 for early stopping.\n"
     ]
    },
    {
     "name": "stderr",
     "output_type": "stream",
     "text": [
      "[INFO 12-22 07:13:17] ax.early_stopping.strategies.base: Last progression of Trial 10 is 0.7999466666666667.\n"
     ]
    },
    {
     "name": "stderr",
     "output_type": "stream",
     "text": [
      "[INFO 12-22 07:13:17] ax.early_stopping.strategies.percentile: Early stopping objective at last progression is:\n",
      "2     0.959553\n",
      "3     0.927533\n",
      "4     0.907086\n",
      "5     0.958810\n",
      "6     0.962690\n",
      "10    0.959976\n",
      "Name: 0.7999466666666667, dtype: float64.\n"
     ]
    },
    {
     "name": "stderr",
     "output_type": "stream",
     "text": [
      "[INFO 12-22 07:13:17] ax.early_stopping.strategies.percentile: Early stopping decision for 10: False. Reason: Trial objective value 0.9599757711270056 is better than 70.0-th percentile (0.9597641597008192) across comparable trials.\n"
     ]
    },
    {
     "name": "stderr",
     "output_type": "stream",
     "text": [
      "[INFO 12-22 07:13:17] ax.early_stopping.strategies.percentile: Considering trial 13 for early stopping.\n"
     ]
    },
    {
     "name": "stderr",
     "output_type": "stream",
     "text": [
      "[INFO 12-22 07:13:17] ax.early_stopping.strategies.base: Last progression of Trial 13 is 0.29994666666666664.\n"
     ]
    },
    {
     "name": "stderr",
     "output_type": "stream",
     "text": [
      "[INFO 12-22 07:13:17] ax.early_stopping.strategies.base: Trial 13's most recent progression (0.29994666666666664) that is available for metric val_acc falls out of the min/max_progression range (0.3, None). Not early stopping this trial.\n"
     ]
    },
    {
     "name": "stderr",
     "output_type": "stream",
     "text": [
      "[INFO 12-22 07:13:17] ax.early_stopping.strategies.percentile: Considering trial 14 for early stopping.\n"
     ]
    },
    {
     "name": "stderr",
     "output_type": "stream",
     "text": [
      "[INFO 12-22 07:13:17] ax.early_stopping.strategies.base: Last progression of Trial 14 is 0.09994666666666667.\n"
     ]
    },
    {
     "name": "stderr",
     "output_type": "stream",
     "text": [
      "[INFO 12-22 07:13:17] ax.early_stopping.strategies.base: Trial 14's most recent progression (0.09994666666666667) that is available for metric val_acc falls out of the min/max_progression range (0.3, None). Not early stopping this trial.\n"
     ]
    },
    {
     "name": "stderr",
     "output_type": "stream",
     "text": [
      "[INFO 12-22 07:13:17] Scheduler: Waiting for completed trials (for 10 sec, currently running trials: 3).\n"
     ]
    },
    {
     "name": "stderr",
     "output_type": "stream",
     "text": [
      "/tmp/tmp.rbKmWnPBQH/Ax-main/ax/core/map_data.py:200: FutureWarning: The behavior of DataFrame concatenation with empty or all-NA entries is deprecated. In a future version, this will no longer exclude empty or all-NA columns when determining the result dtypes. To retain the old behavior, exclude the relevant entries before the concat operation.\n",
      "  df = pd.concat(\n",
      "/tmp/tmp.rbKmWnPBQH/Ax-main/ax/core/map_data.py:200: FutureWarning: The behavior of DataFrame concatenation with empty or all-NA entries is deprecated. In a future version, this will no longer exclude empty or all-NA columns when determining the result dtypes. To retain the old behavior, exclude the relevant entries before the concat operation.\n",
      "  df = pd.concat(\n",
      "[INFO 12-22 07:13:27] ax.early_stopping.strategies.base: Last progression of any candidate for trial stopping is 0.7999466666666667.\n"
     ]
    },
    {
     "name": "stderr",
     "output_type": "stream",
     "text": [
      "[INFO 12-22 07:13:27] ax.early_stopping.utils: Got exception `x and y arrays must have at least 2 entries` during interpolation. Using uninterpolated values instead.\n"
     ]
    },
    {
     "name": "stderr",
     "output_type": "stream",
     "text": [
      "[INFO 12-22 07:13:27] ax.early_stopping.strategies.percentile: Considering trial 10 for early stopping.\n"
     ]
    },
    {
     "name": "stderr",
     "output_type": "stream",
     "text": [
      "[INFO 12-22 07:13:27] ax.early_stopping.strategies.base: Last progression of Trial 10 is 0.7999466666666667.\n"
     ]
    },
    {
     "name": "stderr",
     "output_type": "stream",
     "text": [
      "[INFO 12-22 07:13:27] ax.early_stopping.strategies.percentile: Early stopping objective at last progression is:\n",
      "2     0.959553\n",
      "3     0.927533\n",
      "4     0.907086\n",
      "5     0.958810\n",
      "6     0.962690\n",
      "10    0.959976\n",
      "Name: 0.7999466666666667, dtype: float64.\n"
     ]
    },
    {
     "name": "stderr",
     "output_type": "stream",
     "text": [
      "[INFO 12-22 07:13:27] ax.early_stopping.strategies.percentile: Early stopping decision for 10: False. Reason: Trial objective value 0.9599757711270056 is better than 70.0-th percentile (0.9597641597008192) across comparable trials.\n"
     ]
    },
    {
     "name": "stderr",
     "output_type": "stream",
     "text": [
      "[INFO 12-22 07:13:27] ax.early_stopping.strategies.percentile: Considering trial 13 for early stopping.\n"
     ]
    },
    {
     "name": "stderr",
     "output_type": "stream",
     "text": [
      "[INFO 12-22 07:13:27] ax.early_stopping.strategies.base: Last progression of Trial 13 is 0.29994666666666664.\n"
     ]
    },
    {
     "name": "stderr",
     "output_type": "stream",
     "text": [
      "[INFO 12-22 07:13:27] ax.early_stopping.strategies.base: Trial 13's most recent progression (0.29994666666666664) that is available for metric val_acc falls out of the min/max_progression range (0.3, None). Not early stopping this trial.\n"
     ]
    },
    {
     "name": "stderr",
     "output_type": "stream",
     "text": [
      "[INFO 12-22 07:13:27] ax.early_stopping.strategies.percentile: Considering trial 14 for early stopping.\n"
     ]
    },
    {
     "name": "stderr",
     "output_type": "stream",
     "text": [
      "[INFO 12-22 07:13:27] ax.early_stopping.strategies.base: Last progression of Trial 14 is 0.09994666666666667.\n"
     ]
    },
    {
     "name": "stderr",
     "output_type": "stream",
     "text": [
      "[INFO 12-22 07:13:27] ax.early_stopping.strategies.base: Trial 14's most recent progression (0.09994666666666667) that is available for metric val_acc falls out of the min/max_progression range (0.3, None). Not early stopping this trial.\n"
     ]
    },
    {
     "name": "stderr",
     "output_type": "stream",
     "text": [
      "[INFO 12-22 07:13:27] Scheduler: Waiting for completed trials (for 10 sec, currently running trials: 3).\n"
     ]
    },
    {
     "name": "stderr",
     "output_type": "stream",
     "text": [
      "/tmp/tmp.rbKmWnPBQH/Ax-main/ax/core/map_data.py:200: FutureWarning: The behavior of DataFrame concatenation with empty or all-NA entries is deprecated. In a future version, this will no longer exclude empty or all-NA columns when determining the result dtypes. To retain the old behavior, exclude the relevant entries before the concat operation.\n",
      "  df = pd.concat(\n",
      "/tmp/tmp.rbKmWnPBQH/Ax-main/ax/core/map_data.py:200: FutureWarning: The behavior of DataFrame concatenation with empty or all-NA entries is deprecated. In a future version, this will no longer exclude empty or all-NA columns when determining the result dtypes. To retain the old behavior, exclude the relevant entries before the concat operation.\n",
      "  df = pd.concat(\n",
      "[INFO 12-22 07:13:37] ax.early_stopping.strategies.base: Last progression of any candidate for trial stopping is 0.7999466666666667.\n"
     ]
    },
    {
     "name": "stderr",
     "output_type": "stream",
     "text": [
      "[INFO 12-22 07:13:37] ax.early_stopping.strategies.percentile: Considering trial 10 for early stopping.\n"
     ]
    },
    {
     "name": "stderr",
     "output_type": "stream",
     "text": [
      "[INFO 12-22 07:13:37] ax.early_stopping.strategies.base: Last progression of Trial 10 is 0.7999466666666667.\n"
     ]
    },
    {
     "name": "stderr",
     "output_type": "stream",
     "text": [
      "[INFO 12-22 07:13:37] ax.early_stopping.strategies.percentile: Early stopping objective at last progression is:\n",
      "2     0.959553\n",
      "3     0.927533\n",
      "4     0.907086\n",
      "5     0.958810\n",
      "6     0.962690\n",
      "10    0.959976\n",
      "Name: 0.7999466666666667, dtype: float64.\n"
     ]
    },
    {
     "name": "stderr",
     "output_type": "stream",
     "text": [
      "[INFO 12-22 07:13:37] ax.early_stopping.strategies.percentile: Early stopping decision for 10: False. Reason: Trial objective value 0.9599757711270056 is better than 70.0-th percentile (0.9597641597008192) across comparable trials.\n"
     ]
    },
    {
     "name": "stderr",
     "output_type": "stream",
     "text": [
      "[INFO 12-22 07:13:37] ax.early_stopping.strategies.percentile: Considering trial 13 for early stopping.\n"
     ]
    },
    {
     "name": "stderr",
     "output_type": "stream",
     "text": [
      "[INFO 12-22 07:13:37] ax.early_stopping.strategies.base: Last progression of Trial 13 is 0.3999466666666667.\n"
     ]
    },
    {
     "name": "stderr",
     "output_type": "stream",
     "text": [
      "[INFO 12-22 07:13:37] ax.early_stopping.strategies.percentile: Early stopping objective at last progression is:\n",
      "2     0.950124\n",
      "3     0.923434\n",
      "4     0.904314\n",
      "5     0.942822\n",
      "6     0.956270\n",
      "7     0.914413\n",
      "8     0.935924\n",
      "9     0.942847\n",
      "10    0.952262\n",
      "11    0.936989\n",
      "12    0.944841\n",
      "13    0.936499\n",
      "Name: 0.3999466666666667, dtype: float64.\n"
     ]
    },
    {
     "name": "stderr",
     "output_type": "stream",
     "text": [
      "[INFO 12-22 07:13:37] ax.early_stopping.strategies.percentile: Early stopping decision for 13: True. Reason: Trial objective value 0.9364986695679537 is worse than 70.0-th percentile (0.9442429827645493) across comparable trials.\n"
     ]
    },
    {
     "name": "stderr",
     "output_type": "stream",
     "text": [
      "[INFO 12-22 07:13:37] ax.early_stopping.strategies.percentile: Considering trial 14 for early stopping.\n"
     ]
    },
    {
     "name": "stderr",
     "output_type": "stream",
     "text": [
      "[INFO 12-22 07:13:37] ax.early_stopping.strategies.base: Last progression of Trial 14 is 0.19994666666666666.\n"
     ]
    },
    {
     "name": "stderr",
     "output_type": "stream",
     "text": [
      "[INFO 12-22 07:13:37] ax.early_stopping.strategies.base: Trial 14's most recent progression (0.19994666666666666) that is available for metric val_acc falls out of the min/max_progression range (0.3, None). Not early stopping this trial.\n"
     ]
    },
    {
     "name": "stderr",
     "output_type": "stream",
     "text": [
      "[INFO 12-22 07:13:39] Scheduler: Done submitting trials, waiting for remaining 2 running trials...\n"
     ]
    },
    {
     "name": "stderr",
     "output_type": "stream",
     "text": [
      "[WARNING 12-22 07:13:39] Scheduler: Both `init_seconds_between_polls` and `early_stopping_strategy supplied. `init_seconds_between_polls=1` will be overrridden by `early_stopping_strategy.seconds_between_polls=10` and polling will take place at a constant rate.\n"
     ]
    },
    {
     "name": "stderr",
     "output_type": "stream",
     "text": [
      "/tmp/tmp.rbKmWnPBQH/Ax-main/ax/core/map_data.py:200: FutureWarning: The behavior of DataFrame concatenation with empty or all-NA entries is deprecated. In a future version, this will no longer exclude empty or all-NA columns when determining the result dtypes. To retain the old behavior, exclude the relevant entries before the concat operation.\n",
      "  df = pd.concat(\n",
      "/tmp/tmp.rbKmWnPBQH/Ax-main/ax/core/map_data.py:200: FutureWarning: The behavior of DataFrame concatenation with empty or all-NA entries is deprecated. In a future version, this will no longer exclude empty or all-NA columns when determining the result dtypes. To retain the old behavior, exclude the relevant entries before the concat operation.\n",
      "  df = pd.concat(\n",
      "[INFO 12-22 07:13:39] ax.early_stopping.strategies.base: Last progression of any candidate for trial stopping is 0.7999466666666667.\n"
     ]
    },
    {
     "name": "stderr",
     "output_type": "stream",
     "text": [
      "[INFO 12-22 07:13:39] ax.early_stopping.strategies.percentile: Considering trial 10 for early stopping.\n"
     ]
    },
    {
     "name": "stderr",
     "output_type": "stream",
     "text": [
      "[INFO 12-22 07:13:39] ax.early_stopping.strategies.base: Last progression of Trial 10 is 0.7999466666666667.\n"
     ]
    },
    {
     "name": "stderr",
     "output_type": "stream",
     "text": [
      "[INFO 12-22 07:13:39] ax.early_stopping.strategies.percentile: Early stopping objective at last progression is:\n",
      "2     0.959553\n",
      "3     0.927533\n",
      "4     0.907086\n",
      "5     0.958810\n",
      "6     0.962690\n",
      "10    0.959976\n",
      "Name: 0.7999466666666667, dtype: float64.\n"
     ]
    },
    {
     "name": "stderr",
     "output_type": "stream",
     "text": [
      "[INFO 12-22 07:13:39] ax.early_stopping.strategies.percentile: Early stopping decision for 10: False. Reason: Trial objective value 0.9599757711270056 is better than 70.0-th percentile (0.9597641597008192) across comparable trials.\n"
     ]
    },
    {
     "name": "stderr",
     "output_type": "stream",
     "text": [
      "[INFO 12-22 07:13:39] ax.early_stopping.strategies.percentile: Considering trial 14 for early stopping.\n"
     ]
    },
    {
     "name": "stderr",
     "output_type": "stream",
     "text": [
      "[INFO 12-22 07:13:39] ax.early_stopping.strategies.base: Last progression of Trial 14 is 0.19994666666666666.\n"
     ]
    },
    {
     "name": "stderr",
     "output_type": "stream",
     "text": [
      "[INFO 12-22 07:13:39] ax.early_stopping.strategies.base: Trial 14's most recent progression (0.19994666666666666) that is available for metric val_acc falls out of the min/max_progression range (0.3, None). Not early stopping this trial.\n"
     ]
    },
    {
     "name": "stderr",
     "output_type": "stream",
     "text": [
      "[INFO 12-22 07:13:39] Scheduler: Waiting for completed trials (for 10 sec, currently running trials: 2).\n"
     ]
    },
    {
     "name": "stderr",
     "output_type": "stream",
     "text": [
      "/tmp/tmp.rbKmWnPBQH/Ax-main/ax/core/map_data.py:200: FutureWarning: The behavior of DataFrame concatenation with empty or all-NA entries is deprecated. In a future version, this will no longer exclude empty or all-NA columns when determining the result dtypes. To retain the old behavior, exclude the relevant entries before the concat operation.\n",
      "  df = pd.concat(\n",
      "/tmp/tmp.rbKmWnPBQH/Ax-main/ax/core/map_data.py:200: FutureWarning: The behavior of DataFrame concatenation with empty or all-NA entries is deprecated. In a future version, this will no longer exclude empty or all-NA columns when determining the result dtypes. To retain the old behavior, exclude the relevant entries before the concat operation.\n",
      "  df = pd.concat(\n",
      "[INFO 12-22 07:13:49] ax.early_stopping.strategies.base: Last progression of any candidate for trial stopping is 0.8999466666666667.\n"
     ]
    },
    {
     "name": "stderr",
     "output_type": "stream",
     "text": [
      "[INFO 12-22 07:13:49] ax.early_stopping.strategies.percentile: Considering trial 10 for early stopping.\n"
     ]
    },
    {
     "name": "stderr",
     "output_type": "stream",
     "text": [
      "[INFO 12-22 07:13:49] ax.early_stopping.strategies.base: Last progression of Trial 10 is 0.8999466666666667.\n"
     ]
    },
    {
     "name": "stderr",
     "output_type": "stream",
     "text": [
      "[INFO 12-22 07:13:49] ax.early_stopping.strategies.percentile: Early stopping objective at last progression is:\n",
      "2     0.960153\n",
      "3     0.928158\n",
      "4     0.908763\n",
      "5     0.960251\n",
      "6     0.966009\n",
      "10    0.962561\n",
      "Name: 0.8999466666666667, dtype: float64.\n"
     ]
    },
    {
     "name": "stderr",
     "output_type": "stream",
     "text": [
      "[INFO 12-22 07:13:49] ax.early_stopping.strategies.percentile: Early stopping decision for 10: False. Reason: Trial objective value 0.9625612090624586 is better than 70.0-th percentile (0.9614058559226453) across comparable trials.\n"
     ]
    },
    {
     "name": "stderr",
     "output_type": "stream",
     "text": [
      "[INFO 12-22 07:13:49] ax.early_stopping.strategies.percentile: Considering trial 14 for early stopping.\n"
     ]
    },
    {
     "name": "stderr",
     "output_type": "stream",
     "text": [
      "[INFO 12-22 07:13:49] ax.early_stopping.strategies.base: Last progression of Trial 14 is 0.19994666666666666.\n"
     ]
    },
    {
     "name": "stderr",
     "output_type": "stream",
     "text": [
      "[INFO 12-22 07:13:49] ax.early_stopping.strategies.base: Trial 14's most recent progression (0.19994666666666666) that is available for metric val_acc falls out of the min/max_progression range (0.3, None). Not early stopping this trial.\n"
     ]
    },
    {
     "name": "stderr",
     "output_type": "stream",
     "text": [
      "[INFO 12-22 07:13:49] Scheduler: Waiting for completed trials (for 10 sec, currently running trials: 2).\n"
     ]
    },
    {
     "name": "stderr",
     "output_type": "stream",
     "text": [
      "/tmp/tmp.rbKmWnPBQH/Ax-main/ax/core/map_data.py:200: FutureWarning: The behavior of DataFrame concatenation with empty or all-NA entries is deprecated. In a future version, this will no longer exclude empty or all-NA columns when determining the result dtypes. To retain the old behavior, exclude the relevant entries before the concat operation.\n",
      "  df = pd.concat(\n",
      "/tmp/tmp.rbKmWnPBQH/Ax-main/ax/core/map_data.py:200: FutureWarning: The behavior of DataFrame concatenation with empty or all-NA entries is deprecated. In a future version, this will no longer exclude empty or all-NA columns when determining the result dtypes. To retain the old behavior, exclude the relevant entries before the concat operation.\n",
      "  df = pd.concat(\n",
      "[INFO 12-22 07:13:59] ax.early_stopping.strategies.base: Last progression of any candidate for trial stopping is 0.8999466666666667.\n"
     ]
    },
    {
     "name": "stderr",
     "output_type": "stream",
     "text": [
      "[INFO 12-22 07:13:59] ax.early_stopping.strategies.percentile: Considering trial 10 for early stopping.\n"
     ]
    },
    {
     "name": "stderr",
     "output_type": "stream",
     "text": [
      "[INFO 12-22 07:13:59] ax.early_stopping.strategies.base: Last progression of Trial 10 is 0.8999466666666667.\n"
     ]
    },
    {
     "name": "stderr",
     "output_type": "stream",
     "text": [
      "[INFO 12-22 07:13:59] ax.early_stopping.strategies.percentile: Early stopping objective at last progression is:\n",
      "2     0.960153\n",
      "3     0.928158\n",
      "4     0.908763\n",
      "5     0.960251\n",
      "6     0.966009\n",
      "10    0.962561\n",
      "Name: 0.8999466666666667, dtype: float64.\n"
     ]
    },
    {
     "name": "stderr",
     "output_type": "stream",
     "text": [
      "[INFO 12-22 07:13:59] ax.early_stopping.strategies.percentile: Early stopping decision for 10: False. Reason: Trial objective value 0.9625612090624586 is better than 70.0-th percentile (0.9614058559226453) across comparable trials.\n"
     ]
    },
    {
     "name": "stderr",
     "output_type": "stream",
     "text": [
      "[INFO 12-22 07:13:59] ax.early_stopping.strategies.percentile: Considering trial 14 for early stopping.\n"
     ]
    },
    {
     "name": "stderr",
     "output_type": "stream",
     "text": [
      "[INFO 12-22 07:13:59] ax.early_stopping.strategies.base: Last progression of Trial 14 is 0.29994666666666664.\n"
     ]
    },
    {
     "name": "stderr",
     "output_type": "stream",
     "text": [
      "[INFO 12-22 07:13:59] ax.early_stopping.strategies.base: Trial 14's most recent progression (0.29994666666666664) that is available for metric val_acc falls out of the min/max_progression range (0.3, None). Not early stopping this trial.\n"
     ]
    },
    {
     "name": "stderr",
     "output_type": "stream",
     "text": [
      "[INFO 12-22 07:13:59] Scheduler: Waiting for completed trials (for 10 sec, currently running trials: 2).\n"
     ]
    },
    {
     "name": "stderr",
     "output_type": "stream",
     "text": [
      "[INFO 12-22 07:14:09] Scheduler: Retrieved COMPLETED trials: [10].\n"
     ]
    },
    {
     "name": "stderr",
     "output_type": "stream",
     "text": [
      "/tmp/tmp.rbKmWnPBQH/Ax-main/ax/core/map_data.py:200: FutureWarning: The behavior of DataFrame concatenation with empty or all-NA entries is deprecated. In a future version, this will no longer exclude empty or all-NA columns when determining the result dtypes. To retain the old behavior, exclude the relevant entries before the concat operation.\n",
      "  df = pd.concat(\n",
      "/tmp/tmp.rbKmWnPBQH/Ax-main/ax/core/map_data.py:200: FutureWarning: The behavior of DataFrame concatenation with empty or all-NA entries is deprecated. In a future version, this will no longer exclude empty or all-NA columns when determining the result dtypes. To retain the old behavior, exclude the relevant entries before the concat operation.\n",
      "  df = pd.concat(\n",
      "[INFO 12-22 07:14:09] ax.early_stopping.strategies.base: Last progression of any candidate for trial stopping is 0.29994666666666664.\n"
     ]
    },
    {
     "name": "stderr",
     "output_type": "stream",
     "text": [
      "[INFO 12-22 07:14:09] ax.early_stopping.strategies.base: No trials have reached 0.3. Not stopping any trials.\n"
     ]
    },
    {
     "name": "stderr",
     "output_type": "stream",
     "text": [
      "[WARNING 12-22 07:14:09] Scheduler: Both `init_seconds_between_polls` and `early_stopping_strategy supplied. `init_seconds_between_polls=1` will be overrridden by `early_stopping_strategy.seconds_between_polls=10` and polling will take place at a constant rate.\n"
     ]
    },
    {
     "name": "stderr",
     "output_type": "stream",
     "text": [
      "/tmp/tmp.rbKmWnPBQH/Ax-main/ax/core/map_data.py:200: FutureWarning: The behavior of DataFrame concatenation with empty or all-NA entries is deprecated. In a future version, this will no longer exclude empty or all-NA columns when determining the result dtypes. To retain the old behavior, exclude the relevant entries before the concat operation.\n",
      "  df = pd.concat(\n",
      "/tmp/tmp.rbKmWnPBQH/Ax-main/ax/core/map_data.py:200: FutureWarning: The behavior of DataFrame concatenation with empty or all-NA entries is deprecated. In a future version, this will no longer exclude empty or all-NA columns when determining the result dtypes. To retain the old behavior, exclude the relevant entries before the concat operation.\n",
      "  df = pd.concat(\n",
      "[INFO 12-22 07:14:09] ax.early_stopping.strategies.base: Last progression of any candidate for trial stopping is 0.29994666666666664.\n"
     ]
    },
    {
     "name": "stderr",
     "output_type": "stream",
     "text": [
      "[INFO 12-22 07:14:09] ax.early_stopping.strategies.base: No trials have reached 0.3. Not stopping any trials.\n"
     ]
    },
    {
     "name": "stderr",
     "output_type": "stream",
     "text": [
      "[INFO 12-22 07:14:09] Scheduler: Waiting for completed trials (for 10 sec, currently running trials: 1).\n"
     ]
    },
    {
     "name": "stderr",
     "output_type": "stream",
     "text": [
      "/tmp/tmp.rbKmWnPBQH/Ax-main/ax/core/map_data.py:200: FutureWarning: The behavior of DataFrame concatenation with empty or all-NA entries is deprecated. In a future version, this will no longer exclude empty or all-NA columns when determining the result dtypes. To retain the old behavior, exclude the relevant entries before the concat operation.\n",
      "  df = pd.concat(\n",
      "/tmp/tmp.rbKmWnPBQH/Ax-main/ax/core/map_data.py:200: FutureWarning: The behavior of DataFrame concatenation with empty or all-NA entries is deprecated. In a future version, this will no longer exclude empty or all-NA columns when determining the result dtypes. To retain the old behavior, exclude the relevant entries before the concat operation.\n",
      "  df = pd.concat(\n",
      "[INFO 12-22 07:14:19] ax.early_stopping.strategies.base: Last progression of any candidate for trial stopping is 0.3999466666666667.\n"
     ]
    },
    {
     "name": "stderr",
     "output_type": "stream",
     "text": [
      "[INFO 12-22 07:14:19] ax.early_stopping.strategies.percentile: Considering trial 14 for early stopping.\n"
     ]
    },
    {
     "name": "stderr",
     "output_type": "stream",
     "text": [
      "[INFO 12-22 07:14:19] ax.early_stopping.strategies.base: Last progression of Trial 14 is 0.3999466666666667.\n"
     ]
    },
    {
     "name": "stderr",
     "output_type": "stream",
     "text": [
      "[INFO 12-22 07:14:19] ax.early_stopping.strategies.percentile: Early stopping objective at last progression is:\n",
      "2     0.950124\n",
      "3     0.923434\n",
      "4     0.904314\n",
      "5     0.942822\n",
      "6     0.956270\n",
      "7     0.914413\n",
      "8     0.935924\n",
      "9     0.942847\n",
      "10    0.952262\n",
      "11    0.936989\n",
      "12    0.944841\n",
      "13    0.936499\n",
      "14    0.943512\n",
      "Name: 0.3999466666666667, dtype: float64.\n"
     ]
    },
    {
     "name": "stderr",
     "output_type": "stream",
     "text": [
      "[INFO 12-22 07:14:19] ax.early_stopping.strategies.percentile: Early stopping decision for 14: True. Reason: Trial objective value 0.9435116830717754 is worse than 70.0-th percentile (0.9440434374245517) across comparable trials.\n"
     ]
    },
    {
     "name": "stderr",
     "output_type": "stream",
     "text": [
      "[WARNING 12-22 07:14:20] Scheduler: Both `init_seconds_between_polls` and `early_stopping_strategy supplied. `init_seconds_between_polls=1` will be overrridden by `early_stopping_strategy.seconds_between_polls=10` and polling will take place at a constant rate.\n"
     ]
    },
    {
     "name": "stdout",
     "output_type": "stream",
     "text": [
      "CPU times: user 46 s, sys: 1.26 s, total: 47.3 s\n",
      "Wall time: 30min 51s\n"
     ]
    },
    {
     "data": {
      "text/plain": [
       "OptimizationResult()"
      ]
     },
     "execution_count": 14,
     "metadata": {},
     "output_type": "execute_result"
    }
   ],
   "source": [
    "%%time\n",
    "scheduler.run_all_trials()"
   ]
  },
  {
   "attachments": {},
   "cell_type": "markdown",
   "id": "8c5afbe8",
   "metadata": {
    "papermill": {
     "duration": 0.054754,
     "end_time": "2024-12-22T07:14:20.557625",
     "exception": false,
     "start_time": "2024-12-22T07:14:20.502871",
     "status": "completed"
    },
    "tags": []
   },
   "source": [
    "## Results\n",
    "\n",
    "First, we examine the data stored on the experiment. This shows that each trial is associated with an entire learning curve, represented by the column \"steps\"."
   ]
  },
  {
   "cell_type": "code",
   "execution_count": 15,
   "id": "764365f0",
   "metadata": {
    "execution": {
     "iopub.execute_input": "2024-12-22T07:14:20.669353Z",
     "iopub.status.busy": "2024-12-22T07:14:20.669044Z",
     "iopub.status.idle": "2024-12-22T07:14:20.687291Z",
     "shell.execute_reply": "2024-12-22T07:14:20.686701Z"
    },
    "papermill": {
     "duration": 0.075539,
     "end_time": "2024-12-22T07:14:20.688533",
     "exception": false,
     "start_time": "2024-12-22T07:14:20.612994",
     "status": "completed"
    },
    "tags": []
   },
   "outputs": [
    {
     "name": "stderr",
     "output_type": "stream",
     "text": [
      "/tmp/tmp.rbKmWnPBQH/Ax-main/ax/core/map_data.py:200: FutureWarning: The behavior of DataFrame concatenation with empty or all-NA entries is deprecated. In a future version, this will no longer exclude empty or all-NA columns when determining the result dtypes. To retain the old behavior, exclude the relevant entries before the concat operation.\n",
      "  df = pd.concat(\n"
     ]
    },
    {
     "data": {
      "text/html": [
       "<div>\n",
       "<style scoped>\n",
       "    .dataframe tbody tr th:only-of-type {\n",
       "        vertical-align: middle;\n",
       "    }\n",
       "\n",
       "    .dataframe tbody tr th {\n",
       "        vertical-align: top;\n",
       "    }\n",
       "\n",
       "    .dataframe thead th {\n",
       "        text-align: right;\n",
       "    }\n",
       "</style>\n",
       "<table border=\"1\" class=\"dataframe\">\n",
       "  <thead>\n",
       "    <tr style=\"text-align: right;\">\n",
       "      <th></th>\n",
       "      <th>arm_name</th>\n",
       "      <th>metric_name</th>\n",
       "      <th>mean</th>\n",
       "      <th>sem</th>\n",
       "      <th>trial_index</th>\n",
       "      <th>step</th>\n",
       "    </tr>\n",
       "  </thead>\n",
       "  <tbody>\n",
       "    <tr>\n",
       "      <th>0</th>\n",
       "      <td>2_0</td>\n",
       "      <td>val_acc</td>\n",
       "      <td>0.922070</td>\n",
       "      <td>NaN</td>\n",
       "      <td>2</td>\n",
       "      <td>1874.0</td>\n",
       "    </tr>\n",
       "    <tr>\n",
       "      <th>1</th>\n",
       "      <td>2_0</td>\n",
       "      <td>val_acc</td>\n",
       "      <td>0.937541</td>\n",
       "      <td>NaN</td>\n",
       "      <td>2</td>\n",
       "      <td>3749.0</td>\n",
       "    </tr>\n",
       "    <tr>\n",
       "      <th>2</th>\n",
       "      <td>2_0</td>\n",
       "      <td>val_acc</td>\n",
       "      <td>0.944678</td>\n",
       "      <td>NaN</td>\n",
       "      <td>2</td>\n",
       "      <td>5624.0</td>\n",
       "    </tr>\n",
       "    <tr>\n",
       "      <th>3</th>\n",
       "      <td>2_0</td>\n",
       "      <td>val_acc</td>\n",
       "      <td>0.950124</td>\n",
       "      <td>NaN</td>\n",
       "      <td>2</td>\n",
       "      <td>7499.0</td>\n",
       "    </tr>\n",
       "    <tr>\n",
       "      <th>4</th>\n",
       "      <td>2_0</td>\n",
       "      <td>val_acc</td>\n",
       "      <td>0.954273</td>\n",
       "      <td>NaN</td>\n",
       "      <td>2</td>\n",
       "      <td>9374.0</td>\n",
       "    </tr>\n",
       "    <tr>\n",
       "      <th>5</th>\n",
       "      <td>2_0</td>\n",
       "      <td>val_acc</td>\n",
       "      <td>0.956333</td>\n",
       "      <td>NaN</td>\n",
       "      <td>2</td>\n",
       "      <td>11249.0</td>\n",
       "    </tr>\n",
       "    <tr>\n",
       "      <th>6</th>\n",
       "      <td>2_0</td>\n",
       "      <td>val_acc</td>\n",
       "      <td>0.959704</td>\n",
       "      <td>NaN</td>\n",
       "      <td>2</td>\n",
       "      <td>13124.0</td>\n",
       "    </tr>\n",
       "    <tr>\n",
       "      <th>7</th>\n",
       "      <td>2_0</td>\n",
       "      <td>val_acc</td>\n",
       "      <td>0.959553</td>\n",
       "      <td>NaN</td>\n",
       "      <td>2</td>\n",
       "      <td>14999.0</td>\n",
       "    </tr>\n",
       "    <tr>\n",
       "      <th>8</th>\n",
       "      <td>2_0</td>\n",
       "      <td>val_acc</td>\n",
       "      <td>0.960153</td>\n",
       "      <td>NaN</td>\n",
       "      <td>2</td>\n",
       "      <td>16874.0</td>\n",
       "    </tr>\n",
       "    <tr>\n",
       "      <th>9</th>\n",
       "      <td>2_0</td>\n",
       "      <td>val_acc</td>\n",
       "      <td>0.963236</td>\n",
       "      <td>NaN</td>\n",
       "      <td>2</td>\n",
       "      <td>18749.0</td>\n",
       "    </tr>\n",
       "  </tbody>\n",
       "</table>\n",
       "</div>"
      ],
      "text/plain": [
       "  arm_name metric_name      mean  sem  trial_index     step\n",
       "0      2_0     val_acc  0.922070  NaN            2   1874.0\n",
       "1      2_0     val_acc  0.937541  NaN            2   3749.0\n",
       "2      2_0     val_acc  0.944678  NaN            2   5624.0\n",
       "3      2_0     val_acc  0.950124  NaN            2   7499.0\n",
       "4      2_0     val_acc  0.954273  NaN            2   9374.0\n",
       "5      2_0     val_acc  0.956333  NaN            2  11249.0\n",
       "6      2_0     val_acc  0.959704  NaN            2  13124.0\n",
       "7      2_0     val_acc  0.959553  NaN            2  14999.0\n",
       "8      2_0     val_acc  0.960153  NaN            2  16874.0\n",
       "9      2_0     val_acc  0.963236  NaN            2  18749.0"
      ]
     },
     "execution_count": 15,
     "metadata": {},
     "output_type": "execute_result"
    }
   ],
   "source": [
    "experiment.lookup_data().map_df.head(n=10)"
   ]
  },
  {
   "attachments": {},
   "cell_type": "markdown",
   "id": "0033ed2e",
   "metadata": {
    "papermill": {
     "duration": 0.055441,
     "end_time": "2024-12-22T07:14:20.799441",
     "exception": false,
     "start_time": "2024-12-22T07:14:20.744000",
     "status": "completed"
    },
    "tags": []
   },
   "source": [
    "Below is a summary of the experiment, showing that a portion of trials have been early stopped."
   ]
  },
  {
   "cell_type": "code",
   "execution_count": 16,
   "id": "00f2b35f",
   "metadata": {
    "execution": {
     "iopub.execute_input": "2024-12-22T07:14:20.911116Z",
     "iopub.status.busy": "2024-12-22T07:14:20.910750Z",
     "iopub.status.idle": "2024-12-22T07:14:20.938960Z",
     "shell.execute_reply": "2024-12-22T07:14:20.938379Z"
    },
    "papermill": {
     "duration": 0.084921,
     "end_time": "2024-12-22T07:14:20.940150",
     "exception": false,
     "start_time": "2024-12-22T07:14:20.855229",
     "status": "completed"
    },
    "tags": []
   },
   "outputs": [
    {
     "name": "stderr",
     "output_type": "stream",
     "text": [
      "/tmp/tmp.rbKmWnPBQH/Ax-main/ax/core/map_data.py:200: FutureWarning: The behavior of DataFrame concatenation with empty or all-NA entries is deprecated. In a future version, this will no longer exclude empty or all-NA columns when determining the result dtypes. To retain the old behavior, exclude the relevant entries before the concat operation.\n",
      "  df = pd.concat(\n"
     ]
    },
    {
     "data": {
      "text/html": [
       "<div>\n",
       "<style scoped>\n",
       "    .dataframe tbody tr th:only-of-type {\n",
       "        vertical-align: middle;\n",
       "    }\n",
       "\n",
       "    .dataframe tbody tr th {\n",
       "        vertical-align: top;\n",
       "    }\n",
       "\n",
       "    .dataframe thead th {\n",
       "        text-align: right;\n",
       "    }\n",
       "</style>\n",
       "<table border=\"1\" class=\"dataframe\">\n",
       "  <thead>\n",
       "    <tr style=\"text-align: right;\">\n",
       "      <th></th>\n",
       "      <th>trial_index</th>\n",
       "      <th>arm_name</th>\n",
       "      <th>trial_status</th>\n",
       "      <th>generation_method</th>\n",
       "      <th>val_acc</th>\n",
       "      <th>hidden_size_1</th>\n",
       "      <th>hidden_size_2</th>\n",
       "      <th>learning_rate</th>\n",
       "      <th>dropout</th>\n",
       "    </tr>\n",
       "  </thead>\n",
       "  <tbody>\n",
       "    <tr>\n",
       "      <th>0</th>\n",
       "      <td>0</td>\n",
       "      <td>0_0</td>\n",
       "      <td>FAILED</td>\n",
       "      <td>Sobol</td>\n",
       "      <td>NaN</td>\n",
       "      <td>44</td>\n",
       "      <td>69</td>\n",
       "      <td>0.000102</td>\n",
       "      <td>0.370132</td>\n",
       "    </tr>\n",
       "    <tr>\n",
       "      <th>1</th>\n",
       "      <td>1</td>\n",
       "      <td>1_0</td>\n",
       "      <td>FAILED</td>\n",
       "      <td>Sobol</td>\n",
       "      <td>NaN</td>\n",
       "      <td>62</td>\n",
       "      <td>26</td>\n",
       "      <td>0.007192</td>\n",
       "      <td>0.240725</td>\n",
       "    </tr>\n",
       "    <tr>\n",
       "      <th>2</th>\n",
       "      <td>2</td>\n",
       "      <td>2_0</td>\n",
       "      <td>COMPLETED</td>\n",
       "      <td>Sobol</td>\n",
       "      <td>0.964468</td>\n",
       "      <td>85</td>\n",
       "      <td>86</td>\n",
       "      <td>0.000496</td>\n",
       "      <td>0.425368</td>\n",
       "    </tr>\n",
       "    <tr>\n",
       "      <th>3</th>\n",
       "      <td>3</td>\n",
       "      <td>3_0</td>\n",
       "      <td>COMPLETED</td>\n",
       "      <td>Sobol</td>\n",
       "      <td>0.926950</td>\n",
       "      <td>19</td>\n",
       "      <td>28</td>\n",
       "      <td>0.002636</td>\n",
       "      <td>0.060611</td>\n",
       "    </tr>\n",
       "    <tr>\n",
       "      <th>4</th>\n",
       "      <td>4</td>\n",
       "      <td>4_0</td>\n",
       "      <td>COMPLETED</td>\n",
       "      <td>Sobol</td>\n",
       "      <td>0.878632</td>\n",
       "      <td>23</td>\n",
       "      <td>108</td>\n",
       "      <td>0.005232</td>\n",
       "      <td>0.099429</td>\n",
       "    </tr>\n",
       "    <tr>\n",
       "      <th>5</th>\n",
       "      <td>5</td>\n",
       "      <td>5_0</td>\n",
       "      <td>COMPLETED</td>\n",
       "      <td>Sobol</td>\n",
       "      <td>0.960839</td>\n",
       "      <td>121</td>\n",
       "      <td>35</td>\n",
       "      <td>0.000269</td>\n",
       "      <td>0.476882</td>\n",
       "    </tr>\n",
       "    <tr>\n",
       "      <th>6</th>\n",
       "      <td>6</td>\n",
       "      <td>6_0</td>\n",
       "      <td>COMPLETED</td>\n",
       "      <td>Sobol</td>\n",
       "      <td>0.966724</td>\n",
       "      <td>57</td>\n",
       "      <td>51</td>\n",
       "      <td>0.001069</td>\n",
       "      <td>0.169192</td>\n",
       "    </tr>\n",
       "    <tr>\n",
       "      <th>7</th>\n",
       "      <td>7</td>\n",
       "      <td>7_0</td>\n",
       "      <td>EARLY_STOPPED</td>\n",
       "      <td>BoTorch</td>\n",
       "      <td>0.914413</td>\n",
       "      <td>49</td>\n",
       "      <td>128</td>\n",
       "      <td>0.000100</td>\n",
       "      <td>0.500000</td>\n",
       "    </tr>\n",
       "    <tr>\n",
       "      <th>8</th>\n",
       "      <td>8</td>\n",
       "      <td>8_0</td>\n",
       "      <td>EARLY_STOPPED</td>\n",
       "      <td>BoTorch</td>\n",
       "      <td>0.935924</td>\n",
       "      <td>128</td>\n",
       "      <td>62</td>\n",
       "      <td>0.002900</td>\n",
       "      <td>0.500000</td>\n",
       "    </tr>\n",
       "    <tr>\n",
       "      <th>9</th>\n",
       "      <td>9</td>\n",
       "      <td>9_0</td>\n",
       "      <td>EARLY_STOPPED</td>\n",
       "      <td>BoTorch</td>\n",
       "      <td>0.949727</td>\n",
       "      <td>128</td>\n",
       "      <td>93</td>\n",
       "      <td>0.000100</td>\n",
       "      <td>0.305992</td>\n",
       "    </tr>\n",
       "    <tr>\n",
       "      <th>10</th>\n",
       "      <td>10</td>\n",
       "      <td>10_0</td>\n",
       "      <td>COMPLETED</td>\n",
       "      <td>BoTorch</td>\n",
       "      <td>0.965567</td>\n",
       "      <td>54</td>\n",
       "      <td>16</td>\n",
       "      <td>0.000616</td>\n",
       "      <td>0.152881</td>\n",
       "    </tr>\n",
       "    <tr>\n",
       "      <th>11</th>\n",
       "      <td>11</td>\n",
       "      <td>11_0</td>\n",
       "      <td>EARLY_STOPPED</td>\n",
       "      <td>BoTorch</td>\n",
       "      <td>0.936989</td>\n",
       "      <td>128</td>\n",
       "      <td>16</td>\n",
       "      <td>0.000920</td>\n",
       "      <td>0.500000</td>\n",
       "    </tr>\n",
       "    <tr>\n",
       "      <th>12</th>\n",
       "      <td>12</td>\n",
       "      <td>12_0</td>\n",
       "      <td>EARLY_STOPPED</td>\n",
       "      <td>BoTorch</td>\n",
       "      <td>0.950814</td>\n",
       "      <td>21</td>\n",
       "      <td>60</td>\n",
       "      <td>0.000465</td>\n",
       "      <td>0.000000</td>\n",
       "    </tr>\n",
       "    <tr>\n",
       "      <th>13</th>\n",
       "      <td>13</td>\n",
       "      <td>13_0</td>\n",
       "      <td>EARLY_STOPPED</td>\n",
       "      <td>BoTorch</td>\n",
       "      <td>0.936499</td>\n",
       "      <td>128</td>\n",
       "      <td>16</td>\n",
       "      <td>0.000961</td>\n",
       "      <td>0.500000</td>\n",
       "    </tr>\n",
       "    <tr>\n",
       "      <th>14</th>\n",
       "      <td>14</td>\n",
       "      <td>14_0</td>\n",
       "      <td>EARLY_STOPPED</td>\n",
       "      <td>BoTorch</td>\n",
       "      <td>0.943512</td>\n",
       "      <td>22</td>\n",
       "      <td>64</td>\n",
       "      <td>0.000465</td>\n",
       "      <td>0.000000</td>\n",
       "    </tr>\n",
       "  </tbody>\n",
       "</table>\n",
       "</div>"
      ],
      "text/plain": [
       "    trial_index arm_name   trial_status generation_method   val_acc  \\\n",
       "0             0      0_0         FAILED             Sobol       NaN   \n",
       "1             1      1_0         FAILED             Sobol       NaN   \n",
       "2             2      2_0      COMPLETED             Sobol  0.964468   \n",
       "3             3      3_0      COMPLETED             Sobol  0.926950   \n",
       "4             4      4_0      COMPLETED             Sobol  0.878632   \n",
       "5             5      5_0      COMPLETED             Sobol  0.960839   \n",
       "6             6      6_0      COMPLETED             Sobol  0.966724   \n",
       "7             7      7_0  EARLY_STOPPED           BoTorch  0.914413   \n",
       "8             8      8_0  EARLY_STOPPED           BoTorch  0.935924   \n",
       "9             9      9_0  EARLY_STOPPED           BoTorch  0.949727   \n",
       "10           10     10_0      COMPLETED           BoTorch  0.965567   \n",
       "11           11     11_0  EARLY_STOPPED           BoTorch  0.936989   \n",
       "12           12     12_0  EARLY_STOPPED           BoTorch  0.950814   \n",
       "13           13     13_0  EARLY_STOPPED           BoTorch  0.936499   \n",
       "14           14     14_0  EARLY_STOPPED           BoTorch  0.943512   \n",
       "\n",
       "    hidden_size_1  hidden_size_2  learning_rate   dropout  \n",
       "0              44             69       0.000102  0.370132  \n",
       "1              62             26       0.007192  0.240725  \n",
       "2              85             86       0.000496  0.425368  \n",
       "3              19             28       0.002636  0.060611  \n",
       "4              23            108       0.005232  0.099429  \n",
       "5             121             35       0.000269  0.476882  \n",
       "6              57             51       0.001069  0.169192  \n",
       "7              49            128       0.000100  0.500000  \n",
       "8             128             62       0.002900  0.500000  \n",
       "9             128             93       0.000100  0.305992  \n",
       "10             54             16       0.000616  0.152881  \n",
       "11            128             16       0.000920  0.500000  \n",
       "12             21             60       0.000465  0.000000  \n",
       "13            128             16       0.000961  0.500000  \n",
       "14             22             64       0.000465  0.000000  "
      ]
     },
     "execution_count": 16,
     "metadata": {},
     "output_type": "execute_result"
    }
   ],
   "source": [
    "exp_to_df(experiment)"
   ]
  },
  {
   "attachments": {},
   "cell_type": "markdown",
   "id": "f8909cf2",
   "metadata": {
    "papermill": {
     "duration": 0.055184,
     "end_time": "2024-12-22T07:14:21.051291",
     "exception": false,
     "start_time": "2024-12-22T07:14:20.996107",
     "status": "completed"
    },
    "tags": []
   },
   "source": [
    "We can give a very rough estimate of the amount of computational savings due to early stopping, by looking at the total number of steps used when early stopping is used versus the number of steps used if we ran all trials to completion. Note to do a true comparison, one should run full HPO loops with and without early stopping (as early stopping will influence the model and future points selected by the generation strategy). "
   ]
  },
  {
   "cell_type": "code",
   "execution_count": 17,
   "id": "5abb3ce8",
   "metadata": {
    "execution": {
     "iopub.execute_input": "2024-12-22T07:14:21.163660Z",
     "iopub.status.busy": "2024-12-22T07:14:21.163113Z",
     "iopub.status.idle": "2024-12-22T07:14:21.177110Z",
     "shell.execute_reply": "2024-12-22T07:14:21.176471Z"
    },
    "papermill": {
     "duration": 0.07138,
     "end_time": "2024-12-22T07:14:21.178314",
     "exception": false,
     "start_time": "2024-12-22T07:14:21.106934",
     "status": "completed"
    },
    "tags": []
   },
   "outputs": [
    {
     "name": "stdout",
     "output_type": "stream",
     "text": [
      "A rough estimate of the computational savings is 30.772102564102568%.\n"
     ]
    },
    {
     "name": "stderr",
     "output_type": "stream",
     "text": [
      "/tmp/tmp.rbKmWnPBQH/Ax-main/ax/core/map_data.py:200: FutureWarning: The behavior of DataFrame concatenation with empty or all-NA entries is deprecated. In a future version, this will no longer exclude empty or all-NA columns when determining the result dtypes. To retain the old behavior, exclude the relevant entries before the concat operation.\n",
      "  df = pd.concat(\n"
     ]
    }
   ],
   "source": [
    "map_df = experiment.lookup_data().map_df\n",
    "trial_to_max_steps = map_df.groupby(\"trial_index\")[\"step\"].max()\n",
    "completed_trial_steps = trial_to_max_steps.iloc[0]\n",
    "savings = 1.0 - trial_to_max_steps.sum() / (\n",
    "    completed_trial_steps * len(trial_to_max_steps)\n",
    ")\n",
    "# TODO format nicer\n",
    "print(f\"A rough estimate of the computational savings is {100 * savings}%.\")"
   ]
  },
  {
   "attachments": {},
   "cell_type": "markdown",
   "id": "37df6964",
   "metadata": {
    "papermill": {
     "duration": 0.055491,
     "end_time": "2024-12-22T07:14:21.290673",
     "exception": false,
     "start_time": "2024-12-22T07:14:21.235182",
     "status": "completed"
    },
    "tags": []
   },
   "source": [
    "## Visualizations\n",
    "\n",
    "Finally, we show a visualization of learning curves versus actual elapsed wall time. This helps to illustrate that stopped trials make room for additional trials to be run."
   ]
  },
  {
   "cell_type": "code",
   "execution_count": 18,
   "id": "c88cb8d0",
   "metadata": {
    "execution": {
     "iopub.execute_input": "2024-12-22T07:14:21.403874Z",
     "iopub.status.busy": "2024-12-22T07:14:21.403299Z",
     "iopub.status.idle": "2024-12-22T07:14:21.410637Z",
     "shell.execute_reply": "2024-12-22T07:14:21.410114Z"
    },
    "papermill": {
     "duration": 0.0653,
     "end_time": "2024-12-22T07:14:21.411896",
     "exception": false,
     "start_time": "2024-12-22T07:14:21.346596",
     "status": "completed"
    },
    "tags": []
   },
   "outputs": [],
   "source": [
    "# helper function for getting trial start times\n",
    "def time_started(row):\n",
    "    trial_index = row[\"trial_index\"]\n",
    "    return experiment.trials[trial_index].time_run_started\n",
    "\n",
    "\n",
    "# helper function for getting trial completion times\n",
    "def time_completed(row):\n",
    "    trial_index = row[\"trial_index\"]\n",
    "    return experiment.trials[trial_index].time_completed\n",
    "\n",
    "\n",
    "# helper function for getting relevant data from experiment\n",
    "# with early stopping into useful dfs\n",
    "def early_stopping_exp_to_df(experiment):\n",
    "    trials_df = exp_to_df(experiment)\n",
    "    curve_df = experiment.lookup_data().map_df\n",
    "    training_row_df = (\n",
    "        curve_df.groupby(\"trial_index\").max().reset_index()[[\"trial_index\", \"steps\"]]\n",
    "    )\n",
    "    trials_df = trials_df.merge(training_row_df, on=\"trial_index\")\n",
    "    trials_df[\"time_started\"] = trials_df.apply(func=time_started, axis=1)\n",
    "    trials_df[\"time_completed\"] = trials_df.apply(func=time_completed, axis=1)\n",
    "    start_time = trials_df[\"time_started\"].min()\n",
    "    trials_df[\"time_started_rel\"] = (\n",
    "        trials_df[\"time_started\"] - start_time\n",
    "    ).dt.total_seconds()\n",
    "    trials_df[\"time_completed_rel\"] = (\n",
    "        trials_df[\"time_completed\"] - start_time\n",
    "    ).dt.total_seconds()\n",
    "    return trials_df, curve_df\n",
    "\n",
    "\n",
    "def plot_curves_by_wall_time(trials_df, curve_df):\n",
    "    trials = set(curve_df[\"trial_index\"])\n",
    "    fig, ax = plt.subplots(1, 1, figsize=(10, 6))\n",
    "    ax.set(xlabel=\"seconds since start\", ylabel=\"validation accuracy\")\n",
    "    for trial_index in trials:\n",
    "        this_trial_df = curve_df[curve_df[\"trial_index\"] == trial_index]\n",
    "        start_time_rel = trials_df[\"time_started_rel\"].iloc[trial_index]\n",
    "        completed_time_rel = trials_df[\"time_completed_rel\"].iloc[trial_index]\n",
    "        total_steps = trials_df.loc[trial_index, \"steps\"]\n",
    "        smoothed_curve = this_trial_df[\"mean\"].rolling(window=3).mean()\n",
    "        x = (\n",
    "            start_time_rel\n",
    "            + (completed_time_rel - start_time_rel)\n",
    "            / total_steps\n",
    "            * this_trial_df[\"steps\"]\n",
    "        )\n",
    "        ax.plot(\n",
    "            x,\n",
    "            smoothed_curve,\n",
    "            label=f\"trial #{trial_index}\" if trial_index % 2 == 1 else None,\n",
    "        )\n",
    "    ax.legend()"
   ]
  },
  {
   "cell_type": "code",
   "execution_count": 19,
   "id": "d7f52fed",
   "metadata": {
    "execution": {
     "iopub.execute_input": "2024-12-22T07:14:21.524784Z",
     "iopub.status.busy": "2024-12-22T07:14:21.524414Z",
     "iopub.status.idle": "2024-12-22T07:14:21.555795Z",
     "shell.execute_reply": "2024-12-22T07:14:21.555157Z"
    },
    "papermill": {
     "duration": 0.088994,
     "end_time": "2024-12-22T07:14:21.557118",
     "exception": false,
     "start_time": "2024-12-22T07:14:21.468124",
     "status": "completed"
    },
    "tags": []
   },
   "outputs": [
    {
     "name": "stdout",
     "output_type": "stream",
     "text": [
      "Encountered exception while plotting results: \"['steps'] not in index\"\n"
     ]
    },
    {
     "name": "stderr",
     "output_type": "stream",
     "text": [
      "/tmp/tmp.rbKmWnPBQH/Ax-main/ax/core/map_data.py:200: FutureWarning: The behavior of DataFrame concatenation with empty or all-NA entries is deprecated. In a future version, this will no longer exclude empty or all-NA columns when determining the result dtypes. To retain the old behavior, exclude the relevant entries before the concat operation.\n",
      "  df = pd.concat(\n",
      "/tmp/tmp.rbKmWnPBQH/Ax-main/ax/core/map_data.py:200: FutureWarning: The behavior of DataFrame concatenation with empty or all-NA entries is deprecated. In a future version, this will no longer exclude empty or all-NA columns when determining the result dtypes. To retain the old behavior, exclude the relevant entries before the concat operation.\n",
      "  df = pd.concat(\n"
     ]
    }
   ],
   "source": [
    "# wrap in try/except in case of flaky I/O issues\n",
    "try:\n",
    "    trials_df, curve_df = early_stopping_exp_to_df(experiment)\n",
    "    plot_curves_by_wall_time(trials_df, curve_df)\n",
    "except Exception as e:\n",
    "    print(f\"Encountered exception while plotting results: {e}\")"
   ]
  },
  {
   "cell_type": "code",
   "execution_count": null,
   "id": "193e2fc7",
   "metadata": {
    "papermill": {
     "duration": 0.055373,
     "end_time": "2024-12-22T07:14:21.669092",
     "exception": false,
     "start_time": "2024-12-22T07:14:21.613719",
     "status": "completed"
    },
    "tags": []
   },
   "outputs": [],
   "source": []
  }
 ],
 "metadata": {
  "kernelspec": {
   "display_name": "Python 3 (ipykernel)",
   "language": "python",
   "name": "python3"
  },
  "language_info": {
   "codemirror_mode": {
    "name": "ipython",
    "version": 3
   },
   "file_extension": ".py",
   "mimetype": "text/x-python",
   "name": "python",
   "nbconvert_exporter": "python",
   "pygments_lexer": "ipython3",
   "version": "3.10.15"
  },
  "papermill": {
   "default_parameters": {},
   "duration": 1859.519864,
   "end_time": "2024-12-22T07:14:24.222249",
   "environment_variables": {},
   "exception": null,
   "input_path": "/tmp/tmp.rbKmWnPBQH/Ax-main/tutorials/early_stopping/early_stopping.ipynb",
   "output_path": "/tmp/tmp.rbKmWnPBQH/Ax-main/tutorials/early_stopping/early_stopping.ipynb",
   "parameters": {},
   "start_time": "2024-12-22T06:43:24.702385",
   "version": "2.6.0"
  }
 },
 "nbformat": 4,
 "nbformat_minor": 5
}
