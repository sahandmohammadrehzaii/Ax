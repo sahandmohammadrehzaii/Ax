{
 "cells": [
  {
   "cell_type": "markdown",
   "id": "54447022",
   "metadata": {
    "originalKey": "1f779465-f9cc-4b17-9b5a-5960cf602273",
    "papermill": {
     "duration": 0.003007,
     "end_time": "2024-12-22T05:33:44.135622",
     "exception": false,
     "start_time": "2024-12-22T05:33:44.132615",
     "status": "completed"
    },
    "tags": []
   },
   "source": [
    "# High-Dimensional Bayesian Optimization with SAASBO\n",
    "\n",
    "This tutorial shows how to use the Sparse Axis-Aligned Subspace Bayesian Optimization (SAASBO) method for high-dimensional Bayesian optimization [1]. SAASBO places strong priors on the inverse lengthscales to avoid overfitting in high-dimensional spaces. Specifically, SAASBO uses a hierarchical sparsity prior consisting of a global shrinkage parameter $\\tau \\sim \\mathcal{HC}(\\beta)$ and inverse lengthscales $\\rho_d \\sim \\mathcal{HC}(\\tau)$ for $d=1, ..., D$, where $\\mathcal{HC}$ is the half-Cauchy distribution. While half-Cauchy priors favor values near zero they also have heavy tails, which allows the inverse lengthscales of the most important parameters to escape zero. To do inference in the SAAS model we use Hamiltonian Monte Carlo (HMC) as we found that to outperform MAP inference.\n",
    "\n",
    "We find that SAASBO performs well on problems with hundreds of dimensions. As we rely on HMC and in particular the No-U-Turn-Sampler (NUTS) for inference, the overhead of SAASBO scales cubically with the number of datapoints. Depending on the problem, using more than $100$ evaluations may not be feasible as SAASBO is designed for problems with a limited evaluation budget.\n",
    "\n",
    "[1] D. Eriksson, M. Jankowiak. High-Dimensional Bayesian Optimization with Sparse Axis-Aligned Subspaces. Proceedings of the Thirty-Seventh Conference on Uncertainty in Artificial Intelligence, 2021."
   ]
  },
  {
   "cell_type": "code",
   "execution_count": 1,
   "id": "fa3367e9",
   "metadata": {
    "execution": {
     "iopub.execute_input": "2024-12-22T05:33:44.142059Z",
     "iopub.status.busy": "2024-12-22T05:33:44.141730Z",
     "iopub.status.idle": "2024-12-22T05:33:46.780034Z",
     "shell.execute_reply": "2024-12-22T05:33:46.779393Z"
    },
    "originalKey": "36a4c036-4075-4b15-87b2-a399c318f7b6",
    "papermill": {
     "duration": 2.643357,
     "end_time": "2024-12-22T05:33:46.781609",
     "exception": false,
     "start_time": "2024-12-22T05:33:44.138252",
     "status": "completed"
    },
    "tags": []
   },
   "outputs": [],
   "source": [
    "import os\n",
    "\n",
    "import matplotlib\n",
    "import matplotlib.pyplot as plt\n",
    "import numpy as np\n",
    "import torch\n",
    "\n",
    "from ax import Data, Experiment, ParameterType, RangeParameter, SearchSpace\n",
    "from ax.core.metric import Metric\n",
    "from ax.core.objective import Objective\n",
    "from ax.core.optimization_config import OptimizationConfig\n",
    "from ax.metrics.branin import BraninMetric\n",
    "from ax.modelbridge.cross_validation import cross_validate\n",
    "from ax.modelbridge.registry import Models\n",
    "from ax.models.torch.botorch_modular.surrogate import Surrogate\n",
    "from ax.runners.synthetic import SyntheticRunner\n",
    "from botorch.models.fully_bayesian import SaasFullyBayesianSingleTaskGP"
   ]
  },
  {
   "cell_type": "code",
   "execution_count": 2,
   "id": "e393d6b6",
   "metadata": {
    "execution": {
     "iopub.execute_input": "2024-12-22T05:33:46.788430Z",
     "iopub.status.busy": "2024-12-22T05:33:46.787885Z",
     "iopub.status.idle": "2024-12-22T05:33:46.791232Z",
     "shell.execute_reply": "2024-12-22T05:33:46.790611Z"
    },
    "papermill": {
     "duration": 0.007955,
     "end_time": "2024-12-22T05:33:46.792465",
     "exception": false,
     "start_time": "2024-12-22T05:33:46.784510",
     "status": "completed"
    },
    "tags": []
   },
   "outputs": [],
   "source": [
    "SMOKE_TEST = os.environ.get(\"SMOKE_TEST\")"
   ]
  },
  {
   "cell_type": "code",
   "execution_count": 3,
   "id": "746de5e8",
   "metadata": {
    "execution": {
     "iopub.execute_input": "2024-12-22T05:33:46.798640Z",
     "iopub.status.busy": "2024-12-22T05:33:46.798298Z",
     "iopub.status.idle": "2024-12-22T05:33:46.802887Z",
     "shell.execute_reply": "2024-12-22T05:33:46.802398Z"
    },
    "originalKey": "08bf2c1e-5909-4bde-8829-0fb0d0a29a25",
    "papermill": {
     "duration": 0.009007,
     "end_time": "2024-12-22T05:33:46.804125",
     "exception": false,
     "start_time": "2024-12-22T05:33:46.795118",
     "status": "completed"
    },
    "tags": []
   },
   "outputs": [],
   "source": [
    "torch.manual_seed(12345)  # To always get the same Sobol points\n",
    "tkwargs = {\n",
    "    \"dtype\": torch.double,\n",
    "    \"device\": torch.device(\"cuda\" if torch.cuda.is_available() else \"cpu\"),\n",
    "}"
   ]
  },
  {
   "cell_type": "markdown",
   "id": "3b8235ae",
   "metadata": {
    "originalKey": "2f9bd4f6-87d6-42d9-b575-f92cf94de7b0",
    "papermill": {
     "duration": 0.002523,
     "end_time": "2024-12-22T05:33:46.809253",
     "exception": false,
     "start_time": "2024-12-22T05:33:46.806730",
     "status": "completed"
    },
    "tags": []
   },
   "source": [
    "## Setup search space and metric\n",
    "In this simple experiment we use the Branin function embedded in a 30-dimensional space. Additional resources:\n",
    "- To set up a custom metric for your problem, refer to the dedicated section of the Developer API tutorial: https://ax.dev/tutorials/gpei_hartmann_developer.html#8.-Defining-custom-metrics.\n",
    "- To avoid needing to setup up custom metrics by Ax Service API: https://ax.dev/tutorials/gpei_hartmann_service.html."
   ]
  },
  {
   "cell_type": "code",
   "execution_count": 4,
   "id": "ddeffc1f",
   "metadata": {
    "execution": {
     "iopub.execute_input": "2024-12-22T05:33:46.815490Z",
     "iopub.status.busy": "2024-12-22T05:33:46.815018Z",
     "iopub.status.idle": "2024-12-22T05:33:46.819857Z",
     "shell.execute_reply": "2024-12-22T05:33:46.819236Z"
    },
    "originalKey": "7697c80d-ab0c-4884-b4c7-c75d24a07e1a",
    "papermill": {
     "duration": 0.009354,
     "end_time": "2024-12-22T05:33:46.821146",
     "exception": false,
     "start_time": "2024-12-22T05:33:46.811792",
     "status": "completed"
    },
    "tags": []
   },
   "outputs": [],
   "source": [
    "search_space = SearchSpace(\n",
    "    parameters=[\n",
    "        RangeParameter(\n",
    "            name=f\"x{i}\", parameter_type=ParameterType.FLOAT, lower=-5.0, upper=10.0\n",
    "        )\n",
    "        for i in range(25)\n",
    "    ]\n",
    "    + [\n",
    "        RangeParameter(\n",
    "            name=f\"x{i + 25}\",\n",
    "            parameter_type=ParameterType.FLOAT,\n",
    "            lower=0.0,\n",
    "            upper=15.0,\n",
    "        )\n",
    "        for i in range(25)\n",
    "    ]\n",
    ")\n",
    "\n",
    "optimization_config = OptimizationConfig(\n",
    "    objective=Objective(\n",
    "        metric=BraninMetric(\n",
    "            name=\"objective\",\n",
    "            param_names=[\"x19\", \"x34\"],\n",
    "             # Set noise_sd=None if you want to learn the noise, set to 0.0 for no noise\n",
    "            noise_sd=1e-4, \n",
    "        ),\n",
    "        minimize=True,\n",
    "    )\n",
    ")"
   ]
  },
  {
   "cell_type": "markdown",
   "id": "1f047e27",
   "metadata": {
    "originalKey": "379571df-a141-48f7-84de-f75bc6e8e760",
    "papermill": {
     "duration": 0.002543,
     "end_time": "2024-12-22T05:33:46.826375",
     "exception": false,
     "start_time": "2024-12-22T05:33:46.823832",
     "status": "completed"
    },
    "tags": []
   },
   "source": [
    "## Run benchmark"
   ]
  },
  {
   "cell_type": "code",
   "execution_count": 5,
   "id": "87923ea2",
   "metadata": {
    "execution": {
     "iopub.execute_input": "2024-12-22T05:33:46.832579Z",
     "iopub.status.busy": "2024-12-22T05:33:46.832191Z",
     "iopub.status.idle": "2024-12-22T05:33:46.835753Z",
     "shell.execute_reply": "2024-12-22T05:33:46.835129Z"
    },
    "papermill": {
     "duration": 0.008097,
     "end_time": "2024-12-22T05:33:46.837068",
     "exception": false,
     "start_time": "2024-12-22T05:33:46.828971",
     "status": "completed"
    },
    "tags": []
   },
   "outputs": [
    {
     "name": "stdout",
     "output_type": "stream",
     "text": [
      "Doing 40 evaluations\n"
     ]
    }
   ],
   "source": [
    "N_INIT = 10\n",
    "BATCH_SIZE = 3\n",
    "N_BATCHES = 1 if SMOKE_TEST else 10\n",
    "\n",
    "print(f\"Doing {N_INIT + N_BATCHES * BATCH_SIZE} evaluations\")"
   ]
  },
  {
   "cell_type": "code",
   "execution_count": 6,
   "id": "7f71e693",
   "metadata": {
    "execution": {
     "iopub.execute_input": "2024-12-22T05:33:46.843474Z",
     "iopub.status.busy": "2024-12-22T05:33:46.843090Z",
     "iopub.status.idle": "2024-12-22T05:33:46.846370Z",
     "shell.execute_reply": "2024-12-22T05:33:46.845765Z"
    },
    "papermill": {
     "duration": 0.00783,
     "end_time": "2024-12-22T05:33:46.847616",
     "exception": false,
     "start_time": "2024-12-22T05:33:46.839786",
     "status": "completed"
    },
    "tags": []
   },
   "outputs": [],
   "source": [
    "# Experiment\n",
    "experiment = Experiment(\n",
    "    name=\"saasbo_experiment\",\n",
    "    search_space=search_space,\n",
    "    optimization_config=optimization_config,\n",
    "    runner=SyntheticRunner(),\n",
    ")"
   ]
  },
  {
   "cell_type": "code",
   "execution_count": 7,
   "id": "5e61ddb9",
   "metadata": {
    "execution": {
     "iopub.execute_input": "2024-12-22T05:33:46.854162Z",
     "iopub.status.busy": "2024-12-22T05:33:46.853811Z",
     "iopub.status.idle": "2024-12-22T05:33:46.884047Z",
     "shell.execute_reply": "2024-12-22T05:33:46.883403Z"
    },
    "papermill": {
     "duration": 0.034932,
     "end_time": "2024-12-22T05:33:46.885387",
     "exception": false,
     "start_time": "2024-12-22T05:33:46.850455",
     "status": "completed"
    },
    "tags": []
   },
   "outputs": [],
   "source": [
    "# Initial Sobol points\n",
    "sobol = Models.SOBOL(search_space=experiment.search_space)\n",
    "for _ in range(N_INIT):\n",
    "    experiment.new_trial(sobol.gen(1)).run()"
   ]
  },
  {
   "cell_type": "code",
   "execution_count": 8,
   "id": "1e0f0714",
   "metadata": {
    "execution": {
     "iopub.execute_input": "2024-12-22T05:33:46.892111Z",
     "iopub.status.busy": "2024-12-22T05:33:46.891756Z",
     "iopub.status.idle": "2024-12-22T05:59:05.963714Z",
     "shell.execute_reply": "2024-12-22T05:59:05.963029Z"
    },
    "originalKey": "bdfeea50-c4e6-4ff1-91ae-c8f6c3160d7c",
    "papermill": {
     "duration": 1519.079875,
     "end_time": "2024-12-22T05:59:05.968125",
     "exception": false,
     "start_time": "2024-12-22T05:33:46.888250",
     "status": "completed"
    },
    "tags": []
   },
   "outputs": [
    {
     "name": "stdout",
     "output_type": "stream",
     "text": [
      "Iteration: 0, Best in iteration 10.961, Best so far: 3.963\n"
     ]
    },
    {
     "name": "stdout",
     "output_type": "stream",
     "text": [
      "Iteration: 1, Best in iteration 6.059, Best so far: 3.963\n"
     ]
    },
    {
     "name": "stdout",
     "output_type": "stream",
     "text": [
      "Iteration: 2, Best in iteration 1.972, Best so far: 1.972\n"
     ]
    },
    {
     "name": "stdout",
     "output_type": "stream",
     "text": [
      "Iteration: 3, Best in iteration 5.195, Best so far: 1.972\n"
     ]
    },
    {
     "name": "stdout",
     "output_type": "stream",
     "text": [
      "Iteration: 4, Best in iteration 10.961, Best so far: 1.972\n"
     ]
    },
    {
     "name": "stdout",
     "output_type": "stream",
     "text": [
      "Iteration: 5, Best in iteration 2.755, Best so far: 1.972\n"
     ]
    },
    {
     "name": "stdout",
     "output_type": "stream",
     "text": [
      "Iteration: 6, Best in iteration 6.491, Best so far: 1.972\n"
     ]
    },
    {
     "name": "stdout",
     "output_type": "stream",
     "text": [
      "Iteration: 7, Best in iteration 0.758, Best so far: 0.758\n"
     ]
    },
    {
     "name": "stdout",
     "output_type": "stream",
     "text": [
      "Iteration: 8, Best in iteration 0.404, Best so far: 0.404\n"
     ]
    },
    {
     "name": "stdout",
     "output_type": "stream",
     "text": [
      "Iteration: 9, Best in iteration 0.406, Best so far: 0.404\n",
      "CPU times: user 50min 17s, sys: 19.7 s, total: 50min 37s\n",
      "Wall time: 25min 19s\n"
     ]
    }
   ],
   "source": [
    "%%time\n",
    "# Run SAASBO\n",
    "data = experiment.fetch_data()\n",
    "for i in range(N_BATCHES):\n",
    "    model = Models.SAASBO(experiment=experiment, data=data)\n",
    "    generator_run = model.gen(BATCH_SIZE)\n",
    "    trial = experiment.new_batch_trial(generator_run=generator_run)\n",
    "    trial.run()\n",
    "    data = Data.from_multiple_data([data, trial.fetch_data()])\n",
    "\n",
    "    new_value = trial.fetch_data().df[\"mean\"].min()\n",
    "    print(\n",
    "        f\"Iteration: {i}, Best in iteration {new_value:.3f}, Best so far: {data.df['mean'].min():.3f}\"\n",
    "    )"
   ]
  },
  {
   "cell_type": "markdown",
   "id": "e8629391",
   "metadata": {
    "papermill": {
     "duration": 0.003173,
     "end_time": "2024-12-22T05:59:05.974631",
     "exception": false,
     "start_time": "2024-12-22T05:59:05.971458",
     "status": "completed"
    },
    "tags": []
   },
   "source": [
    "## Plot results\n",
    "SAASBO is able to find a solution close to the global optimal value of 0.398"
   ]
  },
  {
   "cell_type": "code",
   "execution_count": 9,
   "id": "cafcfbbe",
   "metadata": {
    "execution": {
     "iopub.execute_input": "2024-12-22T05:59:05.982247Z",
     "iopub.status.busy": "2024-12-22T05:59:05.981786Z",
     "iopub.status.idle": "2024-12-22T05:59:06.162088Z",
     "shell.execute_reply": "2024-12-22T05:59:06.161422Z"
    },
    "originalKey": "5a9b9706-2653-4320-96f3-4bc9fe88bceb",
    "papermill": {
     "duration": 0.18563,
     "end_time": "2024-12-22T05:59:06.163461",
     "exception": false,
     "start_time": "2024-12-22T05:59:05.977831",
     "status": "completed"
    },
    "tags": []
   },
   "outputs": [
    {
     "data": {
      "image/png": "[encoded data removed]",
      "text/plain": [
       "<Figure size 800x600 with 1 Axes>"
      ]
     },
     "metadata": {},
     "output_type": "display_data"
    }
   ],
   "source": [
    "%matplotlib inline\n",
    "matplotlib.rcParams.update({\"font.size\": 16})\n",
    "\n",
    "\n",
    "fig, ax = plt.subplots(figsize=(8, 6))\n",
    "res_saasbo = data.df[\"mean\"]\n",
    "ax.plot(np.minimum.accumulate(res_saasbo), color=\"b\", label=\"SAASBO\")\n",
    "ax.plot([0, len(res_saasbo)], [0.398, 0.398], \"--\", c=\"g\", lw=3, label=\"Optimal value\")\n",
    "ax.grid(True)\n",
    "ax.set_title(\"Branin, D=50\", fontsize=20)\n",
    "ax.set_xlabel(\"Number of evaluations\", fontsize=20)\n",
    "ax.set_xlim([0, len(res_saasbo)])\n",
    "ax.set_ylabel(\"Best value found\", fontsize=20)\n",
    "ax.set_ylim([0, 8])\n",
    "ax.legend(fontsize=18)\n",
    "plt.show()"
   ]
  },
  {
   "cell_type": "markdown",
   "id": "c5f617dd",
   "metadata": {
    "papermill": {
     "duration": 0.003812,
     "end_time": "2024-12-22T05:59:06.171356",
     "exception": false,
     "start_time": "2024-12-22T05:59:06.167544",
     "status": "completed"
    },
    "tags": []
   },
   "source": [
    "## SAAS model fit"
   ]
  },
  {
   "cell_type": "markdown",
   "id": "c5f7cc74",
   "metadata": {
    "papermill": {
     "duration": 0.003644,
     "end_time": "2024-12-22T05:59:06.178700",
     "exception": false,
     "start_time": "2024-12-22T05:59:06.175056",
     "status": "completed"
    },
    "tags": []
   },
   "source": [
    "We can also instantiate a SAAS model via `Models.BOTORCH_MODULAR` by specifying a `SaasFullyBayesianSingleTaskGP` as the `botorch_model_class`. This also gives us the option to change several Pyro-specific parameters such as `num_samples` and `warmup_steps`."
   ]
  },
  {
   "cell_type": "code",
   "execution_count": 10,
   "id": "4f151491",
   "metadata": {
    "execution": {
     "iopub.execute_input": "2024-12-22T05:59:06.187247Z",
     "iopub.status.busy": "2024-12-22T05:59:06.186821Z",
     "iopub.status.idle": "2024-12-22T06:00:44.776248Z",
     "shell.execute_reply": "2024-12-22T06:00:44.775642Z"
    },
    "papermill": {
     "duration": 98.595645,
     "end_time": "2024-12-22T06:00:44.778022",
     "exception": false,
     "start_time": "2024-12-22T05:59:06.182377",
     "status": "completed"
    },
    "tags": []
   },
   "outputs": [
    {
     "name": "stderr",
     "output_type": "stream",
     "text": [
      "/tmp/ipykernel_2956/3305458689.py:4: DeprecationWarning: botorch_model_class is deprecated and will be removed in a future version. Please specify botorch_model_class via `surrogate_spec.model_configs`.\n",
      "  surrogate=Surrogate(\n",
      "/tmp/ipykernel_2956/3305458689.py:4: DeprecationWarning: mll_options is deprecated and will be removed in a future version. Please specify mll_options via `surrogate_spec.model_configs`.\n",
      "  surrogate=Surrogate(\n"
     ]
    }
   ],
   "source": [
    "model = Models.BOTORCH_MODULAR(\n",
    "    experiment=experiment,\n",
    "    data=data,\n",
    "    surrogate=Surrogate(\n",
    "        botorch_model_class=SaasFullyBayesianSingleTaskGP,\n",
    "        mll_options={\n",
    "            \"num_samples\": 256,  # Increasing this may result in better model fits\n",
    "            \"warmup_steps\": 512,  # Increasing this may result in better model fits\n",
    "        },\n",
    "    )\n",
    ")"
   ]
  },
  {
   "cell_type": "markdown",
   "id": "546dce81",
   "metadata": {
    "papermill": {
     "duration": 0.003845,
     "end_time": "2024-12-22T06:00:44.786805",
     "exception": false,
     "start_time": "2024-12-22T06:00:44.782960",
     "status": "completed"
    },
    "tags": []
   },
   "source": [
    "### Cross-validation plot \n",
    "We have tools for cross-validation in Ax, but plotly doesn't render on Github so we make a simple plot using Matplotlib here. To use the built-in cross-validation functionality, you can do something like this:\n",
    "\n",
    "```\n",
    "from ax.modelbridge.cross_validation import cross_validate, compute_diagnostics\n",
    "from ax.plot.diagnostic import interact_cross_validation\n",
    "from ax.utils.notebook.plotting import render, init_notebook_plotting\n",
    "\n",
    "\n",
    "cv = cross_validate(model)\n",
    "diagnostics = compute_diagnostics(cv)\n",
    "init_notebook_plotting()\n",
    "plotconfig = interact_cross_validation(cv)\n",
    "render(plotconfig)\n",
    "```"
   ]
  },
  {
   "cell_type": "code",
   "execution_count": 11,
   "id": "7c39e9d2",
   "metadata": {
    "execution": {
     "iopub.execute_input": "2024-12-22T06:00:44.795684Z",
     "iopub.status.busy": "2024-12-22T06:00:44.795260Z",
     "iopub.status.idle": "2024-12-22T06:00:45.390804Z",
     "shell.execute_reply": "2024-12-22T06:00:45.390177Z"
    },
    "papermill": {
     "duration": 0.601514,
     "end_time": "2024-12-22T06:00:45.392129",
     "exception": false,
     "start_time": "2024-12-22T06:00:44.790615",
     "status": "completed"
    },
    "tags": []
   },
   "outputs": [
    {
     "data": {
      "image/png": "[encoded data removed]",
      "text/plain": [
       "<Figure size 600x600 with 1 Axes>"
      ]
     },
     "metadata": {},
     "output_type": "display_data"
    }
   ],
   "source": [
    "# Cross-validate model\n",
    "cv = cross_validate(model)\n",
    "y_true = np.stack([cv_.observed.data.means for cv_ in cv]).ravel()\n",
    "y_saas_mean = np.stack([cv_.predicted.means for cv_ in cv]).ravel()\n",
    "y_saas_std = np.stack(\n",
    "    [np.sqrt(np.diag(cv_.predicted.covariance)) for cv_ in cv]\n",
    ").ravel()\n",
    "\n",
    "# Cross-validation plot\n",
    "fig, ax = plt.subplots(1, 1, figsize=(6, 6))\n",
    "min_val, max_val = -5, 120\n",
    "ax.plot([min_val, max_val], [min_val, max_val], \"b--\", lw=2)\n",
    "markers, caps, bars = ax.errorbar(\n",
    "    y_true,\n",
    "    y_saas_mean,\n",
    "    yerr=1.96 * y_saas_std,\n",
    "    fmt=\".\",\n",
    "    capsize=4,\n",
    "    elinewidth=2.0,\n",
    "    ms=14,\n",
    "    c=\"k\",\n",
    "    ecolor=\"gray\",\n",
    ")\n",
    "[bar.set_alpha(0.8) for bar in bars]\n",
    "[cap.set_alpha(0.8) for cap in caps]\n",
    "ax.set_xlim([min_val, max_val])\n",
    "ax.set_ylim([min_val, max_val])\n",
    "ax.set_xlabel(\"True value\", fontsize=20)\n",
    "ax.set_ylabel(\"Predicted value\", fontsize=20)\n",
    "ax.grid(True)"
   ]
  },
  {
   "cell_type": "markdown",
   "id": "7b88ba70",
   "metadata": {
    "papermill": {
     "duration": 0.004256,
     "end_time": "2024-12-22T06:00:45.401280",
     "exception": false,
     "start_time": "2024-12-22T06:00:45.397024",
     "status": "completed"
    },
    "tags": []
   },
   "source": [
    "### Lengthscales\n",
    "As SAASBO places strong priors on the inverse lengthscales, we only expect parameters 19 and 44 to be identified as important by the model since the other parameters have no effect. We can confirm that this is the case below as the lengthscales of parameters 19 and 44 are close to 1 with all other lengthscales being larger than 1000.  "
   ]
  },
  {
   "cell_type": "code",
   "execution_count": 12,
   "id": "e5cf59cd",
   "metadata": {
    "execution": {
     "iopub.execute_input": "2024-12-22T06:00:45.411038Z",
     "iopub.status.busy": "2024-12-22T06:00:45.410552Z",
     "iopub.status.idle": "2024-12-22T06:00:45.415500Z",
     "shell.execute_reply": "2024-12-22T06:00:45.414873Z"
    },
    "papermill": {
     "duration": 0.011217,
     "end_time": "2024-12-22T06:00:45.416757",
     "exception": false,
     "start_time": "2024-12-22T06:00:45.405540",
     "status": "completed"
    },
    "tags": []
   },
   "outputs": [
    {
     "name": "stdout",
     "output_type": "stream",
     "text": [
      "Parameter  1) Median lengthscale = 8.12e-02\n",
      "Parameter 33) Median lengthscale = 1.56e+00\n",
      "Parameter 49) Median lengthscale = 2.23e+00\n",
      "Parameter 23) Median lengthscale = 1.82e+01\n",
      "Parameter 46) Median lengthscale = 1.86e+01\n",
      "Parameter  3) Median lengthscale = 1.94e+01\n",
      "Parameter  0) Median lengthscale = 2.02e+01\n",
      "Parameter  8) Median lengthscale = 2.02e+01\n",
      "Parameter 47) Median lengthscale = 2.05e+01\n",
      "Parameter 40) Median lengthscale = 2.06e+01\n"
     ]
    }
   ],
   "source": [
    "median_lengthscales = (\n",
    "    model.model.surrogate.model\n",
    "    .covar_module.base_kernel.lengthscale.squeeze()\n",
    "    .median(axis=0)\n",
    "    .values\n",
    ")\n",
    "for i in median_lengthscales.argsort()[:10]:\n",
    "    print(f\"Parameter {i:2}) Median lengthscale = {median_lengthscales[i]:.2e}\")"
   ]
  },
  {
   "cell_type": "code",
   "execution_count": null,
   "id": "115ea5a5",
   "metadata": {
    "papermill": {
     "duration": 0.004382,
     "end_time": "2024-12-22T06:00:45.425502",
     "exception": false,
     "start_time": "2024-12-22T06:00:45.421120",
     "status": "completed"
    },
    "tags": []
   },
   "outputs": [],
   "source": []
  }
 ],
 "metadata": {
  "kernelspec": {
   "display_name": "Python 3 (ipykernel)",
   "language": "python",
   "name": "python3"
  },
  "language_info": {
   "codemirror_mode": {
    "name": "ipython",
    "version": 3
   },
   "file_extension": ".py",
   "mimetype": "text/x-python",
   "name": "python",
   "nbconvert_exporter": "python",
   "pygments_lexer": "ipython3",
   "version": "3.10.15"
  },
  "papermill": {
   "default_parameters": {},
   "duration": 1624.304852,
   "end_time": "2024-12-22T06:00:47.797389",
   "environment_variables": {},
   "exception": null,
   "input_path": "/tmp/tmp.rbKmWnPBQH/Ax-main/tutorials/saasbo.ipynb",
   "output_path": "/tmp/tmp.rbKmWnPBQH/Ax-main/tutorials/saasbo.ipynb",
   "parameters": {},
   "start_time": "2024-12-22T05:33:43.492537",
   "version": "2.6.0"
  }
 },
 "nbformat": 4,
 "nbformat_minor": 5
}
